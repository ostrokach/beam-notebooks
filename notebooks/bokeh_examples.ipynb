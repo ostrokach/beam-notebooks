{
 "cells": [
  {
   "cell_type": "markdown",
   "metadata": {},
   "source": [
    "## Imports"
   ]
  },
  {
   "cell_type": "code",
   "execution_count": 8,
   "metadata": {},
   "outputs": [],
   "source": [
    "import bokeh"
   ]
  },
  {
   "cell_type": "code",
   "execution_count": 9,
   "metadata": {},
   "outputs": [],
   "source": [
    "from bokeh.io import output_notebook\n",
    "from bokeh.plotting import figure, show"
   ]
  },
  {
   "cell_type": "code",
   "execution_count": 24,
   "metadata": {},
   "outputs": [
    {
     "data": {
      "text/html": [
       "\n",
       "\n",
       "\n",
       "\n",
       "\n",
       "\n",
       "  <div class=\"bk-root\" id=\"f3296da8-3f8d-43b7-8d2b-a7cb56fa2a4b\" data-root-id=\"1787\"></div>\n"
      ]
     },
     "metadata": {},
     "output_type": "display_data"
    },
    {
     "data": {
      "application/javascript": [
       "(function(root) {\n",
       "  function embed_document(root) {\n",
       "    \n",
       "  var docs_json = {\"1cc79d95-c145-4d02-81f4-9297ca302cd8\":{\"roots\":{\"references\":[{\"attributes\":{\"callback\":null},\"id\":\"1788\",\"type\":\"DataRange1d\"},{\"attributes\":{\"below\":[{\"id\":\"1796\",\"type\":\"LinearAxis\"}],\"center\":[{\"id\":\"1800\",\"type\":\"Grid\"},{\"id\":\"1805\",\"type\":\"Grid\"}],\"left\":[{\"id\":\"1801\",\"type\":\"LinearAxis\"}],\"plot_height\":400,\"renderers\":[{\"id\":\"1822\",\"type\":\"GlyphRenderer\"}],\"title\":{\"id\":\"1860\",\"type\":\"Title\"},\"toolbar\":{\"id\":\"1812\",\"type\":\"Toolbar\"},\"x_range\":{\"id\":\"1788\",\"type\":\"DataRange1d\"},\"x_scale\":{\"id\":\"1792\",\"type\":\"LinearScale\"},\"y_range\":{\"id\":\"1790\",\"type\":\"DataRange1d\"},\"y_scale\":{\"id\":\"1794\",\"type\":\"LinearScale\"}},\"id\":\"1787\",\"subtype\":\"Figure\",\"type\":\"Plot\"},{\"attributes\":{},\"id\":\"1809\",\"type\":\"SaveTool\"},{\"attributes\":{\"overlay\":{\"id\":\"1867\",\"type\":\"BoxAnnotation\"}},\"id\":\"1808\",\"type\":\"BoxZoomTool\"},{\"attributes\":{},\"id\":\"1810\",\"type\":\"ResetTool\"},{\"attributes\":{},\"id\":\"1811\",\"type\":\"HelpTool\"},{\"attributes\":{\"active_drag\":\"auto\",\"active_inspect\":\"auto\",\"active_multi\":null,\"active_scroll\":\"auto\",\"active_tap\":\"auto\",\"tools\":[{\"id\":\"1806\",\"type\":\"PanTool\"},{\"id\":\"1807\",\"type\":\"WheelZoomTool\"},{\"id\":\"1808\",\"type\":\"BoxZoomTool\"},{\"id\":\"1809\",\"type\":\"SaveTool\"},{\"id\":\"1810\",\"type\":\"ResetTool\"},{\"id\":\"1811\",\"type\":\"HelpTool\"}]},\"id\":\"1812\",\"type\":\"Toolbar\"},{\"attributes\":{\"callback\":null,\"data\":{\"x\":[1,2,3,4,5],\"y\":[6,7,2,4,5]},\"selected\":{\"id\":\"1865\",\"type\":\"Selection\"},\"selection_policy\":{\"id\":\"1866\",\"type\":\"UnionRenderers\"}},\"id\":\"1819\",\"type\":\"ColumnDataSource\"},{\"attributes\":{},\"id\":\"1792\",\"type\":\"LinearScale\"},{\"attributes\":{\"callback\":null},\"id\":\"1790\",\"type\":\"DataRange1d\"},{\"attributes\":{},\"id\":\"1797\",\"type\":\"BasicTicker\"},{\"attributes\":{\"formatter\":{\"id\":\"1862\",\"type\":\"BasicTickFormatter\"},\"ticker\":{\"id\":\"1797\",\"type\":\"BasicTicker\"}},\"id\":\"1796\",\"type\":\"LinearAxis\"},{\"attributes\":{},\"id\":\"1794\",\"type\":\"LinearScale\"},{\"attributes\":{\"text\":\"\"},\"id\":\"1860\",\"type\":\"Title\"},{\"attributes\":{},\"id\":\"1862\",\"type\":\"BasicTickFormatter\"},{\"attributes\":{},\"id\":\"1865\",\"type\":\"Selection\"},{\"attributes\":{},\"id\":\"1864\",\"type\":\"BasicTickFormatter\"},{\"attributes\":{\"bottom_units\":\"screen\",\"fill_alpha\":{\"value\":0.5},\"fill_color\":{\"value\":\"lightgrey\"},\"left_units\":\"screen\",\"level\":\"overlay\",\"line_alpha\":{\"value\":1.0},\"line_color\":{\"value\":\"black\"},\"line_dash\":[4,4],\"line_width\":{\"value\":2},\"render_mode\":\"css\",\"right_units\":\"screen\",\"top_units\":\"screen\"},\"id\":\"1867\",\"type\":\"BoxAnnotation\"},{\"attributes\":{},\"id\":\"1866\",\"type\":\"UnionRenderers\"},{\"attributes\":{},\"id\":\"1807\",\"type\":\"WheelZoomTool\"},{\"attributes\":{},\"id\":\"1806\",\"type\":\"PanTool\"},{\"attributes\":{\"dimension\":1,\"ticker\":{\"id\":\"1802\",\"type\":\"BasicTicker\"}},\"id\":\"1805\",\"type\":\"Grid\"},{\"attributes\":{},\"id\":\"1802\",\"type\":\"BasicTicker\"},{\"attributes\":{\"formatter\":{\"id\":\"1864\",\"type\":\"BasicTickFormatter\"},\"ticker\":{\"id\":\"1802\",\"type\":\"BasicTicker\"}},\"id\":\"1801\",\"type\":\"LinearAxis\"},{\"attributes\":{\"ticker\":{\"id\":\"1797\",\"type\":\"BasicTicker\"}},\"id\":\"1800\",\"type\":\"Grid\"},{\"attributes\":{\"line_alpha\":0.1,\"line_color\":\"#1f77b4\",\"line_width\":2,\"x\":{\"field\":\"x\"},\"y\":{\"field\":\"y\"}},\"id\":\"1821\",\"type\":\"Line\"},{\"attributes\":{\"line_color\":\"#1f77b4\",\"line_width\":2,\"x\":{\"field\":\"x\"},\"y\":{\"field\":\"y\"}},\"id\":\"1820\",\"type\":\"Line\"},{\"attributes\":{\"source\":{\"id\":\"1819\",\"type\":\"ColumnDataSource\"}},\"id\":\"1823\",\"type\":\"CDSView\"},{\"attributes\":{\"data_source\":{\"id\":\"1819\",\"type\":\"ColumnDataSource\"},\"glyph\":{\"id\":\"1820\",\"type\":\"Line\"},\"hover_glyph\":null,\"muted_glyph\":null,\"nonselection_glyph\":{\"id\":\"1821\",\"type\":\"Line\"},\"selection_glyph\":null,\"view\":{\"id\":\"1823\",\"type\":\"CDSView\"}},\"id\":\"1822\",\"type\":\"GlyphRenderer\"}],\"root_ids\":[\"1787\"]},\"title\":\"Bokeh Application\",\"version\":\"1.1.0\"}};\n",
       "  var render_items = [{\"docid\":\"1cc79d95-c145-4d02-81f4-9297ca302cd8\",\"roots\":{\"1787\":\"f3296da8-3f8d-43b7-8d2b-a7cb56fa2a4b\"}}];\n",
       "  root.Bokeh.embed.embed_items_notebook(docs_json, render_items);\n",
       "\n",
       "  }\n",
       "  if (root.Bokeh !== undefined) {\n",
       "    embed_document(root);\n",
       "  } else {\n",
       "    var attempts = 0;\n",
       "    var timer = setInterval(function(root) {\n",
       "      if (root.Bokeh !== undefined) {\n",
       "        embed_document(root);\n",
       "        clearInterval(timer);\n",
       "      }\n",
       "      attempts++;\n",
       "      if (attempts > 100) {\n",
       "        console.log(\"Bokeh: ERROR: Unable to run BokehJS code because BokehJS library is missing\");\n",
       "        clearInterval(timer);\n",
       "      }\n",
       "    }, 10, root)\n",
       "  }\n",
       "})(window);"
      ],
      "application/vnd.bokehjs_exec.v0+json": ""
     },
     "metadata": {
      "application/vnd.bokehjs_exec.v0+json": {
       "id": "1787"
      }
     },
     "output_type": "display_data"
    }
   ],
   "source": [
    "p = figure(plot_height=400)\n",
    "p.line([1, 2, 3, 4, 5], [6, 7, 2, 4, 5], line_width=2)\n",
    "show(p)"
   ]
  },
  {
   "cell_type": "code",
   "execution_count": 28,
   "metadata": {},
   "outputs": [],
   "source": [
    "from ipywidgets import interact\n",
    "import numpy as np\n",
    "\n",
    "from bokeh.io import push_notebook, show, output_notebook\n",
    "from bokeh.plotting import figure"
   ]
  },
  {
   "cell_type": "code",
   "execution_count": 29,
   "metadata": {},
   "outputs": [],
   "source": [
    "x = np.linspace(0, 2*np.pi, 2000)\n",
    "y = np.sin(x)"
   ]
  },
  {
   "cell_type": "code",
   "execution_count": 15,
   "metadata": {},
   "outputs": [],
   "source": [
    "p = figure(title=\"simple line example\", plot_height=300, plot_width=600, y_range=(-5,5),\n",
    "           background_fill_color='#efefef')\n",
    "r = p.line(x, y, color=\"#8888cc\", line_width=1.5, alpha=0.8)"
   ]
  },
  {
   "cell_type": "code",
   "execution_count": 16,
   "metadata": {},
   "outputs": [],
   "source": [
    "def update(f, w=1, A=1, phi=0):\n",
    "    if f == \"sin\":\n",
    "        func = np.sin\n",
    "    elif f == \"cos\":\n",
    "        func = np.cos\n",
    "    r.data_source.data['y'] = A * func(w * x + phi)\n",
    "    push_notebook()"
   ]
  },
  {
   "cell_type": "code",
   "execution_count": 26,
   "metadata": {},
   "outputs": [
    {
     "data": {
      "text/html": [
       "\n",
       "\n",
       "\n",
       "\n",
       "\n",
       "\n",
       "  <div class=\"bk-root\" id=\"b98ec8d9-a553-4078-90cc-51cff9afdefb\" data-root-id=\"1787\"></div>\n"
      ]
     },
     "metadata": {},
     "output_type": "display_data"
    },
    {
     "data": {
      "application/javascript": [
       "(function(root) {\n",
       "  function embed_document(root) {\n",
       "    \n",
       "  var docs_json = {\"02374d7f-bdbb-42f8-a598-fcaf1f9d0ea6\":{\"roots\":{\"references\":[{\"attributes\":{\"callback\":null},\"id\":\"1788\",\"type\":\"DataRange1d\"},{\"attributes\":{\"below\":[{\"id\":\"1796\",\"type\":\"LinearAxis\"}],\"center\":[{\"id\":\"1800\",\"type\":\"Grid\"},{\"id\":\"1805\",\"type\":\"Grid\"}],\"left\":[{\"id\":\"1801\",\"type\":\"LinearAxis\"}],\"plot_height\":400,\"renderers\":[{\"id\":\"1822\",\"type\":\"GlyphRenderer\"}],\"title\":{\"id\":\"1860\",\"type\":\"Title\"},\"toolbar\":{\"id\":\"1812\",\"type\":\"Toolbar\"},\"x_range\":{\"id\":\"1788\",\"type\":\"DataRange1d\"},\"x_scale\":{\"id\":\"1792\",\"type\":\"LinearScale\"},\"y_range\":{\"id\":\"1790\",\"type\":\"DataRange1d\"},\"y_scale\":{\"id\":\"1794\",\"type\":\"LinearScale\"}},\"id\":\"1787\",\"subtype\":\"Figure\",\"type\":\"Plot\"},{\"attributes\":{},\"id\":\"1809\",\"type\":\"SaveTool\"},{\"attributes\":{\"overlay\":{\"id\":\"1867\",\"type\":\"BoxAnnotation\"}},\"id\":\"1808\",\"type\":\"BoxZoomTool\"},{\"attributes\":{},\"id\":\"1810\",\"type\":\"ResetTool\"},{\"attributes\":{},\"id\":\"1811\",\"type\":\"HelpTool\"},{\"attributes\":{\"active_drag\":\"auto\",\"active_inspect\":\"auto\",\"active_multi\":null,\"active_scroll\":\"auto\",\"active_tap\":\"auto\",\"tools\":[{\"id\":\"1806\",\"type\":\"PanTool\"},{\"id\":\"1807\",\"type\":\"WheelZoomTool\"},{\"id\":\"1808\",\"type\":\"BoxZoomTool\"},{\"id\":\"1809\",\"type\":\"SaveTool\"},{\"id\":\"1810\",\"type\":\"ResetTool\"},{\"id\":\"1811\",\"type\":\"HelpTool\"}]},\"id\":\"1812\",\"type\":\"Toolbar\"},{\"attributes\":{\"callback\":null,\"data\":{\"x\":[1,2,3,4,5],\"y\":[6,7,2,4,5]},\"selected\":{\"id\":\"1865\",\"type\":\"Selection\"},\"selection_policy\":{\"id\":\"1866\",\"type\":\"UnionRenderers\"}},\"id\":\"1819\",\"type\":\"ColumnDataSource\"},{\"attributes\":{},\"id\":\"1792\",\"type\":\"LinearScale\"},{\"attributes\":{\"callback\":null},\"id\":\"1790\",\"type\":\"DataRange1d\"},{\"attributes\":{},\"id\":\"1797\",\"type\":\"BasicTicker\"},{\"attributes\":{\"formatter\":{\"id\":\"1862\",\"type\":\"BasicTickFormatter\"},\"ticker\":{\"id\":\"1797\",\"type\":\"BasicTicker\"}},\"id\":\"1796\",\"type\":\"LinearAxis\"},{\"attributes\":{},\"id\":\"1794\",\"type\":\"LinearScale\"},{\"attributes\":{\"text\":\"\"},\"id\":\"1860\",\"type\":\"Title\"},{\"attributes\":{},\"id\":\"1862\",\"type\":\"BasicTickFormatter\"},{\"attributes\":{},\"id\":\"1865\",\"type\":\"Selection\"},{\"attributes\":{},\"id\":\"1864\",\"type\":\"BasicTickFormatter\"},{\"attributes\":{\"bottom_units\":\"screen\",\"fill_alpha\":{\"value\":0.5},\"fill_color\":{\"value\":\"lightgrey\"},\"left_units\":\"screen\",\"level\":\"overlay\",\"line_alpha\":{\"value\":1.0},\"line_color\":{\"value\":\"black\"},\"line_dash\":[4,4],\"line_width\":{\"value\":2},\"render_mode\":\"css\",\"right_units\":\"screen\",\"top_units\":\"screen\"},\"id\":\"1867\",\"type\":\"BoxAnnotation\"},{\"attributes\":{},\"id\":\"1866\",\"type\":\"UnionRenderers\"},{\"attributes\":{},\"id\":\"1807\",\"type\":\"WheelZoomTool\"},{\"attributes\":{},\"id\":\"1806\",\"type\":\"PanTool\"},{\"attributes\":{\"dimension\":1,\"ticker\":{\"id\":\"1802\",\"type\":\"BasicTicker\"}},\"id\":\"1805\",\"type\":\"Grid\"},{\"attributes\":{},\"id\":\"1802\",\"type\":\"BasicTicker\"},{\"attributes\":{\"formatter\":{\"id\":\"1864\",\"type\":\"BasicTickFormatter\"},\"ticker\":{\"id\":\"1802\",\"type\":\"BasicTicker\"}},\"id\":\"1801\",\"type\":\"LinearAxis\"},{\"attributes\":{\"ticker\":{\"id\":\"1797\",\"type\":\"BasicTicker\"}},\"id\":\"1800\",\"type\":\"Grid\"},{\"attributes\":{\"line_alpha\":0.1,\"line_color\":\"#1f77b4\",\"line_width\":2,\"x\":{\"field\":\"x\"},\"y\":{\"field\":\"y\"}},\"id\":\"1821\",\"type\":\"Line\"},{\"attributes\":{\"line_color\":\"#1f77b4\",\"line_width\":2,\"x\":{\"field\":\"x\"},\"y\":{\"field\":\"y\"}},\"id\":\"1820\",\"type\":\"Line\"},{\"attributes\":{\"source\":{\"id\":\"1819\",\"type\":\"ColumnDataSource\"}},\"id\":\"1823\",\"type\":\"CDSView\"},{\"attributes\":{\"data_source\":{\"id\":\"1819\",\"type\":\"ColumnDataSource\"},\"glyph\":{\"id\":\"1820\",\"type\":\"Line\"},\"hover_glyph\":null,\"muted_glyph\":null,\"nonselection_glyph\":{\"id\":\"1821\",\"type\":\"Line\"},\"selection_glyph\":null,\"view\":{\"id\":\"1823\",\"type\":\"CDSView\"}},\"id\":\"1822\",\"type\":\"GlyphRenderer\"}],\"root_ids\":[\"1787\"]},\"title\":\"Bokeh Application\",\"version\":\"1.1.0\"}};\n",
       "  var render_items = [{\"docid\":\"02374d7f-bdbb-42f8-a598-fcaf1f9d0ea6\",\"notebook_comms_target\":\"1922\",\"roots\":{\"1787\":\"b98ec8d9-a553-4078-90cc-51cff9afdefb\"}}];\n",
       "  root.Bokeh.embed.embed_items_notebook(docs_json, render_items);\n",
       "\n",
       "  }\n",
       "  if (root.Bokeh !== undefined) {\n",
       "    embed_document(root);\n",
       "  } else {\n",
       "    var attempts = 0;\n",
       "    var timer = setInterval(function(root) {\n",
       "      if (root.Bokeh !== undefined) {\n",
       "        embed_document(root);\n",
       "        clearInterval(timer);\n",
       "      }\n",
       "      attempts++;\n",
       "      if (attempts > 100) {\n",
       "        console.log(\"Bokeh: ERROR: Unable to run BokehJS code because BokehJS library is missing\");\n",
       "        clearInterval(timer);\n",
       "      }\n",
       "    }, 10, root)\n",
       "  }\n",
       "})(window);"
      ],
      "application/vnd.bokehjs_exec.v0+json": ""
     },
     "metadata": {
      "application/vnd.bokehjs_exec.v0+json": {
       "id": "1787"
      }
     },
     "output_type": "display_data"
    },
    {
     "data": {
      "text/html": [
       "<p><code>&lt;Bokeh Notebook handle for <strong>In[26]</strong>&gt;</code></p>"
      ],
      "text/plain": [
       "<bokeh.io.notebook.CommsHandle at 0x7f2c75b56290>"
      ]
     },
     "execution_count": 26,
     "metadata": {},
     "output_type": "execute_result"
    }
   ],
   "source": [
    "# output_notebook()\n",
    "show(p, notebook_handle=True)"
   ]
  },
  {
   "cell_type": "code",
   "execution_count": 25,
   "metadata": {},
   "outputs": [],
   "source": [
    "def update(f, w=1, A=1, phi=0):\n",
    "    if f == \"sin\":\n",
    "        func = np.sin\n",
    "    elif f == \"cos\":\n",
    "        func = np.cos\n",
    "    r.data_source.data['y'] = A * func(w * x + phi)\n",
    "    push_notebook()"
   ]
  },
  {
   "cell_type": "code",
   "execution_count": 22,
   "metadata": {},
   "outputs": [],
   "source": [
    "import time"
   ]
  },
  {
   "cell_type": "code",
   "execution_count": 23,
   "metadata": {},
   "outputs": [],
   "source": [
    "for A in range(1, 11):\n",
    "    w = 10\n",
    "    phi = 10\n",
    "    r.data_source.data[\"y\"] = A * np.sin(w *x + phi)\n",
    "    push_notebook()\n",
    "    time.sleep(1)"
   ]
  },
  {
   "cell_type": "code",
   "execution_count": 27,
   "metadata": {},
   "outputs": [
    {
     "data": {
      "application/vnd.jupyter.widget-view+json": {
       "model_id": "765dae36e55a4bf78070571f9815e1d9",
       "version_major": 2,
       "version_minor": 0
      },
      "text/plain": [
       "aW50ZXJhY3RpdmUoY2hpbGRyZW49KERyb3Bkb3duKGRlc2NyaXB0aW9uPXUnZicsIG9wdGlvbnM9KCdzaW4nLCAnY29zJyksIHZhbHVlPSdzaW4nKSwgSW50U2xpZGVyKHZhbHVlPTEsIGRlc2PigKY=\n"
      ]
     },
     "metadata": {},
     "output_type": "display_data"
    },
    {
     "data": {
      "text/plain": [
       "<function __main__.update>"
      ]
     },
     "execution_count": 27,
     "metadata": {},
     "output_type": "execute_result"
    }
   ],
   "source": [
    "interact(update, f=[\"sin\", \"cos\"], w=(0,50), A=(1,10), phi=(0, 20, 0.1))"
   ]
  },
  {
   "cell_type": "code",
   "execution_count": null,
   "metadata": {},
   "outputs": [],
   "source": []
  }
 ],
 "metadata": {
  "kernelspec": {
   "display_name": "Python [conda env:apache-beam-dev]",
   "language": "python",
   "name": "conda-env-apache-beam-dev-py"
  },
  "language_info": {
   "codemirror_mode": {
    "name": "ipython",
    "version": 2
   },
   "file_extension": ".py",
   "mimetype": "text/x-python",
   "name": "python",
   "nbconvert_exporter": "python",
   "pygments_lexer": "ipython2",
   "version": "2.7.15"
  }
 },
 "nbformat": 4,
 "nbformat_minor": 2
}
