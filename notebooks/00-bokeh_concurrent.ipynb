{
 "cells": [
  {
   "cell_type": "code",
   "execution_count": null,
   "metadata": {
    "colab": {},
    "colab_type": "code",
    "id": "mp6OE-R-BX--"
   },
   "outputs": [],
   "source": [
    "import logging\n",
    "import queue\n",
    "import random\n",
    "import subprocess\n",
    "import threading\n",
    "import time\n",
    "\n",
    "import flask\n",
    "import numpy as np\n",
    "from bokeh.io import output_notebook, push_notebook, show\n",
    "from bokeh.models import AjaxDataSource, ColumnDataSource, CustomJS\n",
    "from bokeh.plotting import figure, show\n",
    "from flask import Flask, jsonify, make_response, request\n",
    "from flask.logging import default_handler\n",
    "from ipywidgets import interact\n",
    "from werkzeug.serving import make_server"
   ]
  },
  {
   "cell_type": "code",
   "execution_count": null,
   "metadata": {
    "colab": {},
    "colab_type": "code",
    "id": "J9PUoEBeB86o"
   },
   "outputs": [],
   "source": [
    "logging.getLogger(\"werkzeug\").setLevel(logging.WARNING)"
   ]
  },
  {
   "cell_type": "code",
   "execution_count": null,
   "metadata": {
    "colab": {},
    "colab_type": "code",
    "id": "49l6_6hZBc7S"
   },
   "outputs": [],
   "source": [
    "class ServerThread(threading.Thread):\n",
    "    # Credit: https://stackoverflow.com/a/45017691/2063031\n",
    "\n",
    "    def __init__(self, app, host=\"localhost\", port=0, threaded=False):\n",
    "        super(ServerThread, self).__init__()\n",
    "        self.server = make_server(host=host, port=port, app=app, threaded=threaded)\n",
    "        self.context = app.app_context()\n",
    "        self.context.push()\n",
    "\n",
    "    def run(self):\n",
    "        self.server.serve_forever()\n",
    "\n",
    "    def stop(self):\n",
    "        self.server.shutdown()\n",
    "\n",
    "    def __enter__(self):\n",
    "        self.start()\n",
    "        return self\n",
    "\n",
    "    def __exit__(self, *args):\n",
    "        self.stop()"
   ]
  },
  {
   "cell_type": "code",
   "execution_count": null,
   "metadata": {
    "colab": {},
    "colab_type": "code",
    "id": "nN0RLlLPBgHm"
   },
   "outputs": [],
   "source": [
    "def create_data_publisher_app(data_source, processor_fn=None, timeout=1):\n",
    "    \"\"\"Create a flask app that can serve data from the data_source.\n",
    "\n",
    "    Args:\n",
    "        data_source (queue.Queue): A source of data conforming to the queue.Queue API.\n",
    "            WARNING: It is probably a good idea if data_source is thread-safe.\n",
    "        processor_fn (callable): A function that will be applied to the data before serving.\n",
    "        timeout (int): Number of seconds to wait while pulling data from queue.\n",
    "    \"\"\"\n",
    "    app = flask.Flask(__name__)\n",
    "\n",
    "    def crossdomain(f):\n",
    "        def wrapped_function(*args, **kwargs):\n",
    "            resp = make_response(f(*args, **kwargs))\n",
    "            h = resp.headers\n",
    "            h[\"Access-Control-Allow-Origin\"] = \"*\"\n",
    "            h[\"Access-Control-Allow-Methods\"] = \"GET, OPTIONS, POST\"\n",
    "            h[\"Access-Control-Max-Age\"] = str(21600)\n",
    "            requested_headers = request.headers.get(\"Access-Control-Request-Headers\")\n",
    "            if requested_headers:\n",
    "                h[\"Access-Control-Allow-Headers\"] = requested_headers\n",
    "            else:\n",
    "                h[\"Access-Control-Allow-Headers\"] = \"Content-Type,Authorization\"\n",
    "            h[\"Access-Control-Allow-Credentials\"] = \"true\"\n",
    "            \n",
    "            return resp\n",
    "\n",
    "        return wrapped_function\n",
    "\n",
    "    @app.route(\"/data\", methods=[\"GET\", \"OPTIONS\", \"POST\"])\n",
    "    @crossdomain\n",
    "    def data():\n",
    "        data = None\n",
    "        try:\n",
    "            data = data_source.get(timeout=0.1)\n",
    "        except queue.Empty:\n",
    "            pass\n",
    "        else:\n",
    "            if processor_fn:\n",
    "                data = processor_fn(data)\n",
    "        return jsonify([data] if data is not None else [])\n",
    "\n",
    "    return app"
   ]
  },
  {
   "cell_type": "code",
   "execution_count": null,
   "metadata": {
    "colab": {},
    "colab_type": "code",
    "id": "jX2xg2cJBhYu"
   },
   "outputs": [],
   "source": [
    "def generate_plot(data_url):\n",
    "    adapter = CustomJS(\n",
    "        code=\"\"\"\n",
    "        const result = {x: [], y: []};\n",
    "        const pts = cb_data.response;\n",
    "        for (i=0; i<pts.length; i++) {\n",
    "            result.x.push(pts[i][0])\n",
    "            result.y.push(pts[i][1])\n",
    "        }\n",
    "        return result;\n",
    "    \"\"\"\n",
    "    )\n",
    "\n",
    "    source = AjaxDataSource(\n",
    "        data_url=data_url, polling_interval=100, adapter=adapter, mode=\"append\"\n",
    "    )\n",
    "\n",
    "    p = figure(\n",
    "        plot_height=300,\n",
    "        plot_width=800,\n",
    "        background_fill_color=\"lightgrey\",\n",
    "        title=\"Streaming Noisy sin(x) via Ajax\",\n",
    "    )\n",
    "    p.circle(\"x\", \"y\", source=source)\n",
    "\n",
    "    p.x_range.follow = \"end\"\n",
    "    p.x_range.follow_interval = 10\n",
    "\n",
    "    return p\n",
    "\n",
    "\n",
    "# show(generate_plot(None))"
   ]
  },
  {
   "cell_type": "code",
   "execution_count": null,
   "metadata": {
    "colab": {},
    "colab_type": "code",
    "id": "EN0i7_aUBi2u"
   },
   "outputs": [],
   "source": [
    "data_queue = queue.Queue()\n",
    "\n",
    "x = 0\n",
    "y = np.sin(x) + np.random.random()\n",
    "\n",
    "data_queue.put((x, y))\n",
    "\n",
    "for i in range(10000):\n",
    "    x += 0.1\n",
    "    y = np.sin(x) + np.random.random()\n",
    "    data_queue.put((x, y))"
   ]
  },
  {
   "cell_type": "code",
   "execution_count": null,
   "metadata": {
    "colab": {},
    "colab_type": "code",
    "id": "hfnT0BpHBmUd"
   },
   "outputs": [],
   "source": [
    "endpoint = ServerThread(create_data_publisher_app(data_queue), host=\"0.0.0.0\", port=0, threaded=False)"
   ]
  },
  {
   "cell_type": "code",
   "execution_count": null,
   "metadata": {
    "colab": {},
    "colab_type": "code",
    "id": "R4CQDDXYBpAO"
   },
   "outputs": [],
   "source": [
    "endpoint.start()"
   ]
  },
  {
   "cell_type": "code",
   "execution_count": null,
   "metadata": {},
   "outputs": [],
   "source": [
    "host = subprocess.check_output([\"hostname\", \"-I\"], universal_newlines=True).strip().split()[0]\n",
    "host"
   ]
  },
  {
   "cell_type": "code",
   "execution_count": null,
   "metadata": {},
   "outputs": [],
   "source": [
    "data_url = \"http://{}:{}/data\".format(host, endpoint.server.port)\n",
    "print(data_url)"
   ]
  },
  {
   "cell_type": "code",
   "execution_count": null,
   "metadata": {},
   "outputs": [],
   "source": [
    "output_notebook()\n",
    "\n",
    "show(generate_plot(data_url))"
   ]
  },
  {
   "cell_type": "code",
   "execution_count": null,
   "metadata": {
    "colab": {},
    "colab_type": "code",
    "id": "Y0onToqkJ-1b"
   },
   "outputs": [],
   "source": [
    "data_queue2 = queue.Queue()\n",
    "\n",
    "x = 0\n",
    "y = np.sin(x) + np.random.random()\n",
    "\n",
    "data_queue2.put((x, y))\n",
    "\n",
    "for i in range(10000):\n",
    "    x += 0.1\n",
    "    y = np.sin(x) + np.random.random()\n",
    "    data_queue2.put((x, y))"
   ]
  },
  {
   "cell_type": "code",
   "execution_count": null,
   "metadata": {
    "colab": {},
    "colab_type": "code",
    "id": "Vh3-RXOVJk6S"
   },
   "outputs": [],
   "source": [
    "endpoint2 = ServerThread(create_data_publisher_app(data_queue2), host=\"0.0.0.0\", port=0, threaded=False)"
   ]
  },
  {
   "cell_type": "code",
   "execution_count": null,
   "metadata": {
    "colab": {},
    "colab_type": "code",
    "id": "L3baE1gLJoX6"
   },
   "outputs": [],
   "source": [
    "endpoint2.start()"
   ]
  },
  {
   "cell_type": "code",
   "execution_count": null,
   "metadata": {},
   "outputs": [],
   "source": [
    "data_url = \"http://{}:{}/data\".format(host, endpoint2.server.port)\n",
    "print(data_url)"
   ]
  },
  {
   "cell_type": "code",
   "execution_count": null,
   "metadata": {},
   "outputs": [],
   "source": [
    "output_notebook()\n",
    "\n",
    "show(generate_plot(data_url))"
   ]
  },
  {
   "cell_type": "code",
   "execution_count": null,
   "metadata": {},
   "outputs": [],
   "source": []
  }
 ],
 "metadata": {
  "colab": {
   "collapsed_sections": [],
   "name": "Copy of Untitled2.ipynb",
   "provenance": [],
   "version": "0.3.2"
  },
  "kernelspec": {
   "display_name": "Python 3",
   "language": "python",
   "name": "python3"
  },
  "language_info": {
   "codemirror_mode": {
    "name": "ipython",
    "version": 3
   },
   "file_extension": ".py",
   "mimetype": "text/x-python",
   "name": "python",
   "nbconvert_exporter": "python",
   "pygments_lexer": "ipython3",
   "version": "3.7.3"
  }
 },
 "nbformat": 4,
 "nbformat_minor": 4
}
