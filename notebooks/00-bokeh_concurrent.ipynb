{
 "cells": [
  {
   "cell_type": "markdown",
   "metadata": {},
   "source": [
    "## Imports"
   ]
  },
  {
   "cell_type": "code",
   "execution_count": null,
   "metadata": {
    "colab": {},
    "colab_type": "code",
    "id": "mp6OE-R-BX--"
   },
   "outputs": [],
   "source": [
    "import logging\n",
    "import queue\n",
    "import random\n",
    "import subprocess\n",
    "import sys\n",
    "import threading\n",
    "import time\n",
    "import weakref\n",
    "\n",
    "import flask\n",
    "import numpy as np\n",
    "from bokeh.io import output_notebook, push_notebook, show\n",
    "from bokeh.models import AjaxDataSource, ColumnDataSource, CustomJS\n",
    "from bokeh.plotting import figure, show\n",
    "from flask import Flask, jsonify, make_response, request\n",
    "from flask.logging import default_handler\n",
    "from ipywidgets import interact\n",
    "from werkzeug.serving import make_server\n",
    "\n",
    "from apache_beam.runners.interactive.display import data_server"
   ]
  },
  {
   "cell_type": "markdown",
   "metadata": {},
   "source": [
    "## Parameters"
   ]
  },
  {
   "cell_type": "code",
   "execution_count": null,
   "metadata": {},
   "outputs": [],
   "source": [
    "# Whether the notebook is running locally (including Colab) or on a remote server.\n",
    "# If running on a remote server, all ports must be accessible from the internet.\n",
    "LOCAL = True"
   ]
  },
  {
   "cell_type": "code",
   "execution_count": null,
   "metadata": {},
   "outputs": [],
   "source": [
    "if LOCAL:\n",
    "    HOST_IP = \"localhost\"\n",
    "else:\n",
    "    HOST_IP = subprocess.check_output([\"hostname\", \"-I\"], universal_newlines=True).strip().split()[0]"
   ]
  },
  {
   "cell_type": "code",
   "execution_count": null,
   "metadata": {
    "colab": {},
    "colab_type": "code",
    "id": "J9PUoEBeB86o"
   },
   "outputs": [],
   "source": [
    "logging.getLogger(\"werkzeug\").setLevel(logging.WARNING)"
   ]
  },
  {
   "cell_type": "markdown",
   "metadata": {},
   "source": [
    "## Dashboards"
   ]
  },
  {
   "cell_type": "code",
   "execution_count": null,
   "metadata": {
    "colab": {},
    "colab_type": "code",
    "id": "jX2xg2cJBhYu"
   },
   "outputs": [],
   "source": [
    "def generate_plot(data_url):\n",
    "    adapter = CustomJS(\n",
    "        code=\"\"\"\n",
    "        const result = {x: [], y: []};\n",
    "        const pts = cb_data.response;\n",
    "        for (i=0; i<pts.length; i++) {\n",
    "            result.x.push(pts[i][0])\n",
    "            result.y.push(pts[i][1])\n",
    "        }\n",
    "        return result;\n",
    "    \"\"\"\n",
    "    )\n",
    "\n",
    "    source = AjaxDataSource(\n",
    "        data_url=data_url, polling_interval=100, adapter=adapter, mode=\"append\"\n",
    "    )\n",
    "\n",
    "    p = figure(\n",
    "        plot_height=300,\n",
    "        plot_width=800,\n",
    "        background_fill_color=\"lightgrey\",\n",
    "        title=\"\",\n",
    "    )\n",
    "    p.circle(\"x\", \"y\", source=source)\n",
    "\n",
    "    p.x_range.follow = \"end\"\n",
    "    p.x_range.follow_interval = 10\n",
    "\n",
    "    return p"
   ]
  },
  {
   "cell_type": "markdown",
   "metadata": {},
   "source": [
    "### First sign wave"
   ]
  },
  {
   "cell_type": "code",
   "execution_count": null,
   "metadata": {
    "colab": {},
    "colab_type": "code",
    "id": "EN0i7_aUBi2u"
   },
   "outputs": [],
   "source": [
    "data_queue = queue.Queue()\n",
    "\n",
    "x = 0\n",
    "y = np.sin(x) + np.random.random()\n",
    "\n",
    "data_queue.put((x, y))\n",
    "\n",
    "for i in range(10000):\n",
    "    x += 0.1\n",
    "    y = np.sin(x) + np.random.random()\n",
    "    data_queue.put((x, y))"
   ]
  },
  {
   "cell_type": "code",
   "execution_count": null,
   "metadata": {
    "colab": {},
    "colab_type": "code",
    "id": "hfnT0BpHBmUd"
   },
   "outputs": [],
   "source": [
    "endpoint = data_server.ServerThread(\n",
    "    data_server.create_data_publisher_app(data_queue),\n",
    "    host=(\"localhost\" if LOCAL else \"0.0.0.0\"),\n",
    "    port=0,\n",
    "    threaded=False,\n",
    ")"
   ]
  },
  {
   "cell_type": "code",
   "execution_count": null,
   "metadata": {
    "colab": {},
    "colab_type": "code",
    "id": "R4CQDDXYBpAO"
   },
   "outputs": [],
   "source": [
    "endpoint.start()"
   ]
  },
  {
   "cell_type": "code",
   "execution_count": null,
   "metadata": {},
   "outputs": [],
   "source": [
    "output_notebook(hide_banner=True)\n",
    "\n",
    "data_url = \"http://{}:{}/data\".format(HOST_IP, endpoint.server.port)\n",
    "show(generate_plot(data_url))"
   ]
  },
  {
   "cell_type": "markdown",
   "metadata": {},
   "source": [
    "### Second sign wave"
   ]
  },
  {
   "cell_type": "code",
   "execution_count": null,
   "metadata": {
    "colab": {},
    "colab_type": "code",
    "id": "Y0onToqkJ-1b"
   },
   "outputs": [],
   "source": [
    "data_queue2 = queue.Queue()\n",
    "\n",
    "x = 0\n",
    "y = np.sin(x) + np.random.random()\n",
    "\n",
    "data_queue2.put((x, y))\n",
    "\n",
    "for i in range(10000):\n",
    "    x += 0.1\n",
    "    y = np.sin(x) + np.random.random()\n",
    "    data_queue2.put((x, y))"
   ]
  },
  {
   "cell_type": "code",
   "execution_count": null,
   "metadata": {
    "colab": {},
    "colab_type": "code",
    "id": "Vh3-RXOVJk6S"
   },
   "outputs": [],
   "source": [
    "endpoint2 = data_server.ServerThread(\n",
    "    data_server.create_data_publisher_app(data_queue2),\n",
    "    host=HOST_IP,\n",
    "    port=0,\n",
    "    threaded=False,\n",
    ")"
   ]
  },
  {
   "cell_type": "code",
   "execution_count": null,
   "metadata": {
    "colab": {},
    "colab_type": "code",
    "id": "L3baE1gLJoX6"
   },
   "outputs": [],
   "source": [
    "endpoint2.start()"
   ]
  },
  {
   "cell_type": "code",
   "execution_count": null,
   "metadata": {},
   "outputs": [],
   "source": [
    "output_notebook(hide_banner=True)\n",
    "\n",
    "data_url = \"http://{}:{}/data\".format(HOST_IP, endpoint2.server.port)\n",
    "show(generate_plot(data_url))"
   ]
  },
  {
   "cell_type": "code",
   "execution_count": null,
   "metadata": {},
   "outputs": [],
   "source": [
    "from bokeh import plotting\n",
    "doc = plotting.curdoc()\n",
    "doc.clear()\n",
    "\n",
    "doc = plotting.curdoc()\n",
    "doc.clear()"
   ]
  },
  {
   "cell_type": "code",
   "execution_count": null,
   "metadata": {},
   "outputs": [],
   "source": [
    "from bokeh import plotting"
   ]
  },
  {
   "cell_type": "code",
   "execution_count": null,
   "metadata": {},
   "outputs": [],
   "source": [
    "plotting.reset_output()"
   ]
  },
  {
   "cell_type": "code",
   "execution_count": null,
   "metadata": {},
   "outputs": [],
   "source": [
    "doc = plotting.curdoc()\n",
    "doc.clear()"
   ]
  }
 ],
 "metadata": {
  "colab": {
   "collapsed_sections": [],
   "name": "Copy of Untitled2.ipynb",
   "provenance": [],
   "version": "0.3.2"
  },
  "kernelspec": {
   "display_name": "Python [conda env:beam-dev]",
   "language": "python",
   "name": "conda-env-beam-dev-py"
  },
  "language_info": {
   "codemirror_mode": {
    "name": "ipython",
    "version": 2
   },
   "file_extension": ".py",
   "mimetype": "text/x-python",
   "name": "python",
   "nbconvert_exporter": "python",
   "pygments_lexer": "ipython2",
   "version": "2.7.15"
  }
 },
 "nbformat": 4,
 "nbformat_minor": 4
}
