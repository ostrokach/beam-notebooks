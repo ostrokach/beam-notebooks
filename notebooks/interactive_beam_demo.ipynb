{
 "cells": [
  {
   "cell_type": "markdown",
   "metadata": {},
   "source": [
    "# Overview\n",
    "\n"
   ]
  },
  {
   "cell_type": "code",
   "execution_count": null,
   "metadata": {},
   "outputs": [],
   "source": []
  },
  {
   "cell_type": "code",
   "execution_count": null,
   "metadata": {},
   "outputs": [],
   "source": []
  },
  {
   "cell_type": "markdown",
   "metadata": {},
   "source": [
    "# Imports"
   ]
  },
  {
   "cell_type": "code",
   "execution_count": 190,
   "metadata": {},
   "outputs": [],
   "source": [
    "import functools\n",
    "import itertools\n",
    "import multiprocessing\n",
    "import os.path as op\n",
    "import queue\n",
    "\n",
    "import apache_beam as beam\n",
    "import matplotlib.pyplot as plt\n",
    "import pandas as pd\n",
    "from apache_beam.runners.direct.direct_runner import BundleBasedDirectRunner\n",
    "from apache_beam.runners.interactive.cache_manager import (\n",
    "    FileBasedCacheManager, ReadCache, WriteCache)\n",
    "from apache_beam.runners.interactive.interactive_runner import \\\n",
    "    InteractiveRunner\n",
    "from apache_beam.runners.portability.fn_api_runner import FnApiRunner\n",
    "\n",
    "try:\n",
    "    from pathlib import Path\n",
    "except ImportError:\n",
    "    from pathlib2 import Path"
   ]
  },
  {
   "cell_type": "code",
   "execution_count": 38,
   "metadata": {},
   "outputs": [],
   "source": [
    "%matplotlib inline"
   ]
  },
  {
   "cell_type": "markdown",
   "metadata": {},
   "source": [
    "# Parameters"
   ]
  },
  {
   "cell_type": "code",
   "execution_count": 27,
   "metadata": {},
   "outputs": [
    {
     "data": {
      "text/plain": [
       "interactive-beam-demo"
      ]
     },
     "execution_count": 27,
     "metadata": {},
     "output_type": "execute_result"
    }
   ],
   "source": [
    "NOTEBOOK_NAME = \"interactive-beam-demo\"\n",
    "NOTEBOOK_PATH = Path(NOTEBOOK_NAME).resolve()\n",
    "NOTEBOOK_PATH.mkdir(exist_ok=True)\n",
    "\n",
    "NOTEBOOK_NAME"
   ]
  },
  {
   "cell_type": "code",
   "execution_count": 28,
   "metadata": {},
   "outputs": [],
   "source": [
    "project_id = \"strokach-playground\""
   ]
  },
  {
   "cell_type": "code",
   "execution_count": null,
   "metadata": {},
   "outputs": [],
   "source": []
  },
  {
   "cell_type": "code",
   "execution_count": 9,
   "metadata": {},
   "outputs": [],
   "source": [
    "runner = beam.runners.dataflow.DataflowRunner(\n",
    "    # interactive=True,\n",
    "    # timeout=\"30min\"\n",
    ")"
   ]
  },
  {
   "cell_type": "code",
   "execution_count": 10,
   "metadata": {},
   "outputs": [
    {
     "name": "stderr",
     "output_type": "stream",
     "text": [
      "WARNING:root:Discarding unparseable args: ['-f', '/run/user/674629/jupyter/kernel-94610d34-8dcb-48bf-8920-df63721734dd.json']\n"
     ]
    },
    {
     "data": {
      "text/plain": [
       "{job_name: interactive-beam-demo,\n",
       " project: strokach-playground,\n",
       " sdk_location: /usr/local/google/home/strokach/workspace/beam/sdks/python/dist/apache-beam-2.14.0.dev0.tar.gz,\n",
       " staging_location: gs://strokach/dataflow_staging,\n",
       " temp_location: gs://strokach/dataflow_temp}"
      ]
     },
     "execution_count": 10,
     "metadata": {},
     "output_type": "execute_result"
    }
   ],
   "source": [
    "options = beam.pipeline.PipelineOptions(\n",
    "    project=project_id,\n",
    "    job_name=NOTEBOOK_NAME,\n",
    "    temp_location=\"gs://strokach/dataflow_temp\",\n",
    "    staging_location=\"gs://strokach/dataflow_staging\",\n",
    "    sdk_location=op.expanduser(\n",
    "        \"~/workspace/beam/sdks/python/dist/apache-beam-2.14.0.dev0.tar.gz\"\n",
    "    ),\n",
    ")\n",
    "options.display_data()"
   ]
  },
  {
   "cell_type": "code",
   "execution_count": 11,
   "metadata": {},
   "outputs": [],
   "source": [
    "cache_manager = FileBasedCacheManager(\n",
    "    cache_dir=\"gs://strokach/tmp\"\n",
    ")\n",
    "# atexit.register(cache_manager.cleanup) <- "
   ]
  },
  {
   "cell_type": "markdown",
   "metadata": {},
   "source": [
    "# Setup"
   ]
  },
  {
   "cell_type": "code",
   "execution_count": 12,
   "metadata": {},
   "outputs": [],
   "source": [
    "# runner.__enter__()\n",
    "# runner.start_session() (?)"
   ]
  },
  {
   "cell_type": "markdown",
   "metadata": {},
   "source": [
    "# Workflow"
   ]
  },
  {
   "cell_type": "markdown",
   "metadata": {},
   "source": [
    "### Running a pipeline"
   ]
  },
  {
   "cell_type": "code",
   "execution_count": 30,
   "metadata": {},
   "outputs": [],
   "source": [
    "with beam.Pipeline(runner=runner, options=options) as p:  # display=...\n",
    "    _ = (\n",
    "        #\n",
    "        p\n",
    "        | \"Read\" >> beam.io.ReadFromText(\"gs://strokach/inputs/winterstale\")\n",
    "        | \"Write\" >> WriteCache(cache_manager, \"temp\")\n",
    "    )"
   ]
  },
  {
   "cell_type": "markdown",
   "metadata": {},
   "source": [
    "#### Notes\n",
    "\n",
    "- `p.run()` should start the pipeline in the background, even in interactive mode. This makes sense for streaming, or when we want to start reading results as they appear.\n",
    "\n",
    "- There should be an option to display results while the pipeline is running. However, we should display results when we call `result.wait_until_finish()`, not when we call `p.run()`.\n",
    "\n",
    "- `result.wait_until_finish()` should not wait for the VM to shut down.\n",
    "\n",
    "- `WriteCache` should take an extra argument `format`, which allows the use to specify the format that will be used for writing the cache file. It should also be possible to pass additional arguments such as `schema=...`, etc."
   ]
  },
  {
   "cell_type": "markdown",
   "metadata": {},
   "source": [
    "### Reading from cache"
   ]
  },
  {
   "cell_type": "code",
   "execution_count": 16,
   "metadata": {},
   "outputs": [],
   "source": [
    "# The argument should be just \"temp\", and it should not return \"version\"\n",
    "data, _ = cache_manager.read(\"full\", \"temp\")  "
   ]
  },
  {
   "cell_type": "code",
   "execution_count": 35,
   "metadata": {},
   "outputs": [],
   "source": [
    "df = pd.DataFrame(data[0], columns=[\"string\"])\n",
    "\n",
    "df[\"string_clean\"] = df[\"string\"].str.strip()\n",
    "df[\"string_length\"] = df[\"string_clean\"].str.len()"
   ]
  },
  {
   "cell_type": "code",
   "execution_count": 39,
   "metadata": {},
   "outputs": [
    {
     "data": {
      "text/plain": [
       "Text(0,0.5,'Number of strings')"
      ]
     },
     "execution_count": 39,
     "metadata": {},
     "output_type": "execute_result"
    },
    {
     "data": {
      "image/png": "[encoded data removed]",
      "text/plain": [
       "<Figure size 432x288 with 1 Axes>"
      ]
     },
     "metadata": {
      "needs_background": "light"
     },
     "output_type": "display_data"
    }
   ],
   "source": [
    "fg, ax = plt.subplots()\n",
    "\n",
    "_ = ax.hist(df[\"string_length\"])\n",
    "ax.set_xlabel(\"String length\")\n",
    "ax.set_ylabel(\"Number of strings\")"
   ]
  },
  {
   "cell_type": "markdown",
   "metadata": {},
   "source": [
    "#### Notes\n",
    "\n",
    "- When we read from a `CacheManager`, we should not have to specify \"full\" or \"sample\". If the user so desires, they can provide that information in the name that they give to their cache object.\n",
    "\n",
    "- `CacheManager.read(...)` should not return the cache version by default. It should be assumeed that we are always reading the latest cache object.\n",
    "\n",
    "- `CacheManager.read(...)` should have a `limit=...` argument."
   ]
  },
  {
   "cell_type": "markdown",
   "metadata": {},
   "source": [
    "### Querying cache using Beam SQL, BigQuery, etc."
   ]
  },
  {
   "cell_type": "markdown",
   "metadata": {},
   "source": [
    "Until we have a Python frontend for Beam SQL, "
   ]
  },
  {
   "cell_type": "markdown",
   "metadata": {},
   "source": [
    "#### Notes"
   ]
  },
  {
   "cell_type": "markdown",
   "metadata": {},
   "source": [
    "### Processing cached objects using DirectRunner\n",
    "\n",
    "For simple types of queries that are likely to be limited by I/O, it may be helpful to explore the data using `DirectRunner`. Furthermore, we might want to store the output directly in memory instead of saving it to a file. Both the `BundleBasedDirectRunner` and the `FnApiRunner` run workers inside Python threads, so the results can simply be passed into a `queue.Queue()`. If `DirectRunner` ever switches to using `multiprocessing` ([BEAM-1442](https://issues.apache.org/jira/browse/BEAM-1442)), a more sophisticated way of transfering data between processes may be required. For example, PyTorch creates memory-mapped files, and passes filehandes to those files between processes."
   ]
  },
  {
   "cell_type": "code",
   "execution_count": 182,
   "metadata": {},
   "outputs": [],
   "source": [
    "def add_to_queue(element, queue):\n",
    "    queue.put(element)"
   ]
  },
  {
   "cell_type": "code",
   "execution_count": 183,
   "metadata": {},
   "outputs": [],
   "source": [
    "q = queue.Queue()\n",
    "\n",
    "with beam.Pipeline(runner=BundleBasedDirectRunner()) as p:\n",
    "    _ = (\n",
    "        #\n",
    "        p\n",
    "        | \"Read\" >> ReadCache(cache_manager, \"temp\")\n",
    "        | \"Remove whitespace\" >> beam.Map(lambda element: element.strip(\"\\n\\t|\"))\n",
    "        | \"Remove empty lines\" >> beam.FlatMap(lambda element: [element] if element else [])\n",
    "        | \"Write\" >> beam.Map(lambda element: add_to_queue(element, queue=q))\n",
    "    )"
   ]
  },
  {
   "cell_type": "code",
   "execution_count": 184,
   "metadata": {},
   "outputs": [],
   "source": [
    "data = list(q.queue)"
   ]
  },
  {
   "cell_type": "code",
   "execution_count": 188,
   "metadata": {},
   "outputs": [
    {
     "data": {
      "text/plain": [
       "Text(0,0.5,'Number of strings')"
      ]
     },
     "execution_count": 188,
     "metadata": {},
     "output_type": "execute_result"
    },
    {
     "data": {
      "image/png": "[encoded data removed]",
      "text/plain": [
       "<Figure size 432x288 with 1 Axes>"
      ]
     },
     "metadata": {
      "needs_background": "light"
     },
     "output_type": "display_data"
    }
   ],
   "source": [
    "fg, ax = plt.subplots()\n",
    "\n",
    "_ = ax.hist([len(s) for s in data])\n",
    "ax.set_title(\"Number of strings after removing whitespace\")\n",
    "ax.set_xlabel(\"String length\")\n",
    "ax.set_ylabel(\"Number of strings\")"
   ]
  },
  {
   "cell_type": "markdown",
   "metadata": {},
   "source": [
    "#### Notes\n",
    "\n",
    "- It may be useful to have a well-defined class for outputing results to an object in the main process. That way, if the implementation of `DirectRunner` changes, this way of accessing results could remain backwards-compatible."
   ]
  },
  {
   "cell_type": "code",
   "execution_count": null,
   "metadata": {},
   "outputs": [],
   "source": [
    "reader = beam.io.textio.ReadFromText(\"gs://strokach/inputs/winterstale\")\n",
    "range_tracker = reader._source.get_range_tracker(None, None)\n",
    "data = list(reader._source.read(range_tracker))"
   ]
  },
  {
   "cell_type": "code",
   "execution_count": null,
   "metadata": {},
   "outputs": [],
   "source": []
  },
  {
   "cell_type": "markdown",
   "metadata": {},
   "source": [
    "# Cleanup"
   ]
  },
  {
   "cell_type": "code",
   "execution_count": null,
   "metadata": {},
   "outputs": [],
   "source": [
    "cache_manager.cleanup()"
   ]
  },
  {
   "cell_type": "code",
   "execution_count": null,
   "metadata": {},
   "outputs": [],
   "source": [
    "# runner.__exit__()\n",
    "# runner.end_session() (?)"
   ]
  },
  {
   "cell_type": "code",
   "execution_count": null,
   "metadata": {},
   "outputs": [],
   "source": []
  }
 ],
 "metadata": {
  "kernelspec": {
   "display_name": "Python [conda env:apache-beam-dev]",
   "language": "python",
   "name": "conda-env-apache-beam-dev-py"
  },
  "language_info": {
   "codemirror_mode": {
    "name": "ipython",
    "version": 2
   },
   "file_extension": ".py",
   "mimetype": "text/x-python",
   "name": "python",
   "nbconvert_exporter": "python",
   "pygments_lexer": "ipython2",
   "version": "2.7.15"
  }
 },
 "nbformat": 4,
 "nbformat_minor": 2
}
