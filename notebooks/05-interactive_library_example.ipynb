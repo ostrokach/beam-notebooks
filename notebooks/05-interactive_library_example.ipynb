{
 "cells": [
  {
   "cell_type": "markdown",
   "metadata": {
    "colab_type": "text",
    "id": "RUtedcvxeXG1"
   },
   "source": [
    "## Install dependencies"
   ]
  },
  {
   "cell_type": "code",
   "execution_count": null,
   "metadata": {
    "colab": {},
    "colab_type": "code",
    "id": "yFU0y74LKkZz"
   },
   "outputs": [],
   "source": [
    "try:\n",
    "    import google.colab\n",
    "    GOOGLE_COLAB = True\n",
    "except ImportError:\n",
    "    GOOGLE_COLAB = False"
   ]
  },
  {
   "cell_type": "code",
   "execution_count": null,
   "metadata": {
    "colab": {},
    "colab_type": "code",
    "id": "vwc8s3ZMviEy"
   },
   "outputs": [],
   "source": [
    "if GOOGLE_COLAB:\n",
    "    !sudo apt-get -yqq install libsnappy-dev"
   ]
  },
  {
   "cell_type": "code",
   "execution_count": null,
   "metadata": {
    "colab": {},
    "colab_type": "code",
    "id": "6JBBvTSgvcoD"
   },
   "outputs": [],
   "source": [
    "if GOOGLE_COLAB:\n",
    "    !pip install -q python-snappy Faker pyproj\n",
    "    !pip install -q -U bokeh"
   ]
  },
  {
   "cell_type": "code",
   "execution_count": null,
   "metadata": {
    "colab": {
     "base_uri": "https://localhost:8080/",
     "height": 901
    },
    "colab_type": "code",
    "executionInfo": {
     "elapsed": 9938,
     "status": "ok",
     "timestamp": 1561509815353,
     "user": {
      "displayName": "Alexey Strokach",
      "photoUrl": "https://lh4.googleusercontent.com/-CsQDBBcl3n0/AAAAAAAAAAI/AAAAAAAACyg/LJXILPSVwok/s64/photo.jpg",
      "userId": "14295043229009166910"
     },
     "user_tz": 420
    },
    "id": "zsUWt2AjsmWU",
    "outputId": "b2f917a3-9f89-4317-8a40-4e501de2415d"
   },
   "outputs": [],
   "source": [
    "if GOOGLE_COLAB:\n",
    "    !pip install \"git+https://github.com/ostrokach/beam.git@feature/streambasedcache#egg=apache_beam[gcp]&subdirectory=sdks/python\""
   ]
  },
  {
   "cell_type": "markdown",
   "metadata": {
    "colab_type": "text",
    "id": "5zc3pwq0smN-"
   },
   "source": [
    "## Imports"
   ]
  },
  {
   "cell_type": "code",
   "execution_count": null,
   "metadata": {
    "colab": {},
    "colab_type": "code",
    "id": "EwceiH15eVt-"
   },
   "outputs": [],
   "source": [
    "import copy\n",
    "import itertools\n",
    "import logging\n",
    "import os\n",
    "import pickle\n",
    "import tempfile\n",
    "import uuid\n",
    "\n",
    "import apache_beam as beam\n",
    "import numpy as np\n",
    "import tqdm\n",
    "from apache_beam.io.filesystems import FileSystems\n",
    "from apache_beam.options.pipeline_options import (GoogleCloudOptions,\n",
    "                                                  PipelineOptions)\n",
    "from apache_beam.runners.direct.direct_runner import BundleBasedDirectRunner\n",
    "from apache_beam.runners.interactive import caching"
   ]
  },
  {
   "cell_type": "code",
   "execution_count": null,
   "metadata": {
    "colab": {},
    "colab_type": "code",
    "id": "mp81GHxrwYEf"
   },
   "outputs": [],
   "source": [
    "# logging.basicConfig(level=logging.INFO)"
   ]
  },
  {
   "cell_type": "code",
   "execution_count": null,
   "metadata": {
    "colab": {
     "base_uri": "https://localhost:8080/",
     "height": 35
    },
    "colab_type": "code",
    "executionInfo": {
     "elapsed": 330,
     "status": "ok",
     "timestamp": 1561073023821,
     "user": {
      "displayName": "Alexey Strokach",
      "photoUrl": "https://lh3.googleusercontent.com/-Lp8Zf68EiFo/AAAAAAAAAAI/AAAAAAAAABU/H-NObGtJeXY/s64/photo.jpg",
      "userId": "00492508659432265464"
     },
     "user_tz": 420
    },
    "id": "K2l7J_Tewbz-",
    "outputId": "9db1068b-eb9a-4cf1-8c38-1c742c9e9f6a"
   },
   "outputs": [],
   "source": [
    "# logging.info(\"hello\")"
   ]
  },
  {
   "cell_type": "code",
   "execution_count": null,
   "metadata": {
    "colab": {
     "base_uri": "https://localhost:8080/",
     "height": 53
    },
    "colab_type": "code",
    "executionInfo": {
     "elapsed": 384,
     "status": "ok",
     "timestamp": 1561073024320,
     "user": {
      "displayName": "Alexey Strokach",
      "photoUrl": "https://lh3.googleusercontent.com/-Lp8Zf68EiFo/AAAAAAAAAAI/AAAAAAAAABU/H-NObGtJeXY/s64/photo.jpg",
      "userId": "00492508659432265464"
     },
     "user_tz": 420
    },
    "id": "0oJaVF1pFi92",
    "outputId": "f2e5c3c4-1123-4ca8-d599-cf9fae1d9d56"
   },
   "outputs": [],
   "source": [
    "try:\n",
    "    %load_ext autoreload\n",
    "    %autoreload 2\n",
    "except ModuleNotFoundError:\n",
    "    print(\"Not using autoreload\")"
   ]
  },
  {
   "cell_type": "markdown",
   "metadata": {
    "colab_type": "text",
    "id": "VgAbUdQ2fKAL"
   },
   "source": [
    "## Functions"
   ]
  },
  {
   "cell_type": "code",
   "execution_count": null,
   "metadata": {
    "colab": {},
    "colab_type": "code",
    "id": "5oTAhefHgucB"
   },
   "outputs": [],
   "source": [
    "class MaterializedPCollection(beam.pvalue.PCollection):\n",
    "\n",
    "    # TODO: Ideally, would want to be consistent with the PCollection API.\n",
    "    def __init__(self, pipeline, tag=None, element_type=None, windowing=None, cache=None):\n",
    "        super(MaterializedPCollection, self).__init__(\n",
    "            pipeline, tag=tag, element_type=element_type, windowing=windowing)\n",
    "        self._cache = cache\n",
    "\n",
    "    def read(self, **reader_kwargs):\n",
    "        return self._cache.read(**reader_kwargs)\n",
    "\n",
    "    def __del__(self):\n",
    "        # Clear the underlying cache when there are no more references to this object.\n",
    "        self._cache.clear()"
   ]
  },
  {
   "cell_type": "code",
   "execution_count": null,
   "metadata": {
    "colab": {},
    "colab_type": "code",
    "id": "r1cky9g0fLXR"
   },
   "outputs": [],
   "source": [
    "def persist(pcoll):\n",
    "    \"\"\"Materialize PCollection.\n",
    "\n",
    "    Args:\n",
    "        pcoll: The PCollection to materialize.\n",
    "\n",
    "    Returns:\n",
    "        MaterializedPCollection: An object which can be used to accessthe materialized\n",
    "            PCollection.\n",
    "    \"\"\"\n",
    "    if isinstance(pcoll, MaterializedPCollection):\n",
    "        logging.info(\"The provided PCollection has already been materialized.\")\n",
    "        return pcoll\n",
    "\n",
    "    temp_location = pcoll.pipeline._options.view_as(GoogleCloudOptions).temp_location\n",
    "    cache_location = FileSystems.join(temp_location, \"cache\", uuid.uuid4().hex)\n",
    "    while FileSystems.match(FileSystems.match([cache_location + \"*\"], limits=[1])[0].metadata_list):\n",
    "        cache_location = FileSystems.join(temp_location, \"cache\", uuid.uuid4().hex)\n",
    "\n",
    "    cache = caching.TFRecordBasedCache(location=cache_location)\n",
    "\n",
    "    pcoll_to_cache = (\n",
    "        pcoll | \"Write to cache\" >> cache.writer()\n",
    "    )\n",
    "    # TODO: Get this working with `test_runner_api=True`\n",
    "    pcoll_to_cache.pipeline.run(test_runner_api=False).wait_until_finish()\n",
    "\n",
    "    new_pipeline = (\n",
    "        beam.Pipeline(\n",
    "            runner=pcoll_to_cache.pipeline.runner,\n",
    "            options=pcoll_to_cache.pipeline._options)\n",
    "        | \"Read from cache\" >> cache.reader()\n",
    "    ).pipeline\n",
    "    materialized_pcoll = MaterializedPCollection(\n",
    "        pipeline=new_pipeline, tag=pcoll.tag, element_type=pcoll.element_type,\n",
    "        windowing=pcoll.windowing, cache=cache)\n",
    "    \n",
    "    assert pcoll.producer\n",
    "    materialized_pcoll.producer = pcoll.producer\n",
    "    \n",
    "    return materialized_pcoll"
   ]
  },
  {
   "cell_type": "markdown",
   "metadata": {
    "colab_type": "text",
    "id": "hzzEnIEftMYZ"
   },
   "source": [
    "## Options"
   ]
  },
  {
   "cell_type": "code",
   "execution_count": null,
   "metadata": {},
   "outputs": [],
   "source": [
    "NOTEBOOK_NAME = \"session_api_batch\"\n",
    "try:\n",
    "    os.mkdir(NOTEBOOK_NAME)\n",
    "except OSError:\n",
    "    pass"
   ]
  },
  {
   "cell_type": "code",
   "execution_count": null,
   "metadata": {
    "colab": {
     "base_uri": "https://localhost:8080/",
     "height": 0
    },
    "colab_type": "code",
    "executionInfo": {
     "elapsed": 10345,
     "status": "ok",
     "timestamp": 1561509815816,
     "user": {
      "displayName": "Alexey Strokach",
      "photoUrl": "https://lh4.googleusercontent.com/-CsQDBBcl3n0/AAAAAAAAAAI/AAAAAAAACyg/LJXILPSVwok/s64/photo.jpg",
      "userId": "14295043229009166910"
     },
     "user_tz": 420
    },
    "id": "IpuqYM-zsorD",
    "outputId": "28d072f4-bafc-483f-98e3-931be526e177"
   },
   "outputs": [],
   "source": [
    "#@title Google Cloud Project Info { display-mode: \"form\" }\n",
    "project_id = \"strokach-playground\" #@param {type:\"string\"}\n",
    "gcs_temp_location = \"gs://strokach/dataflow_temp\" #@param {type:\"string\"}"
   ]
  },
  {
   "cell_type": "code",
   "execution_count": null,
   "metadata": {
    "colab": {
     "base_uri": "https://localhost:8080/",
     "height": 0
    },
    "colab_type": "code",
    "executionInfo": {
     "elapsed": 10315,
     "status": "ok",
     "timestamp": 1561509815817,
     "user": {
      "displayName": "Alexey Strokach",
      "photoUrl": "https://lh4.googleusercontent.com/-CsQDBBcl3n0/AAAAAAAAAAI/AAAAAAAACyg/LJXILPSVwok/s64/photo.jpg",
      "userId": "14295043229009166910"
     },
     "user_tz": 420
    },
    "id": "Y2KieHGYrOKY",
    "outputId": "3ed360d6-651a-4477-eb12-5a7cab5bd4c8"
   },
   "outputs": [],
   "source": [
    "options = PipelineOptions(\n",
    "    temp_location=gcs_temp_location, interactive=True, project=project_id\n",
    ")\n",
    "options.display_data()"
   ]
  },
  {
   "cell_type": "code",
   "execution_count": null,
   "metadata": {},
   "outputs": [],
   "source": [
    "try:\n",
    "    %load_ext autoreload\n",
    "    %autoreload 2\n",
    "except Exception:\n",
    "    print(\"No autoreload\")"
   ]
  },
  {
   "cell_type": "code",
   "execution_count": null,
   "metadata": {
    "colab": {
     "base_uri": "https://localhost:8080/",
     "height": 35
    },
    "colab_type": "code",
    "executionInfo": {
     "elapsed": 1054,
     "status": "ok",
     "timestamp": 1561072415678,
     "user": {
      "displayName": "Alexey Strokach",
      "photoUrl": "https://lh3.googleusercontent.com/-Lp8Zf68EiFo/AAAAAAAAAAI/AAAAAAAAABU/H-NObGtJeXY/s64/photo.jpg",
      "userId": "00492508659432265464"
     },
     "user_tz": 420
    },
    "id": "IpuqYM-zsorD",
    "outputId": "fd499a52-8e1e-426b-f99d-11f23bbef05a"
   },
   "outputs": [],
   "source": [
    "temp_root = \"/tmp/beam-dev\"\n",
    "try:\n",
    "    os.makedirs(temp_root)\n",
    "except OSError:\n",
    "    pass\n",
    "\n",
    "temp_location = tempfile.mkdtemp(dir=temp_root)\n",
    "\n",
    "cache_location = FileSystems.join(temp_location, \"cache\")\n",
    "try:\n",
    "    os.makedirs(cache_location)\n",
    "except OSError:\n",
    "    pass\n",
    "\n",
    "temp_root, temp_location, cache_location"
   ]
  },
  {
   "cell_type": "code",
   "execution_count": null,
   "metadata": {
    "colab": {},
    "colab_type": "code",
    "id": "lf1HFhy1rOR_"
   },
   "outputs": [],
   "source": [
    "runner = BundleBasedDirectRunner()"
   ]
  },
  {
   "cell_type": "code",
   "execution_count": null,
   "metadata": {
    "colab": {},
    "colab_type": "code",
    "id": "4emDZ0OMFi-X"
   },
   "outputs": [],
   "source": [
    "p = beam.Pipeline(runner=runner, options=options)"
   ]
  },
  {
   "cell_type": "markdown",
   "metadata": {
    "colab_type": "text",
    "id": "Qh5EkuunuiBc"
   },
   "source": [
    "## Generate a dataset\n",
    "\n",
    "Create a dataset of 10,000 fake people profiles."
   ]
  },
  {
   "cell_type": "code",
   "execution_count": null,
   "metadata": {},
   "outputs": [],
   "source": [
    "try:\n",
    "    with open(os.path.join(NOTEBOOK_NAME, \"fake_people.pkl\"), \"rb\") as fin:\n",
    "        fake_people = pickle.load(fin)\n",
    "except IOError:\n",
    "    fake = Faker(seed=42)\n",
    "    fake_people = [fake.profile(fields=None, sex=None) for _ in tqdm.tqdm_notebook(range(10000))]\n",
    "    with open(os.path.join(NOTEBOOK_NAME, \"fake_people.pkl\"), \"wb\") as fout:\n",
    "        pickle.dump(fake_people, fout)"
   ]
  },
  {
   "cell_type": "code",
   "execution_count": null,
   "metadata": {
    "colab": {
     "base_uri": "https://localhost:8080/",
     "height": 301
    },
    "colab_type": "code",
    "executionInfo": {
     "elapsed": 309,
     "status": "ok",
     "timestamp": 1561073220423,
     "user": {
      "displayName": "Alexey Strokach",
      "photoUrl": "https://lh3.googleusercontent.com/-Lp8Zf68EiFo/AAAAAAAAAAI/AAAAAAAAABU/H-NObGtJeXY/s64/photo.jpg",
      "userId": "00492508659432265464"
     },
     "user_tz": 420
    },
    "id": "eWoMfmUDFi-i",
    "outputId": "f7cb96e4-0904-4e9d-8075-2e9de79860cb"
   },
   "outputs": [],
   "source": [
    "fake_people[:1]"
   ]
  },
  {
   "cell_type": "markdown",
   "metadata": {
    "colab_type": "text",
    "id": "rtjjBzIAFi-p"
   },
   "source": [
    "## Create a PCollection cache\n",
    "\n",
    "Convert the generated dataset into a `PCollection` which can be accessed from within a Beam pipeline."
   ]
  },
  {
   "cell_type": "code",
   "execution_count": null,
   "metadata": {
    "colab": {},
    "colab_type": "code",
    "id": "jfLbJE8vFi-q"
   },
   "outputs": [],
   "source": [
    "input_cache = caching.SafeTextBasedCache(FileSystems.join(cache_location, \"fake_people\"), mode=\"overwrite\")\n",
    "input_cache.write(fake_people)"
   ]
  },
  {
   "cell_type": "code",
   "execution_count": null,
   "metadata": {},
   "outputs": [],
   "source": [
    "counts = (\n",
    "    p\n",
    "    | input_cache.reader()\n",
    "    | beam.combiners.Count.Globally()\n",
    ")"
   ]
  },
  {
   "cell_type": "code",
   "execution_count": null,
   "metadata": {},
   "outputs": [],
   "source": [
    "counts"
   ]
  },
  {
   "cell_type": "code",
   "execution_count": null,
   "metadata": {
    "colab": {
     "base_uri": "https://localhost:8080/",
     "height": 88
    },
    "colab_type": "code",
    "executionInfo": {
     "elapsed": 3155,
     "status": "ok",
     "timestamp": 1561073236978,
     "user": {
      "displayName": "Alexey Strokach",
      "photoUrl": "https://lh3.googleusercontent.com/-Lp8Zf68EiFo/AAAAAAAAAAI/AAAAAAAAABU/H-NObGtJeXY/s64/photo.jpg",
      "userId": "00492508659432265464"
     },
     "user_tz": 420
    },
    "id": "Adwj8tGtFi-1",
    "outputId": "5d285efc-df42-4ac9-e69b-9236274fc539"
   },
   "outputs": [],
   "source": [
    "counts = persist(\n",
    "    p\n",
    "    | input_cache.reader()\n",
    "    | beam.combiners.Count.Globally()\n",
    ")\n",
    "\n",
    "next(counts.read())"
   ]
  },
  {
   "cell_type": "code",
   "execution_count": null,
   "metadata": {},
   "outputs": [],
   "source": [
    "counts = (    p\n",
    "    | input_cache.reader()\n",
    "    | beam.combiners.Count.Globally()\n",
    ")"
   ]
  },
  {
   "cell_type": "code",
   "execution_count": null,
   "metadata": {},
   "outputs": [],
   "source": [
    "counts"
   ]
  },
  {
   "cell_type": "code",
   "execution_count": null,
   "metadata": {},
   "outputs": [],
   "source": [
    "a, b = persist(a, b)"
   ]
  },
  {
   "cell_type": "code",
   "execution_count": null,
   "metadata": {},
   "outputs": [],
   "source": [
    "count1, counts2 = persisit(cou ts )"
   ]
  },
  {
   "cell_type": "code",
   "execution_count": null,
   "metadata": {},
   "outputs": [],
   "source": [
    "next(counts.read())"
   ]
  },
  {
   "cell_type": "markdown",
   "metadata": {
    "colab_type": "text",
    "id": "p0XKoVuiFi_A"
   },
   "source": [
    "## Basic transformations"
   ]
  },
  {
   "cell_type": "markdown",
   "metadata": {
    "colab_type": "text",
    "id": "12049Yp_Fi_B"
   },
   "source": [
    "### Add age columns"
   ]
  },
  {
   "cell_type": "code",
   "execution_count": null,
   "metadata": {
    "colab": {},
    "colab_type": "code",
    "id": "gqyEPetxFi_C"
   },
   "outputs": [],
   "source": [
    "def calculate_age(birthdate):\n",
    "    import datetime\n",
    "    td = datetime.date.today() - birthdate\n",
    "    return int(round(td.days // 365.25))\n",
    "\n",
    "def add_age_colum(element):\n",
    "    element[\"age\"] = calculate_age(element[\"birthdate\"])\n",
    "    return element"
   ]
  },
  {
   "cell_type": "code",
   "execution_count": null,
   "metadata": {
    "colab": {
     "base_uri": "https://localhost:8080/",
     "height": 517
    },
    "colab_type": "code",
    "executionInfo": {
     "elapsed": 10327,
     "status": "ok",
     "timestamp": 1561073291354,
     "user": {
      "displayName": "Alexey Strokach",
      "photoUrl": "https://lh3.googleusercontent.com/-Lp8Zf68EiFo/AAAAAAAAAAI/AAAAAAAAABU/H-NObGtJeXY/s64/photo.jpg",
      "userId": "00492508659432265464"
     },
     "user_tz": 420
    },
    "id": "pOEjB8esFi_G",
    "outputId": "3668e1ce-87b5-46de-ce9b-8c616555436d"
   },
   "outputs": [],
   "source": [
    "people_with_age = persist(\n",
    "    p\n",
    "    | input_cache.reader()\n",
    "#     | beam.combiners.Sample.FixedSizeGlobally(5)\n",
    "#     | beam.FlatMap(lambda e_lst: [e for e in e_lst])\n",
    "    | beam.Map(add_age_colum)\n",
    ")\n",
    "\n",
    "next(people_with_age.read())"
   ]
  },
  {
   "cell_type": "markdown",
   "metadata": {
    "colab_type": "text",
    "id": "IvCdrHJqFi_M"
   },
   "source": [
    "## Chain transformations"
   ]
  },
  {
   "cell_type": "markdown",
   "metadata": {
    "colab_type": "text",
    "id": "lZq2nq10Fi_O"
   },
   "source": [
    "Select top 10 most popular occupations in the `> 30` age group."
   ]
  },
  {
   "cell_type": "code",
   "execution_count": null,
   "metadata": {
    "colab": {
     "base_uri": "https://localhost:8080/",
     "height": 70
    },
    "colab_type": "code",
    "executionInfo": {
     "elapsed": 5085,
     "status": "ok",
     "timestamp": 1561073296520,
     "user": {
      "displayName": "Alexey Strokach",
      "photoUrl": "https://lh3.googleusercontent.com/-Lp8Zf68EiFo/AAAAAAAAAAI/AAAAAAAAABU/H-NObGtJeXY/s64/photo.jpg",
      "userId": "00492508659432265464"
     },
     "user_tz": 420
    },
    "id": "DlAyOvB6Fi_Q",
    "outputId": "ed198510-4da8-4d58-b1d9-c9c62f557181"
   },
   "outputs": [],
   "source": [
    "most_popular_occupations = persist(\n",
    "    people_with_age\n",
    "    | beam.Filter(lambda e: e[\"age\"] > 30)\n",
    "    | beam.Map(lambda e: (e[\"job\"], e))\n",
    "    | beam.combiners.Count.PerKey()\n",
    "    | beam.combiners.Top.Of(10, key=lambda x: x[1])\n",
    ")"
   ]
  },
  {
   "cell_type": "code",
   "execution_count": null,
   "metadata": {
    "colab": {
     "base_uri": "https://localhost:8080/",
     "height": 195
    },
    "colab_type": "code",
    "executionInfo": {
     "elapsed": 1444,
     "status": "ok",
     "timestamp": 1561073296528,
     "user": {
      "displayName": "Alexey Strokach",
      "photoUrl": "https://lh3.googleusercontent.com/-Lp8Zf68EiFo/AAAAAAAAAAI/AAAAAAAAABU/H-NObGtJeXY/s64/photo.jpg",
      "userId": "00492508659432265464"
     },
     "user_tz": 420
    },
    "id": "T6-0slXjFi_U",
    "outputId": "98029b57-06a4-4300-9310-05ab7840baad"
   },
   "outputs": [],
   "source": [
    "list(most_popular_occupations.read())"
   ]
  },
  {
   "cell_type": "markdown",
   "metadata": {
    "colab_type": "text",
    "id": "b0j6NDgpFi_Z"
   },
   "source": [
    "## Store for future use"
   ]
  },
  {
   "cell_type": "code",
   "execution_count": null,
   "metadata": {
    "colab": {},
    "colab_type": "code",
    "id": "n_nHArx8Fi_a",
    "outputId": "2c09174e-e780-42e9-bfbc-bb2701d711f9"
   },
   "outputs": [],
   "source": [
    "next(people_with_age.read())"
   ]
  },
  {
   "cell_type": "code",
   "execution_count": null,
   "metadata": {
    "colab": {},
    "colab_type": "code",
    "id": "Oct86JbrFi_f",
    "outputId": "b351ccb8-672f-409a-a181-74a128d56450"
   },
   "outputs": [],
   "source": [
    "output_folder = FileSystems.join(temp_location, \"json_output\")\n",
    "try:\n",
    "    os.makedirs(output_folder)\n",
    "except OSError:\n",
    "    pass\n",
    "\n",
    "\n",
    "def remove_nonserializable(element):\n",
    "    element = element.copy()\n",
    "    element[\"birthdate\"] = element[\"birthdate\"].isoformat()\n",
    "    del element[\"current_location\"]\n",
    "    return element\n",
    "\n",
    "\n",
    "def to_json_string(element):\n",
    "    import json\n",
    "\n",
    "    return json.dumps(element)\n",
    "\n",
    "\n",
    "output = (\n",
    "    people_with_age\n",
    "    | beam.combiners.Sample.FixedSizeGlobally(5)\n",
    "    | beam.FlatMap(lambda e_lst: [e for e in e_lst])\n",
    "    | beam.Map(remove_nonserializable)\n",
    "    | beam.Map(to_json_string)\n",
    "    | beam.io.WriteToText(\n",
    "        FileSystems.join(output_folder, \"output-data\"), file_name_suffix=\".json\"\n",
    "    )\n",
    ")\n",
    "output.pipeline.run(test_runner_api=False).wait_until_finish()"
   ]
  },
  {
   "cell_type": "markdown",
   "metadata": {
    "colab_type": "text",
    "id": "4P4IjwoSFi_m"
   },
   "source": [
    "## Convert to DataFrame"
   ]
  },
  {
   "cell_type": "code",
   "execution_count": null,
   "metadata": {
    "colab": {},
    "colab_type": "code",
    "id": "sz3eVswSFi_n"
   },
   "outputs": [],
   "source": []
  }
 ],
 "metadata": {
  "colab": {
   "collapsed_sections": [],
   "name": "Copy of lazyevaluation.ipynb",
   "provenance": [
    {
     "file_id": "1whsbvQJ2cHSMUJvauOS5TrRxo2WHp_Jv",
     "timestamp": 1561506261351
    },
    {
     "file_id": "https://github.com/ostrokach/beam-notebooks/blob/master/feature/lazyevaluation.ipynb",
     "timestamp": 1561071211744
    }
   ],
   "toc_visible": true,
   "version": "0.3.2"
  },
  "kernelspec": {
   "display_name": "Python [conda env:beam-dev-py3]",
   "language": "python",
   "name": "conda-env-beam-dev-py3-py"
  },
  "language_info": {
   "codemirror_mode": {
    "name": "ipython",
    "version": 3
   },
   "file_extension": ".py",
   "mimetype": "text/x-python",
   "name": "python",
   "nbconvert_exporter": "python",
   "pygments_lexer": "ipython3",
   "version": "3.7.3"
  }
 },
 "nbformat": 4,
 "nbformat_minor": 2
}
