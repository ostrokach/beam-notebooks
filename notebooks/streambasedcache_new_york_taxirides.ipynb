{
 "cells": [
  {
   "cell_type": "markdown",
   "metadata": {
    "colab_type": "text",
    "id": "bYniTY18yHx2"
   },
   "source": [
    "# StreamBasedCache"
   ]
  },
  {
   "cell_type": "markdown",
   "metadata": {
    "colab_type": "text",
    "id": "RUtedcvxeXG1"
   },
   "source": [
    "## Install dependencies"
   ]
  },
  {
   "cell_type": "code",
   "execution_count": 1,
   "metadata": {
    "colab": {},
    "colab_type": "code",
    "id": "yFU0y74LKkZz"
   },
   "outputs": [],
   "source": [
    "try:\n",
    "    import google.colab\n",
    "    GOOGLE_COLAB = True\n",
    "except ImportError:\n",
    "    GOOGLE_COLAB = False"
   ]
  },
  {
   "cell_type": "code",
   "execution_count": 2,
   "metadata": {
    "colab": {},
    "colab_type": "code",
    "id": "vwc8s3ZMviEy"
   },
   "outputs": [],
   "source": [
    "if GOOGLE_COLAB:\n",
    "    !sudo apt-get -yqq install libsnappy-dev"
   ]
  },
  {
   "cell_type": "code",
   "execution_count": 3,
   "metadata": {
    "colab": {},
    "colab_type": "code",
    "id": "6JBBvTSgvcoD"
   },
   "outputs": [],
   "source": [
    "if GOOGLE_COLAB:\n",
    "    !pip install -q python-snappy Faker pyproj\n",
    "    !pip install -q -U bokeh"
   ]
  },
  {
   "cell_type": "code",
   "execution_count": 4,
   "metadata": {
    "colab": {
     "base_uri": "https://localhost:8080/",
     "height": 901
    },
    "colab_type": "code",
    "executionInfo": {
     "elapsed": 9938,
     "status": "ok",
     "timestamp": 1561509815353,
     "user": {
      "displayName": "Alexey Strokach",
      "photoUrl": "https://lh4.googleusercontent.com/-CsQDBBcl3n0/AAAAAAAAAAI/AAAAAAAACyg/LJXILPSVwok/s64/photo.jpg",
      "userId": "14295043229009166910"
     },
     "user_tz": 420
    },
    "id": "zsUWt2AjsmWU",
    "outputId": "b2f917a3-9f89-4317-8a40-4e501de2415d"
   },
   "outputs": [],
   "source": [
    "if GOOGLE_COLAB:\n",
    "    !pip install \"git+https://github.com/ostrokach/beam.git@feature/streambasedcache#egg=apache_beam[gcp]&subdirectory=sdks/python\""
   ]
  },
  {
   "cell_type": "markdown",
   "metadata": {
    "colab_type": "text",
    "id": "5zc3pwq0smN-"
   },
   "source": [
    "## Imports"
   ]
  },
  {
   "cell_type": "code",
   "execution_count": 5,
   "metadata": {
    "colab": {},
    "colab_type": "code",
    "id": "EwceiH15eVt-"
   },
   "outputs": [],
   "source": [
    "from __future__ import print_function\n",
    "\n",
    "import copy\n",
    "import itertools\n",
    "import json\n",
    "import logging\n",
    "import os\n",
    "import pickle\n",
    "import shutil\n",
    "import tempfile\n",
    "import time\n",
    "import uuid\n",
    "from collections import Counter, OrderedDict\n",
    "from datetime import datetime\n",
    "\n",
    "import apache_beam as beam\n",
    "import matplotlib.pyplot as plt\n",
    "import numpy as np\n",
    "import pandas as pd\n",
    "import pyarrow as pa\n",
    "import pyarrow.parquet as pq\n",
    "import pyproj\n",
    "import pytz\n",
    "import requests\n",
    "import tqdm\n",
    "from apache_beam.io.filesystems import FileSystems\n",
    "from apache_beam.io.gcp.pubsub import PubsubMessage\n",
    "from apache_beam.options.pipeline_options import (GoogleCloudOptions,\n",
    "                                                  PipelineOptions)\n",
    "from apache_beam.runners.direct.direct_runner import BundleBasedDirectRunner\n",
    "from apache_beam.runners.interactive import caching\n",
    "from apache_beam.transforms import combiners, window\n",
    "from apache_beam.transforms.ptransform import ptransform_fn\n",
    "from faker import Faker\n",
    "from google.api_core import exceptions as gexc\n",
    "from google.cloud import pubsub\n",
    "\n",
    "from bokeh.io import output_notebook, push_notebook, show\n",
    "from bokeh.layouts import row\n",
    "from bokeh.models import ColumnDataSource\n",
    "from bokeh.plotting import figure"
   ]
  },
  {
   "cell_type": "code",
   "execution_count": 6,
   "metadata": {},
   "outputs": [],
   "source": [
    "pd.set_option(\"max_columns\", 100)"
   ]
  },
  {
   "cell_type": "code",
   "execution_count": 7,
   "metadata": {},
   "outputs": [],
   "source": [
    "%matplotlib inline"
   ]
  },
  {
   "cell_type": "markdown",
   "metadata": {
    "colab_type": "text",
    "id": "hzzEnIEftMYZ"
   },
   "source": [
    "## Parameters"
   ]
  },
  {
   "cell_type": "code",
   "execution_count": 8,
   "metadata": {},
   "outputs": [],
   "source": [
    "if GOOGLE_COLAB:\n",
    "    from google.colab import auth\n",
    "    auth.authenticate_user()"
   ]
  },
  {
   "cell_type": "code",
   "execution_count": 9,
   "metadata": {
    "colab": {
     "base_uri": "https://localhost:8080/",
     "height": 0
    },
    "colab_type": "code",
    "executionInfo": {
     "elapsed": 10345,
     "status": "ok",
     "timestamp": 1561509815816,
     "user": {
      "displayName": "Alexey Strokach",
      "photoUrl": "https://lh4.googleusercontent.com/-CsQDBBcl3n0/AAAAAAAAAAI/AAAAAAAACyg/LJXILPSVwok/s64/photo.jpg",
      "userId": "14295043229009166910"
     },
     "user_tz": 420
    },
    "id": "IpuqYM-zsorD",
    "outputId": "28d072f4-bafc-483f-98e3-931be526e177"
   },
   "outputs": [],
   "source": [
    "#@title Google Cloud Project Info { display-mode: \"form\" }\n",
    "project_id = \"strokach-playground\" #@param {type:\"string\"}\n",
    "gcs_temp_location = \"gs://strokach/dataflow_temp\" #@param {type:\"string\"}"
   ]
  },
  {
   "cell_type": "code",
   "execution_count": 10,
   "metadata": {},
   "outputs": [],
   "source": [
    "NOTEBOOK_NAME = \"streambasedcache_new_york_taxirides\"\n",
    "try:\n",
    "    os.mkdir(NOTEBOOK_NAME)\n",
    "except OSError:\n",
    "    pass"
   ]
  },
  {
   "cell_type": "code",
   "execution_count": 11,
   "metadata": {
    "colab": {
     "base_uri": "https://localhost:8080/",
     "height": 0
    },
    "colab_type": "code",
    "executionInfo": {
     "elapsed": 10315,
     "status": "ok",
     "timestamp": 1561509815817,
     "user": {
      "displayName": "Alexey Strokach",
      "photoUrl": "https://lh4.googleusercontent.com/-CsQDBBcl3n0/AAAAAAAAAAI/AAAAAAAACyg/LJXILPSVwok/s64/photo.jpg",
      "userId": "14295043229009166910"
     },
     "user_tz": 420
    },
    "id": "Y2KieHGYrOKY",
    "outputId": "3ed360d6-651a-4477-eb12-5a7cab5bd4c8"
   },
   "outputs": [
    {
     "name": "stderr",
     "output_type": "stream",
     "text": [
      "WARNING:root:Discarding unparseable args: ['-f', '/run/user/674629/jupyter/kernel-e08bbc73-5637-4a91-aa9e-4a09c9e2d4a7.json']\n"
     ]
    },
    {
     "data": {
      "text/plain": [
       "{'project': 'strokach-playground',\n",
       " 'streaming': True,\n",
       " 'temp_location': 'gs://strokach/dataflow_temp'}"
      ]
     },
     "execution_count": 11,
     "metadata": {},
     "output_type": "execute_result"
    }
   ],
   "source": [
    "options = PipelineOptions(\n",
    "    temp_location=gcs_temp_location, streaming=True, project=project_id\n",
    ")\n",
    "options.display_data()"
   ]
  },
  {
   "cell_type": "code",
   "execution_count": 12,
   "metadata": {},
   "outputs": [],
   "source": [
    "try:\n",
    "    %load_ext autoreload\n",
    "    %autoreload 2\n",
    "except Exception:\n",
    "    print(\"No autoreload\")"
   ]
  },
  {
   "cell_type": "markdown",
   "metadata": {},
   "source": [
    "## Load data"
   ]
  },
  {
   "cell_type": "code",
   "execution_count": 13,
   "metadata": {},
   "outputs": [],
   "source": [
    "input_file = \"new_york_taxirides_to_events/new-york-taxi-events.parquet\""
   ]
  },
  {
   "cell_type": "code",
   "execution_count": 14,
   "metadata": {},
   "outputs": [
    {
     "data": {
      "text/html": [
       "<div>\n",
       "<style scoped>\n",
       "    .dataframe tbody tr th:only-of-type {\n",
       "        vertical-align: middle;\n",
       "    }\n",
       "\n",
       "    .dataframe tbody tr th {\n",
       "        vertical-align: top;\n",
       "    }\n",
       "\n",
       "    .dataframe thead th {\n",
       "        text-align: right;\n",
       "    }\n",
       "</style>\n",
       "<table border=\"1\" class=\"dataframe\">\n",
       "  <thead>\n",
       "    <tr style=\"text-align: right;\">\n",
       "      <th></th>\n",
       "      <th>event_type</th>\n",
       "      <th>timestamp</th>\n",
       "      <th>longitude</th>\n",
       "      <th>latitude</th>\n",
       "      <th>trip_miles</th>\n",
       "      <th>trip_total</th>\n",
       "      <th>timestamp_seconds</th>\n",
       "      <th>utm_x</th>\n",
       "      <th>utm_y</th>\n",
       "    </tr>\n",
       "  </thead>\n",
       "  <tbody>\n",
       "    <tr>\n",
       "      <th>0</th>\n",
       "      <td>start</td>\n",
       "      <td>2015-12-01 00:00:00</td>\n",
       "      <td>-73.979942</td>\n",
       "      <td>40.765381</td>\n",
       "      <td>NaN</td>\n",
       "      <td>NaN</td>\n",
       "      <td>1.448928e+09</td>\n",
       "      <td>-8.235410e+06</td>\n",
       "      <td>4.977797e+06</td>\n",
       "    </tr>\n",
       "    <tr>\n",
       "      <th>1</th>\n",
       "      <td>stop</td>\n",
       "      <td>2015-12-01 00:00:00</td>\n",
       "      <td>-73.974548</td>\n",
       "      <td>40.791641</td>\n",
       "      <td>2.62</td>\n",
       "      <td>21.36</td>\n",
       "      <td>1.448928e+09</td>\n",
       "      <td>-8.234809e+06</td>\n",
       "      <td>4.981657e+06</td>\n",
       "    </tr>\n",
       "  </tbody>\n",
       "</table>\n",
       "</div>"
      ],
      "text/plain": [
       "  event_type            timestamp  longitude   latitude  trip_miles  \\\n",
       "0      start  2015-12-01 00:00:00 -73.979942  40.765381         NaN   \n",
       "1       stop  2015-12-01 00:00:00 -73.974548  40.791641        2.62   \n",
       "\n",
       "   trip_total  timestamp_seconds         utm_x         utm_y  \n",
       "0         NaN       1.448928e+09 -8.235410e+06  4.977797e+06  \n",
       "1       21.36       1.448928e+09 -8.234809e+06  4.981657e+06  "
      ]
     },
     "execution_count": 14,
     "metadata": {},
     "output_type": "execute_result"
    }
   ],
   "source": [
    "events_df = pq.read_table(input_file).to_pandas()\n",
    "events_df.head(2)"
   ]
  },
  {
   "cell_type": "code",
   "execution_count": 15,
   "metadata": {},
   "outputs": [
    {
     "name": "stdout",
     "output_type": "stream",
     "text": [
      "Num row groups: 2204\n"
     ]
    },
    {
     "data": {
      "text/html": [
       "<div>\n",
       "<style scoped>\n",
       "    .dataframe tbody tr th:only-of-type {\n",
       "        vertical-align: middle;\n",
       "    }\n",
       "\n",
       "    .dataframe tbody tr th {\n",
       "        vertical-align: top;\n",
       "    }\n",
       "\n",
       "    .dataframe thead th {\n",
       "        text-align: right;\n",
       "    }\n",
       "</style>\n",
       "<table border=\"1\" class=\"dataframe\">\n",
       "  <thead>\n",
       "    <tr style=\"text-align: right;\">\n",
       "      <th></th>\n",
       "      <th>event_type</th>\n",
       "      <th>timestamp</th>\n",
       "      <th>longitude</th>\n",
       "      <th>latitude</th>\n",
       "      <th>trip_miles</th>\n",
       "      <th>trip_total</th>\n",
       "      <th>timestamp_seconds</th>\n",
       "      <th>utm_x</th>\n",
       "      <th>utm_y</th>\n",
       "    </tr>\n",
       "  </thead>\n",
       "  <tbody>\n",
       "    <tr>\n",
       "      <th>0</th>\n",
       "      <td>start</td>\n",
       "      <td>2015-12-01 00:00:00</td>\n",
       "      <td>-73.979942</td>\n",
       "      <td>40.765381</td>\n",
       "      <td>NaN</td>\n",
       "      <td>NaN</td>\n",
       "      <td>1.448928e+09</td>\n",
       "      <td>-8.235410e+06</td>\n",
       "      <td>4.977797e+06</td>\n",
       "    </tr>\n",
       "    <tr>\n",
       "      <th>1</th>\n",
       "      <td>stop</td>\n",
       "      <td>2015-12-01 00:00:00</td>\n",
       "      <td>-73.974548</td>\n",
       "      <td>40.791641</td>\n",
       "      <td>2.62</td>\n",
       "      <td>21.36</td>\n",
       "      <td>1.448928e+09</td>\n",
       "      <td>-8.234809e+06</td>\n",
       "      <td>4.981657e+06</td>\n",
       "    </tr>\n",
       "  </tbody>\n",
       "</table>\n",
       "</div>"
      ],
      "text/plain": [
       "  event_type            timestamp  longitude   latitude  trip_miles  \\\n",
       "0      start  2015-12-01 00:00:00 -73.979942  40.765381         NaN   \n",
       "1       stop  2015-12-01 00:00:00 -73.974548  40.791641        2.62   \n",
       "\n",
       "   trip_total  timestamp_seconds         utm_x         utm_y  \n",
       "0         NaN       1.448928e+09 -8.235410e+06  4.977797e+06  \n",
       "1       21.36       1.448928e+09 -8.234809e+06  4.981657e+06  "
      ]
     },
     "execution_count": 15,
     "metadata": {},
     "output_type": "execute_result"
    }
   ],
   "source": [
    "pt = pq.ParquetFile(input_file)\n",
    "print(\"Num row groups:\", pt.num_row_groups)\n",
    "pt.read_row_group(0).to_pandas(integer_object_nulls=True).head(2)"
   ]
  },
  {
   "cell_type": "code",
   "execution_count": 16,
   "metadata": {},
   "outputs": [],
   "source": [
    "def generate_taxi_events(input_file, **kwargs):\n",
    "    pf = pq.ParquetFile(input_file)\n",
    "    for row_group_index in range(pf.num_row_groups):\n",
    "        table = pf.read_row_group(row_group_index, **kwargs)\n",
    "        data = table.to_pydict()\n",
    "        columns = list(data)\n",
    "        for row_index in range(len(data[columns[0]])):\n",
    "            row = OrderedDict([(c, data[c][row_index]) for c in columns])\n",
    "            yield row"
   ]
  },
  {
   "cell_type": "code",
   "execution_count": 17,
   "metadata": {},
   "outputs": [
    {
     "data": {
      "text/html": [
       "<div>\n",
       "<style scoped>\n",
       "    .dataframe tbody tr th:only-of-type {\n",
       "        vertical-align: middle;\n",
       "    }\n",
       "\n",
       "    .dataframe tbody tr th {\n",
       "        vertical-align: top;\n",
       "    }\n",
       "\n",
       "    .dataframe thead th {\n",
       "        text-align: right;\n",
       "    }\n",
       "</style>\n",
       "<table border=\"1\" class=\"dataframe\">\n",
       "  <thead>\n",
       "    <tr style=\"text-align: right;\">\n",
       "      <th></th>\n",
       "      <th>event_type</th>\n",
       "      <th>timestamp</th>\n",
       "      <th>longitude</th>\n",
       "      <th>latitude</th>\n",
       "      <th>trip_miles</th>\n",
       "      <th>trip_total</th>\n",
       "      <th>timestamp_seconds</th>\n",
       "      <th>utm_x</th>\n",
       "      <th>utm_y</th>\n",
       "    </tr>\n",
       "  </thead>\n",
       "  <tbody>\n",
       "    <tr>\n",
       "      <th>0</th>\n",
       "      <td>start</td>\n",
       "      <td>2015-12-01 00:00:00</td>\n",
       "      <td>-73.979942</td>\n",
       "      <td>40.765381</td>\n",
       "      <td>NaN</td>\n",
       "      <td>NaN</td>\n",
       "      <td>1.448928e+09</td>\n",
       "      <td>-8.235410e+06</td>\n",
       "      <td>4.977797e+06</td>\n",
       "    </tr>\n",
       "    <tr>\n",
       "      <th>1</th>\n",
       "      <td>stop</td>\n",
       "      <td>2015-12-01 00:00:00</td>\n",
       "      <td>-73.974548</td>\n",
       "      <td>40.791641</td>\n",
       "      <td>2.62</td>\n",
       "      <td>21.36</td>\n",
       "      <td>1.448928e+09</td>\n",
       "      <td>-8.234809e+06</td>\n",
       "      <td>4.981657e+06</td>\n",
       "    </tr>\n",
       "  </tbody>\n",
       "</table>\n",
       "</div>"
      ],
      "text/plain": [
       "  event_type            timestamp  longitude   latitude  trip_miles  \\\n",
       "0      start  2015-12-01 00:00:00 -73.979942  40.765381         NaN   \n",
       "1       stop  2015-12-01 00:00:00 -73.974548  40.791641        2.62   \n",
       "\n",
       "   trip_total  timestamp_seconds         utm_x         utm_y  \n",
       "0         NaN       1.448928e+09 -8.235410e+06  4.977797e+06  \n",
       "1       21.36       1.448928e+09 -8.234809e+06  4.981657e+06  "
      ]
     },
     "execution_count": 17,
     "metadata": {},
     "output_type": "execute_result"
    }
   ],
   "source": [
    "pd.DataFrame(itertools.islice(generate_taxi_events(input_file), 2))"
   ]
  },
  {
   "cell_type": "code",
   "execution_count": 79,
   "metadata": {},
   "outputs": [
    {
     "data": {
      "image/png": "[encoded data removed]",
      "text/plain": [
       "<Figure size 432x288 with 1 Axes>"
      ]
     },
     "metadata": {
      "needs_background": "light"
     },
     "output_type": "display_data"
    }
   ],
   "source": [
    "MERCATOR_X_RANGE = (-8240000, -8220000)\n",
    "\n",
    "fg, ax = plt.subplots()\n",
    "_ = ax.hist(\n",
    "    np.clip(events_df[\"utm_x\"], *MERCATOR_X_RANGE), bins=100, range=MERCATOR_X_RANGE\n",
    ")"
   ]
  },
  {
   "cell_type": "code",
   "execution_count": 19,
   "metadata": {},
   "outputs": [
    {
     "data": {
      "image/png": "[encoded data removed]",
      "text/plain": [
       "<Figure size 432x288 with 1 Axes>"
      ]
     },
     "metadata": {
      "needs_background": "light"
     },
     "output_type": "display_data"
    }
   ],
   "source": [
    "MERCATOR_Y_RANGE = (4950000, 5000000)\n",
    "\n",
    "fg, ax = plt.subplots()\n",
    "_ = ax.hist(\n",
    "    np.clip(events_df[\"utm_y\"], *MERCATOR_Y_RANGE), bins=100, range=MERCATOR_Y_RANGE\n",
    ")"
   ]
  },
  {
   "cell_type": "markdown",
   "metadata": {
    "colab_type": "text",
    "id": "JHv-dElW8IN9"
   },
   "source": [
    "## Workflow"
   ]
  },
  {
   "cell_type": "code",
   "execution_count": 37,
   "metadata": {},
   "outputs": [],
   "source": [
    "seconds_per_batch = (15 * 60)\n",
    "events_df[\"group_id\"] = (events_df[\"timestamp_seconds\"] // seconds_per_batch * seconds_per_batch).astype(np.int)"
   ]
  },
  {
   "cell_type": "code",
   "execution_count": 74,
   "metadata": {},
   "outputs": [
    {
     "data": {
      "text/plain": [
       "[u'#393b79', u'#5254a3', u'#6b6ecf']"
      ]
     },
     "execution_count": 74,
     "metadata": {},
     "output_type": "execute_result"
    }
   ],
   "source": [
    "import bokeh\n",
    "bokeh.palettes.d3['Category20b'][3]"
   ]
  },
  {
   "cell_type": "code",
   "execution_count": 80,
   "metadata": {},
   "outputs": [
    {
     "data": {
      "text/html": [
       "\n",
       "    <div class=\"bk-root\">\n",
       "        <a href=\"https://bokeh.pydata.org\" target=\"_blank\" class=\"bk-logo bk-logo-small bk-logo-notebook\"></a>\n",
       "        <span id=\"41072\">Loading BokehJS ...</span>\n",
       "    </div>"
      ]
     },
     "metadata": {},
     "output_type": "display_data"
    },
    {
     "data": {
      "application/javascript": [
       "\n",
       "(function(root) {\n",
       "  function now() {\n",
       "    return new Date();\n",
       "  }\n",
       "\n",
       "  var force = true;\n",
       "\n",
       "  if (typeof root._bokeh_onload_callbacks === \"undefined\" || force === true) {\n",
       "    root._bokeh_onload_callbacks = [];\n",
       "    root._bokeh_is_loading = undefined;\n",
       "  }\n",
       "\n",
       "  var JS_MIME_TYPE = 'application/javascript';\n",
       "  var HTML_MIME_TYPE = 'text/html';\n",
       "  var EXEC_MIME_TYPE = 'application/vnd.bokehjs_exec.v0+json';\n",
       "  var CLASS_NAME = 'output_bokeh rendered_html';\n",
       "\n",
       "  /**\n",
       "   * Render data to the DOM node\n",
       "   */\n",
       "  function render(props, node) {\n",
       "    var script = document.createElement(\"script\");\n",
       "    node.appendChild(script);\n",
       "  }\n",
       "\n",
       "  /**\n",
       "   * Handle when an output is cleared or removed\n",
       "   */\n",
       "  function handleClearOutput(event, handle) {\n",
       "    var cell = handle.cell;\n",
       "\n",
       "    var id = cell.output_area._bokeh_element_id;\n",
       "    var server_id = cell.output_area._bokeh_server_id;\n",
       "    // Clean up Bokeh references\n",
       "    if (id != null && id in Bokeh.index) {\n",
       "      Bokeh.index[id].model.document.clear();\n",
       "      delete Bokeh.index[id];\n",
       "    }\n",
       "\n",
       "    if (server_id !== undefined) {\n",
       "      // Clean up Bokeh references\n",
       "      var cmd = \"from bokeh.io.state import curstate; print(curstate().uuid_to_server['\" + server_id + \"'].get_sessions()[0].document.roots[0]._id)\";\n",
       "      cell.notebook.kernel.execute(cmd, {\n",
       "        iopub: {\n",
       "          output: function(msg) {\n",
       "            var id = msg.content.text.trim();\n",
       "            if (id in Bokeh.index) {\n",
       "              Bokeh.index[id].model.document.clear();\n",
       "              delete Bokeh.index[id];\n",
       "            }\n",
       "          }\n",
       "        }\n",
       "      });\n",
       "      // Destroy server and session\n",
       "      var cmd = \"import bokeh.io.notebook as ion; ion.destroy_server('\" + server_id + \"')\";\n",
       "      cell.notebook.kernel.execute(cmd);\n",
       "    }\n",
       "  }\n",
       "\n",
       "  /**\n",
       "   * Handle when a new output is added\n",
       "   */\n",
       "  function handleAddOutput(event, handle) {\n",
       "    var output_area = handle.output_area;\n",
       "    var output = handle.output;\n",
       "\n",
       "    // limit handleAddOutput to display_data with EXEC_MIME_TYPE content only\n",
       "    if ((output.output_type != \"display_data\") || (!output.data.hasOwnProperty(EXEC_MIME_TYPE))) {\n",
       "      return\n",
       "    }\n",
       "\n",
       "    var toinsert = output_area.element.find(\".\" + CLASS_NAME.split(' ')[0]);\n",
       "\n",
       "    if (output.metadata[EXEC_MIME_TYPE][\"id\"] !== undefined) {\n",
       "      toinsert[toinsert.length - 1].firstChild.textContent = output.data[JS_MIME_TYPE];\n",
       "      // store reference to embed id on output_area\n",
       "      output_area._bokeh_element_id = output.metadata[EXEC_MIME_TYPE][\"id\"];\n",
       "    }\n",
       "    if (output.metadata[EXEC_MIME_TYPE][\"server_id\"] !== undefined) {\n",
       "      var bk_div = document.createElement(\"div\");\n",
       "      bk_div.innerHTML = output.data[HTML_MIME_TYPE];\n",
       "      var script_attrs = bk_div.children[0].attributes;\n",
       "      for (var i = 0; i < script_attrs.length; i++) {\n",
       "        toinsert[toinsert.length - 1].firstChild.setAttribute(script_attrs[i].name, script_attrs[i].value);\n",
       "      }\n",
       "      // store reference to server id on output_area\n",
       "      output_area._bokeh_server_id = output.metadata[EXEC_MIME_TYPE][\"server_id\"];\n",
       "    }\n",
       "  }\n",
       "\n",
       "  function register_renderer(events, OutputArea) {\n",
       "\n",
       "    function append_mime(data, metadata, element) {\n",
       "      // create a DOM node to render to\n",
       "      var toinsert = this.create_output_subarea(\n",
       "        metadata,\n",
       "        CLASS_NAME,\n",
       "        EXEC_MIME_TYPE\n",
       "      );\n",
       "      this.keyboard_manager.register_events(toinsert);\n",
       "      // Render to node\n",
       "      var props = {data: data, metadata: metadata[EXEC_MIME_TYPE]};\n",
       "      render(props, toinsert[toinsert.length - 1]);\n",
       "      element.append(toinsert);\n",
       "      return toinsert\n",
       "    }\n",
       "\n",
       "    /* Handle when an output is cleared or removed */\n",
       "    events.on('clear_output.CodeCell', handleClearOutput);\n",
       "    events.on('delete.Cell', handleClearOutput);\n",
       "\n",
       "    /* Handle when a new output is added */\n",
       "    events.on('output_added.OutputArea', handleAddOutput);\n",
       "\n",
       "    /**\n",
       "     * Register the mime type and append_mime function with output_area\n",
       "     */\n",
       "    OutputArea.prototype.register_mime_type(EXEC_MIME_TYPE, append_mime, {\n",
       "      /* Is output safe? */\n",
       "      safe: true,\n",
       "      /* Index of renderer in `output_area.display_order` */\n",
       "      index: 0\n",
       "    });\n",
       "  }\n",
       "\n",
       "  // register the mime type if in Jupyter Notebook environment and previously unregistered\n",
       "  if (root.Jupyter !== undefined) {\n",
       "    var events = require('base/js/events');\n",
       "    var OutputArea = require('notebook/js/outputarea').OutputArea;\n",
       "\n",
       "    if (OutputArea.prototype.mime_types().indexOf(EXEC_MIME_TYPE) == -1) {\n",
       "      register_renderer(events, OutputArea);\n",
       "    }\n",
       "  }\n",
       "\n",
       "  \n",
       "  if (typeof (root._bokeh_timeout) === \"undefined\" || force === true) {\n",
       "    root._bokeh_timeout = Date.now() + 5000;\n",
       "    root._bokeh_failed_load = false;\n",
       "  }\n",
       "\n",
       "  var NB_LOAD_WARNING = {'data': {'text/html':\n",
       "     \"<div style='background-color: #fdd'>\\n\"+\n",
       "     \"<p>\\n\"+\n",
       "     \"BokehJS does not appear to have successfully loaded. If loading BokehJS from CDN, this \\n\"+\n",
       "     \"may be due to a slow or bad network connection. Possible fixes:\\n\"+\n",
       "     \"</p>\\n\"+\n",
       "     \"<ul>\\n\"+\n",
       "     \"<li>re-rerun `output_notebook()` to attempt to load from CDN again, or</li>\\n\"+\n",
       "     \"<li>use INLINE resources instead, as so:</li>\\n\"+\n",
       "     \"</ul>\\n\"+\n",
       "     \"<code>\\n\"+\n",
       "     \"from bokeh.resources import INLINE\\n\"+\n",
       "     \"output_notebook(resources=INLINE)\\n\"+\n",
       "     \"</code>\\n\"+\n",
       "     \"</div>\"}};\n",
       "\n",
       "  function display_loaded() {\n",
       "    var el = document.getElementById(\"41072\");\n",
       "    if (el != null) {\n",
       "      el.textContent = \"BokehJS is loading...\";\n",
       "    }\n",
       "    if (root.Bokeh !== undefined) {\n",
       "      if (el != null) {\n",
       "        el.textContent = \"BokehJS \" + root.Bokeh.version + \" successfully loaded.\";\n",
       "      }\n",
       "    } else if (Date.now() < root._bokeh_timeout) {\n",
       "      setTimeout(display_loaded, 100)\n",
       "    }\n",
       "  }\n",
       "\n",
       "\n",
       "  function run_callbacks() {\n",
       "    try {\n",
       "      root._bokeh_onload_callbacks.forEach(function(callback) {\n",
       "        if (callback != null)\n",
       "          callback();\n",
       "      });\n",
       "    } finally {\n",
       "      delete root._bokeh_onload_callbacks\n",
       "    }\n",
       "    console.debug(\"Bokeh: all callbacks have finished\");\n",
       "  }\n",
       "\n",
       "  function load_libs(css_urls, js_urls, callback) {\n",
       "    if (css_urls == null) css_urls = [];\n",
       "    if (js_urls == null) js_urls = [];\n",
       "\n",
       "    root._bokeh_onload_callbacks.push(callback);\n",
       "    if (root._bokeh_is_loading > 0) {\n",
       "      console.debug(\"Bokeh: BokehJS is being loaded, scheduling callback at\", now());\n",
       "      return null;\n",
       "    }\n",
       "    if (js_urls == null || js_urls.length === 0) {\n",
       "      run_callbacks();\n",
       "      return null;\n",
       "    }\n",
       "    console.debug(\"Bokeh: BokehJS not loaded, scheduling load and callback at\", now());\n",
       "    root._bokeh_is_loading = css_urls.length + js_urls.length;\n",
       "\n",
       "    function on_load() {\n",
       "      root._bokeh_is_loading--;\n",
       "      if (root._bokeh_is_loading === 0) {\n",
       "        console.debug(\"Bokeh: all BokehJS libraries/stylesheets loaded\");\n",
       "        run_callbacks()\n",
       "      }\n",
       "    }\n",
       "\n",
       "    function on_error() {\n",
       "      console.error(\"failed to load \" + url);\n",
       "    }\n",
       "\n",
       "    for (var i = 0; i < css_urls.length; i++) {\n",
       "      var url = css_urls[i];\n",
       "      const element = document.createElement(\"link\");\n",
       "      element.onload = on_load;\n",
       "      element.onerror = on_error;\n",
       "      element.rel = \"stylesheet\";\n",
       "      element.type = \"text/css\";\n",
       "      element.href = url;\n",
       "      console.debug(\"Bokeh: injecting link tag for BokehJS stylesheet: \", url);\n",
       "      document.body.appendChild(element);\n",
       "    }\n",
       "\n",
       "    for (var i = 0; i < js_urls.length; i++) {\n",
       "      var url = js_urls[i];\n",
       "      var element = document.createElement('script');\n",
       "      element.onload = on_load;\n",
       "      element.onerror = on_error;\n",
       "      element.async = false;\n",
       "      element.src = url;\n",
       "      console.debug(\"Bokeh: injecting script tag for BokehJS library: \", url);\n",
       "      document.head.appendChild(element);\n",
       "    }\n",
       "  };var element = document.getElementById(\"41072\");\n",
       "  if (element == null) {\n",
       "    console.error(\"Bokeh: ERROR: autoload.js configured with elementid '41072' but no matching script tag was found. \")\n",
       "    return false;\n",
       "  }\n",
       "\n",
       "  function inject_raw_css(css) {\n",
       "    const element = document.createElement(\"style\");\n",
       "    element.appendChild(document.createTextNode(css));\n",
       "    document.body.appendChild(element);\n",
       "  }\n",
       "\n",
       "  var js_urls = [\"https://cdn.pydata.org/bokeh/release/bokeh-1.2.0.min.js\", \"https://cdn.pydata.org/bokeh/release/bokeh-widgets-1.2.0.min.js\", \"https://cdn.pydata.org/bokeh/release/bokeh-tables-1.2.0.min.js\", \"https://cdn.pydata.org/bokeh/release/bokeh-gl-1.2.0.min.js\"];\n",
       "  var css_urls = [\"https://cdn.pydata.org/bokeh/release/bokeh-1.2.0.min.css\", \"https://cdn.pydata.org/bokeh/release/bokeh-widgets-1.2.0.min.css\", \"https://cdn.pydata.org/bokeh/release/bokeh-tables-1.2.0.min.css\"];\n",
       "\n",
       "  var inline_js = [\n",
       "    function(Bokeh) {\n",
       "      Bokeh.set_log_level(\"info\");\n",
       "    },\n",
       "    \n",
       "    function(Bokeh) {\n",
       "      \n",
       "    },\n",
       "    function(Bokeh) {} // ensure no trailing comma for IE\n",
       "  ];\n",
       "\n",
       "  function run_inline_js() {\n",
       "    \n",
       "    if ((root.Bokeh !== undefined) || (force === true)) {\n",
       "      for (var i = 0; i < inline_js.length; i++) {\n",
       "        inline_js[i].call(root, root.Bokeh);\n",
       "      }if (force === true) {\n",
       "        display_loaded();\n",
       "      }} else if (Date.now() < root._bokeh_timeout) {\n",
       "      setTimeout(run_inline_js, 100);\n",
       "    } else if (!root._bokeh_failed_load) {\n",
       "      console.log(\"Bokeh: BokehJS failed to load within specified timeout.\");\n",
       "      root._bokeh_failed_load = true;\n",
       "    } else if (force !== true) {\n",
       "      var cell = $(document.getElementById(\"41072\")).parents('.cell').data().cell;\n",
       "      cell.output_area.append_execute_result(NB_LOAD_WARNING)\n",
       "    }\n",
       "\n",
       "  }\n",
       "\n",
       "  if (root._bokeh_is_loading === 0) {\n",
       "    console.debug(\"Bokeh: BokehJS loaded, going straight to plotting\");\n",
       "    run_inline_js();\n",
       "  } else {\n",
       "    load_libs(css_urls, js_urls, function() {\n",
       "      console.debug(\"Bokeh: BokehJS plotting callback run at\", now());\n",
       "      run_inline_js();\n",
       "    });\n",
       "  }\n",
       "}(window));"
      ],
      "application/vnd.bokehjs_load.v0+json": "\n(function(root) {\n  function now() {\n    return new Date();\n  }\n\n  var force = true;\n\n  if (typeof root._bokeh_onload_callbacks === \"undefined\" || force === true) {\n    root._bokeh_onload_callbacks = [];\n    root._bokeh_is_loading = undefined;\n  }\n\n  \n\n  \n  if (typeof (root._bokeh_timeout) === \"undefined\" || force === true) {\n    root._bokeh_timeout = Date.now() + 5000;\n    root._bokeh_failed_load = false;\n  }\n\n  var NB_LOAD_WARNING = {'data': {'text/html':\n     \"<div style='background-color: #fdd'>\\n\"+\n     \"<p>\\n\"+\n     \"BokehJS does not appear to have successfully loaded. If loading BokehJS from CDN, this \\n\"+\n     \"may be due to a slow or bad network connection. Possible fixes:\\n\"+\n     \"</p>\\n\"+\n     \"<ul>\\n\"+\n     \"<li>re-rerun `output_notebook()` to attempt to load from CDN again, or</li>\\n\"+\n     \"<li>use INLINE resources instead, as so:</li>\\n\"+\n     \"</ul>\\n\"+\n     \"<code>\\n\"+\n     \"from bokeh.resources import INLINE\\n\"+\n     \"output_notebook(resources=INLINE)\\n\"+\n     \"</code>\\n\"+\n     \"</div>\"}};\n\n  function display_loaded() {\n    var el = document.getElementById(\"41072\");\n    if (el != null) {\n      el.textContent = \"BokehJS is loading...\";\n    }\n    if (root.Bokeh !== undefined) {\n      if (el != null) {\n        el.textContent = \"BokehJS \" + root.Bokeh.version + \" successfully loaded.\";\n      }\n    } else if (Date.now() < root._bokeh_timeout) {\n      setTimeout(display_loaded, 100)\n    }\n  }\n\n\n  function run_callbacks() {\n    try {\n      root._bokeh_onload_callbacks.forEach(function(callback) {\n        if (callback != null)\n          callback();\n      });\n    } finally {\n      delete root._bokeh_onload_callbacks\n    }\n    console.debug(\"Bokeh: all callbacks have finished\");\n  }\n\n  function load_libs(css_urls, js_urls, callback) {\n    if (css_urls == null) css_urls = [];\n    if (js_urls == null) js_urls = [];\n\n    root._bokeh_onload_callbacks.push(callback);\n    if (root._bokeh_is_loading > 0) {\n      console.debug(\"Bokeh: BokehJS is being loaded, scheduling callback at\", now());\n      return null;\n    }\n    if (js_urls == null || js_urls.length === 0) {\n      run_callbacks();\n      return null;\n    }\n    console.debug(\"Bokeh: BokehJS not loaded, scheduling load and callback at\", now());\n    root._bokeh_is_loading = css_urls.length + js_urls.length;\n\n    function on_load() {\n      root._bokeh_is_loading--;\n      if (root._bokeh_is_loading === 0) {\n        console.debug(\"Bokeh: all BokehJS libraries/stylesheets loaded\");\n        run_callbacks()\n      }\n    }\n\n    function on_error() {\n      console.error(\"failed to load \" + url);\n    }\n\n    for (var i = 0; i < css_urls.length; i++) {\n      var url = css_urls[i];\n      const element = document.createElement(\"link\");\n      element.onload = on_load;\n      element.onerror = on_error;\n      element.rel = \"stylesheet\";\n      element.type = \"text/css\";\n      element.href = url;\n      console.debug(\"Bokeh: injecting link tag for BokehJS stylesheet: \", url);\n      document.body.appendChild(element);\n    }\n\n    for (var i = 0; i < js_urls.length; i++) {\n      var url = js_urls[i];\n      var element = document.createElement('script');\n      element.onload = on_load;\n      element.onerror = on_error;\n      element.async = false;\n      element.src = url;\n      console.debug(\"Bokeh: injecting script tag for BokehJS library: \", url);\n      document.head.appendChild(element);\n    }\n  };var element = document.getElementById(\"41072\");\n  if (element == null) {\n    console.error(\"Bokeh: ERROR: autoload.js configured with elementid '41072' but no matching script tag was found. \")\n    return false;\n  }\n\n  function inject_raw_css(css) {\n    const element = document.createElement(\"style\");\n    element.appendChild(document.createTextNode(css));\n    document.body.appendChild(element);\n  }\n\n  var js_urls = [\"https://cdn.pydata.org/bokeh/release/bokeh-1.2.0.min.js\", \"https://cdn.pydata.org/bokeh/release/bokeh-widgets-1.2.0.min.js\", \"https://cdn.pydata.org/bokeh/release/bokeh-tables-1.2.0.min.js\", \"https://cdn.pydata.org/bokeh/release/bokeh-gl-1.2.0.min.js\"];\n  var css_urls = [\"https://cdn.pydata.org/bokeh/release/bokeh-1.2.0.min.css\", \"https://cdn.pydata.org/bokeh/release/bokeh-widgets-1.2.0.min.css\", \"https://cdn.pydata.org/bokeh/release/bokeh-tables-1.2.0.min.css\"];\n\n  var inline_js = [\n    function(Bokeh) {\n      Bokeh.set_log_level(\"info\");\n    },\n    \n    function(Bokeh) {\n      \n    },\n    function(Bokeh) {} // ensure no trailing comma for IE\n  ];\n\n  function run_inline_js() {\n    \n    if ((root.Bokeh !== undefined) || (force === true)) {\n      for (var i = 0; i < inline_js.length; i++) {\n        inline_js[i].call(root, root.Bokeh);\n      }if (force === true) {\n        display_loaded();\n      }} else if (Date.now() < root._bokeh_timeout) {\n      setTimeout(run_inline_js, 100);\n    } else if (!root._bokeh_failed_load) {\n      console.log(\"Bokeh: BokehJS failed to load within specified timeout.\");\n      root._bokeh_failed_load = true;\n    } else if (force !== true) {\n      var cell = $(document.getElementById(\"41072\")).parents('.cell').data().cell;\n      cell.output_area.append_execute_result(NB_LOAD_WARNING)\n    }\n\n  }\n\n  if (root._bokeh_is_loading === 0) {\n    console.debug(\"Bokeh: BokehJS loaded, going straight to plotting\");\n    run_inline_js();\n  } else {\n    load_libs(css_urls, js_urls, function() {\n      console.debug(\"Bokeh: BokehJS plotting callback run at\", now());\n      run_inline_js();\n    });\n  }\n}(window));"
     },
     "metadata": {},
     "output_type": "display_data"
    },
    {
     "data": {
      "text/html": [
       "\n",
       "\n",
       "\n",
       "\n",
       "\n",
       "\n",
       "  <div class=\"bk-root\" id=\"c2c3b2c9-4d79-450b-b740-887ec5ccd5f6\" data-root-id=\"41074\"></div>\n"
      ]
     },
     "metadata": {},
     "output_type": "display_data"
    },
    {
     "data": {
      "application/javascript": [
       "(function(root) {\n",
       "  function embed_document(root) {\n",
       "    \n",
       "  var docs_json = {\"47f865cc-13bd-4eae-9ff9-7aed90ef5b2a\":{\"roots\":{\"references\":[{\"attributes\":{\"callback\":null,\"data\":{\"event_type\":[],\"x\":[],\"y\":[]},\"selected\":{\"id\":\"41487\",\"type\":\"Selection\"},\"selection_policy\":{\"id\":\"41488\",\"type\":\"UnionRenderers\"}},\"id\":\"41073\",\"type\":\"ColumnDataSource\"},{\"attributes\":{\"fill_alpha\":{\"value\":0.1},\"fill_color\":{\"value\":\"#1f77b4\"},\"line_alpha\":{\"value\":0.1},\"line_color\":{\"value\":\"#1f77b4\"},\"x\":{\"field\":\"x\"},\"y\":{\"field\":\"y\"}},\"id\":\"41125\",\"type\":\"Circle\"},{\"attributes\":{},\"id\":\"41102\",\"type\":\"WheelZoomTool\"},{\"attributes\":{\"label\":{\"value\":\"stop\"},\"renderers\":[{\"id\":\"41131\",\"type\":\"GlyphRenderer\"}]},\"id\":\"41135\",\"type\":\"LegendItem\"},{\"attributes\":{\"callback\":null,\"end\":5000000,\"start\":4950000},\"id\":\"41077\",\"type\":\"Range1d\"},{\"attributes\":{\"fill_alpha\":{\"value\":0.8},\"fill_color\":{\"field\":\"event_type\",\"transform\":{\"id\":\"41117\",\"type\":\"CategoricalColorMapper\"}},\"line_color\":{\"field\":\"event_type\",\"transform\":{\"id\":\"41117\",\"type\":\"CategoricalColorMapper\"}},\"size\":{\"units\":\"screen\",\"value\":2},\"x\":{\"field\":\"x\"},\"y\":{\"field\":\"y\"}},\"id\":\"41119\",\"type\":\"Circle\"},{\"attributes\":{\"callback\":null,\"end\":-8220000,\"start\":-8240000},\"id\":\"41075\",\"type\":\"Range1d\"},{\"attributes\":{\"below\":[{\"id\":\"41083\",\"type\":\"MercatorAxis\"}],\"center\":[{\"id\":\"41091\",\"type\":\"Grid\"},{\"id\":\"41100\",\"type\":\"Grid\"},{\"id\":\"41133\",\"type\":\"Legend\"}],\"left\":[{\"id\":\"41092\",\"type\":\"MercatorAxis\"}],\"renderers\":[{\"id\":\"41115\",\"type\":\"TileRenderer\"},{\"id\":\"41121\",\"type\":\"GlyphRenderer\"},{\"id\":\"41126\",\"type\":\"GlyphRenderer\"},{\"id\":\"41131\",\"type\":\"GlyphRenderer\"}],\"title\":{\"id\":\"41482\",\"type\":\"Title\"},\"toolbar\":{\"id\":\"41107\",\"type\":\"Toolbar\"},\"x_range\":{\"id\":\"41075\",\"type\":\"Range1d\"},\"x_scale\":{\"id\":\"41079\",\"type\":\"LinearScale\"},\"y_range\":{\"id\":\"41077\",\"type\":\"Range1d\"},\"y_scale\":{\"id\":\"41081\",\"type\":\"LinearScale\"}},\"id\":\"41074\",\"subtype\":\"Figure\",\"type\":\"Plot\"},{\"attributes\":{\"attribution\":\"&copy; <a href=\\\"https://www.openstreetmap.org/copyright\\\">OpenStreetMap</a> contributors,&copy; <a href=\\\"https://cartodb.com/attributions\\\">CartoDB</a>\",\"url\":\"https://tiles.basemaps.cartocdn.com/light_all/{z}/{x}/{y}.png\"},\"id\":\"41114\",\"type\":\"WMTSTileSource\"},{\"attributes\":{\"tile_source\":{\"id\":\"41114\",\"type\":\"WMTSTileSource\"}},\"id\":\"41115\",\"type\":\"TileRenderer\"},{\"attributes\":{},\"id\":\"41079\",\"type\":\"LinearScale\"},{\"attributes\":{\"factors\":[\"start\",\"stop\"],\"palette\":[\"#5254a3\",\"#ce6dbd\"]},\"id\":\"41117\",\"type\":\"CategoricalColorMapper\"},{\"attributes\":{\"source\":{\"id\":\"41123\",\"type\":\"ColumnDataSource\"}},\"id\":\"41127\",\"type\":\"CDSView\"},{\"attributes\":{\"fill_alpha\":{\"value\":0.1},\"fill_color\":{\"value\":\"#1f77b4\"},\"line_alpha\":{\"value\":0.1},\"line_color\":{\"value\":\"#1f77b4\"},\"x\":{\"field\":\"x\"},\"y\":{\"field\":\"y\"}},\"id\":\"41130\",\"type\":\"Circle\"},{\"attributes\":{},\"id\":\"41487\",\"type\":\"Selection\"},{\"attributes\":{\"data_source\":{\"id\":\"41123\",\"type\":\"ColumnDataSource\"},\"glyph\":{\"id\":\"41124\",\"type\":\"Circle\"},\"hover_glyph\":null,\"muted_glyph\":null,\"nonselection_glyph\":{\"id\":\"41125\",\"type\":\"Circle\"},\"selection_glyph\":null,\"view\":{\"id\":\"41127\",\"type\":\"CDSView\"}},\"id\":\"41126\",\"type\":\"GlyphRenderer\"},{\"attributes\":{\"text\":\"\"},\"id\":\"41482\",\"type\":\"Title\"},{\"attributes\":{\"label\":{\"value\":\"start\"},\"renderers\":[{\"id\":\"41126\",\"type\":\"GlyphRenderer\"}]},\"id\":\"41134\",\"type\":\"LegendItem\"},{\"attributes\":{\"data_source\":{\"id\":\"41073\",\"type\":\"ColumnDataSource\"},\"glyph\":{\"id\":\"41119\",\"type\":\"Circle\"},\"hover_glyph\":null,\"muted_glyph\":null,\"nonselection_glyph\":{\"id\":\"41120\",\"type\":\"Circle\"},\"selection_glyph\":null,\"view\":{\"id\":\"41122\",\"type\":\"CDSView\"}},\"id\":\"41121\",\"type\":\"GlyphRenderer\"},{\"attributes\":{},\"id\":\"41488\",\"type\":\"UnionRenderers\"},{\"attributes\":{\"fill_alpha\":{\"value\":0.1},\"fill_color\":{\"value\":\"#1f77b4\"},\"line_alpha\":{\"value\":0.1},\"line_color\":{\"value\":\"#1f77b4\"},\"size\":{\"units\":\"screen\",\"value\":2},\"x\":{\"field\":\"x\"},\"y\":{\"field\":\"y\"}},\"id\":\"41120\",\"type\":\"Circle\"},{\"attributes\":{\"formatter\":{\"id\":\"41086\",\"type\":\"MercatorTickFormatter\"},\"ticker\":{\"id\":\"41084\",\"type\":\"MercatorTicker\"}},\"id\":\"41083\",\"type\":\"MercatorAxis\"},{\"attributes\":{},\"id\":\"41081\",\"type\":\"LinearScale\"},{\"attributes\":{\"dimension\":\"lon\"},\"id\":\"41086\",\"type\":\"MercatorTickFormatter\"},{\"attributes\":{},\"id\":\"41105\",\"type\":\"ResetTool\"},{\"attributes\":{\"dimension\":\"lon\"},\"id\":\"41084\",\"type\":\"MercatorTicker\"},{\"attributes\":{\"source\":{\"id\":\"41073\",\"type\":\"ColumnDataSource\"}},\"id\":\"41122\",\"type\":\"CDSView\"},{\"attributes\":{\"data_source\":{\"id\":\"41128\",\"type\":\"ColumnDataSource\"},\"glyph\":{\"id\":\"41129\",\"type\":\"Circle\"},\"hover_glyph\":null,\"muted_glyph\":null,\"nonselection_glyph\":{\"id\":\"41130\",\"type\":\"Circle\"},\"selection_glyph\":null,\"view\":{\"id\":\"41132\",\"type\":\"CDSView\"}},\"id\":\"41131\",\"type\":\"GlyphRenderer\"},{\"attributes\":{},\"id\":\"41489\",\"type\":\"Selection\"},{\"attributes\":{\"overlay\":{\"id\":\"41493\",\"type\":\"BoxAnnotation\"}},\"id\":\"41103\",\"type\":\"BoxZoomTool\"},{\"attributes\":{\"fill_color\":{\"value\":\"#5254a3\"},\"line_color\":{\"value\":\"#5254a3\"},\"x\":{\"field\":\"x\"},\"y\":{\"field\":\"y\"}},\"id\":\"41124\",\"type\":\"Circle\"},{\"attributes\":{},\"id\":\"41101\",\"type\":\"PanTool\"},{\"attributes\":{\"dimension\":1,\"ticker\":{\"id\":\"41093\",\"type\":\"MercatorTicker\"}},\"id\":\"41100\",\"type\":\"Grid\"},{\"attributes\":{\"active_drag\":\"auto\",\"active_inspect\":\"auto\",\"active_multi\":null,\"active_scroll\":\"auto\",\"active_tap\":\"auto\",\"tools\":[{\"id\":\"41101\",\"type\":\"PanTool\"},{\"id\":\"41102\",\"type\":\"WheelZoomTool\"},{\"id\":\"41103\",\"type\":\"BoxZoomTool\"},{\"id\":\"41104\",\"type\":\"SaveTool\"},{\"id\":\"41105\",\"type\":\"ResetTool\"},{\"id\":\"41106\",\"type\":\"HelpTool\"}]},\"id\":\"41107\",\"type\":\"Toolbar\"},{\"attributes\":{},\"id\":\"41106\",\"type\":\"HelpTool\"},{\"attributes\":{\"callback\":null,\"data\":{\"x\":[],\"y\":[]},\"selected\":{\"id\":\"41489\",\"type\":\"Selection\"},\"selection_policy\":{\"id\":\"41490\",\"type\":\"UnionRenderers\"}},\"id\":\"41123\",\"type\":\"ColumnDataSource\"},{\"attributes\":{},\"id\":\"41104\",\"type\":\"SaveTool\"},{\"attributes\":{\"fill_color\":{\"value\":\"#ce6dbd\"},\"line_color\":{\"value\":\"#ce6dbd\"},\"x\":{\"field\":\"x\"},\"y\":{\"field\":\"y\"}},\"id\":\"41129\",\"type\":\"Circle\"},{\"attributes\":{\"callback\":null,\"data\":{\"x\":[],\"y\":[]},\"selected\":{\"id\":\"41491\",\"type\":\"Selection\"},\"selection_policy\":{\"id\":\"41492\",\"type\":\"UnionRenderers\"}},\"id\":\"41128\",\"type\":\"ColumnDataSource\"},{\"attributes\":{\"source\":{\"id\":\"41128\",\"type\":\"ColumnDataSource\"}},\"id\":\"41132\",\"type\":\"CDSView\"},{\"attributes\":{},\"id\":\"41491\",\"type\":\"Selection\"},{\"attributes\":{},\"id\":\"41490\",\"type\":\"UnionRenderers\"},{\"attributes\":{\"bottom_units\":\"screen\",\"fill_alpha\":{\"value\":0.5},\"fill_color\":{\"value\":\"lightgrey\"},\"left_units\":\"screen\",\"level\":\"overlay\",\"line_alpha\":{\"value\":1.0},\"line_color\":{\"value\":\"black\"},\"line_dash\":[4,4],\"line_width\":{\"value\":2},\"render_mode\":\"css\",\"right_units\":\"screen\",\"top_units\":\"screen\"},\"id\":\"41493\",\"type\":\"BoxAnnotation\"},{\"attributes\":{},\"id\":\"41492\",\"type\":\"UnionRenderers\"},{\"attributes\":{\"ticker\":{\"id\":\"41084\",\"type\":\"MercatorTicker\"}},\"id\":\"41091\",\"type\":\"Grid\"},{\"attributes\":{\"dimension\":\"lat\"},\"id\":\"41093\",\"type\":\"MercatorTicker\"},{\"attributes\":{\"formatter\":{\"id\":\"41095\",\"type\":\"MercatorTickFormatter\"},\"ticker\":{\"id\":\"41093\",\"type\":\"MercatorTicker\"}},\"id\":\"41092\",\"type\":\"MercatorAxis\"},{\"attributes\":{\"dimension\":\"lat\"},\"id\":\"41095\",\"type\":\"MercatorTickFormatter\"},{\"attributes\":{\"items\":[{\"id\":\"41134\",\"type\":\"LegendItem\"},{\"id\":\"41135\",\"type\":\"LegendItem\"}]},\"id\":\"41133\",\"type\":\"Legend\"}],\"root_ids\":[\"41074\"]},\"title\":\"Bokeh Application\",\"version\":\"1.2.0\"}};\n",
       "  var render_items = [{\"docid\":\"47f865cc-13bd-4eae-9ff9-7aed90ef5b2a\",\"notebook_comms_target\":\"41494\",\"roots\":{\"41074\":\"c2c3b2c9-4d79-450b-b740-887ec5ccd5f6\"}}];\n",
       "  root.Bokeh.embed.embed_items_notebook(docs_json, render_items);\n",
       "\n",
       "  }\n",
       "  if (root.Bokeh !== undefined) {\n",
       "    embed_document(root);\n",
       "  } else {\n",
       "    var attempts = 0;\n",
       "    var timer = setInterval(function(root) {\n",
       "      if (root.Bokeh !== undefined) {\n",
       "        embed_document(root);\n",
       "        clearInterval(timer);\n",
       "      }\n",
       "      attempts++;\n",
       "      if (attempts > 100) {\n",
       "        console.log(\"Bokeh: ERROR: Unable to run BokehJS code because BokehJS library is missing\");\n",
       "        clearInterval(timer);\n",
       "      }\n",
       "    }, 10, root)\n",
       "  }\n",
       "})(window);"
      ],
      "application/vnd.bokehjs_exec.v0+json": ""
     },
     "metadata": {
      "application/vnd.bokehjs_exec.v0+json": {
       "id": "41074"
      }
     },
     "output_type": "display_data"
    },
    {
     "ename": "KeyboardInterrupt",
     "evalue": "",
     "output_type": "error",
     "traceback": [
      "\u001b[0;31m---------------------------------------------------------------------------\u001b[0m",
      "\u001b[0;31mKeyboardInterrupt\u001b[0m                         Traceback (most recent call last)",
      "\u001b[0;32m<ipython-input-80-1e1a4e9ff1a7>\u001b[0m in \u001b[0;36m<module>\u001b[0;34m()\u001b[0m\n\u001b[1;32m     76\u001b[0m     }\n\u001b[1;32m     77\u001b[0m     \u001b[0mpush_notebook\u001b[0m\u001b[0;34m(\u001b[0m\u001b[0mhandle\u001b[0m\u001b[0;34m=\u001b[0m\u001b[0mhandle\u001b[0m\u001b[0;34m)\u001b[0m\u001b[0;34m\u001b[0m\u001b[0m\n\u001b[0;32m---> 78\u001b[0;31m     \u001b[0mtime\u001b[0m\u001b[0;34m.\u001b[0m\u001b[0msleep\u001b[0m\u001b[0;34m(\u001b[0m\u001b[0;36m0.2\u001b[0m\u001b[0;34m)\u001b[0m\u001b[0;34m\u001b[0m\u001b[0m\n\u001b[0m",
      "\u001b[0;31mKeyboardInterrupt\u001b[0m: "
     ]
    }
   ],
   "source": [
    "from bokeh.core.properties import value\n",
    "from bokeh.io import output_notebook, push_notebook, show\n",
    "from bokeh.layouts import row\n",
    "from bokeh.models import ColumnDataSource, Label, LabelSet, Legend, LegendItem, Range1d\n",
    "from bokeh.models.annotations import Title\n",
    "from bokeh.plotting import figure, output_file, show\n",
    "from bokeh.tile_providers import Vendors, get_provider\n",
    "from bokeh.transform import factor_cmap, factor_mark\n",
    "\n",
    "output_notebook()\n",
    "\n",
    "if GOOGLE_COLAB:\n",
    "    print(\"Interactive plot does not work on colab yet!\")\n",
    "\n",
    "\n",
    "# Colormap\n",
    "# cmap = bokeh.palettes.d3[\"Category10\"][4]\n",
    "cmap = bokeh.palettes.d3[\"Category20b\"][20]\n",
    "colors = [cmap[1], cmap[-2]]\n",
    "\n",
    "# Source of data\n",
    "source = ColumnDataSource(data=dict(x=[], y=[], event_type=[]))\n",
    "\n",
    "# Background map\n",
    "fg = figure(\n",
    "    x_range=MERCATOR_X_RANGE,\n",
    "    y_range=MERCATOR_Y_RANGE,\n",
    "    x_axis_type=\"mercator\",\n",
    "    y_axis_type=\"mercator\",\n",
    "    title_location=\"above\",\n",
    "    plot_height=600,\n",
    ")\n",
    "fg.add_tile(get_provider(Vendors.CARTODBPOSITRON))\n",
    "\n",
    "# Scatterplot\n",
    "fg.circle(\n",
    "    x=\"x\",\n",
    "    y=\"y\",\n",
    "    source=source,\n",
    "    size=2,\n",
    "    color=factor_cmap(\"event_type\", colors, [\"start\", \"stop\"]),\n",
    "    fill_alpha=0.8,\n",
    "    #     legend=value(\"start\", \"stop\"),\n",
    "    #     legend=[value(x) for x in [\"start\", \"stop\"]],\n",
    ")\n",
    "\n",
    "# Legend\n",
    "start = fg.circle(x=[], y=[], color=colors[0])\n",
    "stop = fg.circle(x=[], y=[], color=colors[1])\n",
    "legend = Legend(items=[(\"start\", [start]), (\"stop\", [stop])])\n",
    "fg.add_layout(legend)\n",
    "\n",
    "# Updates\n",
    "handle = show(fg, notebook_handle=True)\n",
    "\n",
    "days_of_week = [\n",
    "    \"Monday\",\n",
    "    \"Tuesday\",\n",
    "    \"Wednesday\",\n",
    "    \"Thursday\",\n",
    "    \"Friday\",\n",
    "    \"Saturday\",\n",
    "    \"Sunday\",\n",
    "]\n",
    "for index, gp in events_df.sample(frac=0.1).groupby([\"group_id\"]):\n",
    "    dt = datetime.utcfromtimestamp(index).replace(\n",
    "        tzinfo=pytz.UTC\n",
    "    )  # .astimezone(pytz.timezone('US/Eastern'))\n",
    "    dt_str = days_of_week[dt.weekday()] + \" \" + dt.strftime(\"%b %d %Y %I:%M:%S %p\")\n",
    "    fg.title.text = dt_str\n",
    "    fg.title.align = \"center\"\n",
    "    source.data = {\n",
    "        \"x\": gp[\"utm_x\"].values,\n",
    "        \"y\": gp[\"utm_y\"].values,\n",
    "        \"event_type\": gp[\"event_type\"].values,\n",
    "    }\n",
    "    push_notebook(handle=handle)\n",
    "    time.sleep(0.2)"
   ]
  },
  {
   "cell_type": "markdown",
   "metadata": {},
   "source": [
    "### Write dataset to cache"
   ]
  },
  {
   "cell_type": "code",
   "execution_count": null,
   "metadata": {},
   "outputs": [],
   "source": [
    "sub_client = pubsub.SubscriberClient()"
   ]
  },
  {
   "cell_type": "code",
   "execution_count": null,
   "metadata": {},
   "outputs": [],
   "source": [
    "subscription_name = \"projects/{}/subscriptions/taxirides-realtime-sub\".format(project_id)\n",
    "\n",
    "try:\n",
    "    sub_client.create_subscription(\n",
    "        subscription_name,\n",
    "        \"projects/pubsub-public-data/topics/taxirides-realtime\",\n",
    "    )\n",
    "except gexc.AlreadyExists:\n",
    "    sub_client.delete_subscription(subscription_name)\n",
    "    sub_client.create_subscription(\n",
    "        subscription_name,\n",
    "        \"projects/pubsub-public-data/topics/taxirides-realtime\",\n",
    "    )"
   ]
  },
  {
   "cell_type": "markdown",
   "metadata": {},
   "source": [
    "### Process data from subscription to cache"
   ]
  },
  {
   "cell_type": "code",
   "execution_count": null,
   "metadata": {},
   "outputs": [],
   "source": [
    "LONGITUDE_RANGE = (-74.747, -73.969)  # (-74.07, -73.90)\n",
    "LATITUDE_RANGE = (40.699, 40.720)  # (40.73, 40.77)"
   ]
  },
  {
   "cell_type": "code",
   "execution_count": null,
   "metadata": {},
   "outputs": [],
   "source": [
    "x_min, y_min = geographic_to_utm(longitude=LONGITUDE_RANGE[0], latitude=LATITUDE_RANGE[0])\n",
    "x_max, y_max = geographic_to_utm(longitude=LONGITUDE_RANGE[1], latitude=LATITUDE_RANGE[1])\n",
    "\n",
    "MERCATOR_X_RANGE = (x_min, x_max)\n",
    "MERCATOR_Y_RANGE = (y_min, y_max)"
   ]
  },
  {
   "cell_type": "code",
   "execution_count": null,
   "metadata": {},
   "outputs": [],
   "source": [
    "raise Exception"
   ]
  },
  {
   "cell_type": "code",
   "execution_count": null,
   "metadata": {},
   "outputs": [],
   "source": [
    "try:\n",
    "    p_result.cancel()\n",
    "except NameError:\n",
    "    pass"
   ]
  },
  {
   "cell_type": "code",
   "execution_count": null,
   "metadata": {},
   "outputs": [],
   "source": [
    "temp = caching.PubSubBasedCache(\n",
    "    \"projects/{}/topics/temp-2\".format(project_id), mode=\"overwrite\"\n",
    ")"
   ]
  },
  {
   "cell_type": "code",
   "execution_count": null,
   "metadata": {},
   "outputs": [],
   "source": [
    "class ToList(beam.PTransform):\n",
    "  \"\"\"A global CombineFn that condenses a PCollection into a single list.\"\"\"\n",
    "\n",
    "  def __init__(self, label='ToList'):  # pylint: disable=useless-super-delegation\n",
    "    super(ToList, self).__init__(label)\n",
    "\n",
    "  def expand(self, pcoll):\n",
    "    return pcoll | self.label >> beam.CombineGlobally(combiners.ToListCombineFn()).without_defaults()\n"
   ]
  },
  {
   "cell_type": "code",
   "execution_count": null,
   "metadata": {},
   "outputs": [],
   "source": [
    "class BuildRecordFn(beam.DoFn):\n",
    "    def __init__(self):\n",
    "        super(BuildRecordFn, self).__init__()\n",
    "\n",
    "    def process(self, elements, window=beam.DoFn.WindowParam):\n",
    "        # window_start = window.start.to_utc_datetime()\n",
    "        window_end = window.end.to_utc_datetime()\n",
    "        return [(window_end, elements)]"
   ]
  },
  {
   "cell_type": "code",
   "execution_count": null,
   "metadata": {},
   "outputs": [],
   "source": [
    "p = beam.Pipeline(runner=BundleBasedDirectRunner(), options=options)\n",
    "\n",
    "out = (\n",
    "    p\n",
    "    | \"Read\" >> beam.io.ReadFromPubSub(subscription=subscription_name, with_attributes=True)\n",
    "#     | \"echo\" >> beam.Map(lambda e: print(e) or e)\n",
    "    | \"Decode PubSub message\" >> beam.ParDo(DecodeTaxiMessage())\n",
    "    | \"Load JSON\" >> beam.Map(load_json)\n",
    "    | \"Filter coords\" >> beam.ParDo(SelectWithinGeographicRange(LONGITUDE_RANGE, LATITUDE_RANGE))\n",
    "    | \"Add UTM coords\" >> beam.Map(add_mercator_coords)\n",
    "    | \"Window\" >> beam.WindowInto(window.FixedWindows(2 * 60))\n",
    "    | \"Combine\" >> ToList()\n",
    "    | 'AddWindowEndTimestamp' >> beam.ParDo(BuildRecordFn())\n",
    "#     | \"echo\" >> beam.Map(lambda e: print(e) or e)\n",
    "    | \"Write\" >> temp.writer()\n",
    ")\n",
    "\n",
    "p_result = p.run()"
   ]
  },
  {
   "cell_type": "code",
   "execution_count": null,
   "metadata": {},
   "outputs": [],
   "source": [
    "for row in itertools.islice(temp.read(), 2):\n",
    "    print(row)"
   ]
  },
  {
   "cell_type": "code",
   "execution_count": null,
   "metadata": {},
   "outputs": [],
   "source": [
    "row[0].strftime(\"%Y-%m-%d %H:%M:%S\")"
   ]
  },
  {
   "cell_type": "markdown",
   "metadata": {},
   "source": [
    "### Interactive dashboard"
   ]
  },
  {
   "cell_type": "code",
   "execution_count": null,
   "metadata": {},
   "outputs": [],
   "source": [
    "import logging\n",
    "\n",
    "logging.getLogger(\"google.auth._default\").setLevel(logging.CRITICAL)"
   ]
  },
  {
   "cell_type": "code",
   "execution_count": null,
   "metadata": {},
   "outputs": [],
   "source": [
    "from bokeh.io import push_notebook, show, output_notebook\n",
    "from bokeh.layouts import row\n",
    "from bokeh.models import ColumnDataSource\n",
    "from bokeh.plotting import figure, show\n",
    "from bokeh.tile_providers import Vendors, get_provider\n",
    "from bokeh.models.annotations import Title"
   ]
  },
  {
   "cell_type": "code",
   "execution_count": null,
   "metadata": {},
   "outputs": [],
   "source": [
    "bokeh.plotting."
   ]
  },
  {
   "cell_type": "code",
   "execution_count": null,
   "metadata": {},
   "outputs": [],
   "source": [
    "output_notebook()\n",
    "\n",
    "if GOOGLE_COLAB:\n",
    "    print(\"Interactive plot does not work on colab yet!\")\n",
    "\n",
    "# range bounds supplied in web mercator coordinates\n",
    "fig = figure(\n",
    "    x_range=MERCATOR_X_RANGE,\n",
    "    y_range=MERCATOR_Y_RANGE,\n",
    "    x_axis_type=\"mercator\",\n",
    "    y_axis_type=\"mercator\",\n",
    "#     plot_height=600,\n",
    ")\n",
    "fig.add_tile(get_provider(Vendors.CARTODBPOSITRON))\n",
    "\n",
    "source = ColumnDataSource(data=dict(x=[], y=[]))\n",
    "\n",
    "fig.circle(x=\"x\", y=\"y\", size=2, fill_color=\"blue\", fill_alpha=0.8, source=source)\n",
    "\n",
    "handle = show(fig, notebook_handle=True)\n",
    "\n",
    "while True:\n",
    "    for i, row in enumerate(temp.read()):\n",
    "        title = Title()\n",
    "        title.text = row[0].strftime(\"%Y-%m-%d %H:%M:%S\")\n",
    "        fig.title = title\n",
    "        source.stream({\"x\": [e[\"x\"] for e in row[1]], \"y\": [e[\"y\"] for e in row[1]]})\n",
    "        push_notebook(handle=handle)"
   ]
  },
  {
   "cell_type": "code",
   "execution_count": null,
   "metadata": {},
   "outputs": [],
   "source": []
  }
 ],
 "metadata": {
  "colab": {
   "collapsed_sections": [
    "5zc3pwq0smN-"
   ],
   "name": "streambasedcache.ipynb",
   "provenance": [
    {
     "file_id": "14kD7KIsqpkuyVlvIKa4GUCOFXsMpiouh",
     "timestamp": 1561506409299
    },
    {
     "file_id": "1ZShzPcvbGP5mNaVb5xcjvR6r_QBkFyd6",
     "timestamp": 1561505940600
    },
    {
     "file_id": "https://github.com/ostrokach/beam-notebooks/blob/master/feature/filebasedcache.ipynb",
     "timestamp": 1561071440262
    }
   ],
   "toc_visible": true,
   "version": "0.3.2"
  },
  "kernelspec": {
   "display_name": "Python [conda env:beam-dev]",
   "language": "python",
   "name": "conda-env-beam-dev-py"
  },
  "language_info": {
   "codemirror_mode": {
    "name": "ipython",
    "version": 2
   },
   "file_extension": ".py",
   "mimetype": "text/x-python",
   "name": "python",
   "nbconvert_exporter": "python",
   "pygments_lexer": "ipython2",
   "version": "2.7.15"
  }
 },
 "nbformat": 4,
 "nbformat_minor": 2
}
