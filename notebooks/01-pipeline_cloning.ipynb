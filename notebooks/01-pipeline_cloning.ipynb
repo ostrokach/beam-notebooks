{
 "cells": [
  {
   "cell_type": "markdown",
   "metadata": {},
   "source": [
    "## Summary"
   ]
  },
  {
   "cell_type": "markdown",
   "metadata": {},
   "source": [
    "## Install dependencies"
   ]
  },
  {
   "cell_type": "code",
   "execution_count": null,
   "metadata": {},
   "outputs": [],
   "source": [
    "try:\n",
    "    import google.colab\n",
    "    GOOGLE_COLAB = True\n",
    "except ImportError:\n",
    "    GOOGLE_COLAB = False"
   ]
  },
  {
   "cell_type": "code",
   "execution_count": null,
   "metadata": {},
   "outputs": [],
   "source": [
    "if GOOGLE_COLAB:\n",
    "    !pip install \"git+https://github.com/ostrokach/beam.git@develop#egg=apache_beam[gcp]&subdirectory=sdks/python\""
   ]
  },
  {
   "cell_type": "markdown",
   "metadata": {},
   "source": [
    "## Imports"
   ]
  },
  {
   "cell_type": "code",
   "execution_count": null,
   "metadata": {},
   "outputs": [],
   "source": [
    "import itertools\n",
    "import logging\n",
    "import tempfile\n",
    "\n",
    "import apache_beam as beam\n",
    "from apache_beam.io.filesystems import FileSystems\n",
    "from apache_beam.options.pipeline_options import (PipelineOptions,\n",
    "                                                  StandardOptions)\n",
    "from apache_beam.runners.interactive.cache_manager import CacheManager\n",
    "from matplotlib import pyplot as plt"
   ]
  },
  {
   "cell_type": "code",
   "execution_count": null,
   "metadata": {},
   "outputs": [],
   "source": [
    "%matplotlib inline"
   ]
  },
  {
   "cell_type": "markdown",
   "metadata": {},
   "source": [
    "## Parameters"
   ]
  },
  {
   "cell_type": "code",
   "execution_count": null,
   "metadata": {},
   "outputs": [],
   "source": [
    "NOTEBOOK_NAME = \"demo_pipeline_cloning\""
   ]
  },
  {
   "cell_type": "code",
   "execution_count": null,
   "metadata": {},
   "outputs": [],
   "source": [
    "temp_dir = tempfile.mkdtemp(prefix=\"beam-temp-\")"
   ]
  },
  {
   "cell_type": "code",
   "execution_count": null,
   "metadata": {},
   "outputs": [],
   "source": [
    "options = PipelineOptions(runner=\"BundleBasedDirectRunner\", temp_location=temp_dir, interactive=True)\n",
    "print(options.display_data())"
   ]
  },
  {
   "cell_type": "code",
   "execution_count": null,
   "metadata": {},
   "outputs": [],
   "source": [
    "cache_manager = CacheManager(options)"
   ]
  },
  {
   "cell_type": "markdown",
   "metadata": {
    "colab_type": "text",
    "id": "VgAbUdQ2fKAL"
   },
   "source": [
    "## Functions"
   ]
  },
  {
   "cell_type": "code",
   "execution_count": null,
   "metadata": {
    "colab": {},
    "colab_type": "code",
    "id": "5oTAhefHgucB"
   },
   "outputs": [],
   "source": [
    "class MaterializedPCollection(beam.pvalue.PCollection):\n",
    "\n",
    "    # TODO: Ideally, would want to be consistent with the PCollection API.\n",
    "    def __init__(self, pipeline, tag=None, element_type=None, windowing=None, cache=None):\n",
    "        super(MaterializedPCollection, self).__init__(\n",
    "            pipeline, tag=tag, element_type=element_type, windowing=windowing)\n",
    "        self._cache = cache\n",
    "\n",
    "    def read(self, **reader_kwargs):\n",
    "        return self._cache.read(**reader_kwargs)\n",
    "\n",
    "    def __del__(self):\n",
    "        # Clear the underlying cache when there are no more references to this object.\n",
    "        self._cache.clear()"
   ]
  },
  {
   "cell_type": "code",
   "execution_count": null,
   "metadata": {
    "colab": {},
    "colab_type": "code",
    "id": "r1cky9g0fLXR"
   },
   "outputs": [],
   "source": [
    "def persist(pcoll):\n",
    "    \"\"\"Materialize PCollection.\n",
    "\n",
    "    Args:\n",
    "        pcoll: The PCollection to materialize.\n",
    "\n",
    "    Returns:\n",
    "        MaterializedPCollection: An object which can be used to accessthe materialized\n",
    "            PCollection.\n",
    "    \"\"\"\n",
    "    if isinstance(pcoll, MaterializedPCollection):\n",
    "        logging.info(\"The provided PCollection has already been materialized.\")\n",
    "        return pcoll\n",
    "\n",
    "    cache = cache_manager.create_cache_from_defaults()\n",
    "\n",
    "    pcoll_to_cache = (\n",
    "        pcoll | \"Write to cache\" >> cache.writer()\n",
    "    )\n",
    "    # TODO: Get this working with `test_runner_api=True`\n",
    "    pcoll_to_cache.pipeline.run(test_runner_api=False).wait_until_finish()\n",
    "\n",
    "    new_pipeline = (\n",
    "        beam.Pipeline(\n",
    "            runner=pcoll_to_cache.pipeline.runner,\n",
    "            options=pcoll_to_cache.pipeline._options)\n",
    "        | \"Read from cache\" >> cache.reader()\n",
    "    ).pipeline\n",
    "    materialized_pcoll = MaterializedPCollection(\n",
    "        pipeline=new_pipeline, tag=pcoll.tag, element_type=pcoll.element_type,\n",
    "        windowing=pcoll.windowing, cache=cache)\n",
    "    \n",
    "    assert pcoll.producer\n",
    "    materialized_pcoll.producer = pcoll.producer\n",
    "    \n",
    "    return materialized_pcoll"
   ]
  },
  {
   "cell_type": "markdown",
   "metadata": {},
   "source": [
    "## Workflow"
   ]
  },
  {
   "cell_type": "code",
   "execution_count": null,
   "metadata": {
    "colab": {},
    "colab_type": "code",
    "id": "4emDZ0OMFi-X"
   },
   "outputs": [],
   "source": [
    "p = beam.Pipeline(options=options)"
   ]
  },
  {
   "cell_type": "markdown",
   "metadata": {},
   "source": [
    "### Populate input cache"
   ]
  },
  {
   "cell_type": "code",
   "execution_count": null,
   "metadata": {},
   "outputs": [],
   "source": [
    "input_ = p | beam.Create(range(10))"
   ]
  },
  {
   "cell_type": "code",
   "execution_count": null,
   "metadata": {},
   "outputs": [],
   "source": [
    "input_ = persist(input_)"
   ]
  },
  {
   "cell_type": "code",
   "execution_count": null,
   "metadata": {},
   "outputs": [],
   "source": [
    "for i in itertools.islice(input_.read(), 5):\n",
    "    print(i)"
   ]
  },
  {
   "cell_type": "markdown",
   "metadata": {},
   "source": [
    "### Squares"
   ]
  },
  {
   "cell_type": "code",
   "execution_count": null,
   "metadata": {},
   "outputs": [],
   "source": [
    "squares = input_ | 'Square' >> beam.Map(lambda x: x*x)"
   ]
  },
  {
   "cell_type": "code",
   "execution_count": null,
   "metadata": {},
   "outputs": [],
   "source": [
    "squares = persist(squares)"
   ]
  },
  {
   "cell_type": "code",
   "execution_count": null,
   "metadata": {},
   "outputs": [],
   "source": [
    "result = p.run()"
   ]
  },
  {
   "cell_type": "code",
   "execution_count": null,
   "metadata": {},
   "outputs": [],
   "source": [
    "for i in itertools.islice(squares.read(), 5):\n",
    "    print(i)"
   ]
  },
  {
   "cell_type": "code",
   "execution_count": null,
   "metadata": {},
   "outputs": [],
   "source": [
    "cubes = persist(cubes)"
   ]
  },
  {
   "cell_type": "markdown",
   "metadata": {},
   "source": [
    "### Cubes"
   ]
  },
  {
   "cell_type": "code",
   "execution_count": null,
   "metadata": {},
   "outputs": [],
   "source": [
    "cubes = input_ | 'Cube' >> beam.Map(lambda x: x**3)"
   ]
  },
  {
   "cell_type": "code",
   "execution_count": null,
   "metadata": {},
   "outputs": [],
   "source": [
    "result = p.run()"
   ]
  },
  {
   "cell_type": "code",
   "execution_count": null,
   "metadata": {},
   "outputs": [],
   "source": [
    "for i in itertools.islice(cubes.read(), 5):\n",
    "    print(i)"
   ]
  },
  {
   "cell_type": "markdown",
   "metadata": {},
   "source": [
    "### Plot"
   ]
  },
  {
   "cell_type": "code",
   "execution_count": null,
   "metadata": {},
   "outputs": [],
   "source": [
    "init_list = list(input_.read())\n",
    "squares_list = sorted(squares.read())\n",
    "cubes_list = sorted(cubes.read())\n",
    "\n",
    "plt.scatter(init_list, squares_list, label='squares', color='red')\n",
    "plt.scatter(init_list, cubes_list, label='cubes', color='blue')\n",
    "plt.legend(loc='upper left')\n",
    "plt.show()"
   ]
  },
  {
   "cell_type": "code",
   "execution_count": null,
   "metadata": {},
   "outputs": [],
   "source": []
  }
 ],
 "metadata": {
  "kernelspec": {
   "display_name": "Python [conda env:beam-dev]",
   "language": "python",
   "name": "conda-env-beam-dev-py"
  },
  "language_info": {
   "codemirror_mode": {
    "name": "ipython",
    "version": 2
   },
   "file_extension": ".py",
   "mimetype": "text/x-python",
   "name": "python",
   "nbconvert_exporter": "python",
   "pygments_lexer": "ipython2",
   "version": "2.7.15"
  }
 },
 "nbformat": 4,
 "nbformat_minor": 2
}
