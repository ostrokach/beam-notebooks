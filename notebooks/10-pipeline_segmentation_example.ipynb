{
 "cells": [
  {
   "cell_type": "markdown",
   "metadata": {
    "colab_type": "text",
    "id": "-oxpY94gANEQ"
   },
   "source": [
    "# Interactive Beam Example\n",
    "\n",
    "self link: go/interactive-beam-example\n",
    "\n",
    "## Blaze run the notebook kernel\n",
    "```\n",
    "google3$ blaze run pipeline/dataflow/python/interactive:beam_notebook.par\n",
    "```"
   ]
  },
  {
   "cell_type": "markdown",
   "metadata": {
    "colab_type": "text",
    "id": "N82C4NmLNgcn"
   },
   "source": [
    "## Running on local machine (Direct Runner)\n",
    "\n",
    "This is a very simple example of how to use Interactive Runner.\n"
   ]
  },
  {
   "cell_type": "code",
   "execution_count": null,
   "metadata": {
    "colab": {},
    "colab_type": "code",
    "id": "k-piBwo2lAex"
   },
   "outputs": [],
   "source": [
    "import uuid\n",
    "\n",
    "import apache_beam as beam\n",
    "from apache_beam.runners.direct import direct_runner\n",
    "from apache_beam.runners.interactive import interactive_runner"
   ]
  },
  {
   "cell_type": "code",
   "execution_count": null,
   "metadata": {},
   "outputs": [],
   "source": [
    "%matplotlib inline"
   ]
  },
  {
   "cell_type": "code",
   "execution_count": null,
   "metadata": {},
   "outputs": [],
   "source": [
    "try:\n",
    "    %load_ext autoreload\n",
    "    %autoreload 2\n",
    "except ModuleNotFoundError:\n",
    "    print(\"autoreload not found.\")"
   ]
  },
  {
   "cell_type": "markdown",
   "metadata": {
    "colab_type": "text",
    "id": "XL1A2W7JnDCg"
   },
   "source": [
    "### The initial run"
   ]
  },
  {
   "cell_type": "code",
   "execution_count": null,
   "metadata": {
    "colab": {},
    "colab_type": "code",
    "id": "I1-eSpvFlFhg"
   },
   "outputs": [],
   "source": [
    "runner = interactive_runner.InteractiveRunner(\n",
    "    underlying_runner=direct_runner.BundleBasedDirectRunner(), render_option=\"graph\", cache_format=\"tfrecord\"\n",
    ")\n",
    "p = beam.Pipeline(runner=runner)"
   ]
  },
  {
   "cell_type": "code",
   "execution_count": null,
   "metadata": {
    "colab": {
     "height": 419
    },
    "colab_type": "code",
    "executionInfo": {
     "elapsed": 19,
     "status": "ok",
     "timestamp": 1556768336671,
     "user": {
      "displayName": "Sindy Li",
      "photoUrl": "https://lh5.googleusercontent.com/-Tww5cspCQJo/AAAAAAAAAAI/AAAAAAAAACE/Ixvd6PMgTHY/s64/photo.jpg",
      "userId": "02282535440472002110"
     },
     "user_tz": 420
    },
    "id": "q3-APAiDoKFG",
    "outputId": "99a6e6a0-2da0-4b41-931b-3d029c651b4e"
   },
   "outputs": [],
   "source": [
    "pcoll_init = p | beam.Create(range(10))\n",
    "squares = pcoll_init | 'Square' >> beam.Map(lambda x: x*x)\n",
    "cubes = pcoll_init | 'Cube' >> beam.Map(lambda x: x**3)\n",
    "result = p.run()"
   ]
  },
  {
   "cell_type": "markdown",
   "metadata": {
    "colab_type": "text",
    "id": "_uZxb62DliXa"
   },
   "source": [
    "### Fetching PCollection\n",
    "You can fetch PCollection from the result as a list."
   ]
  },
  {
   "cell_type": "code",
   "execution_count": null,
   "metadata": {
    "colab": {
     "height": 279
    },
    "colab_type": "code",
    "executionInfo": {
     "elapsed": 247,
     "status": "ok",
     "timestamp": 1556768336968,
     "user": {
      "displayName": "Sindy Li",
      "photoUrl": "https://lh5.googleusercontent.com/-Tww5cspCQJo/AAAAAAAAAAI/AAAAAAAAACE/Ixvd6PMgTHY/s64/photo.jpg",
      "userId": "02282535440472002110"
     },
     "user_tz": 420
    },
    "id": "eKziaOwRlr_I",
    "outputId": "c13d8701-cc0e-485e-d4a7-396e95ba9551"
   },
   "outputs": [],
   "source": [
    "init_list = list(range(10))\n",
    "squares_list = result.get(squares)\n",
    "cubes_list = result.get(cubes)\n",
    "\n",
    "squares_list.sort()\n",
    "cubes_list.sort()\n",
    "\n",
    "from matplotlib import pyplot as plt\n",
    "plt.scatter(init_list, squares_list, label='squares', color='red')\n",
    "plt.scatter(init_list, cubes_list, label='cubes', color='blue')\n",
    "plt.legend(loc='upper left')\n",
    "plt.show()"
   ]
  },
  {
   "cell_type": "markdown",
   "metadata": {
    "colab_type": "text",
    "id": "QfBpvkFDmQCv"
   },
   "source": [
    "### Hack with the pipeline and run Round 2"
   ]
  },
  {
   "cell_type": "code",
   "execution_count": null,
   "metadata": {
    "colab": {},
    "colab_type": "code",
    "id": "9yQ_58SSmhM6"
   },
   "outputs": [],
   "source": [
    "class AverageFn(beam.CombineFn):\n",
    "    def create_accumulator(self):\n",
    "        return (0.0, 0)\n",
    "\n",
    "    def add_input(self, sum_count, input):\n",
    "        (sum, count) = sum_count\n",
    "        return sum + input, count + 1\n",
    "\n",
    "    def merge_accumulators(self, accumulators):\n",
    "        sums, counts = zip(*accumulators)\n",
    "        return sum(sums), sum(counts)\n",
    "\n",
    "    def extract_output(self, sum_count):\n",
    "        (sum, count) = sum_count\n",
    "        return sum / count if count else float(\"NaN\")"
   ]
  },
  {
   "cell_type": "code",
   "execution_count": null,
   "metadata": {
    "colab": {
     "height": 516
    },
    "colab_type": "code",
    "executionInfo": {
     "elapsed": 21,
     "status": "ok",
     "timestamp": 1556768347426,
     "user": {
      "displayName": "Sindy Li",
      "photoUrl": "https://lh5.googleusercontent.com/-Tww5cspCQJo/AAAAAAAAAAI/AAAAAAAAACE/Ixvd6PMgTHY/s64/photo.jpg",
      "userId": "02282535440472002110"
     },
     "user_tz": 420
    },
    "id": "XmXKwXD7mhWe",
    "outputId": "5a63d549-a61e-47dc-af7e-2bad7c37d83e"
   },
   "outputs": [],
   "source": [
    "average_squares = squares | \"AverageSquares {}\".format(uuid.uuid4().hex[:4]) >> beam.CombineGlobally(AverageFn())\n",
    "result = p.run()"
   ]
  },
  {
   "cell_type": "code",
   "execution_count": null,
   "metadata": {
    "colab": {
     "height": 516
    },
    "colab_type": "code",
    "executionInfo": {
     "elapsed": 19,
     "status": "ok",
     "timestamp": 1556768357084,
     "user": {
      "displayName": "Sindy Li",
      "photoUrl": "https://lh5.googleusercontent.com/-Tww5cspCQJo/AAAAAAAAAAI/AAAAAAAAACE/Ixvd6PMgTHY/s64/photo.jpg",
      "userId": "02282535440472002110"
     },
     "user_tz": 420
    },
    "id": "q-moarPImrNC",
    "outputId": "83067dd2-c308-4e89-e5c8-17677ba7e71c"
   },
   "outputs": [],
   "source": [
    "average_cubes = cubes | \"AverageCubes {}\".format(uuid.uuid4().hex[:4]) >> beam.CombineGlobally(AverageFn())\n",
    "result = p.run()"
   ]
  },
  {
   "cell_type": "code",
   "execution_count": null,
   "metadata": {},
   "outputs": [],
   "source": []
  }
 ],
 "metadata": {
  "colab": {
   "collapsed_sections": [],
   "last_runtime": {
    "build_target": "",
    "kind": "local"
   },
   "name": "Interactive Beam Example (original).ipynb",
   "provenance": [
    {
     "file_id": "15nu7Eqor99u2cLbuRhO-6s-lt4s2QjLt",
     "timestamp": 1557778032594
    },
    {
     "file_id": "1gzcqXckt8f9j-VFdtdKlkT_CWE66Le20",
     "timestamp": 1527290855277
    }
   ],
   "version": "0.3.2"
  },
  "kernelspec": {
   "display_name": "Python [conda env:beam-dev]",
   "language": "python",
   "name": "conda-env-beam-dev-py"
  },
  "language_info": {
   "codemirror_mode": {
    "name": "ipython",
    "version": 2
   },
   "file_extension": ".py",
   "mimetype": "text/x-python",
   "name": "python",
   "nbconvert_exporter": "python",
   "pygments_lexer": "ipython2",
   "version": "2.7.15"
  },
  "toc": {
   "base_numbering": 1,
   "nav_menu": {},
   "number_sections": false,
   "sideBar": true,
   "skip_h1_title": false,
   "title_cell": "Table of Contents",
   "title_sidebar": "Contents",
   "toc_cell": false,
   "toc_position": {},
   "toc_section_display": true,
   "toc_window_display": true
  }
 },
 "nbformat": 4,
 "nbformat_minor": 2
}
