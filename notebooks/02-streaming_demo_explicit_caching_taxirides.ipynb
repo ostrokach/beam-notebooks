{
 "cells": [
  {
   "cell_type": "markdown",
   "metadata": {},
   "source": [
    "# StreamBasedCache Demo - New York Taxi Rides"
   ]
  },
  {
   "cell_type": "markdown",
   "metadata": {
    "colab_type": "text",
    "id": "RUtedcvxeXG1"
   },
   "source": [
    "## Install dependencies (Colab only)"
   ]
  },
  {
   "cell_type": "code",
   "execution_count": null,
   "metadata": {
    "colab": {},
    "colab_type": "code",
    "id": "yFU0y74LKkZz"
   },
   "outputs": [],
   "source": [
    "try:\n",
    "    import google.colab\n",
    "    GOOGLE_COLAB = True\n",
    "except ImportError:\n",
    "    GOOGLE_COLAB = False"
   ]
  },
  {
   "cell_type": "code",
   "execution_count": null,
   "metadata": {
    "colab": {},
    "colab_type": "code",
    "id": "vwc8s3ZMviEy"
   },
   "outputs": [],
   "source": [
    "if GOOGLE_COLAB:\n",
    "    !sudo apt-get -yqq install libsnappy-dev"
   ]
  },
  {
   "cell_type": "code",
   "execution_count": null,
   "metadata": {
    "colab": {},
    "colab_type": "code",
    "id": "6JBBvTSgvcoD"
   },
   "outputs": [],
   "source": [
    "if GOOGLE_COLAB:\n",
    "    !pip install -q \\\n",
    "        python-snappy bokeh \\\n",
    "        \"git+https://github.com/ostrokach/beam.git@e2aa065f2717cfbf0490514cf164b69c0beb0fab#egg=apache_beam[gcp]&subdirectory=sdks/python\""
   ]
  },
  {
   "cell_type": "code",
   "execution_count": null,
   "metadata": {},
   "outputs": [],
   "source": [
    "if GOOGLE_COLAB:\n",
    "    from google.colab import auth\n",
    "    auth.authenticate_user()"
   ]
  },
  {
   "cell_type": "code",
   "execution_count": null,
   "metadata": {},
   "outputs": [],
   "source": [
    "# @title Google Cloud Project Info { display-mode: \"form\" }\n",
    "import os\n",
    "if GOOGLE_COLAB or \"PUBSUB_EMULATOR_HOST\" not in os.environ:\n",
    "    os.environ[\"BEAM_PROJECT_ID\"] = \"strokach-beam-dev\"  # @param {type:\"string\"}\n",
    "    os.environ[\"BEAM_TEMP_LOCATION\"] = \"gs://strokach-beam-dev/dataflow-temp\"  # @param {type:\"string\"}"
   ]
  },
  {
   "cell_type": "markdown",
   "metadata": {},
   "source": [
    "## Imports"
   ]
  },
  {
   "cell_type": "code",
   "execution_count": null,
   "metadata": {},
   "outputs": [],
   "source": [
    "import atexit\n",
    "import contextlib\n",
    "import gc\n",
    "import itertools\n",
    "import json\n",
    "import logging\n",
    "import os\n",
    "import sys\n",
    "import time\n",
    "import uuid\n",
    "from contextlib import ExitStack\n",
    "from datetime import datetime\n",
    "from pathlib import Path\n",
    "\n",
    "import apache_beam as beam\n",
    "import bokeh\n",
    "import dateutil\n",
    "import pytz\n",
    "from apache_beam import transforms\n",
    "from apache_beam.io.gcp.pubsub import PubsubMessage\n",
    "from apache_beam.options.pipeline_options import GoogleCloudOptions, PipelineOptions\n",
    "from apache_beam.runners.direct.direct_runner import DirectRunner\n",
    "from apache_beam.runners.interactive.cache_manager import CacheManager\n",
    "from apache_beam.runners.interactive.caching import pubsub_utils, streambasedcache\n",
    "from apache_beam.transforms import combiners, window\n",
    "from bokeh.core.properties import value\n",
    "from bokeh.io import output_notebook, push_notebook, show\n",
    "from bokeh.layouts import row\n",
    "from bokeh.models import ColumnDataSource, Label, LabelSet, Legend, LegendItem, Range1d\n",
    "from bokeh.models.annotations import Title\n",
    "from bokeh.plotting import figure, show\n",
    "from bokeh.tile_providers import Vendors, get_provider\n",
    "from bokeh.transform import factor_cmap\n",
    "from google.api_core import exceptions as gexc\n",
    "from google.cloud import pubsub_v1"
   ]
  },
  {
   "cell_type": "code",
   "execution_count": null,
   "metadata": {},
   "outputs": [],
   "source": [
    "output_notebook()"
   ]
  },
  {
   "cell_type": "code",
   "execution_count": null,
   "metadata": {},
   "outputs": [],
   "source": [
    "try:\n",
    "    %load_ext autoreload\n",
    "    %autoreload 2\n",
    "except Exception:\n",
    "    print(\"No autoreload\")"
   ]
  },
  {
   "cell_type": "markdown",
   "metadata": {},
   "source": [
    "## Boilerplate"
   ]
  },
  {
   "cell_type": "code",
   "execution_count": null,
   "metadata": {},
   "outputs": [],
   "source": [
    "sys.argv = sys.argv[:1]\n",
    "logging.getLogger(\"werkzeug\").setLevel(logging.WARNING)"
   ]
  },
  {
   "cell_type": "markdown",
   "metadata": {},
   "source": [
    "## Parameters"
   ]
  },
  {
   "cell_type": "markdown",
   "metadata": {},
   "source": [
    "### Configurable"
   ]
  },
  {
   "cell_type": "code",
   "execution_count": null,
   "metadata": {},
   "outputs": [],
   "source": [
    "NOTEBOOK_NAME = \"streambasedcache-new_york_taxirides\"\n",
    "NOTEBOOK_PATH = Path(NOTEBOOK_NAME)\n",
    "NOTEBOOK_PATH.mkdir(exist_ok=True)"
   ]
  },
  {
   "cell_type": "code",
   "execution_count": null,
   "metadata": {},
   "outputs": [],
   "source": [
    "project_id = os.getenv(\"BEAM_PROJECT_ID\", \"test-project\")\n",
    "try:\n",
    "    temp_location = os.environ[\"BEAM_TEMP_LOCATION\"]\n",
    "except KeyError:\n",
    "    _tempporary_directory = tempfile.TemporaryDirectory()\n",
    "    temp_location = _tempporary_directory.name"
   ]
  },
  {
   "cell_type": "code",
   "execution_count": null,
   "metadata": {},
   "outputs": [],
   "source": [
    "taxirides_topic_path = \"projects/pubsub-public-data/topics/taxirides-realtime\""
   ]
  },
  {
   "cell_type": "markdown",
   "metadata": {},
   "source": [
    "### Derived"
   ]
  },
  {
   "cell_type": "code",
   "execution_count": null,
   "metadata": {},
   "outputs": [],
   "source": [
    "def download_url(url, folder):\n",
    "    filename = url.rsplit(\"/\", 1)[-1]\n",
    "    folder = Path(folder)\n",
    "    folder.mkdir(exist_ok=True)\n",
    "\n",
    "    if url.startswith(\"file://\") or url.startswith(\"/\"):\n",
    "        shutil.copy(url.replace(\"file://\", \"\"), folder)\n",
    "    else:\n",
    "        chunk_size = 16 * 1024\n",
    "        response = urlopen(url)\n",
    "        with (folder / filename).open(\"wb\") as f:\n",
    "            while True:\n",
    "                chunk = response.read(chunk_size)\n",
    "                if not chunk:\n",
    "                    break\n",
    "                f.write(chunk)"
   ]
  },
  {
   "cell_type": "code",
   "execution_count": null,
   "metadata": {},
   "outputs": [],
   "source": [
    "sdk_location = Path(\"../dist/apache-beam-2.16.0.dev0.tar.gz\").resolve()\n",
    "sdk_location.parent.mkdir(exist_ok=True)\n",
    "\n",
    "sdk_url = \"https://raw.githubusercontent.com/ostrokach/beam-notebooks/1bd1de8eb3b9dc59f76272819e79a07bb42944f2/dist/apache-beam-2.16.0.dev0.tar.gz\"\n",
    "if not sdk_location.is_file():\n",
    "    download_url(sdk_url, sdk_location.parent)\n",
    "assert sdk_location.is_file()"
   ]
  },
  {
   "cell_type": "code",
   "execution_count": null,
   "metadata": {},
   "outputs": [],
   "source": [
    "options = PipelineOptions(\n",
    "    project=project_id,\n",
    "    temp_location=temp_location,\n",
    "    streaming=True,\n",
    "    #     runner=\"DirectRunner\",\n",
    "    runner=\"DataflowRunner\",\n",
    "    sdk_location=sdk_location.as_posix(),\n",
    "    setup_file=\"../setup.py\",\n",
    "    job_name=\"test-demo\",\n",
    ")\n",
    "options.display_data()"
   ]
  },
  {
   "cell_type": "code",
   "execution_count": null,
   "metadata": {},
   "outputs": [],
   "source": [
    "cache_manager = CacheManager(options)"
   ]
  },
  {
   "cell_type": "markdown",
   "metadata": {},
   "source": [
    "## Function definitions"
   ]
  },
  {
   "cell_type": "markdown",
   "metadata": {},
   "source": [
    "### Pipeline-specific"
   ]
  },
  {
   "cell_type": "code",
   "execution_count": null,
   "metadata": {},
   "outputs": [],
   "source": [
    "class AddMercatorCoords(beam.DoFn):\n",
    "    \n",
    "    def process(self, element):\n",
    "        import numpy as np\n",
    "\n",
    "        r_major = 6378137.000\n",
    "\n",
    "        element[\"utm_x\"] = (r_major * 2 * np.pi / 360) * element[\"longitude\"]\n",
    "        try:\n",
    "            scale = element[\"utm_x\"] / element[\"longitude\"]\n",
    "        except ZeroDivisionError:\n",
    "            scale = 0\n",
    "        element[\"utm_y\"] = (\n",
    "            180.0 / np.pi * np.log(np.tan((np.pi / 4.0) + element[\"latitude\"] * (np.pi / 180.0 / 2.0))) * scale\n",
    "        )\n",
    "        yield element\n",
    "#         events_df[\"utm_y\"] = events_df[\"utm_y\"].fillna(0)\n",
    "        \n",
    "        \n",
    "next(AddMercatorCoords().process({\"longitude\": 0, \"latitude\": 0}))"
   ]
  },
  {
   "cell_type": "code",
   "execution_count": null,
   "metadata": {},
   "outputs": [],
   "source": [
    "class FilterByRegion(beam.DoFn):\n",
    "    def __init__(self, utm_x_range, utm_y_range):\n",
    "        self.utm_x_range = utm_x_range\n",
    "        self.utm_y_range = utm_y_range\n",
    "\n",
    "    def process(self, element):\n",
    "        if (self.utm_x_range[0] <= element[\"utm_x\"] < self.utm_x_range[1]) and (\n",
    "            self.utm_y_range[0] <= element[\"utm_y\"] < self.utm_y_range[1]\n",
    "        ):\n",
    "            yield element"
   ]
  },
  {
   "cell_type": "code",
   "execution_count": null,
   "metadata": {},
   "outputs": [],
   "source": [
    "class FilterRideStatus(beam.DoFn):\n",
    "    def __init__(self, ride_status):\n",
    "        self._ride_status = ride_status\n",
    "        super(FilterRideStatus, self).__init__()\n",
    "\n",
    "    def process(self, element):\n",
    "        if element[\"ride_status\"] in self._ride_status:\n",
    "            yield element"
   ]
  },
  {
   "cell_type": "code",
   "execution_count": null,
   "metadata": {},
   "outputs": [],
   "source": [
    "class AddWindowRange(beam.DoFn):\n",
    "    def process(\n",
    "        self, element, window=beam.DoFn.WindowParam, timestamp=beam.DoFn.TimestampParam\n",
    "    ):\n",
    "        import pytz\n",
    "\n",
    "        element = {\"events\": element}\n",
    "\n",
    "        ts_format = \"%Y-%m-%dT%H:%M:%S.%f-04:00\"\n",
    "        element[\"window_start_est\"] = (\n",
    "            window.start.to_utc_datetime()\n",
    "            .replace(tzinfo=pytz.UTC)\n",
    "            .astimezone(pytz.timezone(\"US/Eastern\"))\n",
    "            .strftime(ts_format)\n",
    "        )\n",
    "        element[\"window_end_est\"] = (\n",
    "            window.end.to_utc_datetime()\n",
    "            .replace(tzinfo=pytz.UTC)\n",
    "            .astimezone(pytz.timezone(\"US/Eastern\"))\n",
    "            .strftime(ts_format)\n",
    "        )\n",
    "        element[\"window_start_micros\"] = window.start.micros\n",
    "        element[\"window_end_micros\"] = window.end.micros\n",
    "        element[\"timestamp_micros\"] = timestamp.micros\n",
    "        yield element"
   ]
  },
  {
   "cell_type": "code",
   "execution_count": null,
   "metadata": {},
   "outputs": [],
   "source": [
    "class DumpPubsubMessage(beam.DoFn):\n",
    "    def __init__(self):\n",
    "        pass\n",
    "\n",
    "    def process(\n",
    "        self, element, window=beam.DoFn.WindowParam, timestamp=beam.DoFn.TimestampParam\n",
    "    ):\n",
    "        from apache_beam.io.gcp.pubsub import PubsubMessage\n",
    "\n",
    "        data = element\n",
    "        attributes = {\"ts\": str(int(timestamp.micros / 1000.0))}\n",
    "\n",
    "        message = PubsubMessage(json.dumps(data).encode(\"utf-8\"), attributes)\n",
    "        yield message"
   ]
  },
  {
   "cell_type": "markdown",
   "metadata": {},
   "source": [
    "### Plotting"
   ]
  },
  {
   "cell_type": "code",
   "execution_count": null,
   "metadata": {},
   "outputs": [],
   "source": [
    "def create_map():\n",
    "    # Colormap\n",
    "    # cmap = bokeh.palettes.d3[\"Category10\"][4]\n",
    "    cmap = bokeh.palettes.d3[\"Category20b\"][20]\n",
    "    colors = [cmap[1], cmap[9], cmap[-2]]\n",
    "\n",
    "    # Source of data\n",
    "    source = ColumnDataSource(data=dict(x=[], y=[], ride_status=[]))\n",
    "\n",
    "    # Background map\n",
    "    fg = figure(\n",
    "        x_range=MERCATOR_X_RANGE,\n",
    "        y_range=MERCATOR_Y_RANGE,\n",
    "        x_axis_type=\"mercator\",\n",
    "        y_axis_type=\"mercator\",\n",
    "        title_location=\"above\",\n",
    "        plot_height=600,\n",
    "    )\n",
    "    fg.add_tile(get_provider(Vendors.CARTODBPOSITRON))\n",
    "\n",
    "    # Scatterplot\n",
    "    fg.circle(\n",
    "        x=\"x\",\n",
    "        y=\"y\",\n",
    "        source=source,\n",
    "        size=2,\n",
    "        color=factor_cmap(\"ride_status\", colors, [\"pickup\", \"enroute\", \"dropoff\"]),\n",
    "        fill_alpha=0.8,\n",
    "        #     legend=value(\"start\", \"stop\"),\n",
    "        #     legend=[value(x) for x in [\"start\", \"stop\"]],\n",
    "    )\n",
    "\n",
    "    # Legend\n",
    "    pickup = fg.circle(x=[], y=[], color=colors[0])\n",
    "    enroute = fg.circle(x=[], y=[], color=colors[1])\n",
    "    dropoff = fg.circle(x=[], y=[], color=colors[2])\n",
    "    legend = Legend(\n",
    "        items=[(\"pickup\", [pickup]), (\"enroute\", [enroute]), (\"dropoff\", [dropoff])]\n",
    "    )\n",
    "    fg.add_layout(legend)\n",
    "    return fg, source"
   ]
  },
  {
   "cell_type": "markdown",
   "metadata": {},
   "source": [
    "## Pipeline"
   ]
  },
  {
   "cell_type": "code",
   "execution_count": null,
   "metadata": {},
   "outputs": [],
   "source": [
    "MERCATOR_X_RANGE = (-8240000, -8220000)\n",
    "MERCATOR_Y_RANGE = (4950000, 5000000)"
   ]
  },
  {
   "cell_type": "code",
   "execution_count": null,
   "metadata": {},
   "outputs": [],
   "source": [
    "input_subscription = pubsub_utils.TemporaryPubsubSubscription(project_id, taxirides_topic_path)"
   ]
  },
  {
   "cell_type": "code",
   "execution_count": null,
   "metadata": {},
   "outputs": [],
   "source": [
    "temp_cache = cache_manager.create_default_cache(\"temp\")"
   ]
  },
  {
   "cell_type": "code",
   "execution_count": null,
   "metadata": {},
   "outputs": [],
   "source": [
    "try:\n",
    "    pr.cancel()\n",
    "except NameError:\n",
    "    pass"
   ]
  },
  {
   "cell_type": "code",
   "execution_count": null,
   "metadata": {},
   "outputs": [],
   "source": [
    "p = beam.Pipeline(options=options)\n",
    "\n",
    "out = (\n",
    "    p\n",
    "    | \"Read\"\n",
    "    >> beam.io.ReadFromPubSub(\n",
    "        subscription=input_subscription.name, with_attributes=True, timestamp_attribute=\"ts\"\n",
    "    )\n",
    "    | beam.Map(lambda message: json.loads(message.data.decode()))\n",
    "    | \"Add Mercator coords\" >> beam.ParDo(AddMercatorCoords())\n",
    "    | \"Filter to New York\" >> beam.ParDo(FilterByRegion(MERCATOR_X_RANGE, MERCATOR_Y_RANGE))\n",
    "    | \"Subsample\" >> beam.Filter(lambda e: e[\"ride_id\"][0] == \"a\")\n",
    "    | \"Window\" >> beam.WindowInto(window.FixedWindows(1))\n",
    "    | \"Combine\" >> beam.CombineGlobally(combiners.ToListCombineFn()).without_defaults()\n",
    "    | \"Add window info\" >> beam.ParDo(AddWindowRange())\n",
    "    #     | beam.Map(lambda e: print(e) or e)\n",
    "    | \"Write\" >> temp_cache.writer()\n",
    ")\n",
    "\n",
    "pr = p.run()"
   ]
  },
  {
   "cell_type": "code",
   "execution_count": null,
   "metadata": {},
   "outputs": [],
   "source": [
    "for element in itertools.islice(temp_cache.read(seek_to_start=False, timeout=10), 5):\n",
    "    print(element.value)"
   ]
  },
  {
   "cell_type": "code",
   "execution_count": null,
   "metadata": {},
   "outputs": [],
   "source": [
    "output_notebook()\n",
    "\n",
    "fg, source = create_map()\n",
    "fg.title.text = \"-\"\n",
    "fg.title.align = \"center\"\n",
    "\n",
    "# Updates\n",
    "handle = show(fg, notebook_handle=True)\n",
    "\n",
    "days_of_week = [\"Monday\", \"Tuesday\", \"Wednesday\", \"Thursday\", \"Friday\", \"Saturday\", \"Sunday\"]\n",
    "\n",
    "for timestamped_value in temp_cache.read(burnin=10, seek_to_start=True, timeout=100):\n",
    "    timestamp = timestamped_value.timestamp\n",
    "    data = timestamped_value.value[\"events\"]\n",
    "    dt = (\n",
    "        datetime.utcfromtimestamp(timestamp.micros / 1000.0 / 1000.0 / 1000.0 + 0.001)\n",
    "        .replace(tzinfo=pytz.UTC)\n",
    "        .astimezone(pytz.timezone(\"US/Eastern\"))\n",
    "    )\n",
    "    dt_str = days_of_week[dt.weekday()] + \" \" + dt.strftime(\"%b %d %Y %I:%M:%S %f\")\n",
    "    fg.title.text = dt_str\n",
    "    fg.title.align = \"center\"\n",
    "    source.stream(\n",
    "        {\n",
    "            \"x\": [d[\"utm_x\"] for d in data],\n",
    "            \"y\": [d[\"utm_y\"] for d in data],\n",
    "            \"ride_status\": [d[\"ride_status\"] for d in data],\n",
    "        },\n",
    "        rollover=100,\n",
    "    )\n",
    "    push_notebook(handle=handle)\n",
    "\n",
    "    time.sleep(0.05)"
   ]
  },
  {
   "cell_type": "code",
   "execution_count": null,
   "metadata": {},
   "outputs": [],
   "source": []
  }
 ],
 "metadata": {
  "kernelspec": {
   "display_name": "Python 3",
   "language": "python",
   "name": "python3"
  },
  "language_info": {
   "codemirror_mode": {
    "name": "ipython",
    "version": 3
   },
   "file_extension": ".py",
   "mimetype": "text/x-python",
   "name": "python",
   "nbconvert_exporter": "python",
   "pygments_lexer": "ipython3",
   "version": "3.7.3"
  },
  "toc": {
   "base_numbering": 1,
   "nav_menu": {},
   "number_sections": false,
   "sideBar": false,
   "skip_h1_title": false,
   "title_cell": "Table of Contents",
   "title_sidebar": "Contents",
   "toc_cell": false,
   "toc_position": {
    "height": "641px",
    "left": "43px",
    "top": "147px",
    "width": "299px"
   },
   "toc_section_display": true,
   "toc_window_display": false
  }
 },
 "nbformat": 4,
 "nbformat_minor": 4
}
