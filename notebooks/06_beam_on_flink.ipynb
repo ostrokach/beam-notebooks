{
 "cells": [
  {
   "cell_type": "markdown",
   "metadata": {},
   "source": [
    "https://beam.apache.org/documentation/runners/flink/"
   ]
  },
  {
   "cell_type": "code",
   "execution_count": null,
   "metadata": {},
   "outputs": [],
   "source": [
    "import apache_beam as beam\n",
    "from apache_beam.options.pipeline_options import PipelineOptions"
   ]
  },
  {
   "cell_type": "code",
   "execution_count": null,
   "metadata": {},
   "outputs": [],
   "source": [
    "options = PipelineOptions([\n",
    "#     \"--runner=PortableRunner\",\n",
    "#     \"--job_endpoint=localhost:8099\",\n",
    "#     \"--environment_type=LOOPBACK\"\n",
    "\n",
    "    \"--runner=FlinkRunner\",  # PortableRunner\n",
    "    \"--flink_version=1.9\",\n",
    "    \"--flink_master_url=localhost:8081\",\n",
    "    \"--environment_type=LOOPBACK\"\n",
    "])"
   ]
  },
  {
   "cell_type": "code",
   "execution_count": null,
   "metadata": {},
   "outputs": [],
   "source": [
    "!mkdir -p /tmp/test-output"
   ]
  },
  {
   "cell_type": "code",
   "execution_count": null,
   "metadata": {},
   "outputs": [],
   "source": [
    "with beam.Pipeline(options=options) as p:\n",
    "    _ = (\n",
    "        p\n",
    "        | beam.Create(list(range(1000)))\n",
    "        | beam.io.textio.WriteToText(\"/tmp/test-output\")\n",
    "    )"
   ]
  },
  {
   "cell_type": "code",
   "execution_count": null,
   "metadata": {},
   "outputs": [],
   "source": [
    "!find /srv/conda/envs/notebook/ -name '*beam-runners-flink*'"
   ]
  },
  {
   "cell_type": "code",
   "execution_count": null,
   "metadata": {},
   "outputs": [],
   "source": []
  }
 ],
 "metadata": {
  "kernelspec": {
   "display_name": "Python 3",
   "language": "python",
   "name": "python3"
  },
  "language_info": {
   "codemirror_mode": {
    "name": "ipython",
    "version": 3
   },
   "file_extension": ".py",
   "mimetype": "text/x-python",
   "name": "python",
   "nbconvert_exporter": "python",
   "pygments_lexer": "ipython3",
   "version": "3.7.3"
  }
 },
 "nbformat": 4,
 "nbformat_minor": 4
}
