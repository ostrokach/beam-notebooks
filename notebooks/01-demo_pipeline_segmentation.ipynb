{
 "cells": [
  {
   "cell_type": "markdown",
   "metadata": {},
   "source": [
    "# Pipeline segmentation"
   ]
  },
  {
   "cell_type": "markdown",
   "metadata": {
    "colab_type": "text",
    "id": "-l-i4n4u9Zwj"
   },
   "source": [
    "## Summary"
   ]
  },
  {
   "cell_type": "markdown",
   "metadata": {
    "colab_type": "text",
    "id": "ki6CePvA9Zwk"
   },
   "source": [
    "## Colab-specific"
   ]
  },
  {
   "cell_type": "code",
   "execution_count": null,
   "metadata": {
    "colab": {},
    "colab_type": "code",
    "id": "fpvHGqr89Zwl"
   },
   "outputs": [],
   "source": [
    "try:\n",
    "    import google.colab\n",
    "    GOOGLE_COLAB = True\n",
    "except ImportError:\n",
    "    GOOGLE_COLAB = False"
   ]
  },
  {
   "cell_type": "code",
   "execution_count": null,
   "metadata": {
    "colab": {
     "base_uri": "https://localhost:8080/",
     "height": 1000
    },
    "colab_type": "code",
    "executionInfo": {
     "elapsed": 50522,
     "status": "ok",
     "timestamp": 1564779785675,
     "user": {
      "displayName": "Alexey Strokach",
      "photoUrl": "https://lh3.googleusercontent.com/a-/AAuE7mBOzxwy6MDI9o_4tjt-JDoEgOjgPuL-Gg4DRhKb=s64",
      "userId": "00492508659432265464"
     },
     "user_tz": 420
    },
    "id": "KCcir3qM9Zwo",
    "outputId": "68972008-b6c0-483b-ca0f-8a6d6ee5f0a9"
   },
   "outputs": [],
   "source": [
    "if GOOGLE_COLAB:\n",
    "    !pip install \"git+https://github.com/ostrokach/beam.git@develop#egg=apache_beam&subdirectory=sdks/python\""
   ]
  },
  {
   "cell_type": "markdown",
   "metadata": {
    "colab_type": "text",
    "id": "VrxKIqez9Zwq"
   },
   "source": [
    "## Imports"
   ]
  },
  {
   "cell_type": "code",
   "execution_count": null,
   "metadata": {
    "colab": {},
    "colab_type": "code",
    "id": "2EfcFwuT9Zwr"
   },
   "outputs": [],
   "source": [
    "import itertools\n",
    "import sys\n",
    "import tempfile\n",
    "\n",
    "import apache_beam as beam\n",
    "import matplotlib.pyplot as plt\n",
    "from apache_beam.options.pipeline_options import PipelineOptions\n",
    "from apache_beam.runners.direct import direct_runner\n",
    "from apache_beam.runners.interactive import interactive_runner"
   ]
  },
  {
   "cell_type": "code",
   "execution_count": null,
   "metadata": {
    "colab": {
     "base_uri": "https://localhost:8080/",
     "height": 34
    },
    "colab_type": "code",
    "executionInfo": {
     "elapsed": 51860,
     "status": "ok",
     "timestamp": 1564779787027,
     "user": {
      "displayName": "Alexey Strokach",
      "photoUrl": "https://lh3.googleusercontent.com/a-/AAuE7mBOzxwy6MDI9o_4tjt-JDoEgOjgPuL-Gg4DRhKb=s64",
      "userId": "00492508659432265464"
     },
     "user_tz": 420
    },
    "id": "I6TmfxlD-7Lg",
    "outputId": "22f33157-c6e5-4191-e39a-7d2915b712c0"
   },
   "outputs": [],
   "source": [
    "beam.__version__"
   ]
  },
  {
   "cell_type": "code",
   "execution_count": null,
   "metadata": {
    "colab": {},
    "colab_type": "code",
    "id": "kY_pNfg39Zwt"
   },
   "outputs": [],
   "source": [
    "%matplotlib inline"
   ]
  },
  {
   "cell_type": "markdown",
   "metadata": {},
   "source": [
    "## Boilerplate"
   ]
  },
  {
   "cell_type": "code",
   "execution_count": null,
   "metadata": {},
   "outputs": [],
   "source": [
    "sys.argv = sys.argv[:1]"
   ]
  },
  {
   "cell_type": "markdown",
   "metadata": {
    "colab_type": "text",
    "id": "bX-_nR009Zwx"
   },
   "source": [
    "## Parameters"
   ]
  },
  {
   "cell_type": "code",
   "execution_count": null,
   "metadata": {
    "colab": {},
    "colab_type": "code",
    "id": "Yvk3NhIn9Zwx"
   },
   "outputs": [],
   "source": [
    "NOTEBOOK_NAME = \"demo_pipeline_segmentation\""
   ]
  },
  {
   "cell_type": "code",
   "execution_count": null,
   "metadata": {
    "colab": {},
    "colab_type": "code",
    "id": "Av2x8sNG9Zw0"
   },
   "outputs": [],
   "source": [
    "temp_dir = tempfile.mkdtemp(prefix=\"beam-temp-\")"
   ]
  },
  {
   "cell_type": "code",
   "execution_count": null,
   "metadata": {
    "colab": {
     "base_uri": "https://localhost:8080/",
     "height": 51
    },
    "colab_type": "code",
    "executionInfo": {
     "elapsed": 436,
     "status": "ok",
     "timestamp": 1564777107987,
     "user": {
      "displayName": "Alexey Strokach",
      "photoUrl": "https://lh3.googleusercontent.com/a-/AAuE7mBOzxwy6MDI9o_4tjt-JDoEgOjgPuL-Gg4DRhKb=s64",
      "userId": "00492508659432265464"
     },
     "user_tz": 420
    },
    "id": "04fiVa7d9Zw2",
    "outputId": "faa2a91e-5a99-41f7-9189-b02032f9c5c7"
   },
   "outputs": [],
   "source": [
    "options = PipelineOptions(runner=\"DirectRunner\", temp_location=temp_dir)\n",
    "print(options.display_data())"
   ]
  },
  {
   "cell_type": "markdown",
   "metadata": {
    "colab_type": "text",
    "id": "lKpsic-z9Zw5"
   },
   "source": [
    "## Workflow"
   ]
  },
  {
   "cell_type": "code",
   "execution_count": null,
   "metadata": {
    "colab": {},
    "colab_type": "code",
    "id": "RXABERAD9Zw6"
   },
   "outputs": [],
   "source": [
    "runner = interactive_runner.InteractiveRunner(render_option=\"graph\")"
   ]
  },
  {
   "cell_type": "code",
   "execution_count": null,
   "metadata": {
    "colab": {},
    "colab_type": "code",
    "id": "xxNvvIco9Zw8"
   },
   "outputs": [],
   "source": [
    "p = beam.Pipeline(runner=runner, options=options)"
   ]
  },
  {
   "cell_type": "markdown",
   "metadata": {
    "colab_type": "text",
    "id": "yJqO6pXO9Zw-"
   },
   "source": [
    "### Populate input cache"
   ]
  },
  {
   "cell_type": "code",
   "execution_count": null,
   "metadata": {
    "colab": {},
    "colab_type": "code",
    "id": "AWE6xo7S9Zw-"
   },
   "outputs": [],
   "source": [
    "input_pcoll = (\n",
    "    #\n",
    "    p\n",
    "    | beam.Create(range(10))\n",
    ")"
   ]
  },
  {
   "cell_type": "code",
   "execution_count": null,
   "metadata": {
    "colab": {
     "base_uri": "https://localhost:8080/",
     "height": 264
    },
    "colab_type": "code",
    "executionInfo": {
     "elapsed": 12,
     "status": "ok",
     "timestamp": 1564777479173,
     "user": {
      "displayName": "Alexey Strokach",
      "photoUrl": "https://lh3.googleusercontent.com/a-/AAuE7mBOzxwy6MDI9o_4tjt-JDoEgOjgPuL-Gg4DRhKb=s64",
      "userId": "00492508659432265464"
     },
     "user_tz": 420
    },
    "id": "mRmtQjUU9ZxA",
    "outputId": "933b7348-c565-4a7c-cb1b-0267d0a2308d"
   },
   "outputs": [],
   "source": [
    "result = p.run()"
   ]
  },
  {
   "cell_type": "code",
   "execution_count": null,
   "metadata": {
    "colab": {
     "base_uri": "https://localhost:8080/",
     "height": 102
    },
    "colab_type": "code",
    "executionInfo": {
     "elapsed": 2483,
     "status": "ok",
     "timestamp": 1564777479174,
     "user": {
      "displayName": "Alexey Strokach",
      "photoUrl": "https://lh3.googleusercontent.com/a-/AAuE7mBOzxwy6MDI9o_4tjt-JDoEgOjgPuL-Gg4DRhKb=s64",
      "userId": "00492508659432265464"
     },
     "user_tz": 420
    },
    "id": "3RZK_9TV9ZxC",
    "outputId": "94f763cf-4e4c-4a05-bb71-7bb1d27b2a92"
   },
   "outputs": [],
   "source": [
    "for i in itertools.islice(result.get(input_pcoll), 5):\n",
    "    print(i)"
   ]
  },
  {
   "cell_type": "markdown",
   "metadata": {
    "colab_type": "text",
    "id": "2ZofBQQN9ZxF"
   },
   "source": [
    "### Squares"
   ]
  },
  {
   "cell_type": "code",
   "execution_count": null,
   "metadata": {
    "colab": {},
    "colab_type": "code",
    "id": "9OWymBxD9ZxF"
   },
   "outputs": [],
   "source": [
    "squares = (\n",
    "    input_pcoll\n",
    "    | 'Square' >> beam.Map(lambda x: x*x)\n",
    ")"
   ]
  },
  {
   "cell_type": "code",
   "execution_count": null,
   "metadata": {
    "colab": {
     "base_uri": "https://localhost:8080/",
     "height": 397
    },
    "colab_type": "code",
    "executionInfo": {
     "elapsed": 11,
     "status": "ok",
     "timestamp": 1564777481305,
     "user": {
      "displayName": "Alexey Strokach",
      "photoUrl": "https://lh3.googleusercontent.com/a-/AAuE7mBOzxwy6MDI9o_4tjt-JDoEgOjgPuL-Gg4DRhKb=s64",
      "userId": "00492508659432265464"
     },
     "user_tz": 420
    },
    "id": "t736DogP9ZxI",
    "outputId": "31dd908c-4ca7-4c64-ddb6-0f2942502329"
   },
   "outputs": [],
   "source": [
    "result = p.run()"
   ]
  },
  {
   "cell_type": "code",
   "execution_count": null,
   "metadata": {
    "colab": {
     "base_uri": "https://localhost:8080/",
     "height": 102
    },
    "colab_type": "code",
    "executionInfo": {
     "elapsed": 4599,
     "status": "ok",
     "timestamp": 1564777481306,
     "user": {
      "displayName": "Alexey Strokach",
      "photoUrl": "https://lh3.googleusercontent.com/a-/AAuE7mBOzxwy6MDI9o_4tjt-JDoEgOjgPuL-Gg4DRhKb=s64",
      "userId": "00492508659432265464"
     },
     "user_tz": 420
    },
    "id": "iiuFb5_P9ZxK",
    "outputId": "f835e433-ce06-489c-a81f-a5bc4d8f0535"
   },
   "outputs": [],
   "source": [
    "for i in itertools.islice(result.get(squares), 5):\n",
    "    print(i)"
   ]
  },
  {
   "cell_type": "markdown",
   "metadata": {
    "colab_type": "text",
    "id": "VD59h6jr9ZxM"
   },
   "source": [
    "### Cubes"
   ]
  },
  {
   "cell_type": "code",
   "execution_count": null,
   "metadata": {
    "colab": {},
    "colab_type": "code",
    "id": "N_2rbUer9ZxN"
   },
   "outputs": [],
   "source": [
    "cubes = (\n",
    "    input_pcoll\n",
    "    | 'Cube' >> beam.Map(lambda x: x**3)\n",
    ")"
   ]
  },
  {
   "cell_type": "code",
   "execution_count": null,
   "metadata": {
    "colab": {
     "base_uri": "https://localhost:8080/",
     "height": 414
    },
    "colab_type": "code",
    "executionInfo": {
     "elapsed": 7,
     "status": "ok",
     "timestamp": 1564777483792,
     "user": {
      "displayName": "Alexey Strokach",
      "photoUrl": "https://lh3.googleusercontent.com/a-/AAuE7mBOzxwy6MDI9o_4tjt-JDoEgOjgPuL-Gg4DRhKb=s64",
      "userId": "00492508659432265464"
     },
     "user_tz": 420
    },
    "id": "jmbz_gL49ZxP",
    "outputId": "a84623e7-1e19-4e55-a92b-4ff7bbc8363b"
   },
   "outputs": [],
   "source": [
    "result = p.run()"
   ]
  },
  {
   "cell_type": "code",
   "execution_count": null,
   "metadata": {
    "colab": {
     "base_uri": "https://localhost:8080/",
     "height": 102
    },
    "colab_type": "code",
    "executionInfo": {
     "elapsed": 7068,
     "status": "ok",
     "timestamp": 1564777483793,
     "user": {
      "displayName": "Alexey Strokach",
      "photoUrl": "https://lh3.googleusercontent.com/a-/AAuE7mBOzxwy6MDI9o_4tjt-JDoEgOjgPuL-Gg4DRhKb=s64",
      "userId": "00492508659432265464"
     },
     "user_tz": 420
    },
    "id": "kE4nfMl29ZxS",
    "outputId": "2c9b3e8c-976b-457b-e7d1-aeb9070c981e"
   },
   "outputs": [],
   "source": [
    "for i in itertools.islice(result.get(cubes), 5):\n",
    "    print(i)"
   ]
  },
  {
   "cell_type": "markdown",
   "metadata": {
    "colab_type": "text",
    "id": "zcEbGUen9ZxV"
   },
   "source": [
    "### Plot"
   ]
  },
  {
   "cell_type": "code",
   "execution_count": null,
   "metadata": {
    "colab": {
     "base_uri": "https://localhost:8080/",
     "height": 269
    },
    "colab_type": "code",
    "executionInfo": {
     "elapsed": 7224,
     "status": "ok",
     "timestamp": 1564777483955,
     "user": {
      "displayName": "Alexey Strokach",
      "photoUrl": "https://lh3.googleusercontent.com/a-/AAuE7mBOzxwy6MDI9o_4tjt-JDoEgOjgPuL-Gg4DRhKb=s64",
      "userId": "00492508659432265464"
     },
     "user_tz": 420
    },
    "id": "BV6_rF2B9ZxW",
    "outputId": "7d338f3a-98d9-48ef-ac46-69683206e125"
   },
   "outputs": [],
   "source": [
    "init_list = list(range(10))\n",
    "squares_list = sorted(result.get(squares))\n",
    "cubes_list = sorted(result.get(cubes))\n",
    "\n",
    "plt.scatter(init_list, squares_list, label='squares', color='red')\n",
    "plt.scatter(init_list, cubes_list, label='cubes', color='blue')\n",
    "plt.legend(loc='upper left')\n",
    "plt.show()"
   ]
  },
  {
   "cell_type": "code",
   "execution_count": null,
   "metadata": {
    "colab": {},
    "colab_type": "code",
    "id": "OoQPd4fV9ZxZ"
   },
   "outputs": [],
   "source": []
  }
 ],
 "metadata": {
  "colab": {
   "collapsed_sections": [],
   "name": "Copy of 01-demo_pipeline_segmentation.ipynb",
   "provenance": [
    {
     "file_id": "https://github.com/ostrokach/beam-notebooks/blob/master/notebooks/01-demo_pipeline_segmentation.ipynb",
     "timestamp": 1564776717759
    }
   ],
   "version": "0.3.2"
  },
  "kernelspec": {
   "display_name": "Python 3",
   "language": "python",
   "name": "python3"
  },
  "language_info": {
   "codemirror_mode": {
    "name": "ipython",
    "version": 3
   },
   "file_extension": ".py",
   "mimetype": "text/x-python",
   "name": "python",
   "nbconvert_exporter": "python",
   "pygments_lexer": "ipython3",
   "version": "3.7.3"
  }
 },
 "nbformat": 4,
 "nbformat_minor": 2
}
