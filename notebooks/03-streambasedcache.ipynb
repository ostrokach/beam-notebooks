{
 "cells": [
  {
   "cell_type": "markdown",
   "metadata": {
    "colab_type": "text",
    "id": "RUtedcvxeXG1"
   },
   "source": [
    "## Install dependencies"
   ]
  },
  {
   "cell_type": "code",
   "execution_count": null,
   "metadata": {
    "colab": {},
    "colab_type": "code",
    "id": "yFU0y74LKkZz"
   },
   "outputs": [],
   "source": [
    "try:\n",
    "    import google.colab\n",
    "    GOOGLE_COLAB = True\n",
    "except ImportError:\n",
    "    GOOGLE_COLAB = False"
   ]
  },
  {
   "cell_type": "code",
   "execution_count": null,
   "metadata": {
    "colab": {},
    "colab_type": "code",
    "id": "vwc8s3ZMviEy"
   },
   "outputs": [],
   "source": [
    "if GOOGLE_COLAB:\n",
    "    !sudo apt-get -yqq install libsnappy-dev"
   ]
  },
  {
   "cell_type": "code",
   "execution_count": null,
   "metadata": {
    "colab": {},
    "colab_type": "code",
    "id": "6JBBvTSgvcoD"
   },
   "outputs": [],
   "source": [
    "if GOOGLE_COLAB:\n",
    "    !pip install -q python-snappy Faker pyproj\n",
    "    !pip install -q -U bokeh"
   ]
  },
  {
   "cell_type": "code",
   "execution_count": null,
   "metadata": {
    "colab": {
     "base_uri": "https://localhost:8080/",
     "height": 901
    },
    "colab_type": "code",
    "executionInfo": {
     "elapsed": 9938,
     "status": "ok",
     "timestamp": 1561509815353,
     "user": {
      "displayName": "Alexey Strokach",
      "photoUrl": "https://lh4.googleusercontent.com/-CsQDBBcl3n0/AAAAAAAAAAI/AAAAAAAACyg/LJXILPSVwok/s64/photo.jpg",
      "userId": "14295043229009166910"
     },
     "user_tz": 420
    },
    "id": "zsUWt2AjsmWU",
    "outputId": "b2f917a3-9f89-4317-8a40-4e501de2415d"
   },
   "outputs": [],
   "source": [
    "if GOOGLE_COLAB:\n",
    "    !pip install \"git+https://github.com/ostrokach/beam.git@feature/streambasedcache#egg=apache_beam[gcp]&subdirectory=sdks/python\""
   ]
  },
  {
   "cell_type": "markdown",
   "metadata": {},
   "source": [
    "## Imports"
   ]
  },
  {
   "cell_type": "code",
   "execution_count": null,
   "metadata": {},
   "outputs": [],
   "source": [
    "from __future__ import division, print_function\n",
    "\n",
    "import atexit\n",
    "import contextlib\n",
    "import gc\n",
    "import itertools\n",
    "import json\n",
    "import logging\n",
    "import math\n",
    "import threading\n",
    "import time\n",
    "import uuid\n",
    "from datetime import datetime\n",
    "\n",
    "import apache_beam as beam\n",
    "import bokeh\n",
    "import pytz\n",
    "from apache_beam.io.gcp.pubsub import PubsubMessage\n",
    "from apache_beam.options.pipeline_options import (GoogleCloudOptions,\n",
    "                                                  PipelineOptions)\n",
    "from apache_beam.runners.interactive.caching import streambasedcache\n",
    "from apache_beam.runners.interactive.display import data_server\n",
    "from bokeh import plotting\n",
    "from google.cloud import pubsub_v1\n",
    "\n",
    "try:\n",
    "    from contextlib import ExitStack\n",
    "except ImportError:\n",
    "    from contextlib2 import ExitStack"
   ]
  },
  {
   "cell_type": "markdown",
   "metadata": {
    "colab_type": "text",
    "id": "hzzEnIEftMYZ"
   },
   "source": [
    "## Parameters"
   ]
  },
  {
   "cell_type": "markdown",
   "metadata": {},
   "source": [
    "### Configurable"
   ]
  },
  {
   "cell_type": "code",
   "execution_count": null,
   "metadata": {},
   "outputs": [],
   "source": [
    "NOTEBOOK_NAME = \"streambasedcache\""
   ]
  },
  {
   "cell_type": "code",
   "execution_count": null,
   "metadata": {},
   "outputs": [],
   "source": [
    "LOCAL = True"
   ]
  },
  {
   "cell_type": "code",
   "execution_count": null,
   "metadata": {},
   "outputs": [],
   "source": [
    "if GOOGLE_COLAB:\n",
    "    from google.colab import auth\n",
    "    auth.authenticate_user()"
   ]
  },
  {
   "cell_type": "code",
   "execution_count": null,
   "metadata": {
    "colab": {
     "base_uri": "https://localhost:8080/",
     "height": 0
    },
    "colab_type": "code",
    "executionInfo": {
     "elapsed": 10345,
     "status": "ok",
     "timestamp": 1561509815816,
     "user": {
      "displayName": "Alexey Strokach",
      "photoUrl": "https://lh4.googleusercontent.com/-CsQDBBcl3n0/AAAAAAAAAAI/AAAAAAAACyg/LJXILPSVwok/s64/photo.jpg",
      "userId": "14295043229009166910"
     },
     "user_tz": 420
    },
    "id": "IpuqYM-zsorD",
    "outputId": "28d072f4-bafc-483f-98e3-931be526e177"
   },
   "outputs": [],
   "source": [
    "#@title Google Cloud Project Info { display-mode: \"form\" }\n",
    "project_id = \"strokach-playground\" #@param {type:\"string\"}\n",
    "gcs_temp_location = \"gs://strokach/dataflow_temp\" #@param {type:\"string\"}"
   ]
  },
  {
   "cell_type": "markdown",
   "metadata": {},
   "source": [
    "### Derived"
   ]
  },
  {
   "cell_type": "code",
   "execution_count": null,
   "metadata": {
    "colab": {
     "base_uri": "https://localhost:8080/",
     "height": 0
    },
    "colab_type": "code",
    "executionInfo": {
     "elapsed": 10315,
     "status": "ok",
     "timestamp": 1561509815817,
     "user": {
      "displayName": "Alexey Strokach",
      "photoUrl": "https://lh4.googleusercontent.com/-CsQDBBcl3n0/AAAAAAAAAAI/AAAAAAAACyg/LJXILPSVwok/s64/photo.jpg",
      "userId": "14295043229009166910"
     },
     "user_tz": 420
    },
    "id": "Y2KieHGYrOKY",
    "outputId": "3ed360d6-651a-4477-eb12-5a7cab5bd4c8"
   },
   "outputs": [],
   "source": [
    "options = PipelineOptions(\n",
    "    project=project_id, temp_location=gcs_temp_location, streaming=True,\n",
    ")\n",
    "options.display_data()"
   ]
  },
  {
   "cell_type": "code",
   "execution_count": null,
   "metadata": {},
   "outputs": [],
   "source": [
    "if LOCAL:\n",
    "    HOST_IP = \"localhost\"\n",
    "else:\n",
    "    HOST_IP = subprocess.check_output([\"hostname\", \"-I\"], universal_newlines=True).strip().split()[0]"
   ]
  },
  {
   "cell_type": "code",
   "execution_count": null,
   "metadata": {},
   "outputs": [],
   "source": [
    "try:\n",
    "    %load_ext autoreload\n",
    "    %autoreload 2\n",
    "except Exception:\n",
    "    print(\"No autoreload\")"
   ]
  },
  {
   "cell_type": "code",
   "execution_count": null,
   "metadata": {},
   "outputs": [],
   "source": [
    "logging.getLogger(\"werkzeug\").setLevel(logging.WARNING)"
   ]
  },
  {
   "cell_type": "markdown",
   "metadata": {},
   "source": [
    "## Function definitions"
   ]
  },
  {
   "cell_type": "markdown",
   "metadata": {},
   "source": [
    "### General"
   ]
  },
  {
   "cell_type": "code",
   "execution_count": null,
   "metadata": {},
   "outputs": [],
   "source": [
    "def current_time_milliseconds():\n",
    "    unix_time = (datetime.utcnow() - datetime.utcfromtimestamp(0)).total_seconds()\n",
    "    # ReadFromPubSub expects timestamps to be in milliseconds\n",
    "    unix_time_milliseconds = int(unix_time * 1000)\n",
    "    return unix_time_milliseconds\n",
    "\n",
    "\n",
    "current_time_milliseconds()"
   ]
  },
  {
   "cell_type": "code",
   "execution_count": null,
   "metadata": {},
   "outputs": [],
   "source": [
    "def create_cache(location, cache_class, *args, **kwargs):\n",
    "    for _ in range(3):\n",
    "        full_location = \"{}-{}\".format(location, uuid.uuid4().hex[:8])\n",
    "        try:\n",
    "            return cache_class(full_location, *args, **kwargs)\n",
    "        except IOError as e:\n",
    "            pass\n",
    "    raise e"
   ]
  },
  {
   "cell_type": "markdown",
   "metadata": {},
   "source": [
    "### Plotting"
   ]
  },
  {
   "cell_type": "code",
   "execution_count": null,
   "metadata": {},
   "outputs": [],
   "source": []
  },
  {
   "cell_type": "markdown",
   "metadata": {},
   "source": [
    "## Run pipeline"
   ]
  },
  {
   "cell_type": "markdown",
   "metadata": {},
   "source": [
    "### Start publisher"
   ]
  },
  {
   "cell_type": "code",
   "execution_count": null,
   "metadata": {},
   "outputs": [],
   "source": [
    "def close_all_contexts():\n",
    "    for obj in gc.get_objects():\n",
    "        if isinstance(obj, ExitStack):\n",
    "            print(obj)\n",
    "            try:\n",
    "                obj.__exit__(None, None, None)\n",
    "            except Exception as e:\n",
    "                print(e)\n",
    "                \n",
    "close_all_contexts()\n",
    "atexit.register(close_all_contexts)"
   ]
  },
  {
   "cell_type": "code",
   "execution_count": null,
   "metadata": {},
   "outputs": [],
   "source": [
    "class EventPublisher(threading.Thread):\n",
    "    def __init__(self, topic_path, time_between_events):\n",
    "        \"\"\"\n",
    "        \n",
    "        Args:\n",
    "            time_between_events (float): Seconds\n",
    "        \"\"\"\n",
    "        super(EventPublisher, self).__init__()\n",
    "        self.topic_path = topic_path\n",
    "        self.time_between_events = time_between_events\n",
    "        self._stop_event = threading.Event()\n",
    "\n",
    "    def run(self):\n",
    "        pub_client = pubsub_v1.PublisherClient()\n",
    "        while not self.stopped():\n",
    "            timestamp = current_time_milliseconds()\n",
    "            element = {\"timestamp\": timestamp}\n",
    "            future = pub_client.publish(\n",
    "                self.topic_path,\n",
    "                json.dumps(element).encode(\"utf-8\"),\n",
    "                timestamp=str(timestamp),\n",
    "            )\n",
    "            time.sleep(self.time_between_events)\n",
    "\n",
    "    def stop(self):\n",
    "        self._stop_event.set()\n",
    "\n",
    "    def stopped(self):\n",
    "        return self._stop_event.is_set()\n",
    "\n",
    "    def __enter__(self):\n",
    "        self.start()\n",
    "        return self\n",
    "\n",
    "    def __exit__(self, *args):\n",
    "        self.stop()"
   ]
  },
  {
   "cell_type": "code",
   "execution_count": null,
   "metadata": {},
   "outputs": [],
   "source": [
    "@contextlib.contextmanager\n",
    "def create_pubsub_topic(project_id, prefix):\n",
    "    topic_path = \"projects/{}/topics/{}-{}\".format(project_id, prefix, uuid.uuid4().hex)\n",
    "    pub_client = pubsub_v1.PublisherClient()\n",
    "    pub_client.create_topic(topic_path)\n",
    "    try:\n",
    "        yield topic_path\n",
    "    finally:\n",
    "        pub_client.delete_topic(topic_path)"
   ]
  },
  {
   "cell_type": "code",
   "execution_count": null,
   "metadata": {},
   "outputs": [],
   "source": [
    "@contextlib.contextmanager\n",
    "def create_pubsub_subscription(topic_path, suffix=\"\"):\n",
    "    subscription_path = topic_path.replace(\"/topics/\", \"/subscriptions/\")\n",
    "    if suffix:\n",
    "        subscription_path += \"-{}\".format(suffix)\n",
    "    sub_client = pubsub_v1.SubscriberClient()\n",
    "    sub_client.create_subscription(subscription_path, topic_path)\n",
    "    try:\n",
    "        yield subscription_path\n",
    "    finally:\n",
    "        sub_client.delete_subscription(subscription_path)"
   ]
  },
  {
   "cell_type": "code",
   "execution_count": null,
   "metadata": {},
   "outputs": [],
   "source": [
    "@contextlib.contextmanager\n",
    "def run_pipeline(pipeline):\n",
    "    result = pipeline.run()\n",
    "    try:\n",
    "        yield result\n",
    "    finally:\n",
    "        result.cancel()"
   ]
  },
  {
   "cell_type": "markdown",
   "metadata": {},
   "source": [
    "### Pipeline-specific"
   ]
  },
  {
   "cell_type": "code",
   "execution_count": null,
   "metadata": {},
   "outputs": [],
   "source": [
    "def decode_pubsub_message(message):\n",
    "    data = json.loads(message.data.decode(\"utf-8\"))\n",
    "    return data"
   ]
  },
  {
   "cell_type": "code",
   "execution_count": null,
   "metadata": {},
   "outputs": [],
   "source": [
    "def milliseconds_to_iso(milliseconds, timezone=None):\n",
    "    import pytz\n",
    "\n",
    "    tzinfo = pytz.timezone(timezone) if timezone is not None else pytz.UTC\n",
    "    dt = (\n",
    "        datetime.utcfromtimestamp(milliseconds / 1000)\n",
    "        .replace(tzinfo=pytz.UTC)\n",
    "        .astimezone(tzinfo)\n",
    "    )\n",
    "    return dt.isoformat()\n",
    "\n",
    "\n",
    "milliseconds_to_iso(12)"
   ]
  },
  {
   "cell_type": "code",
   "execution_count": null,
   "metadata": {},
   "outputs": [],
   "source": [
    "def custom_sin(x, period_degrees=360):\n",
    "    import math\n",
    "    return (math.sin(x / period_degrees * 2 * math.pi))"
   ]
  },
  {
   "cell_type": "code",
   "execution_count": null,
   "metadata": {},
   "outputs": [],
   "source": [
    "def custom_cos(x, period_degrees=360):\n",
    "    import math\n",
    "    return (math.cos(x / period_degrees * 2 * math.pi))"
   ]
  },
  {
   "cell_type": "code",
   "execution_count": null,
   "metadata": {},
   "outputs": [],
   "source": [
    "def timestamp_element(element):\n",
    "    from apache_beam.transforms import window\n",
    "    from apache_beam.utils import timestamp\n",
    "\n",
    "    return window.TimestampedValue(\n",
    "        element, timestamp.Timestamp(micros=element[\"timestamp\"] * 1000)\n",
    "    )"
   ]
  },
  {
   "cell_type": "markdown",
   "metadata": {},
   "source": [
    "### Start publisher"
   ]
  },
  {
   "cell_type": "code",
   "execution_count": null,
   "metadata": {},
   "outputs": [],
   "source": [
    "try:\n",
    "    publisher_stack.__exit__(None, None, None)\n",
    "except NameError:\n",
    "    pass\n",
    "\n",
    "publisher_stack = ExitStack()\n",
    "\n",
    "input_topic = publisher_stack.enter_context(create_pubsub_topic(project_id, \"event-stream\"))\n",
    "publisher = publisher_stack.enter_context(EventPublisher(input_topic, time_between_events=0.9))"
   ]
  },
  {
   "cell_type": "markdown",
   "metadata": {},
   "source": [
    "### Read from topic"
   ]
  },
  {
   "cell_type": "code",
   "execution_count": null,
   "metadata": {},
   "outputs": [],
   "source": [
    "try:\n",
    "    pipeline_stack.__exit__(None, None, None)\n",
    "except NameError:\n",
    "    pass\n",
    "\n",
    "pipeline_stack = ExitStack()\n",
    "input_subscription = pipeline_stack.enter_context(\n",
    "    create_pubsub_subscription(input_topic, uuid.uuid4().hex[:8])\n",
    ")\n",
    "\n",
    "input_cache = create_cache(\n",
    "    \"projects/{}/topics/{}-temp\".format(project_id, NOTEBOOK_NAME),\n",
    "    streambasedcache.PubSubBasedCache,\n",
    "    #     with_attributes=[\"timestamp\"],\n",
    "    #     timestamp_attribute=\"timestamp\",\n",
    ")\n",
    "\n",
    "p = beam.Pipeline(options=options)\n",
    "\n",
    "# fmt: off\n",
    "out_pcoll = (\n",
    "    p\n",
    "    | \"Read\" >> beam.io.ReadFromPubSub(subscription=input_subscription, with_attributes=[\"timestamp\"], timestamp_attribute=\"timestamp\")\n",
    "    | \"Decode\" >> beam.Map(lambda message: json.loads(message.data.decode(\"utf-8\")))\n",
    "    | \"Add ISO 8601 timestamp\" >> beam.Map(lambda e: e.update({\"timestamp_iso\": milliseconds_to_iso(e[\"timestamp\"], timezone=\"US/Pacific\")}) or e)\n",
    "    | \"Write\" >> input_cache.writer()\n",
    ")\n",
    "# fmt: on\n",
    "\n",
    "pr = pipeline_stack.enter_context(run_pipeline(p))"
   ]
  },
  {
   "cell_type": "code",
   "execution_count": null,
   "metadata": {},
   "outputs": [],
   "source": [
    "for element in itertools.islice(input_cache.read(from_start=False, timeout=5), 10):\n",
    "    print(element)"
   ]
  },
  {
   "cell_type": "markdown",
   "metadata": {},
   "source": [
    "### Make a sine wave "
   ]
  },
  {
   "cell_type": "code",
   "execution_count": null,
   "metadata": {},
   "outputs": [],
   "source": [
    "current_time = current_time_milliseconds()\n",
    "print(current_time)"
   ]
  },
  {
   "cell_type": "code",
   "execution_count": null,
   "metadata": {},
   "outputs": [],
   "source": [
    "try:\n",
    "    sine_pipeline_stack.__exit__(None, None, None)\n",
    "except NameError:\n",
    "    pass\n",
    "\n",
    "sine_pipeline_stack = ExitStack()\n",
    "\n",
    "sine_cache = create_cache(\n",
    "    \"projects/{}/topics/{}-temp\".format(project_id, NOTEBOOK_NAME),\n",
    "    streambasedcache.PubSubBasedCache,\n",
    "    with_attributes=[\"timestamp\"],\n",
    "    timestamp_attribute=\"timestamp\",\n",
    ")\n",
    "\n",
    "p = beam.Pipeline(options=options)\n",
    "\n",
    "# Create a reference, so that we don't garbage collect ahead of time\n",
    "input_ = input_cache\n",
    "\n",
    "# fmt: off\n",
    "_ = (\n",
    "    p\n",
    "    | \"Read\" >> input_.reader(from_start=False)\n",
    "    | \"Add coords\" >> beam.Map(lambda e: e.update({\n",
    "        \"x\": e[\"timestamp\"],\n",
    "        \"y\": custom_sin((e[\"timestamp\"] - current_time), (100000 / 2))}) or e)\n",
    "    | \"Write\" >> sine_cache.writer()\n",
    ")\n",
    "# fmt: on\n",
    "\n",
    "pr = sine_pipeline_stack.enter_context(run_pipeline(p))"
   ]
  },
  {
   "cell_type": "code",
   "execution_count": null,
   "metadata": {},
   "outputs": [],
   "source": [
    "for element in itertools.islice(sine_cache.read(from_start=False, timeout=5), 10):\n",
    "    print(element)"
   ]
  },
  {
   "cell_type": "code",
   "execution_count": null,
   "metadata": {},
   "outputs": [],
   "source": [
    "def parse_cache_data(messages):\n",
    "    for timestamp, message in messages:\n",
    "        data = message.data\n",
    "        yield (data[\"x\"], data[\"y\"])"
   ]
  },
  {
   "cell_type": "code",
   "execution_count": null,
   "metadata": {},
   "outputs": [],
   "source": [
    "try:\n",
    "    sine_plot_stack.__exit__(None, None, None)\n",
    "except NameError:\n",
    "    pass\n",
    "\n",
    "sine_plot_stack = ExitStack()\n",
    "\n",
    "data_queue = sine_plot_stack.enter_context(sine_cache._read_to_queue(from_start=False))\n",
    "\n",
    "app = data_server.create_data_publisher_app(data_queue, processors=[parse_cache_data], timeout=5)\n",
    "data_endpoint = sine_plot_stack.enter_context(\n",
    "    data_server.ServerThread(\n",
    "        app, host=(\"localhost\" if LOCAL else \"0.0.0.0\"), port=0, threaded=False\n",
    "    )\n",
    ")"
   ]
  },
  {
   "cell_type": "code",
   "execution_count": null,
   "metadata": {},
   "outputs": [],
   "source": [
    "def generate_plot(data_url):\n",
    "    from bokeh.models import DatetimeTickFormatter\n",
    "\n",
    "    adapter = bokeh.models.CustomJS(\n",
    "        code=\"\"\"\n",
    "        const result = {x: [], y: []};\n",
    "        const pts = cb_data.response;\n",
    "        for (i=0; i<pts.length; i++) {\n",
    "            result.x.push(pts[i][0])\n",
    "            result.y.push(pts[i][1])\n",
    "        }\n",
    "        return result;\n",
    "    \"\"\"\n",
    "    )\n",
    "\n",
    "    source = bokeh.models.AjaxDataSource(\n",
    "        data_url=data_url, polling_interval=200, adapter=adapter, mode=\"append\"\n",
    "    )\n",
    "\n",
    "    p = plotting.figure(\n",
    "        plot_height=300,\n",
    "        plot_width=800,\n",
    "        background_fill_color=\"lightgrey\",\n",
    "        title=\"\",\n",
    "        y_range=(-1, 1),\n",
    "    )\n",
    "    p.circle(\"x\", \"y\", source=source)\n",
    "\n",
    "    p.x_range.follow = \"end\"\n",
    "    p.x_range.follow_interval = 100000\n",
    "\n",
    "    p.xaxis.major_label_orientation = math.pi / 4\n",
    "    p.xaxis.formatter = DatetimeTickFormatter(\n",
    "        milliseconds=[\"%H:%M:%S\"],\n",
    "        seconds=[\"%H:%M:%S\"],\n",
    "        minsec=[\"%H:%M:%S\"],\n",
    "        minutes=[\"%H:%M:%S\"],\n",
    "    )\n",
    "\n",
    "    return p"
   ]
  },
  {
   "cell_type": "code",
   "execution_count": null,
   "metadata": {},
   "outputs": [],
   "source": [
    "bokeh.io.reset_output()\n",
    "bokeh.io.output_file(\"sines.html\")\n",
    "# bokeh.io.output_notebook(hide_banner=True)\n",
    "\n",
    "data_url = \"http://{}:{}/data\".format(HOST_IP, data_endpoint.server.port)\n",
    "plot = generate_plot(data_url)\n",
    "bokeh.io.save(plot)"
   ]
  },
  {
   "cell_type": "code",
   "execution_count": null,
   "metadata": {},
   "outputs": [],
   "source": [
    "%%html\n",
    "<div style=\"text-align:left;padding:1em 0;\"> <h4><a style=\"text-decoration:none;\" href=\"https://www.zeitverschiebung.net/en/city/5391959\"><span style=\"color:gray;\">Current local time in</span><br />San Francisco, United States</a></h4> <iframe src=\"https://www.zeitverschiebung.net/clock-widget-iframe-v2?language=en&size=small&timezone=America%2FLos_Angeles\" width=\"400\" height=\"90\" frameborder=\"0\" seamless></iframe> </div>\n",
    "\n",
    "<div style=\"text-align:left;padding:1em 0;\"> \n",
    "<iframe src=\"sines.html\" width=\"100%\" height=\"350\" frameborder=\"0\" seamless></iframe>\n",
    "</div>"
   ]
  },
  {
   "cell_type": "code",
   "execution_count": null,
   "metadata": {},
   "outputs": [],
   "source": []
  }
 ],
 "metadata": {
  "kernelspec": {
   "display_name": "Python [conda env:beam-dev]",
   "language": "python",
   "name": "conda-env-beam-dev-py"
  },
  "language_info": {
   "codemirror_mode": {
    "name": "ipython",
    "version": 2
   },
   "file_extension": ".py",
   "mimetype": "text/x-python",
   "name": "python",
   "nbconvert_exporter": "python",
   "pygments_lexer": "ipython2",
   "version": "2.7.15"
  }
 },
 "nbformat": 4,
 "nbformat_minor": 2
}
