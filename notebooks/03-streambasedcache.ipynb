{
 "cells": [
  {
   "cell_type": "markdown",
   "metadata": {
    "colab_type": "text",
    "id": "RUtedcvxeXG1"
   },
   "source": [
    "## Install dependencies (Colab only)"
   ]
  },
  {
   "cell_type": "code",
   "execution_count": null,
   "metadata": {
    "colab": {},
    "colab_type": "code",
    "id": "yFU0y74LKkZz"
   },
   "outputs": [],
   "source": [
    "try:\n",
    "    import google.colab\n",
    "    GOOGLE_COLAB = True\n",
    "except ImportError:\n",
    "    GOOGLE_COLAB = False"
   ]
  },
  {
   "cell_type": "code",
   "execution_count": null,
   "metadata": {
    "colab": {},
    "colab_type": "code",
    "id": "vwc8s3ZMviEy"
   },
   "outputs": [],
   "source": [
    "if GOOGLE_COLAB:\n",
    "    !sudo apt-get -yqq install libsnappy-dev"
   ]
  },
  {
   "cell_type": "code",
   "execution_count": null,
   "metadata": {
    "colab": {},
    "colab_type": "code",
    "id": "6JBBvTSgvcoD"
   },
   "outputs": [],
   "source": [
    "if GOOGLE_COLAB:\n",
    "    !pip install -q \\\n",
    "        python-snappy bokeh \\\n",
    "        \"git+https://github.com/ostrokach/beam.git@e2aa065f2717cfbf0490514cf164b69c0beb0fab#egg=apache_beam[gcp]&subdirectory=sdks/python\""
   ]
  },
  {
   "cell_type": "code",
   "execution_count": null,
   "metadata": {},
   "outputs": [],
   "source": [
    "if GOOGLE_COLAB:\n",
    "    from google.colab import auth\n",
    "    auth.authenticate_user()"
   ]
  },
  {
   "cell_type": "code",
   "execution_count": null,
   "metadata": {},
   "outputs": [],
   "source": [
    "# @title Google Cloud Project Info { display-mode: \"form\" }\n",
    "import os\n",
    "if GOOGLE_COLAB or \"PUBSUB_EMULATOR_HOST\" not in os.environ:\n",
    "    os.environ[\"BEAM_PROJECT_ID\"] = \"strokach-playground\"  # @param {type:\"string\"}\n",
    "    os.environ[\"BEAM_TEMP_LOCATION\"] = \"gs://strokach/dataflow_temp\"  # @param {type:\"string\"}"
   ]
  },
  {
   "cell_type": "markdown",
   "metadata": {},
   "source": [
    "## Imports"
   ]
  },
  {
   "cell_type": "code",
   "execution_count": null,
   "metadata": {},
   "outputs": [],
   "source": [
    "import atexit\n",
    "import contextlib\n",
    "import gc\n",
    "import itertools\n",
    "import json\n",
    "import logging\n",
    "import math\n",
    "import os\n",
    "import sys\n",
    "import tempfile\n",
    "import threading\n",
    "import time\n",
    "import uuid\n",
    "from contextlib import ExitStack\n",
    "from datetime import datetime\n",
    "\n",
    "import apache_beam as beam\n",
    "import bokeh\n",
    "import pytz\n",
    "from apache_beam.io.gcp.pubsub import PubsubMessage\n",
    "from apache_beam.options.pipeline_options import GoogleCloudOptions, PipelineOptions\n",
    "from apache_beam.runners.direct.direct_runner import DirectRunner\n",
    "from apache_beam.runners.interactive.cache_manager import CacheManager\n",
    "from apache_beam.runners.interactive.caching import pubsub_utils, streambasedcache\n",
    "from apache_beam.runners.interactive.datasets import streaming_dataset\n",
    "from apache_beam.runners.interactive.display import data_server\n",
    "from apache_beam.runners.interactive.interactive_runner import InteractiveRunner\n",
    "from bokeh import plotting\n",
    "from bokeh.io import output_notebook, push_notebook, show\n",
    "from bokeh.models import DatetimeTickFormatter\n",
    "from google.cloud import pubsub"
   ]
  },
  {
   "cell_type": "code",
   "execution_count": null,
   "metadata": {},
   "outputs": [],
   "source": [
    "output_notebook()"
   ]
  },
  {
   "cell_type": "markdown",
   "metadata": {},
   "source": [
    "## Boilerplate"
   ]
  },
  {
   "cell_type": "code",
   "execution_count": null,
   "metadata": {},
   "outputs": [],
   "source": [
    "sys.argv = sys.argv[:1]\n",
    "logging.getLogger(\"werkzeug\").setLevel(logging.WARNING)"
   ]
  },
  {
   "cell_type": "markdown",
   "metadata": {
    "colab_type": "text",
    "id": "hzzEnIEftMYZ"
   },
   "source": [
    "## Parameters"
   ]
  },
  {
   "cell_type": "markdown",
   "metadata": {},
   "source": [
    "### Configurable"
   ]
  },
  {
   "cell_type": "code",
   "execution_count": null,
   "metadata": {},
   "outputs": [],
   "source": [
    "NOTEBOOK_NAME = \"streambasedcache\""
   ]
  },
  {
   "cell_type": "code",
   "execution_count": null,
   "metadata": {},
   "outputs": [],
   "source": [
    "project_id = os.getenv(\"BEAM_PROJECT_ID\", \"test-project\")\n",
    "try:\n",
    "    temp_location = os.environ[\"BEAM_TEMP_LOCATION\"]\n",
    "except KeyError:\n",
    "    _tempporary_directory = tempfile.TemporaryDirectory()\n",
    "    temp_location = _tempporary_directory.name"
   ]
  },
  {
   "cell_type": "markdown",
   "metadata": {},
   "source": [
    "### Derived"
   ]
  },
  {
   "cell_type": "code",
   "execution_count": null,
   "metadata": {},
   "outputs": [],
   "source": [
    "runner = DirectRunner()"
   ]
  },
  {
   "cell_type": "code",
   "execution_count": null,
   "metadata": {
    "colab": {
     "base_uri": "https://localhost:8080/",
     "height": 0
    },
    "colab_type": "code",
    "executionInfo": {
     "elapsed": 10315,
     "status": "ok",
     "timestamp": 1561509815817,
     "user": {
      "displayName": "Alexey Strokach",
      "photoUrl": "https://lh4.googleusercontent.com/-CsQDBBcl3n0/AAAAAAAAAAI/AAAAAAAACyg/LJXILPSVwok/s64/photo.jpg",
      "userId": "14295043229009166910"
     },
     "user_tz": 420
    },
    "id": "Y2KieHGYrOKY",
    "outputId": "3ed360d6-651a-4477-eb12-5a7cab5bd4c8"
   },
   "outputs": [],
   "source": [
    "options = PipelineOptions(\n",
    "    project=project_id, temp_location=temp_location, streaming=True,\n",
    ")\n",
    "options.display_data()"
   ]
  },
  {
   "cell_type": "code",
   "execution_count": null,
   "metadata": {},
   "outputs": [],
   "source": [
    "cache_manager = CacheManager(options)"
   ]
  },
  {
   "cell_type": "code",
   "execution_count": null,
   "metadata": {
    "heading_collapsed": true
   },
   "outputs": [],
   "source": [
    "try:\n",
    "    %load_ext autoreload\n",
    "    %autoreload 2\n",
    "except Exception:\n",
    "    print(\"No autoreload\")"
   ]
  },
  {
   "cell_type": "markdown",
   "metadata": {
    "heading_collapsed": true
   },
   "source": [
    "## Function definitions"
   ]
  },
  {
   "cell_type": "markdown",
   "metadata": {},
   "source": [
    "### Plotting"
   ]
  },
  {
   "cell_type": "code",
   "execution_count": null,
   "metadata": {},
   "outputs": [],
   "source": [
    "def gen_plot(source, **circle_kwargs):\n",
    "    plot = bokeh.plotting.figure(\n",
    "        plot_height=300, plot_width=800, background_fill_color=\"lightgrey\", title=\"\", y_range=(-1.1, 1.1)\n",
    "    )\n",
    "    plot.circle(\"x\", \"y\", source=source, **circle_kwargs)\n",
    "\n",
    "    plot.x_range.follow = \"end\"\n",
    "    plot.x_range.follow_interval = 100000\n",
    "\n",
    "    plot.xaxis.major_label_orientation = math.pi / 4\n",
    "    plot.xaxis.formatter = DatetimeTickFormatter(\n",
    "        milliseconds=[\"%H:%M:%S\"], seconds=[\"%H:%M:%S\"], minsec=[\"%H:%M:%S\"], minutes=[\"%H:%M:%S\"]\n",
    "    )\n",
    "    return plot"
   ]
  },
  {
   "cell_type": "markdown",
   "metadata": {
    "heading_collapsed": true
   },
   "source": [
    "### Pipeline-specific"
   ]
  },
  {
   "cell_type": "code",
   "execution_count": null,
   "metadata": {
    "hidden": true
   },
   "outputs": [],
   "source": [
    "def decode_pubsub_message(message):\n",
    "    data = json.loads(message.data.decode(\"utf-8\"))\n",
    "    return data"
   ]
  },
  {
   "cell_type": "code",
   "execution_count": null,
   "metadata": {
    "hidden": true
   },
   "outputs": [],
   "source": [
    "def milliseconds_to_iso(milliseconds, timezone=None):\n",
    "    import pytz\n",
    "\n",
    "    tzinfo = pytz.timezone(timezone) if timezone is not None else pytz.UTC\n",
    "    dt = (\n",
    "        datetime.utcfromtimestamp(milliseconds / 1000)\n",
    "        .replace(tzinfo=pytz.UTC)\n",
    "        .astimezone(tzinfo)\n",
    "    )\n",
    "    return dt.isoformat()\n",
    "\n",
    "\n",
    "milliseconds_to_iso(12)"
   ]
  },
  {
   "cell_type": "code",
   "execution_count": null,
   "metadata": {
    "hidden": true
   },
   "outputs": [],
   "source": [
    "def custom_sin(x, period_degrees=360):\n",
    "    import math\n",
    "    return (math.sin(x / period_degrees * 2 * math.pi))"
   ]
  },
  {
   "cell_type": "code",
   "execution_count": null,
   "metadata": {
    "hidden": true
   },
   "outputs": [],
   "source": [
    "def custom_cos(x, period_degrees=360):\n",
    "    import math\n",
    "    return (math.cos(x / period_degrees * 2 * math.pi))"
   ]
  },
  {
   "cell_type": "markdown",
   "metadata": {},
   "source": [
    "## Run pipeline"
   ]
  },
  {
   "cell_type": "markdown",
   "metadata": {},
   "source": [
    "### Start publisher"
   ]
  },
  {
   "cell_type": "code",
   "execution_count": null,
   "metadata": {},
   "outputs": [],
   "source": [
    "pub_client = pubsub.PublisherClient()"
   ]
  },
  {
   "cell_type": "code",
   "execution_count": null,
   "metadata": {},
   "outputs": [],
   "source": [
    "timestamps_topic = pubsub_utils.TemporaryPubsubTopic(project=project_id)\n",
    "\n",
    "timestamp_publisher = streaming_dataset.StreamingDataset(\n",
    "    \"timestamp\", pub_client, timestamps_topic.name, time_between_events=0.5\n",
    ")"
   ]
  },
  {
   "cell_type": "code",
   "execution_count": null,
   "metadata": {},
   "outputs": [],
   "source": [
    "timestamp_publisher.start()"
   ]
  },
  {
   "cell_type": "markdown",
   "metadata": {},
   "source": [
    "### Read from topic"
   ]
  },
  {
   "cell_type": "code",
   "execution_count": null,
   "metadata": {},
   "outputs": [],
   "source": [
    "input_subscription = pubsub_utils.TemporaryPubsubSubscription(project_id, timestamps_topic.name)"
   ]
  },
  {
   "cell_type": "code",
   "execution_count": null,
   "metadata": {},
   "outputs": [],
   "source": [
    "input_cache = cache_manager.create_cache_from_defaults(\"input\")"
   ]
  },
  {
   "cell_type": "code",
   "execution_count": null,
   "metadata": {},
   "outputs": [],
   "source": [
    "p = beam.Pipeline(options=options)\n",
    "_ = (\n",
    "    p\n",
    "    | \"Read\"\n",
    "    >> beam.io.ReadFromPubSub(subscription=input_subscription.name, with_attributes=True, timestamp_attribute=\"ts\")\n",
    "    | \"Decode\" >> beam.Map(lambda message: json.loads(message.data.decode(\"utf-8\")))\n",
    "    | \"Add timestamp\"\n",
    "    >> beam.Map(lambda e: e.update({\"ts_iso\": milliseconds_to_iso(e[\"ts\"], timezone=\"US/Pacific\")}) or e)\n",
    "    | \"Write\" >> input_cache.writer()\n",
    ")\n",
    "pr = p.run()"
   ]
  },
  {
   "cell_type": "code",
   "execution_count": null,
   "metadata": {},
   "outputs": [],
   "source": [
    "for element in itertools.islice(input_cache.read(seek_to_start=False, timeout=5), 10):\n",
    "    print(element.value)"
   ]
  },
  {
   "cell_type": "markdown",
   "metadata": {},
   "source": [
    "### Plot a sine wave "
   ]
  },
  {
   "cell_type": "code",
   "execution_count": null,
   "metadata": {
    "code_folding": []
   },
   "outputs": [],
   "source": [
    "sine_cache = cache_manager.create_cache_from_defaults(\"sine\")"
   ]
  },
  {
   "cell_type": "code",
   "execution_count": null,
   "metadata": {},
   "outputs": [],
   "source": [
    "# sin_pr.cancel()"
   ]
  },
  {
   "cell_type": "code",
   "execution_count": null,
   "metadata": {
    "code_folding": []
   },
   "outputs": [],
   "source": [
    "sin_pcoll = (\n",
    "    beam.Pipeline(options=options)\n",
    "    | \"Read\" >> input_cache.reader(seek_to_start=False)\n",
    "    | \"Add coords\" >> beam.Map(lambda e: e.update({\"x\": e[\"ts\"], \"y\": custom_sin((e[\"ts\"]), (100000 / 2))}) or e)\n",
    "    | \"Write\" >> sine_cache.writer()\n",
    ")\n",
    "\n",
    "sin_pr = sin_pcoll.pipeline.run()"
   ]
  },
  {
   "cell_type": "code",
   "execution_count": null,
   "metadata": {
    "code_folding": []
   },
   "outputs": [],
   "source": [
    "# Show top elements\n",
    "for element in itertools.islice(sine_cache.read(seek_to_start=False, timeout=5), 5):\n",
    "    print(element.value)"
   ]
  },
  {
   "cell_type": "code",
   "execution_count": null,
   "metadata": {},
   "outputs": [],
   "source": [
    "sin_sp = data_server.StreamingPlot(\n",
    "    sine_cache,\n",
    "    lambda e: {\"x\": [e.value[\"x\"]], \"y\": [e.value[\"y\"]]},\n",
    "    gen_plot,\n",
    "    rollover=100,\n",
    "    delay=2,\n",
    "    timeout=100,\n",
    "    seek_to_start=False,\n",
    ")"
   ]
  },
  {
   "cell_type": "code",
   "execution_count": null,
   "metadata": {},
   "outputs": [],
   "source": [
    "sin_sp.start()"
   ]
  },
  {
   "cell_type": "code",
   "execution_count": null,
   "metadata": {},
   "outputs": [],
   "source": [
    "# sin_sp.stop()"
   ]
  },
  {
   "cell_type": "markdown",
   "metadata": {},
   "source": [
    "### Plot a cosine wave"
   ]
  },
  {
   "cell_type": "code",
   "execution_count": null,
   "metadata": {},
   "outputs": [],
   "source": [
    "cosine_cache = cache_manager.create_cache_from_defaults(\"cosine\")"
   ]
  },
  {
   "cell_type": "code",
   "execution_count": null,
   "metadata": {},
   "outputs": [],
   "source": [
    "# cos_pr.cancel()"
   ]
  },
  {
   "cell_type": "code",
   "execution_count": null,
   "metadata": {},
   "outputs": [],
   "source": [
    "cos_pcoll = (\n",
    "    beam.Pipeline(options=options)\n",
    "    | \"Read\" >> input_cache.reader(seek_to_start=False)\n",
    "    | \"Add coords\" >> beam.Map(lambda e: e.update({\"x\": e[\"ts\"], \"y\": custom_cos((e[\"ts\"]), (100000 / 2))}) or e)\n",
    "    | \"Write\" >> cosine_cache.writer()\n",
    ")\n",
    "\n",
    "cos_pr = cos_pcoll.pipeline.run()"
   ]
  },
  {
   "cell_type": "code",
   "execution_count": null,
   "metadata": {
    "code_folding": [
     0
    ]
   },
   "outputs": [],
   "source": [
    "cos_sp = data_server.StreamingPlot(\n",
    "    cosine_cache,\n",
    "    lambda e: {\"x\": [e.value[\"x\"]], \"y\": [e.value[\"y\"] * 0.5]},\n",
    "    lambda *sources: gen_plot(sources[0], line_color=\"red\", fill_color=\"red\"),\n",
    "    rollover=100,\n",
    "    delay=2,\n",
    "    timeout=100,\n",
    "    seek_to_start=False,\n",
    "#     source_type=\"ajax\",\n",
    ")"
   ]
  },
  {
   "cell_type": "code",
   "execution_count": null,
   "metadata": {},
   "outputs": [],
   "source": [
    "cos_sp.start()"
   ]
  },
  {
   "cell_type": "code",
   "execution_count": null,
   "metadata": {},
   "outputs": [],
   "source": [
    "# cos_sp.stop()"
   ]
  }
 ],
 "metadata": {
  "kernelspec": {
   "display_name": "Python 3",
   "language": "python",
   "name": "python3"
  },
  "language_info": {
   "codemirror_mode": {
    "name": "ipython",
    "version": 3
   },
   "file_extension": ".py",
   "mimetype": "text/x-python",
   "name": "python",
   "nbconvert_exporter": "python",
   "pygments_lexer": "ipython3",
   "version": "3.7.3"
  },
  "toc": {
   "base_numbering": 1,
   "nav_menu": {},
   "number_sections": false,
   "sideBar": false,
   "skip_h1_title": false,
   "title_cell": "Table of Contents",
   "title_sidebar": "Contents",
   "toc_cell": false,
   "toc_position": {
    "height": "436px",
    "left": "35px",
    "top": "142px",
    "width": "276px"
   },
   "toc_section_display": true,
   "toc_window_display": true
  }
 },
 "nbformat": 4,
 "nbformat_minor": 4
}
