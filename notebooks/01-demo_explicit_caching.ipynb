{
 "cells": [
  {
   "cell_type": "markdown",
   "metadata": {
    "colab_type": "text",
    "id": "l_I5AgsgBQNV"
   },
   "source": [
    "# Explicit caching"
   ]
  },
  {
   "cell_type": "markdown",
   "metadata": {
    "colab_type": "text",
    "id": "5HWHfbFv9ZPx"
   },
   "source": [
    "## Summary"
   ]
  },
  {
   "cell_type": "markdown",
   "metadata": {
    "colab_type": "text",
    "id": "1hX41dsgBSvy"
   },
   "source": [
    "* Each time we run a segment, we explicitly start a new pipeline."
   ]
  },
  {
   "cell_type": "markdown",
   "metadata": {
    "colab_type": "text",
    "id": "sJTcp-OD9ZPz"
   },
   "source": [
    "## Install dependencies"
   ]
  },
  {
   "cell_type": "code",
   "execution_count": null,
   "metadata": {
    "colab": {},
    "colab_type": "code",
    "id": "IZaWd1wX9ZP0"
   },
   "outputs": [],
   "source": [
    "try:\n",
    "    import google.colab\n",
    "    GOOGLE_COLAB = True\n",
    "except ImportError:\n",
    "    GOOGLE_COLAB = False"
   ]
  },
  {
   "cell_type": "code",
   "execution_count": null,
   "metadata": {
    "colab": {
     "base_uri": "https://localhost:8080/",
     "height": 614
    },
    "colab_type": "code",
    "executionInfo": {
     "elapsed": 3681,
     "status": "ok",
     "timestamp": 1564779999608,
     "user": {
      "displayName": "Alexey Strokach",
      "photoUrl": "https://lh3.googleusercontent.com/a-/AAuE7mBOzxwy6MDI9o_4tjt-JDoEgOjgPuL-Gg4DRhKb=s64",
      "userId": "00492508659432265464"
     },
     "user_tz": 420
    },
    "id": "l_RguOZg9ZP3",
    "outputId": "74b3b017-fab4-4585-f4c2-56ca0727b87e"
   },
   "outputs": [],
   "source": [
    "if GOOGLE_COLAB:\n",
    "    !pip install \"git+https://github.com/ostrokach/beam.git@develop#egg=apache_beam&subdirectory=sdks/python\""
   ]
  },
  {
   "cell_type": "markdown",
   "metadata": {
    "colab_type": "text",
    "id": "MHekAnnU9ZP5"
   },
   "source": [
    "## Imports"
   ]
  },
  {
   "cell_type": "code",
   "execution_count": null,
   "metadata": {
    "colab": {
     "base_uri": "https://localhost:8080/",
     "height": 52
    },
    "colab_type": "code",
    "executionInfo": {
     "elapsed": 69,
     "status": "ok",
     "timestamp": 1564779985643,
     "user": {
      "displayName": "Alexey Strokach",
      "photoUrl": "https://lh3.googleusercontent.com/a-/AAuE7mBOzxwy6MDI9o_4tjt-JDoEgOjgPuL-Gg4DRhKb=s64",
      "userId": "00492508659432265464"
     },
     "user_tz": 420
    },
    "id": "1m4EVEQ39ZP6",
    "outputId": "3adf47bc-4c5b-4318-e833-cc414d3f5a73"
   },
   "outputs": [],
   "source": [
    "import itertools\n",
    "import sys\n",
    "import tempfile\n",
    "\n",
    "import apache_beam as beam\n",
    "from apache_beam.options.pipeline_options import PipelineOptions\n",
    "from apache_beam.runners.interactive.cache_manager import CacheManager"
   ]
  },
  {
   "cell_type": "code",
   "execution_count": null,
   "metadata": {
    "colab": {
     "base_uri": "https://localhost:8080/",
     "height": 34
    },
    "colab_type": "code",
    "executionInfo": {
     "elapsed": 53,
     "status": "ok",
     "timestamp": 1564779985646,
     "user": {
      "displayName": "Alexey Strokach",
      "photoUrl": "https://lh3.googleusercontent.com/a-/AAuE7mBOzxwy6MDI9o_4tjt-JDoEgOjgPuL-Gg4DRhKb=s64",
      "userId": "00492508659432265464"
     },
     "user_tz": 420
    },
    "id": "doBBLAO29ZP9",
    "outputId": "7abba1cc-0469-428b-9803-3f98352691ec"
   },
   "outputs": [],
   "source": [
    "beam.__version__"
   ]
  },
  {
   "cell_type": "code",
   "execution_count": null,
   "metadata": {
    "colab": {},
    "colab_type": "code",
    "id": "wm-GNaaN9ZP_"
   },
   "outputs": [],
   "source": [
    "%matplotlib inline"
   ]
  },
  {
   "cell_type": "code",
   "execution_count": null,
   "metadata": {},
   "outputs": [],
   "source": [
    "%load_ext autoreload"
   ]
  },
  {
   "cell_type": "markdown",
   "metadata": {},
   "source": [
    "## Boilerplate"
   ]
  },
  {
   "cell_type": "code",
   "execution_count": null,
   "metadata": {},
   "outputs": [],
   "source": [
    "sys.argv = sys.argv[:1]"
   ]
  },
  {
   "cell_type": "markdown",
   "metadata": {
    "colab_type": "text",
    "id": "TeMVZGvW9ZQD"
   },
   "source": [
    "## Parameters"
   ]
  },
  {
   "cell_type": "code",
   "execution_count": null,
   "metadata": {
    "colab": {},
    "colab_type": "code",
    "id": "fU6ioZjv9ZQD"
   },
   "outputs": [],
   "source": [
    "NOTEBOOK_NAME = \"demo_explicit_caching\""
   ]
  },
  {
   "cell_type": "code",
   "execution_count": null,
   "metadata": {
    "colab": {
     "base_uri": "https://localhost:8080/",
     "height": 33
    },
    "colab_type": "code",
    "executionInfo": {
     "elapsed": 465,
     "status": "ok",
     "timestamp": 1564777086605,
     "user": {
      "displayName": "Alexey Strokach",
      "photoUrl": "https://lh3.googleusercontent.com/a-/AAuE7mBOzxwy6MDI9o_4tjt-JDoEgOjgPuL-Gg4DRhKb=s64",
      "userId": "00492508659432265464"
     },
     "user_tz": 420
    },
    "id": "vo35HWxU9ZQG",
    "outputId": "1b90053d-ef12-4738-ac24-30f2752c155e"
   },
   "outputs": [],
   "source": [
    "temp_dir = tempfile.mkdtemp(prefix=\"beam-temp-\")\n",
    "temp_dir"
   ]
  },
  {
   "cell_type": "code",
   "execution_count": null,
   "metadata": {
    "colab": {
     "base_uri": "https://localhost:8080/",
     "height": 50
    },
    "colab_type": "code",
    "executionInfo": {
     "elapsed": 255,
     "status": "ok",
     "timestamp": 1564777086757,
     "user": {
      "displayName": "Alexey Strokach",
      "photoUrl": "https://lh3.googleusercontent.com/a-/AAuE7mBOzxwy6MDI9o_4tjt-JDoEgOjgPuL-Gg4DRhKb=s64",
      "userId": "00492508659432265464"
     },
     "user_tz": 420
    },
    "id": "A-ekxR2e9ZQI",
    "outputId": "0bbee10d-0f63-4d2f-b207-b7c289dcaaf3"
   },
   "outputs": [],
   "source": [
    "options = PipelineOptions(runner=\"DirectRunner\", temp_location=temp_dir)\n",
    "print(options.display_data())"
   ]
  },
  {
   "cell_type": "code",
   "execution_count": null,
   "metadata": {
    "colab": {},
    "colab_type": "code",
    "id": "rUXHo3wk9ZQL"
   },
   "outputs": [],
   "source": [
    "cache_manager = CacheManager(options)"
   ]
  },
  {
   "cell_type": "markdown",
   "metadata": {
    "colab_type": "text",
    "id": "k-UH0_h89ZQO"
   },
   "source": [
    "## Workflow"
   ]
  },
  {
   "cell_type": "markdown",
   "metadata": {
    "colab_type": "text",
    "id": "H_8mMQP59ZQP"
   },
   "source": [
    "### Populate input cache"
   ]
  },
  {
   "cell_type": "code",
   "execution_count": null,
   "metadata": {
    "colab": {},
    "colab_type": "code",
    "id": "4HEUzkCh9ZQP"
   },
   "outputs": [],
   "source": [
    "input_cache = cache_manager.create_cache_from_defaults()\n",
    "\n",
    "with beam.Pipeline(options=options) as p:\n",
    "    _ = (\n",
    "        #\n",
    "        p\n",
    "        | beam.Create(list(range(10)))\n",
    "        | input_cache.writer()\n",
    "    )"
   ]
  },
  {
   "cell_type": "code",
   "execution_count": null,
   "metadata": {
    "colab": {
     "base_uri": "https://localhost:8080/",
     "height": 100
    },
    "colab_type": "code",
    "executionInfo": {
     "elapsed": 1028,
     "status": "ok",
     "timestamp": 1564777490896,
     "user": {
      "displayName": "Alexey Strokach",
      "photoUrl": "https://lh3.googleusercontent.com/a-/AAuE7mBOzxwy6MDI9o_4tjt-JDoEgOjgPuL-Gg4DRhKb=s64",
      "userId": "00492508659432265464"
     },
     "user_tz": 420
    },
    "id": "0XLzd0HE9ZQS",
    "outputId": "6f4d4559-2527-4215-8287-f1831691fd4f"
   },
   "outputs": [],
   "source": [
    "for i in itertools.islice(input_cache.read(), 5):\n",
    "    print(i)"
   ]
  },
  {
   "cell_type": "markdown",
   "metadata": {
    "colab_type": "text",
    "id": "G_COBH5S9ZQV"
   },
   "source": [
    "### Squares"
   ]
  },
  {
   "cell_type": "code",
   "execution_count": null,
   "metadata": {
    "colab": {},
    "colab_type": "code",
    "id": "LwlQN_g99ZQV"
   },
   "outputs": [],
   "source": [
    "squares_cache = cache_manager.create_cache_from_defaults()\n",
    "\n",
    "with beam.Pipeline(options=options) as p:\n",
    "    squares = (\n",
    "        #\n",
    "        p\n",
    "        | input_cache.reader()\n",
    "        | beam.Map(lambda e: e ** 2)\n",
    "        | squares_cache.writer()\n",
    "    )"
   ]
  },
  {
   "cell_type": "code",
   "execution_count": null,
   "metadata": {
    "colab": {
     "base_uri": "https://localhost:8080/",
     "height": 100
    },
    "colab_type": "code",
    "executionInfo": {
     "elapsed": 2527,
     "status": "ok",
     "timestamp": 1564777492409,
     "user": {
      "displayName": "Alexey Strokach",
      "photoUrl": "https://lh3.googleusercontent.com/a-/AAuE7mBOzxwy6MDI9o_4tjt-JDoEgOjgPuL-Gg4DRhKb=s64",
      "userId": "00492508659432265464"
     },
     "user_tz": 420
    },
    "id": "rmJNgXcH9ZQZ",
    "outputId": "64bdf2bd-99a1-4d78-db12-9a5c23ff545a"
   },
   "outputs": [],
   "source": [
    "for i in itertools.islice(squares_cache.read(), 5):\n",
    "    print(i)"
   ]
  },
  {
   "cell_type": "markdown",
   "metadata": {
    "colab_type": "text",
    "id": "LqTzEhX29ZQc"
   },
   "source": [
    "<span style=\"color: blue\">Should we add `.reader()` as the default `.expand()` for cache?</span>"
   ]
  },
  {
   "cell_type": "markdown",
   "metadata": {
    "colab_type": "text",
    "id": "bM-UcbX59ZQc"
   },
   "source": [
    "### Cubes"
   ]
  },
  {
   "cell_type": "code",
   "execution_count": null,
   "metadata": {
    "colab": {},
    "colab_type": "code",
    "id": "s6QMu0GS9ZQd"
   },
   "outputs": [],
   "source": [
    "cubes_cache = cache_manager.create_cache_from_defaults()\n",
    "\n",
    "with beam.Pipeline(options=options) as p:\n",
    "    squares = (\n",
    "        #\n",
    "        p\n",
    "        | input_cache.reader()\n",
    "        | beam.Map(lambda e: e ** 3)\n",
    "        | cubes_cache.writer()\n",
    "    )"
   ]
  },
  {
   "cell_type": "code",
   "execution_count": null,
   "metadata": {
    "colab": {
     "base_uri": "https://localhost:8080/",
     "height": 100
    },
    "colab_type": "code",
    "executionInfo": {
     "elapsed": 2673,
     "status": "ok",
     "timestamp": 1564777492569,
     "user": {
      "displayName": "Alexey Strokach",
      "photoUrl": "https://lh3.googleusercontent.com/a-/AAuE7mBOzxwy6MDI9o_4tjt-JDoEgOjgPuL-Gg4DRhKb=s64",
      "userId": "00492508659432265464"
     },
     "user_tz": 420
    },
    "id": "oqAx9rzV9ZQf",
    "outputId": "86f3e31b-b1c2-489b-c83f-2a1c7b914b5e"
   },
   "outputs": [],
   "source": [
    "for i in itertools.islice(cubes_cache.read(), 5):\n",
    "    print(i)"
   ]
  },
  {
   "cell_type": "markdown",
   "metadata": {
    "colab_type": "text",
    "id": "LH8hq_Bt9ZQh"
   },
   "source": [
    "### Plot"
   ]
  },
  {
   "cell_type": "code",
   "execution_count": null,
   "metadata": {
    "colab": {
     "base_uri": "https://localhost:8080/",
     "height": 268
    },
    "colab_type": "code",
    "executionInfo": {
     "elapsed": 2855,
     "status": "ok",
     "timestamp": 1564777492760,
     "user": {
      "displayName": "Alexey Strokach",
      "photoUrl": "https://lh3.googleusercontent.com/a-/AAuE7mBOzxwy6MDI9o_4tjt-JDoEgOjgPuL-Gg4DRhKb=s64",
      "userId": "00492508659432265464"
     },
     "user_tz": 420
    },
    "id": "s9R8TEjm9ZQi",
    "outputId": "d0292ea9-4dd2-454b-d4d8-cc82d1ef0166"
   },
   "outputs": [],
   "source": [
    "init_list = list(range(10))\n",
    "squares_list = sorted(squares_cache.read())\n",
    "cubes_list = sorted(cubes_cache.read())\n",
    "\n",
    "from matplotlib import pyplot as plt\n",
    "plt.scatter(init_list, squares_list, label='squares', color='red')\n",
    "plt.scatter(init_list, cubes_list, label='cubes', color='blue')\n",
    "plt.legend(loc='upper left')\n",
    "plt.show()"
   ]
  },
  {
   "cell_type": "code",
   "execution_count": null,
   "metadata": {
    "colab": {},
    "colab_type": "code",
    "id": "y0Mn-kLm9ZQk"
   },
   "outputs": [],
   "source": []
  }
 ],
 "metadata": {
  "colab": {
   "collapsed_sections": [],
   "name": "Copy of 01-demo_explicit_caching.ipynb",
   "provenance": [
    {
     "file_id": "https://github.com/ostrokach/beam-notebooks/blob/master/notebooks/01-demo_explicit_caching.ipynb",
     "timestamp": 1564776712135
    }
   ],
   "version": "0.3.2"
  },
  "kernelspec": {
   "display_name": "Python [conda env:beam-dev]",
   "language": "python",
   "name": "conda-env-beam-dev-py"
  },
  "language_info": {
   "codemirror_mode": {
    "name": "ipython",
    "version": 2
   },
   "file_extension": ".py",
   "mimetype": "text/x-python",
   "name": "python",
   "nbconvert_exporter": "python",
   "pygments_lexer": "ipython2",
   "version": "2.7.15"
  }
 },
 "nbformat": 4,
 "nbformat_minor": 2
}
