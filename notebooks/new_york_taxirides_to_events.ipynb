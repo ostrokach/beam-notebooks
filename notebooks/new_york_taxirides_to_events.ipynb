{
 "cells": [
  {
   "cell_type": "markdown",
   "metadata": {
    "colab_type": "text",
    "id": "bYniTY18yHx2"
   },
   "source": [
    "# New York Taxirides to Events"
   ]
  },
  {
   "cell_type": "markdown",
   "metadata": {
    "colab_type": "text",
    "id": "5zc3pwq0smN-"
   },
   "source": [
    "## Imports"
   ]
  },
  {
   "cell_type": "code",
   "execution_count": 1,
   "metadata": {
    "colab": {},
    "colab_type": "code",
    "id": "EwceiH15eVt-"
   },
   "outputs": [],
   "source": [
    "import concurrent.futures\n",
    "import itertools\n",
    "import os\n",
    "import os.path as op\n",
    "import shutil\n",
    "import time\n",
    "import uuid\n",
    "from collections import Counter\n",
    "from datetime import datetime\n",
    "\n",
    "import numpy as np\n",
    "import pandas as pd\n",
    "import pyarrow as pa\n",
    "import pyarrow.parquet as pq\n",
    "import pyproj\n",
    "import pytz\n",
    "import requests\n",
    "import tqdm"
   ]
  },
  {
   "cell_type": "code",
   "execution_count": 2,
   "metadata": {},
   "outputs": [],
   "source": [
    "pd.set_option(\"max_columns\", 100)\n",
    "pd.set_option(\"max_rows\", 1000)"
   ]
  },
  {
   "cell_type": "code",
   "execution_count": 3,
   "metadata": {},
   "outputs": [],
   "source": [
    "%matplotlib inline"
   ]
  },
  {
   "cell_type": "markdown",
   "metadata": {
    "colab_type": "text",
    "id": "hzzEnIEftMYZ"
   },
   "source": [
    "## Parameters"
   ]
  },
  {
   "cell_type": "code",
   "execution_count": 4,
   "metadata": {},
   "outputs": [],
   "source": [
    "NOTEBOOK_NAME = \"new_york_taxirides_to_events\"\n",
    "try:\n",
    "    os.mkdir(NOTEBOOK_NAME)\n",
    "except OSError:\n",
    "    pass"
   ]
  },
  {
   "cell_type": "code",
   "execution_count": 5,
   "metadata": {},
   "outputs": [],
   "source": [
    "URLS = [\n",
    "    \"https://s3.amazonaws.com/nyc-tlc/trip+data/yellow_tripdata_2015-12.csv\",\n",
    "    \"https://s3.amazonaws.com/nyc-tlc/trip+data/yellow_tripdata_2016-01.csv\",\n",
    "]"
   ]
  },
  {
   "cell_type": "code",
   "execution_count": 6,
   "metadata": {},
   "outputs": [],
   "source": [
    "try:\n",
    "    %load_ext autoreload\n",
    "    %autoreload 2\n",
    "except Exception:\n",
    "    print(\"No autoreload\")"
   ]
  },
  {
   "cell_type": "markdown",
   "metadata": {
    "toc-hr-collapsed": false
   },
   "source": [
    "## Create events dataset"
   ]
  },
  {
   "cell_type": "markdown",
   "metadata": {},
   "source": [
    "### Load New York taxirides data"
   ]
  },
  {
   "cell_type": "code",
   "execution_count": 7,
   "metadata": {},
   "outputs": [],
   "source": [
    "def download_file(url, outfile):\n",
    "    with requests.get(url, stream=True) as r:\n",
    "        with open(outfile, 'wb') as f:\n",
    "            shutil.copyfileobj(r.raw, f)\n",
    "    return outfile"
   ]
  },
  {
   "cell_type": "code",
   "execution_count": 8,
   "metadata": {},
   "outputs": [],
   "source": [
    "dfs = []\n",
    "for url in URLS:\n",
    "    output_file = os.path.join(NOTEBOOK_NAME, url.split(\"/\")[-1])\n",
    "    try:\n",
    "        df = pd.read_csv(output_file)\n",
    "    except IOError:\n",
    "        download_file(URL, output_file)\n",
    "        df = pd.read_csv(output_file)\n",
    "    dfs.append(df)\n",
    "        \n",
    "new_york_taxirides = pd.concat(dfs, ignore_index=True)"
   ]
  },
  {
   "cell_type": "code",
   "execution_count": 9,
   "metadata": {},
   "outputs": [
    {
     "data": {
      "text/html": [
       "<div>\n",
       "<style scoped>\n",
       "    .dataframe tbody tr th:only-of-type {\n",
       "        vertical-align: middle;\n",
       "    }\n",
       "\n",
       "    .dataframe tbody tr th {\n",
       "        vertical-align: top;\n",
       "    }\n",
       "\n",
       "    .dataframe thead th {\n",
       "        text-align: right;\n",
       "    }\n",
       "</style>\n",
       "<table border=\"1\" class=\"dataframe\">\n",
       "  <thead>\n",
       "    <tr style=\"text-align: right;\">\n",
       "      <th></th>\n",
       "      <th>VendorID</th>\n",
       "      <th>tpep_pickup_datetime</th>\n",
       "      <th>tpep_dropoff_datetime</th>\n",
       "      <th>passenger_count</th>\n",
       "      <th>trip_distance</th>\n",
       "      <th>pickup_longitude</th>\n",
       "      <th>pickup_latitude</th>\n",
       "      <th>RatecodeID</th>\n",
       "      <th>store_and_fwd_flag</th>\n",
       "      <th>dropoff_longitude</th>\n",
       "      <th>dropoff_latitude</th>\n",
       "      <th>payment_type</th>\n",
       "      <th>fare_amount</th>\n",
       "      <th>extra</th>\n",
       "      <th>mta_tax</th>\n",
       "      <th>tip_amount</th>\n",
       "      <th>tolls_amount</th>\n",
       "      <th>improvement_surcharge</th>\n",
       "      <th>total_amount</th>\n",
       "    </tr>\n",
       "  </thead>\n",
       "  <tbody>\n",
       "    <tr>\n",
       "      <th>0</th>\n",
       "      <td>2</td>\n",
       "      <td>2015-12-01 00:00:00</td>\n",
       "      <td>2015-12-01 00:05:16</td>\n",
       "      <td>5</td>\n",
       "      <td>0.96</td>\n",
       "      <td>-73.979942</td>\n",
       "      <td>40.765381</td>\n",
       "      <td>1</td>\n",
       "      <td>N</td>\n",
       "      <td>-73.966309</td>\n",
       "      <td>40.763088</td>\n",
       "      <td>1</td>\n",
       "      <td>5.5</td>\n",
       "      <td>0.5</td>\n",
       "      <td>0.5</td>\n",
       "      <td>1.00</td>\n",
       "      <td>0.0</td>\n",
       "      <td>0.3</td>\n",
       "      <td>7.80</td>\n",
       "    </tr>\n",
       "    <tr>\n",
       "      <th>1</th>\n",
       "      <td>2</td>\n",
       "      <td>2015-12-01 00:00:00</td>\n",
       "      <td>2015-12-01 00:00:00</td>\n",
       "      <td>2</td>\n",
       "      <td>2.69</td>\n",
       "      <td>-73.972336</td>\n",
       "      <td>40.762379</td>\n",
       "      <td>1</td>\n",
       "      <td>N</td>\n",
       "      <td>-73.993629</td>\n",
       "      <td>40.745998</td>\n",
       "      <td>1</td>\n",
       "      <td>21.5</td>\n",
       "      <td>0.0</td>\n",
       "      <td>0.5</td>\n",
       "      <td>3.34</td>\n",
       "      <td>0.0</td>\n",
       "      <td>0.3</td>\n",
       "      <td>25.64</td>\n",
       "    </tr>\n",
       "  </tbody>\n",
       "</table>\n",
       "</div>"
      ],
      "text/plain": [
       "   VendorID tpep_pickup_datetime tpep_dropoff_datetime  passenger_count  \\\n",
       "0         2  2015-12-01 00:00:00   2015-12-01 00:05:16                5   \n",
       "1         2  2015-12-01 00:00:00   2015-12-01 00:00:00                2   \n",
       "\n",
       "   trip_distance  pickup_longitude  pickup_latitude  RatecodeID  \\\n",
       "0           0.96        -73.979942        40.765381           1   \n",
       "1           2.69        -73.972336        40.762379           1   \n",
       "\n",
       "  store_and_fwd_flag  dropoff_longitude  dropoff_latitude  payment_type  \\\n",
       "0                  N         -73.966309         40.763088             1   \n",
       "1                  N         -73.993629         40.745998             1   \n",
       "\n",
       "   fare_amount  extra  mta_tax  tip_amount  tolls_amount  \\\n",
       "0          5.5    0.5      0.5        1.00           0.0   \n",
       "1         21.5    0.0      0.5        3.34           0.0   \n",
       "\n",
       "   improvement_surcharge  total_amount  \n",
       "0                    0.3          7.80  \n",
       "1                    0.3         25.64  "
      ]
     },
     "execution_count": 9,
     "metadata": {},
     "output_type": "execute_result"
    }
   ],
   "source": [
    "new_york_taxirides.head(2)"
   ]
  },
  {
   "cell_type": "markdown",
   "metadata": {},
   "source": [
    "### Validate data"
   ]
  },
  {
   "cell_type": "code",
   "execution_count": 10,
   "metadata": {},
   "outputs": [],
   "source": [
    "assert len(new_york_taxirides) > (0.7 * len(new_york_taxirides[[\"pickup_longitude\", \"pickup_latitude\"]].drop_duplicates()))"
   ]
  },
  {
   "cell_type": "code",
   "execution_count": 11,
   "metadata": {},
   "outputs": [],
   "source": [
    "assert len(new_york_taxirides) > (0.7 * len(new_york_taxirides[[\"dropoff_longitude\", \"dropoff_latitude\"]].drop_duplicates()))"
   ]
  },
  {
   "cell_type": "markdown",
   "metadata": {},
   "source": [
    "### Create `events_df`"
   ]
  },
  {
   "cell_type": "code",
   "execution_count": 12,
   "metadata": {},
   "outputs": [],
   "source": [
    "num_events = len(new_york_taxirides)\n",
    "\n",
    "events = {\n",
    "    \"event_type\": np.array([\"start\"] * num_events + [\"stop\"] * num_events),\n",
    "    # TODO(ostrokach): this should be a pyarrow timestamp type.\n",
    "    \"timestamp\": np.r_[\n",
    "        new_york_taxirides[\"tpep_pickup_datetime\"],\n",
    "        new_york_taxirides[\"tpep_dropoff_datetime\"],\n",
    "    ],\n",
    "    \"longitude\": np.r_[\n",
    "        new_york_taxirides[\"pickup_longitude\"], new_york_taxirides[\"dropoff_longitude\"]\n",
    "    ],\n",
    "    \"latitude\": np.r_[\n",
    "        new_york_taxirides[\"pickup_latitude\"], new_york_taxirides[\"dropoff_latitude\"]\n",
    "    ],\n",
    "    \"trip_miles\": np.r_[\n",
    "        np.array([np.nan] * num_events), new_york_taxirides[\"trip_distance\"]\n",
    "    ],\n",
    "    \"trip_total\": np.r_[\n",
    "        np.array([np.nan] * num_events), new_york_taxirides[\"total_amount\"]\n",
    "    ],\n",
    "}"
   ]
  },
  {
   "cell_type": "code",
   "execution_count": 13,
   "metadata": {},
   "outputs": [],
   "source": [
    "events_df = pd.DataFrame(events)"
   ]
  },
  {
   "cell_type": "markdown",
   "metadata": {},
   "source": [
    "### Add timestamp"
   ]
  },
  {
   "cell_type": "code",
   "execution_count": 14,
   "metadata": {},
   "outputs": [
    {
     "data": {
      "text/plain": [
       "1451606400.0"
      ]
     },
     "execution_count": 14,
     "metadata": {},
     "output_type": "execute_result"
    }
   ],
   "source": [
    "def timestamp_to_seconds(timestamp_str):\n",
    "    from datetime import datetime\n",
    "    import pytz\n",
    "\n",
    "    dt = datetime.strptime(timestamp_str, \"%Y-%m-%d %H:%M:%S\")\n",
    "    dt = dt.replace(tzinfo=pytz.UTC)  # .astimezone(pytz.timezone('America/Chicago'))\n",
    "    unix_dt = datetime.utcfromtimestamp(0).replace(tzinfo=pytz.UTC)\n",
    "    dt_delta = (dt - unix_dt).total_seconds()\n",
    "    return dt_delta\n",
    "\n",
    "timestamp_to_seconds(\"2016-01-01 00:00:00\")"
   ]
  },
  {
   "cell_type": "code",
   "execution_count": 15,
   "metadata": {},
   "outputs": [
    {
     "data": {
      "application/vnd.jupyter.widget-view+json": {
       "model_id": "90a3f71e1bc54a39a320eab9a4532f2f",
       "version_major": 2,
       "version_minor": 0
      },
      "text/plain": [
       "HBox(children=(IntProgress(value=0, max=44734862), HTML(value='')))"
      ]
     },
     "metadata": {},
     "output_type": "display_data"
    },
    {
     "name": "stdout",
     "output_type": "stream",
     "text": [
      "\n"
     ]
    }
   ],
   "source": [
    "with concurrent.futures.ProcessPoolExecutor() as p:\n",
    "    events_df[\"timestamp_seconds\"] = list(\n",
    "        tqdm.tqdm_notebook(\n",
    "            p.map(\n",
    "                timestamp_to_seconds,\n",
    "                (ts for ts in events_df[\"timestamp\"].values),\n",
    "                chunksize=1000,\n",
    "            ),\n",
    "            total=len(events_df),\n",
    "        )\n",
    "    )"
   ]
  },
  {
   "cell_type": "markdown",
   "metadata": {},
   "source": [
    "### Add UTML coords"
   ]
  },
  {
   "cell_type": "code",
   "execution_count": 16,
   "metadata": {},
   "outputs": [
    {
     "data": {
      "text/plain": [
       "(-9755232.661536282, 5143169.558268635)"
      ]
     },
     "execution_count": 16,
     "metadata": {},
     "output_type": "execute_result"
    }
   ],
   "source": [
    "def geographic_to_utm(longitude, latitude, _cache={}):\n",
    "    if (longitude, latitude) in _cache:\n",
    "        return _cache[(longitude, latitude)]\n",
    "\n",
    "    from pyproj import Proj, transform\n",
    "\n",
    "    x, y = transform(\n",
    "        Proj(init=\"epsg:4326\"), Proj(init=\"epsg:3857\"), longitude, latitude\n",
    "    )\n",
    "\n",
    "    _cache[(longitude, latitude)] = (x, y)\n",
    "    return x, y\n",
    "\n",
    "\n",
    "geographic_to_utm(-87.632746, 41.880994)"
   ]
  },
  {
   "cell_type": "code",
   "execution_count": 17,
   "metadata": {},
   "outputs": [],
   "source": [
    "r_major = 6378137.000\n",
    "\n",
    "events_df[\"utm_x\"] = (r_major * 2 * np.pi / 360) * events_df[\"longitude\"]\n",
    "scale = events_df[\"utm_x\"] / events_df[\"longitude\"]\n",
    "events_df[\"utm_y\"] = (\n",
    "    180.0 / np.pi * np.log(np.tan((np.pi / 4.0) + events_df[\"latitude\"] * (np.pi / 180.0 / 2.0))) * scale\n",
    ")\n",
    "events_df[\"utm_y\"] = events_df[\"utm_y\"].fillna(0)"
   ]
  },
  {
   "cell_type": "code",
   "execution_count": 18,
   "metadata": {},
   "outputs": [],
   "source": [
    "import unittest\n",
    "\n",
    "for row in itertools.islice(events_df.itertuples(), 100):\n",
    "    utm_x, utm_y = geographic_to_utm(row.longitude, row.latitude)\n",
    "    np.testing.assert_almost_equal(utm_x, row.utm_x)\n",
    "    np.testing.assert_almost_equal(utm_y, row.utm_y)"
   ]
  },
  {
   "cell_type": "markdown",
   "metadata": {},
   "source": [
    "### Sort table by timestamp"
   ]
  },
  {
   "cell_type": "code",
   "execution_count": 19,
   "metadata": {},
   "outputs": [],
   "source": [
    "events_df = events_df.sort_values(\"timestamp\", ascending=True)"
   ]
  },
  {
   "cell_type": "markdown",
   "metadata": {},
   "source": [
    "## Export to parquet"
   ]
  },
  {
   "cell_type": "code",
   "execution_count": 20,
   "metadata": {},
   "outputs": [
    {
     "data": {
      "text/html": [
       "<div>\n",
       "<style scoped>\n",
       "    .dataframe tbody tr th:only-of-type {\n",
       "        vertical-align: middle;\n",
       "    }\n",
       "\n",
       "    .dataframe tbody tr th {\n",
       "        vertical-align: top;\n",
       "    }\n",
       "\n",
       "    .dataframe thead th {\n",
       "        text-align: right;\n",
       "    }\n",
       "</style>\n",
       "<table border=\"1\" class=\"dataframe\">\n",
       "  <thead>\n",
       "    <tr style=\"text-align: right;\">\n",
       "      <th></th>\n",
       "      <th>event_type</th>\n",
       "      <th>timestamp</th>\n",
       "      <th>longitude</th>\n",
       "      <th>latitude</th>\n",
       "      <th>trip_miles</th>\n",
       "      <th>trip_total</th>\n",
       "      <th>timestamp_seconds</th>\n",
       "      <th>utm_x</th>\n",
       "      <th>utm_y</th>\n",
       "    </tr>\n",
       "  </thead>\n",
       "  <tbody>\n",
       "    <tr>\n",
       "      <th>28336433</th>\n",
       "      <td>stop</td>\n",
       "      <td>1900-01-01 00:00:00</td>\n",
       "      <td>0.000000</td>\n",
       "      <td>0.000000</td>\n",
       "      <td>0.00</td>\n",
       "      <td>0.00</td>\n",
       "      <td>-2.208989e+09</td>\n",
       "      <td>0.000000e+00</td>\n",
       "      <td>0.000000e+00</td>\n",
       "    </tr>\n",
       "    <tr>\n",
       "      <th>0</th>\n",
       "      <td>start</td>\n",
       "      <td>2015-12-01 00:00:00</td>\n",
       "      <td>-73.979942</td>\n",
       "      <td>40.765381</td>\n",
       "      <td>NaN</td>\n",
       "      <td>NaN</td>\n",
       "      <td>1.448928e+09</td>\n",
       "      <td>-8.235410e+06</td>\n",
       "      <td>4.977797e+06</td>\n",
       "    </tr>\n",
       "    <tr>\n",
       "      <th>22367433</th>\n",
       "      <td>stop</td>\n",
       "      <td>2015-12-01 00:00:00</td>\n",
       "      <td>-73.974548</td>\n",
       "      <td>40.791641</td>\n",
       "      <td>2.62</td>\n",
       "      <td>21.36</td>\n",
       "      <td>1.448928e+09</td>\n",
       "      <td>-8.234809e+06</td>\n",
       "      <td>4.981657e+06</td>\n",
       "    </tr>\n",
       "    <tr>\n",
       "      <th>22367432</th>\n",
       "      <td>stop</td>\n",
       "      <td>2015-12-01 00:00:00</td>\n",
       "      <td>-73.993629</td>\n",
       "      <td>40.745998</td>\n",
       "      <td>2.69</td>\n",
       "      <td>25.64</td>\n",
       "      <td>1.448928e+09</td>\n",
       "      <td>-8.236933e+06</td>\n",
       "      <td>4.974948e+06</td>\n",
       "    </tr>\n",
       "    <tr>\n",
       "      <th>1</th>\n",
       "      <td>start</td>\n",
       "      <td>2015-12-01 00:00:00</td>\n",
       "      <td>-73.972336</td>\n",
       "      <td>40.762379</td>\n",
       "      <td>NaN</td>\n",
       "      <td>NaN</td>\n",
       "      <td>1.448928e+09</td>\n",
       "      <td>-8.234563e+06</td>\n",
       "      <td>4.977356e+06</td>\n",
       "    </tr>\n",
       "  </tbody>\n",
       "</table>\n",
       "</div>"
      ],
      "text/plain": [
       "         event_type            timestamp  longitude   latitude  trip_miles  \\\n",
       "28336433       stop  1900-01-01 00:00:00   0.000000   0.000000        0.00   \n",
       "0             start  2015-12-01 00:00:00 -73.979942  40.765381         NaN   \n",
       "22367433       stop  2015-12-01 00:00:00 -73.974548  40.791641        2.62   \n",
       "22367432       stop  2015-12-01 00:00:00 -73.993629  40.745998        2.69   \n",
       "1             start  2015-12-01 00:00:00 -73.972336  40.762379         NaN   \n",
       "\n",
       "          trip_total  timestamp_seconds         utm_x         utm_y  \n",
       "28336433        0.00      -2.208989e+09  0.000000e+00  0.000000e+00  \n",
       "0                NaN       1.448928e+09 -8.235410e+06  4.977797e+06  \n",
       "22367433       21.36       1.448928e+09 -8.234809e+06  4.981657e+06  \n",
       "22367432       25.64       1.448928e+09 -8.236933e+06  4.974948e+06  \n",
       "1                NaN       1.448928e+09 -8.234563e+06  4.977356e+06  "
      ]
     },
     "execution_count": 20,
     "metadata": {},
     "output_type": "execute_result"
    }
   ],
   "source": [
    "events_df.head()"
   ]
  },
  {
   "cell_type": "code",
   "execution_count": 21,
   "metadata": {},
   "outputs": [],
   "source": [
    "events_df_filtered = events_df[\n",
    "    (events_df[\"timestamp\"] != \"1900-01-01 00:00:00\") &\n",
    "    (events_df[\"longitude\"] != 0) &\n",
    "    (events_df[\"latitude\"] != 0)\n",
    "]"
   ]
  },
  {
   "cell_type": "code",
   "execution_count": 22,
   "metadata": {},
   "outputs": [
    {
     "data": {
      "text/html": [
       "<div>\n",
       "<style scoped>\n",
       "    .dataframe tbody tr th:only-of-type {\n",
       "        vertical-align: middle;\n",
       "    }\n",
       "\n",
       "    .dataframe tbody tr th {\n",
       "        vertical-align: top;\n",
       "    }\n",
       "\n",
       "    .dataframe thead th {\n",
       "        text-align: right;\n",
       "    }\n",
       "</style>\n",
       "<table border=\"1\" class=\"dataframe\">\n",
       "  <thead>\n",
       "    <tr style=\"text-align: right;\">\n",
       "      <th></th>\n",
       "      <th>event_type</th>\n",
       "      <th>timestamp</th>\n",
       "      <th>longitude</th>\n",
       "      <th>latitude</th>\n",
       "      <th>trip_miles</th>\n",
       "      <th>trip_total</th>\n",
       "      <th>timestamp_seconds</th>\n",
       "      <th>utm_x</th>\n",
       "      <th>utm_y</th>\n",
       "    </tr>\n",
       "  </thead>\n",
       "  <tbody>\n",
       "    <tr>\n",
       "      <th>0</th>\n",
       "      <td>start</td>\n",
       "      <td>2015-12-01 00:00:00</td>\n",
       "      <td>-73.979942</td>\n",
       "      <td>40.765381</td>\n",
       "      <td>NaN</td>\n",
       "      <td>NaN</td>\n",
       "      <td>1.448928e+09</td>\n",
       "      <td>-8.235410e+06</td>\n",
       "      <td>4.977797e+06</td>\n",
       "    </tr>\n",
       "    <tr>\n",
       "      <th>22367433</th>\n",
       "      <td>stop</td>\n",
       "      <td>2015-12-01 00:00:00</td>\n",
       "      <td>-73.974548</td>\n",
       "      <td>40.791641</td>\n",
       "      <td>2.62</td>\n",
       "      <td>21.36</td>\n",
       "      <td>1.448928e+09</td>\n",
       "      <td>-8.234809e+06</td>\n",
       "      <td>4.981657e+06</td>\n",
       "    </tr>\n",
       "    <tr>\n",
       "      <th>22367432</th>\n",
       "      <td>stop</td>\n",
       "      <td>2015-12-01 00:00:00</td>\n",
       "      <td>-73.993629</td>\n",
       "      <td>40.745998</td>\n",
       "      <td>2.69</td>\n",
       "      <td>25.64</td>\n",
       "      <td>1.448928e+09</td>\n",
       "      <td>-8.236933e+06</td>\n",
       "      <td>4.974948e+06</td>\n",
       "    </tr>\n",
       "    <tr>\n",
       "      <th>1</th>\n",
       "      <td>start</td>\n",
       "      <td>2015-12-01 00:00:00</td>\n",
       "      <td>-73.972336</td>\n",
       "      <td>40.762379</td>\n",
       "      <td>NaN</td>\n",
       "      <td>NaN</td>\n",
       "      <td>1.448928e+09</td>\n",
       "      <td>-8.234563e+06</td>\n",
       "      <td>4.977356e+06</td>\n",
       "    </tr>\n",
       "    <tr>\n",
       "      <th>2</th>\n",
       "      <td>start</td>\n",
       "      <td>2015-12-01 00:00:00</td>\n",
       "      <td>-73.968849</td>\n",
       "      <td>40.764530</td>\n",
       "      <td>NaN</td>\n",
       "      <td>NaN</td>\n",
       "      <td>1.448928e+09</td>\n",
       "      <td>-8.234175e+06</td>\n",
       "      <td>4.977672e+06</td>\n",
       "    </tr>\n",
       "  </tbody>\n",
       "</table>\n",
       "</div>"
      ],
      "text/plain": [
       "         event_type            timestamp  longitude   latitude  trip_miles  \\\n",
       "0             start  2015-12-01 00:00:00 -73.979942  40.765381         NaN   \n",
       "22367433       stop  2015-12-01 00:00:00 -73.974548  40.791641        2.62   \n",
       "22367432       stop  2015-12-01 00:00:00 -73.993629  40.745998        2.69   \n",
       "1             start  2015-12-01 00:00:00 -73.972336  40.762379         NaN   \n",
       "2             start  2015-12-01 00:00:00 -73.968849  40.764530         NaN   \n",
       "\n",
       "          trip_total  timestamp_seconds         utm_x         utm_y  \n",
       "0                NaN       1.448928e+09 -8.235410e+06  4.977797e+06  \n",
       "22367433       21.36       1.448928e+09 -8.234809e+06  4.981657e+06  \n",
       "22367432       25.64       1.448928e+09 -8.236933e+06  4.974948e+06  \n",
       "1                NaN       1.448928e+09 -8.234563e+06  4.977356e+06  \n",
       "2                NaN       1.448928e+09 -8.234175e+06  4.977672e+06  "
      ]
     },
     "execution_count": 22,
     "metadata": {},
     "output_type": "execute_result"
    }
   ],
   "source": [
    "events_df_filtered.head()"
   ]
  },
  {
   "cell_type": "code",
   "execution_count": 23,
   "metadata": {},
   "outputs": [
    {
     "name": "stdout",
     "output_type": "stream",
     "text": [
      "new_york_taxirides_to_events/new-york-taxi-events.parquet\n"
     ]
    }
   ],
   "source": [
    "output_file = op.join(NOTEBOOK_NAME, \"new-york-taxi-events.parquet\")\n",
    "print(output_file)"
   ]
  },
  {
   "cell_type": "code",
   "execution_count": 24,
   "metadata": {},
   "outputs": [],
   "source": [
    "table = pa.Table.from_pandas(events_df_filtered, preserve_index=False)\n",
    "pq.write_table(table, output_file, row_group_size=20000, flavor=\"spark\", version=\"2.0\")"
   ]
  },
  {
   "cell_type": "code",
   "execution_count": 25,
   "metadata": {},
   "outputs": [
    {
     "data": {
      "text/plain": [
       "2204"
      ]
     },
     "execution_count": 25,
     "metadata": {},
     "output_type": "execute_result"
    }
   ],
   "source": [
    "pt = pq.ParquetFile(output_file)\n",
    "pt.num_row_groups"
   ]
  },
  {
   "cell_type": "code",
   "execution_count": 26,
   "metadata": {},
   "outputs": [
    {
     "data": {
      "text/html": [
       "<div>\n",
       "<style scoped>\n",
       "    .dataframe tbody tr th:only-of-type {\n",
       "        vertical-align: middle;\n",
       "    }\n",
       "\n",
       "    .dataframe tbody tr th {\n",
       "        vertical-align: top;\n",
       "    }\n",
       "\n",
       "    .dataframe thead th {\n",
       "        text-align: right;\n",
       "    }\n",
       "</style>\n",
       "<table border=\"1\" class=\"dataframe\">\n",
       "  <thead>\n",
       "    <tr style=\"text-align: right;\">\n",
       "      <th></th>\n",
       "      <th>event_type</th>\n",
       "      <th>timestamp</th>\n",
       "      <th>longitude</th>\n",
       "      <th>latitude</th>\n",
       "      <th>trip_miles</th>\n",
       "      <th>trip_total</th>\n",
       "      <th>timestamp_seconds</th>\n",
       "      <th>utm_x</th>\n",
       "      <th>utm_y</th>\n",
       "    </tr>\n",
       "  </thead>\n",
       "  <tbody>\n",
       "    <tr>\n",
       "      <th>0</th>\n",
       "      <td>start</td>\n",
       "      <td>2015-12-01 00:00:00</td>\n",
       "      <td>-73.979942</td>\n",
       "      <td>40.765381</td>\n",
       "      <td>NaN</td>\n",
       "      <td>NaN</td>\n",
       "      <td>1.448928e+09</td>\n",
       "      <td>-8.235410e+06</td>\n",
       "      <td>4.977797e+06</td>\n",
       "    </tr>\n",
       "    <tr>\n",
       "      <th>1</th>\n",
       "      <td>stop</td>\n",
       "      <td>2015-12-01 00:00:00</td>\n",
       "      <td>-73.974548</td>\n",
       "      <td>40.791641</td>\n",
       "      <td>2.62</td>\n",
       "      <td>21.36</td>\n",
       "      <td>1.448928e+09</td>\n",
       "      <td>-8.234809e+06</td>\n",
       "      <td>4.981657e+06</td>\n",
       "    </tr>\n",
       "    <tr>\n",
       "      <th>2</th>\n",
       "      <td>stop</td>\n",
       "      <td>2015-12-01 00:00:00</td>\n",
       "      <td>-73.993629</td>\n",
       "      <td>40.745998</td>\n",
       "      <td>2.69</td>\n",
       "      <td>25.64</td>\n",
       "      <td>1.448928e+09</td>\n",
       "      <td>-8.236933e+06</td>\n",
       "      <td>4.974948e+06</td>\n",
       "    </tr>\n",
       "    <tr>\n",
       "      <th>3</th>\n",
       "      <td>start</td>\n",
       "      <td>2015-12-01 00:00:00</td>\n",
       "      <td>-73.972336</td>\n",
       "      <td>40.762379</td>\n",
       "      <td>NaN</td>\n",
       "      <td>NaN</td>\n",
       "      <td>1.448928e+09</td>\n",
       "      <td>-8.234563e+06</td>\n",
       "      <td>4.977356e+06</td>\n",
       "    </tr>\n",
       "    <tr>\n",
       "      <th>4</th>\n",
       "      <td>start</td>\n",
       "      <td>2015-12-01 00:00:00</td>\n",
       "      <td>-73.968849</td>\n",
       "      <td>40.764530</td>\n",
       "      <td>NaN</td>\n",
       "      <td>NaN</td>\n",
       "      <td>1.448928e+09</td>\n",
       "      <td>-8.234175e+06</td>\n",
       "      <td>4.977672e+06</td>\n",
       "    </tr>\n",
       "  </tbody>\n",
       "</table>\n",
       "</div>"
      ],
      "text/plain": [
       "  event_type            timestamp  longitude   latitude  trip_miles  \\\n",
       "0      start  2015-12-01 00:00:00 -73.979942  40.765381         NaN   \n",
       "1       stop  2015-12-01 00:00:00 -73.974548  40.791641        2.62   \n",
       "2       stop  2015-12-01 00:00:00 -73.993629  40.745998        2.69   \n",
       "3      start  2015-12-01 00:00:00 -73.972336  40.762379         NaN   \n",
       "4      start  2015-12-01 00:00:00 -73.968849  40.764530         NaN   \n",
       "\n",
       "   trip_total  timestamp_seconds         utm_x         utm_y  \n",
       "0         NaN       1.448928e+09 -8.235410e+06  4.977797e+06  \n",
       "1       21.36       1.448928e+09 -8.234809e+06  4.981657e+06  \n",
       "2       25.64       1.448928e+09 -8.236933e+06  4.974948e+06  \n",
       "3         NaN       1.448928e+09 -8.234563e+06  4.977356e+06  \n",
       "4         NaN       1.448928e+09 -8.234175e+06  4.977672e+06  "
      ]
     },
     "execution_count": 26,
     "metadata": {},
     "output_type": "execute_result"
    }
   ],
   "source": [
    "pt.read_row_group(0).to_pandas(integer_object_nulls=True).head()"
   ]
  },
  {
   "cell_type": "code",
   "execution_count": null,
   "metadata": {},
   "outputs": [],
   "source": []
  }
 ],
 "metadata": {
  "colab": {
   "collapsed_sections": [
    "5zc3pwq0smN-"
   ],
   "name": "streambasedcache.ipynb",
   "provenance": [
    {
     "file_id": "14kD7KIsqpkuyVlvIKa4GUCOFXsMpiouh",
     "timestamp": 1561506409299
    },
    {
     "file_id": "1ZShzPcvbGP5mNaVb5xcjvR6r_QBkFyd6",
     "timestamp": 1561505940600
    },
    {
     "file_id": "https://github.com/ostrokach/beam-notebooks/blob/master/feature/filebasedcache.ipynb",
     "timestamp": 1561071440262
    }
   ],
   "toc_visible": true,
   "version": "0.3.2"
  },
  "kernelspec": {
   "display_name": "Python 3",
   "language": "python",
   "name": "python3"
  },
  "language_info": {
   "codemirror_mode": {
    "name": "ipython",
    "version": 3
   },
   "file_extension": ".py",
   "mimetype": "text/x-python",
   "name": "python",
   "nbconvert_exporter": "python",
   "pygments_lexer": "ipython3",
   "version": "3.7.3"
  }
 },
 "nbformat": 4,
 "nbformat_minor": 2
}
