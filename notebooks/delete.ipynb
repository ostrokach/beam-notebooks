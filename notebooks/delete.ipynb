{
 "cells": [
  {
   "cell_type": "code",
   "execution_count": null,
   "metadata": {
    "slideshow": {
     "slide_type": "skip"
    }
   },
   "outputs": [],
   "source": [
    "import math\n",
    "import time\n",
    "\n",
    "import bokeh\n",
    "import numpy as np\n",
    "from bokeh.io import output_notebook, push_notebook, show\n",
    "from bokeh.models import DatetimeTickFormatter, HoverTool\n",
    "from bokeh.plotting import figure"
   ]
  },
  {
   "cell_type": "code",
   "execution_count": null,
   "metadata": {
    "slideshow": {
     "slide_type": "skip"
    }
   },
   "outputs": [],
   "source": [
    "%load_ext autoreload"
   ]
  },
  {
   "cell_type": "code",
   "execution_count": null,
   "metadata": {
    "slideshow": {
     "slide_type": "skip"
    }
   },
   "outputs": [],
   "source": [
    "output_notebook()"
   ]
  },
  {
   "cell_type": "code",
   "execution_count": null,
   "metadata": {
    "slideshow": {
     "slide_type": "skip"
    }
   },
   "outputs": [],
   "source": [
    "def gen_plot(source):\n",
    "    plot = bokeh.plotting.figure(\n",
    "        plot_height=300, plot_width=800, background_fill_color=\"lightgrey\", title=\"\", y_range=(-1.1, 1.1)\n",
    "    )\n",
    "    plot.circle(\"x\", \"y\", source=source)\n",
    "\n",
    "    plot.x_range.follow = \"end\"\n",
    "    plot.x_range.follow_interval = 100000\n",
    "\n",
    "    plot.xaxis.major_label_orientation = math.pi / 4\n",
    "    plot.xaxis.formatter = DatetimeTickFormatter(\n",
    "        milliseconds=[\"%H:%M:%S\"], seconds=[\"%H:%M:%S\"], minsec=[\"%H:%M:%S\"], minutes=[\"%H:%M:%S\"]\n",
    "    )\n",
    "    return plot"
   ]
  },
  {
   "cell_type": "code",
   "execution_count": null,
   "metadata": {
    "slideshow": {
     "slide_type": "slide"
    }
   },
   "outputs": [],
   "source": [
    "output_notebook()\n",
    "\n",
    "source = bokeh.models.ColumnDataSource({\"x\": [], \"y\": []})\n",
    "\n",
    "plot = gen_plot(source)\n",
    "\n",
    "handle = bokeh.io.show(plot, notebook_handle=True)"
   ]
  },
  {
   "cell_type": "code",
   "execution_count": null,
   "metadata": {
    "slideshow": {
     "slide_type": "slide"
    }
   },
   "outputs": [],
   "source": [
    "# output_notebook()\n",
    "\n",
    "source2 = bokeh.models.ColumnDataSource({\"x\": [], \"y\": []})\n",
    "\n",
    "plot2 = gen_plot(source2)\n",
    "\n",
    "handle2 = bokeh.io.show(plot2, notebook_handle=True)"
   ]
  },
  {
   "cell_type": "code",
   "execution_count": null,
   "metadata": {
    "slideshow": {
     "slide_type": "slide"
    }
   },
   "outputs": [],
   "source": [
    "for x in range(10000):\n",
    "    y = np.sin(x / 10)\n",
    "    source.stream({\"x\": [x], \"y\": [y]}, rollover=20)\n",
    "    source2.stream({\"x\": [x], \"y\": [y * 0.5]}, rollover=200)\n",
    "    bokeh.io.push_notebook(handle=handle)\n",
    "    bokeh.io.push_notebook(handle=handle2)\n",
    "    time.sleep(0.05)"
   ]
  },
  {
   "cell_type": "code",
   "execution_count": null,
   "metadata": {
    "slideshow": {
     "slide_type": "slide"
    }
   },
   "outputs": [],
   "source": []
  },
  {
   "cell_type": "code",
   "execution_count": null,
   "metadata": {},
   "outputs": [],
   "source": []
  },
  {
   "cell_type": "code",
   "execution_count": null,
   "metadata": {},
   "outputs": [],
   "source": [
    "class MockCache:\n",
    "    \n",
    "    def read(self, *args, **kwargs):\n",
    "        for x in range(10000):\n",
    "            y = np.sin(x / 10)\n",
    "            yield {\"x\": [x], \"y\": [y]}\n",
    "            time.sleep(0.1)"
   ]
  },
  {
   "cell_type": "code",
   "execution_count": null,
   "metadata": {},
   "outputs": [],
   "source": [
    "from apache_beam.runners.interactive.display import data_server"
   ]
  },
  {
   "cell_type": "code",
   "execution_count": null,
   "metadata": {},
   "outputs": [],
   "source": [
    "column_source_kwargs = {\"rollover\": 100}"
   ]
  },
  {
   "cell_type": "code",
   "execution_count": null,
   "metadata": {},
   "outputs": [],
   "source": [
    "sp = data_server.StreamingPlot(MockCache(), lambda x: x, gen_plot, **column_source_kwargs)"
   ]
  },
  {
   "cell_type": "code",
   "execution_count": null,
   "metadata": {},
   "outputs": [],
   "source": [
    "sp.start()"
   ]
  },
  {
   "cell_type": "code",
   "execution_count": null,
   "metadata": {},
   "outputs": [],
   "source": [
    "sp.stop()"
   ]
  },
  {
   "cell_type": "code",
   "execution_count": null,
   "metadata": {},
   "outputs": [],
   "source": [
    "del sp"
   ]
  },
  {
   "cell_type": "code",
   "execution_count": null,
   "metadata": {},
   "outputs": [],
   "source": [
    "sp = data_server.StreamingPlot(MockCache(), lambda x: x, gen_plot, source_type=\"ajax\")"
   ]
  },
  {
   "cell_type": "code",
   "execution_count": null,
   "metadata": {},
   "outputs": [],
   "source": [
    "sp.start()"
   ]
  },
  {
   "cell_type": "code",
   "execution_count": null,
   "metadata": {},
   "outputs": [],
   "source": [
    "del sp"
   ]
  },
  {
   "cell_type": "code",
   "execution_count": null,
   "metadata": {},
   "outputs": [],
   "source": []
  }
 ],
 "metadata": {
  "celltoolbar": "Slideshow",
  "kernelspec": {
   "display_name": "Python 3",
   "language": "python",
   "name": "python3"
  },
  "language_info": {
   "codemirror_mode": {
    "name": "ipython",
    "version": 3
   },
   "file_extension": ".py",
   "mimetype": "text/x-python",
   "name": "python",
   "nbconvert_exporter": "python",
   "pygments_lexer": "ipython3",
   "version": "3.7.3"
  },
  "toc": {
   "base_numbering": 1,
   "nav_menu": {},
   "number_sections": true,
   "sideBar": true,
   "skip_h1_title": false,
   "title_cell": "Table of Contents",
   "title_sidebar": "Contents",
   "toc_cell": false,
   "toc_position": {},
   "toc_section_display": true,
   "toc_window_display": false
  }
 },
 "nbformat": 4,
 "nbformat_minor": 4
}
