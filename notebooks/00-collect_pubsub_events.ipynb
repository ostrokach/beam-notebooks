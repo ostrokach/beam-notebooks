{
 "cells": [
  {
   "cell_type": "markdown",
   "metadata": {},
   "source": [
    "## Summary"
   ]
  },
  {
   "cell_type": "markdown",
   "metadata": {},
   "source": [
    "Collect one day worth of events from the `projects/pubsub-public-data/topics/taxirides-realtime` topic."
   ]
  },
  {
   "cell_type": "markdown",
   "metadata": {},
   "source": [
    "## Imports"
   ]
  },
  {
   "cell_type": "code",
   "execution_count": null,
   "metadata": {},
   "outputs": [],
   "source": [
    "import json\n",
    "import time\n",
    "\n",
    "import pyarrow as pa\n",
    "import pyarrow.parquet as pq\n",
    "import tqdm\n",
    "from apache_beam.io.gcp.tests import utils as gcp_utils\n",
    "from google.api_core import exceptions as gexc\n",
    "from google.cloud import pubsub"
   ]
  },
  {
   "cell_type": "markdown",
   "metadata": {},
   "source": [
    "## Parameters"
   ]
  },
  {
   "cell_type": "code",
   "execution_count": null,
   "metadata": {},
   "outputs": [],
   "source": [
    "NOTEBOOK_NAME = \"collect_pubsub_events\""
   ]
  },
  {
   "cell_type": "code",
   "execution_count": null,
   "metadata": {},
   "outputs": [],
   "source": [
    "topic_path = \"projects/pubsub-public-data/topics/taxirides-realtime\"\n",
    "subscription_path = \"projects/strokach-playground/subscriptions/taxirides-realtime-5a2de6b6587b4d788e665c6722e267ff\"\n",
    "snapshot_path = \"projects/strokach-playground/snapshots/taxirides-realtime-5a2de6b6587b4d788e665c6722e267ff\""
   ]
  },
  {
   "cell_type": "markdown",
   "metadata": {},
   "source": [
    "## Functions"
   ]
  },
  {
   "cell_type": "code",
   "execution_count": null,
   "metadata": {},
   "outputs": [],
   "source": [
    "def read_from_pubsub(\n",
    "    sub_client,\n",
    "    subscription_path,\n",
    "    with_attributes=False,\n",
    "    number_of_elements=None,\n",
    "    timeout=None,\n",
    "):\n",
    "    if number_of_elements is None and timeout is None:\n",
    "        raise ValueError(\"Either number_of_elements or timeout must be specified.\")\n",
    "    messages = []\n",
    "    start_time = time.time()\n",
    "\n",
    "    while (number_of_elements is None or len(messages) < number_of_elements) and (\n",
    "        timeout is None or (time.time() - start_time) < timeout\n",
    "    ):\n",
    "        try:\n",
    "            response = sub_client.pull(\n",
    "                subscription_path, max_messages=10000, retry=None, timeout=30\n",
    "            )\n",
    "        except (gexc.RetryError, gexc.DeadlineExceeded):\n",
    "            continue\n",
    "        ack_ids = [msg.ack_id for msg in response.received_messages]\n",
    "        sub_client.acknowledge(subscription_path, ack_ids)\n",
    "        for msg in response.received_messages:\n",
    "            yield msg"
   ]
  },
  {
   "cell_type": "markdown",
   "metadata": {},
   "source": [
    "## Workflow"
   ]
  },
  {
   "cell_type": "code",
   "execution_count": null,
   "metadata": {},
   "outputs": [],
   "source": [
    "sub_client = pubsub.SubscriberClient()"
   ]
  },
  {
   "cell_type": "code",
   "execution_count": null,
   "metadata": {},
   "outputs": [],
   "source": [
    "try:\n",
    "    sub_client.create_snapshot(snapshot_path, subscription_path)\n",
    "except gexc.AlreadyExists:\n",
    "    pass"
   ]
  },
  {
   "cell_type": "code",
   "execution_count": null,
   "metadata": {},
   "outputs": [],
   "source": [
    "schema = pa.schema(\n",
    "    [\n",
    "        (\"publish_time_secs\", pa.int64()),\n",
    "        (\"publish_time_nanos\", pa.int64()),\n",
    "        (\"message_id\", pa.string()),\n",
    "        (\"message_data\", pa.binary()),\n",
    "        (\"message_attributes\", pa.binary()),\n",
    "    ]\n",
    ")"
   ]
  },
  {
   "cell_type": "code",
   "execution_count": null,
   "metadata": {},
   "outputs": [],
   "source": [
    "!ls -lSh taxirides.parquet"
   ]
  },
  {
   "cell_type": "code",
   "execution_count": null,
   "metadata": {},
   "outputs": [],
   "source": [
    "!cp taxirides.parquet taxirides.parquet.bak"
   ]
  },
  {
   "cell_type": "code",
   "execution_count": null,
   "metadata": {},
   "outputs": [],
   "source": [
    "pfile = pq.ParquetFile(\"taxirides.parquet\")\n",
    "print(pfile.num_row_groups)\n",
    "df = pfile.read_row_group(0).to_pandas()"
   ]
  },
  {
   "cell_type": "code",
   "execution_count": null,
   "metadata": {},
   "outputs": [],
   "source": []
  },
  {
   "cell_type": "code",
   "execution_count": null,
   "metadata": {},
   "outputs": [],
   "source": [
    "df.head()"
   ]
  },
  {
   "cell_type": "code",
   "execution_count": null,
   "metadata": {},
   "outputs": [],
   "source": []
  },
  {
   "cell_type": "code",
   "execution_count": null,
   "metadata": {},
   "outputs": [],
   "source": []
  },
  {
   "cell_type": "code",
   "execution_count": null,
   "metadata": {},
   "outputs": [],
   "source": []
  },
  {
   "cell_type": "code",
   "execution_count": null,
   "metadata": {},
   "outputs": [],
   "source": [
    "def create_new_data_chunk():\n",
    "    data_chunk = {\n",
    "        \n",
    "        \"publish_time_secs\": [],\n",
    "        \"publish_time_nanos\": [],\n",
    "        \"message_id\": [],\n",
    "        \"message_data\": [],\n",
    "        \"message_attributes\": [],\n",
    "    }\n",
    "    return data_chunk\n",
    "\n",
    "\n",
    "sub_client.seek(subscription_path, snapshot=snapshot_path)\n",
    "\n",
    "\n",
    "batch_size = 1_000_000\n",
    "with pq.ParquetWriter('taxirides.parquet', schema) as writer:\n",
    "    data_chunk = create_new_data_chunk()\n",
    "    for i, msg in tqdm.tqdm_notebook(enumerate(read_from_pubsub(sub_client, subscription_path, number_of_elements=10)), total=7_000_000):\n",
    "        data_chunk[\"publish_time_secs\"].append(msg.message.publish_time.seconds)\n",
    "        data_chunk[\"publish_time_nanos\"].append(msg.message.publish_time.nanos)\n",
    "        data_chunk[\"message_id\"].append(msg.message.message_id)\n",
    "        data_chunk[\"message_data\"].append(msg.message.data)\n",
    "        data_chunk[\"message_attributes\"].append(json.dumps(dict(msg.message.attributes.items())).encode(\"utf-8\"))\n",
    "        if len(data_chunk[\"publish_time_secs\"]) >= batch_size:\n",
    "            writer.write_table(pa.Table.from_pydict(data_chunk, schema=schema))\n",
    "            data_chunk = create_new_data_chunk()"
   ]
  },
  {
   "cell_type": "code",
   "execution_count": null,
   "metadata": {},
   "outputs": [],
   "source": [
    "preserve_index=False"
   ]
  },
  {
   "cell_type": "code",
   "execution_count": null,
   "metadata": {},
   "outputs": [],
   "source": []
  },
  {
   "cell_type": "code",
   "execution_count": null,
   "metadata": {},
   "outputs": [],
   "source": [
    "df = table.to_pandas()"
   ]
  },
  {
   "cell_type": "code",
   "execution_count": null,
   "metadata": {},
   "outputs": [],
   "source": [
    "len(df)"
   ]
  },
  {
   "cell_type": "code",
   "execution_count": null,
   "metadata": {},
   "outputs": [],
   "source": []
  },
  {
   "cell_type": "code",
   "execution_count": null,
   "metadata": {},
   "outputs": [],
   "source": []
  },
  {
   "cell_type": "code",
   "execution_count": null,
   "metadata": {},
   "outputs": [],
   "source": [
    "msg"
   ]
  },
  {
   "cell_type": "code",
   "execution_count": null,
   "metadata": {},
   "outputs": [],
   "source": [
    "msg.message.publish_time"
   ]
  },
  {
   "cell_type": "code",
   "execution_count": null,
   "metadata": {},
   "outputs": [],
   "source": [
    "publish_time_secs, publish_time_nanos, message_id, message_data, message_attributes"
   ]
  },
  {
   "cell_type": "code",
   "execution_count": null,
   "metadata": {},
   "outputs": [],
   "source": [
    "msg.message.publish_time.seconds"
   ]
  },
  {
   "cell_type": "code",
   "execution_count": null,
   "metadata": {},
   "outputs": [],
   "source": [
    "msg.message.publish_time.nanos"
   ]
  },
  {
   "cell_type": "code",
   "execution_count": null,
   "metadata": {},
   "outputs": [],
   "source": [
    "msg.message.message_id"
   ]
  },
  {
   "cell_type": "code",
   "execution_count": null,
   "metadata": {},
   "outputs": [],
   "source": [
    "msg.message.data"
   ]
  },
  {
   "cell_type": "code",
   "execution_count": null,
   "metadata": {},
   "outputs": [],
   "source": [
    "msg.message.attributes"
   ]
  },
  {
   "cell_type": "code",
   "execution_count": null,
   "metadata": {},
   "outputs": [],
   "source": []
  }
 ],
 "metadata": {
  "kernelspec": {
   "display_name": "Python 3",
   "language": "python",
   "name": "python3"
  },
  "language_info": {
   "codemirror_mode": {
    "name": "ipython",
    "version": 3
   },
   "file_extension": ".py",
   "mimetype": "text/x-python",
   "name": "python",
   "nbconvert_exporter": "python",
   "pygments_lexer": "ipython3",
   "version": "3.7.3"
  }
 },
 "nbformat": 4,
 "nbformat_minor": 4
}
