{
 "cells": [
  {
   "cell_type": "markdown",
   "metadata": {},
   "source": [
    "# Pipeline cloning"
   ]
  },
  {
   "cell_type": "markdown",
   "metadata": {
    "colab_type": "text",
    "id": "l1IiM4Xx9aP5"
   },
   "source": [
    "## Summary"
   ]
  },
  {
   "cell_type": "markdown",
   "metadata": {
    "colab_type": "text",
    "id": "k-x6USlh9aP7"
   },
   "source": [
    "## Colab-specific"
   ]
  },
  {
   "cell_type": "code",
   "execution_count": null,
   "metadata": {
    "colab": {},
    "colab_type": "code",
    "id": "jMWszUE09aP8"
   },
   "outputs": [],
   "source": [
    "try:\n",
    "    import google.colab\n",
    "    GOOGLE_COLAB = True\n",
    "except ImportError:\n",
    "    GOOGLE_COLAB = False"
   ]
  },
  {
   "cell_type": "code",
   "execution_count": null,
   "metadata": {
    "colab": {
     "base_uri": "https://localhost:8080/",
     "height": 1000
    },
    "colab_type": "code",
    "executionInfo": {
     "elapsed": 355,
     "status": "ok",
     "timestamp": 1564779994905,
     "user": {
      "displayName": "Alexey Strokach",
      "photoUrl": "https://lh3.googleusercontent.com/a-/AAuE7mBOzxwy6MDI9o_4tjt-JDoEgOjgPuL-Gg4DRhKb=s64",
      "userId": "00492508659432265464"
     },
     "user_tz": 420
    },
    "id": "OCxLhYNN9aP_",
    "outputId": "ea282caf-6706-4cd9-982d-cd2ee141e933"
   },
   "outputs": [],
   "source": [
    "if GOOGLE_COLAB:\n",
    "    !pip install \"git+https://github.com/ostrokach/beam.git@develop#egg=apache_beam&subdirectory=sdks/python\""
   ]
  },
  {
   "cell_type": "markdown",
   "metadata": {
    "colab_type": "text",
    "id": "1RqOatLw9aQC"
   },
   "source": [
    "## Imports"
   ]
  },
  {
   "cell_type": "code",
   "execution_count": null,
   "metadata": {
    "colab": {
     "base_uri": "https://localhost:8080/",
     "height": 52
    },
    "colab_type": "code",
    "executionInfo": {
     "elapsed": 39,
     "status": "ok",
     "timestamp": 1564779994907,
     "user": {
      "displayName": "Alexey Strokach",
      "photoUrl": "https://lh3.googleusercontent.com/a-/AAuE7mBOzxwy6MDI9o_4tjt-JDoEgOjgPuL-Gg4DRhKb=s64",
      "userId": "00492508659432265464"
     },
     "user_tz": 420
    },
    "id": "0n0MKK7h9aQC",
    "outputId": "5587729b-f9a4-4071-c592-535aa4f20392"
   },
   "outputs": [],
   "source": [
    "import itertools\n",
    "import logging\n",
    "import sys\n",
    "import tempfile\n",
    "\n",
    "import apache_beam as beam\n",
    "from apache_beam.io.filesystems import FileSystems\n",
    "from apache_beam.options.pipeline_options import (PipelineOptions,\n",
    "                                                  StandardOptions)\n",
    "from apache_beam.runners.interactive.cache_manager import CacheManager\n",
    "from matplotlib import pyplot as plt"
   ]
  },
  {
   "cell_type": "code",
   "execution_count": null,
   "metadata": {
    "colab": {},
    "colab_type": "code",
    "id": "DdR1Dege9aQF"
   },
   "outputs": [],
   "source": [
    "%matplotlib inline"
   ]
  },
  {
   "cell_type": "markdown",
   "metadata": {},
   "source": [
    "## Boilerplate"
   ]
  },
  {
   "cell_type": "code",
   "execution_count": null,
   "metadata": {},
   "outputs": [],
   "source": [
    "sys.argv = sys.argv[:1]"
   ]
  },
  {
   "cell_type": "markdown",
   "metadata": {
    "colab_type": "text",
    "id": "5f8-JNcr9aQH"
   },
   "source": [
    "## Parameters"
   ]
  },
  {
   "cell_type": "code",
   "execution_count": null,
   "metadata": {
    "colab": {},
    "colab_type": "code",
    "id": "EPr7x59p9aQI"
   },
   "outputs": [],
   "source": [
    "NOTEBOOK_NAME = \"demo_pipeline_cloning\""
   ]
  },
  {
   "cell_type": "code",
   "execution_count": null,
   "metadata": {
    "colab": {},
    "colab_type": "code",
    "id": "OwqlWpw09aQM"
   },
   "outputs": [],
   "source": [
    "temp_dir = tempfile.mkdtemp(prefix=\"beam-temp-\")"
   ]
  },
  {
   "cell_type": "code",
   "execution_count": null,
   "metadata": {
    "colab": {
     "base_uri": "https://localhost:8080/",
     "height": 51
    },
    "colab_type": "code",
    "executionInfo": {
     "elapsed": 233,
     "status": "ok",
     "timestamp": 1564777134473,
     "user": {
      "displayName": "Alexey Strokach",
      "photoUrl": "https://lh3.googleusercontent.com/a-/AAuE7mBOzxwy6MDI9o_4tjt-JDoEgOjgPuL-Gg4DRhKb=s64",
      "userId": "00492508659432265464"
     },
     "user_tz": 420
    },
    "id": "0Tn9UKiy9aQO",
    "outputId": "b0dd34d8-dc94-4169-ff46-a3a686ad6f87"
   },
   "outputs": [],
   "source": [
    "options = PipelineOptions(runner=\"BundleBasedDirectRunner\", temp_location=temp_dir, interactive=True)\n",
    "print(options.display_data())"
   ]
  },
  {
   "cell_type": "code",
   "execution_count": null,
   "metadata": {
    "colab": {},
    "colab_type": "code",
    "id": "eMVysSvC9aQQ"
   },
   "outputs": [],
   "source": [
    "cache_manager = CacheManager(options)"
   ]
  },
  {
   "cell_type": "markdown",
   "metadata": {
    "colab_type": "text",
    "id": "VgAbUdQ2fKAL"
   },
   "source": [
    "## Functions"
   ]
  },
  {
   "cell_type": "code",
   "execution_count": null,
   "metadata": {
    "colab": {},
    "colab_type": "code",
    "id": "5oTAhefHgucB"
   },
   "outputs": [],
   "source": [
    "class MaterializedPCollection(beam.pvalue.PCollection):\n",
    "\n",
    "    # TODO: Ideally, would want to be consistent with the PCollection API.\n",
    "    def __init__(self, pipeline, tag=None, element_type=None, windowing=None, cache=None):\n",
    "        super(MaterializedPCollection, self).__init__(\n",
    "            pipeline, tag=tag, element_type=element_type, windowing=windowing)\n",
    "        self._cache = cache\n",
    "\n",
    "    def read(self, **reader_kwargs):\n",
    "        return self._cache.read(**reader_kwargs)\n",
    "\n",
    "    def __del__(self):\n",
    "        # Clear the underlying cache when there are no more references to this object.\n",
    "        self._cache.remove()"
   ]
  },
  {
   "cell_type": "code",
   "execution_count": null,
   "metadata": {
    "colab": {},
    "colab_type": "code",
    "id": "r1cky9g0fLXR"
   },
   "outputs": [],
   "source": [
    "def persist(pcoll):\n",
    "    \"\"\"Materialize PCollection.\n",
    "\n",
    "    Args:\n",
    "        pcoll: The PCollection to materialize.\n",
    "\n",
    "    Returns:\n",
    "        MaterializedPCollection: An object which can be used to accessthe materialized\n",
    "            PCollection.\n",
    "    \"\"\"\n",
    "    if isinstance(pcoll, MaterializedPCollection):\n",
    "        logging.info(\"The provided PCollection has already been materialized.\")\n",
    "        return pcoll\n",
    "\n",
    "    cache = cache_manager.create_default_cache()\n",
    "\n",
    "    pcoll_to_cache = (\n",
    "        pcoll | \"Write to cache\" >> cache.writer()\n",
    "    )\n",
    "    # TODO: Get this working with `test_runner_api=True`\n",
    "    pcoll_to_cache.pipeline.run(test_runner_api=False).wait_until_finish()\n",
    "\n",
    "    new_pipeline = (\n",
    "        beam.Pipeline(\n",
    "            runner=pcoll_to_cache.pipeline.runner,\n",
    "            options=pcoll_to_cache.pipeline._options)\n",
    "        | \"Read from cache\" >> cache.reader()\n",
    "    ).pipeline\n",
    "    materialized_pcoll = MaterializedPCollection(\n",
    "        pipeline=new_pipeline, tag=pcoll.tag, element_type=pcoll.element_type,\n",
    "        windowing=pcoll.windowing, cache=cache)\n",
    "    \n",
    "    assert pcoll.producer\n",
    "    materialized_pcoll.producer = pcoll.producer\n",
    "    \n",
    "    return materialized_pcoll"
   ]
  },
  {
   "cell_type": "markdown",
   "metadata": {
    "colab_type": "text",
    "id": "cMN2IVZl9aQZ"
   },
   "source": [
    "## Workflow"
   ]
  },
  {
   "cell_type": "code",
   "execution_count": null,
   "metadata": {
    "colab": {},
    "colab_type": "code",
    "id": "4emDZ0OMFi-X"
   },
   "outputs": [],
   "source": [
    "p = beam.Pipeline(options=options)"
   ]
  },
  {
   "cell_type": "markdown",
   "metadata": {
    "colab_type": "text",
    "id": "-qgiq4KY9aQc"
   },
   "source": [
    "### Populate input cache"
   ]
  },
  {
   "cell_type": "code",
   "execution_count": null,
   "metadata": {
    "colab": {},
    "colab_type": "code",
    "id": "DIQyH-td9aQd"
   },
   "outputs": [],
   "source": [
    "input_ = (\n",
    "    #\n",
    "    p\n",
    "    | beam.Create(range(10))\n",
    ")"
   ]
  },
  {
   "cell_type": "code",
   "execution_count": null,
   "metadata": {
    "colab": {},
    "colab_type": "code",
    "id": "GrcnsPrb9aQf"
   },
   "outputs": [],
   "source": [
    "input_ = persist(input_)"
   ]
  },
  {
   "cell_type": "code",
   "execution_count": null,
   "metadata": {
    "colab": {
     "base_uri": "https://localhost:8080/",
     "height": 102
    },
    "colab_type": "code",
    "executionInfo": {
     "elapsed": 853,
     "status": "ok",
     "timestamp": 1564777468201,
     "user": {
      "displayName": "Alexey Strokach",
      "photoUrl": "https://lh3.googleusercontent.com/a-/AAuE7mBOzxwy6MDI9o_4tjt-JDoEgOjgPuL-Gg4DRhKb=s64",
      "userId": "00492508659432265464"
     },
     "user_tz": 420
    },
    "id": "we4k3Zla9aQj",
    "outputId": "1d9ecaee-545b-47bd-81af-ace2fc98949a"
   },
   "outputs": [],
   "source": [
    "for i in itertools.islice(input_.read(), 5):\n",
    "    print(i)"
   ]
  },
  {
   "cell_type": "markdown",
   "metadata": {
    "colab_type": "text",
    "id": "thDfs9TZ9aQl"
   },
   "source": [
    "### Squares"
   ]
  },
  {
   "cell_type": "code",
   "execution_count": null,
   "metadata": {
    "colab": {
     "base_uri": "https://localhost:8080/",
     "height": 85
    },
    "colab_type": "code",
    "executionInfo": {
     "elapsed": 843,
     "status": "ok",
     "timestamp": 1564777468202,
     "user": {
      "displayName": "Alexey Strokach",
      "photoUrl": "https://lh3.googleusercontent.com/a-/AAuE7mBOzxwy6MDI9o_4tjt-JDoEgOjgPuL-Gg4DRhKb=s64",
      "userId": "00492508659432265464"
     },
     "user_tz": 420
    },
    "id": "xASwoBRe9aQm",
    "outputId": "ff15a5de-bfc9-42af-cdb0-127a01c27ed5"
   },
   "outputs": [],
   "source": [
    "squares = (\n",
    "    input_\n",
    "    | 'Square' >> beam.Map(lambda x: x*x)\n",
    ")"
   ]
  },
  {
   "cell_type": "code",
   "execution_count": null,
   "metadata": {
    "colab": {},
    "colab_type": "code",
    "id": "kOL4eaib9aQo"
   },
   "outputs": [],
   "source": [
    "squares = persist(squares)"
   ]
  },
  {
   "cell_type": "code",
   "execution_count": null,
   "metadata": {
    "colab": {
     "base_uri": "https://localhost:8080/",
     "height": 119
    },
    "colab_type": "code",
    "executionInfo": {
     "elapsed": 1415,
     "status": "ok",
     "timestamp": 1564777468786,
     "user": {
      "displayName": "Alexey Strokach",
      "photoUrl": "https://lh3.googleusercontent.com/a-/AAuE7mBOzxwy6MDI9o_4tjt-JDoEgOjgPuL-Gg4DRhKb=s64",
      "userId": "00492508659432265464"
     },
     "user_tz": 420
    },
    "id": "hEZL8Mlc9aQt",
    "outputId": "f5b681e4-10ea-44e6-d7b6-842b05df1d41"
   },
   "outputs": [],
   "source": [
    "for i in itertools.islice(squares.read(), 5):\n",
    "    print(i)"
   ]
  },
  {
   "cell_type": "markdown",
   "metadata": {
    "colab_type": "text",
    "id": "ZmKRmU2n9aQz"
   },
   "source": [
    "### Cubes"
   ]
  },
  {
   "cell_type": "code",
   "execution_count": null,
   "metadata": {
    "colab": {
     "base_uri": "https://localhost:8080/",
     "height": 85
    },
    "colab_type": "code",
    "executionInfo": {
     "elapsed": 1411,
     "status": "ok",
     "timestamp": 1564777468787,
     "user": {
      "displayName": "Alexey Strokach",
      "photoUrl": "https://lh3.googleusercontent.com/a-/AAuE7mBOzxwy6MDI9o_4tjt-JDoEgOjgPuL-Gg4DRhKb=s64",
      "userId": "00492508659432265464"
     },
     "user_tz": 420
    },
    "id": "G-G6ynyn9aQ6",
    "outputId": "b90f3d4e-4524-43a4-b6ee-f9a0cd875b06"
   },
   "outputs": [],
   "source": [
    "cubes = (\n",
    "    input_\n",
    "    | 'Cube' >> beam.Map(lambda x: x**3)\n",
    ")"
   ]
  },
  {
   "cell_type": "code",
   "execution_count": null,
   "metadata": {
    "colab": {
     "base_uri": "https://localhost:8080/",
     "height": 34
    },
    "colab_type": "code",
    "executionInfo": {
     "elapsed": 2134,
     "status": "ok",
     "timestamp": 1564777469513,
     "user": {
      "displayName": "Alexey Strokach",
      "photoUrl": "https://lh3.googleusercontent.com/a-/AAuE7mBOzxwy6MDI9o_4tjt-JDoEgOjgPuL-Gg4DRhKb=s64",
      "userId": "00492508659432265464"
     },
     "user_tz": 420
    },
    "id": "lP_V7-Uu9aQ0",
    "outputId": "cfbe3654-00e7-4295-fc42-bb7b0e1f6670"
   },
   "outputs": [],
   "source": [
    "cubes = persist(cubes)"
   ]
  },
  {
   "cell_type": "code",
   "execution_count": null,
   "metadata": {
    "colab": {
     "base_uri": "https://localhost:8080/",
     "height": 119
    },
    "colab_type": "code",
    "executionInfo": {
     "elapsed": 2302,
     "status": "ok",
     "timestamp": 1564777469692,
     "user": {
      "displayName": "Alexey Strokach",
      "photoUrl": "https://lh3.googleusercontent.com/a-/AAuE7mBOzxwy6MDI9o_4tjt-JDoEgOjgPuL-Gg4DRhKb=s64",
      "userId": "00492508659432265464"
     },
     "user_tz": 420
    },
    "id": "3dpU-eUD9aQ-",
    "outputId": "35c8ae53-57bd-4ca7-bb59-b9b7bbb8c114"
   },
   "outputs": [],
   "source": [
    "for i in itertools.islice(cubes.read(), 5):\n",
    "    print(i)"
   ]
  },
  {
   "cell_type": "markdown",
   "metadata": {
    "colab_type": "text",
    "id": "5H4BDwHq9aRB"
   },
   "source": [
    "### Plot"
   ]
  },
  {
   "cell_type": "code",
   "execution_count": null,
   "metadata": {
    "colab": {
     "base_uri": "https://localhost:8080/",
     "height": 286
    },
    "colab_type": "code",
    "executionInfo": {
     "elapsed": 2617,
     "status": "ok",
     "timestamp": 1564777470012,
     "user": {
      "displayName": "Alexey Strokach",
      "photoUrl": "https://lh3.googleusercontent.com/a-/AAuE7mBOzxwy6MDI9o_4tjt-JDoEgOjgPuL-Gg4DRhKb=s64",
      "userId": "00492508659432265464"
     },
     "user_tz": 420
    },
    "id": "a9PpdDmI9aRC",
    "outputId": "22d2190e-c83e-40d6-c98c-72c23f8d0098"
   },
   "outputs": [],
   "source": [
    "init_list = list(range(10))\n",
    "squares_list = list(squares.read())\n",
    "cubes_list = list(cubes.read())\n",
    "\n",
    "plt.scatter(init_list, squares_list, label='squares', color='red')\n",
    "plt.scatter(init_list, cubes_list, label='cubes', color='blue')\n",
    "plt.legend(loc='upper left')\n",
    "plt.show()"
   ]
  },
  {
   "cell_type": "code",
   "execution_count": null,
   "metadata": {
    "colab": {},
    "colab_type": "code",
    "id": "A3ZLLX3x9aRE"
   },
   "outputs": [],
   "source": []
  }
 ],
 "metadata": {
  "colab": {
   "collapsed_sections": [],
   "name": "Copy of 01-demo_pipeline_cloning.ipynb",
   "provenance": [
    {
     "file_id": "https://github.com/ostrokach/beam-notebooks/blob/master/notebooks/01-demo_pipeline_cloning.ipynb",
     "timestamp": 1564776722730
    }
   ],
   "version": "0.3.2"
  },
  "kernelspec": {
   "display_name": "Python 3",
   "language": "python",
   "name": "python3"
  },
  "language_info": {
   "codemirror_mode": {
    "name": "ipython",
    "version": 3
   },
   "file_extension": ".py",
   "mimetype": "text/x-python",
   "name": "python",
   "nbconvert_exporter": "python",
   "pygments_lexer": "ipython3",
   "version": "3.7.3"
  },
  "toc": {
   "base_numbering": 1,
   "nav_menu": {},
   "number_sections": false,
   "sideBar": false,
   "skip_h1_title": false,
   "title_cell": "Table of Contents",
   "title_sidebar": "Contents",
   "toc_cell": false,
   "toc_position": {
    "height": "693.125px",
    "left": "86.9922px",
    "top": "180px",
    "width": "300px"
   },
   "toc_section_display": true,
   "toc_window_display": false
  }
 },
 "nbformat": 4,
 "nbformat_minor": 4
}
