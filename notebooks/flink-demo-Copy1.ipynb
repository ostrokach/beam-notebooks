{
 "cells": [
  {
   "cell_type": "markdown",
   "metadata": {
    "colab_type": "text",
    "id": "87lnJDuzrcvU"
   },
   "source": [
    "# Flink Demo"
   ]
  },
  {
   "cell_type": "markdown",
   "metadata": {
    "colab_type": "text",
    "id": "VNSuGNYzy7-Z"
   },
   "source": [
    "## Install dependencies"
   ]
  },
  {
   "cell_type": "code",
   "execution_count": null,
   "metadata": {
    "colab": {},
    "colab_type": "code",
    "id": "-M5ZTBKdvVWF"
   },
   "outputs": [],
   "source": [
    "try:\n",
    "    import google.colab\n",
    "    GOOGLE_COLAB = True\n",
    "except ImportError:\n",
    "    GOOGLE_COLAB = False\n",
    "    \n",
    "GOOGLE_COLAB"
   ]
  },
  {
   "cell_type": "markdown",
   "metadata": {
    "colab_type": "text",
    "id": "5aXe9Opiu1Cy"
   },
   "source": [
    "### Install Java and Flink"
   ]
  },
  {
   "cell_type": "code",
   "execution_count": null,
   "metadata": {
    "colab": {},
    "colab_type": "code",
    "id": "X3So5GkBrgPE"
   },
   "outputs": [],
   "source": [
    "if GOOGLE_COLAB:\n",
    "    !apt-get install openjdk-8-jdk-headless -qq > /dev/null\n",
    "    !wget -q https://www-eu.apache.org/dist/flink/flink-1.8.0/flink-1.8.0-bin-scala_2.12.tgz -O flink-1.8.0-bin-scala_2.12.tgz\n",
    "    !tar xf flink-1.8.0-bin-scala_2.12.tgz\n",
    "    !rm flink-1.8.0-bin-scala_2.12.tgz"
   ]
  },
  {
   "cell_type": "markdown",
   "metadata": {
    "colab_type": "text",
    "id": "BUCLr1_vu9EG"
   },
   "source": [
    "### Start a Flink cluster"
   ]
  },
  {
   "cell_type": "code",
   "execution_count": null,
   "metadata": {
    "colab": {
     "base_uri": "https://localhost:8080/",
     "height": 68
    },
    "colab_type": "code",
    "executionInfo": {
     "elapsed": 24312,
     "status": "ok",
     "timestamp": 1561585959001,
     "user": {
      "displayName": "Alexey Strokach",
      "photoUrl": "https://lh4.googleusercontent.com/-CsQDBBcl3n0/AAAAAAAAAAI/AAAAAAAACyg/LJXILPSVwok/s64/photo.jpg",
      "userId": "14295043229009166910"
     },
     "user_tz": 420
    },
    "id": "UmLXV2gZrgrg",
    "outputId": "4d2c3fec-9c85-429f-b142-25fe53a1b78a"
   },
   "outputs": [],
   "source": [
    "if GOOGLE_COLAB:\n",
    "    !./flink-1.8.0/bin/start-cluster.sh"
   ]
  },
  {
   "cell_type": "markdown",
   "metadata": {
    "colab_type": "text",
    "id": "4UKevpPgvEY1"
   },
   "source": [
    "### (Optional) Create a tunnel to the Flink dashboard"
   ]
  },
  {
   "cell_type": "code",
   "execution_count": null,
   "metadata": {
    "colab": {},
    "colab_type": "code",
    "id": "SB6W1OyhsN8D"
   },
   "outputs": [],
   "source": [
    "if GOOGLE_COLAB:\n",
    "    !wget -q https://bin.equinox.io/c/4VmDzA7iaHb/ngrok-stable-linux-amd64.zip -O ngrok-stable-linux-amd64.zip\n",
    "    !unzip -o ngrok-stable-linux-amd64.zip"
   ]
  },
  {
   "cell_type": "code",
   "execution_count": null,
   "metadata": {
    "colab": {
     "base_uri": "https://localhost:8080/",
     "height": 51
    },
    "colab_type": "code",
    "executionInfo": {
     "elapsed": 1742,
     "status": "ok",
     "timestamp": 1561586250495,
     "user": {
      "displayName": "Alexey Strokach",
      "photoUrl": "https://lh4.googleusercontent.com/-CsQDBBcl3n0/AAAAAAAAAAI/AAAAAAAACyg/LJXILPSVwok/s64/photo.jpg",
      "userId": "14295043229009166910"
     },
     "user_tz": 420
    },
    "id": "HJ9FChlcvX_Z",
    "outputId": "7f04f4a0-4fcc-4ec0-bbdd-48f00f1fa1cd"
   },
   "outputs": [],
   "source": [
    "if GOOGLE_COLAB:\n",
    "    import json\n",
    "    import os\n",
    "    import time\n",
    "    import subprocess\n",
    "    import sys\n",
    "    from urllib import request\n",
    "\n",
    "    env = os.environ.copy()\n",
    "    if os.getcwd() not in env[\"PATH\"]:\n",
    "        env[\"PATH\"] = \"{}:{}\".format(os.getcwd(), env[\"PATH\"])\n",
    "    ngrok = subprocess.Popen([\"ngrok\", \"http\", \"8081\"], env=env)\n",
    "\n",
    "    time.sleep(1)\n",
    "    link = \"http://localhost:4040/api/tunnels\"\n",
    "    ngrok_dashboard = json.loads(request.urlopen(link).read())['tunnels']\n",
    "    for tunnel in json.loads(request.urlopen(link).read())['tunnels']:\n",
    "        print(tunnel[\"name\"], tunnel[\"public_url\"])"
   ]
  },
  {
   "cell_type": "markdown",
   "metadata": {
    "colab_type": "text",
    "id": "nxKoWhSIy29R"
   },
   "source": [
    "### Install Apache Beam"
   ]
  },
  {
   "cell_type": "code",
   "execution_count": null,
   "metadata": {
    "colab": {
     "base_uri": "https://localhost:8080/",
     "height": 102
    },
    "colab_type": "code",
    "executionInfo": {
     "elapsed": 16024,
     "status": "ok",
     "timestamp": 1561586456508,
     "user": {
      "displayName": "Alexey Strokach",
      "photoUrl": "https://lh4.googleusercontent.com/-CsQDBBcl3n0/AAAAAAAAAAI/AAAAAAAACyg/LJXILPSVwok/s64/photo.jpg",
      "userId": "14295043229009166910"
     },
     "user_tz": 420
    },
    "id": "KmiLk8bZzMrP",
    "outputId": "694a7dc7-2f79-4920-f716-b7fea5cc24a3"
   },
   "outputs": [],
   "source": [
    "if GOOGLE_COLAB:\n",
    "    !git clone https://github.com/apache/beam.git\n",
    "    !cd beam && ./gradlew :sdks:python:container:docker > sdks-python-container-docker-build.log"
   ]
  },
  {
   "cell_type": "markdown",
   "metadata": {
    "colab_type": "text",
    "id": "5zc3pwq0smN-"
   },
   "source": [
    "## Imports"
   ]
  },
  {
   "cell_type": "code",
   "execution_count": null,
   "metadata": {
    "colab": {},
    "colab_type": "code",
    "id": "EwceiH15eVt-"
   },
   "outputs": [],
   "source": [
    "import copy\n",
    "import itertools\n",
    "import logging\n",
    "import os\n",
    "import tempfile\n",
    "import uuid\n",
    "import pickle\n",
    "\n",
    "import apache_beam as beam\n",
    "import fastavro\n",
    "import numpy as np\n",
    "import pandas as pd\n",
    "import tqdm\n",
    "from apache_beam.io.filesystems import FileSystems\n",
    "from apache_beam.options.pipeline_options import (GoogleCloudOptions,\n",
    "                                                  PipelineOptions)\n",
    "from apache_beam.runners.direct.direct_runner import BundleBasedDirectRunner\n",
    "from apache_beam.runners.interactive import caching\n",
    "from apache_beam.transforms.ptransform import ptransform_fn\n",
    "from faker import Faker"
   ]
  },
  {
   "cell_type": "markdown",
   "metadata": {
    "colab_type": "text",
    "id": "hzzEnIEftMYZ"
   },
   "source": [
    "## Parameters"
   ]
  },
  {
   "cell_type": "code",
   "execution_count": null,
   "metadata": {
    "colab": {
     "base_uri": "https://localhost:8080/",
     "height": 34
    },
    "colab_type": "code",
    "executionInfo": {
     "elapsed": 168214,
     "status": "ok",
     "timestamp": 1561508582843,
     "user": {
      "displayName": "Alexey Strokach",
      "photoUrl": "https://lh4.googleusercontent.com/-CsQDBBcl3n0/AAAAAAAAAAI/AAAAAAAACyg/LJXILPSVwok/s64/photo.jpg",
      "userId": "14295043229009166910"
     },
     "user_tz": 420
    },
    "id": "IpuqYM-zsorD",
    "outputId": "8ee6d97d-4d0f-42d2-ee3f-50af3e63ea85"
   },
   "outputs": [],
   "source": [
    "# temp_location = tempfile.mkdtemp(prefix=\"beam-dev-\")\n",
    "temp_location = \"gs://strokach/dataflow_temp/\"\n",
    "\n",
    "# cache_location = tempfile.mkdtemp(dir=temp_location, prefix=\"cache-\")\n",
    "cache_location = \"gs://strokach/dataflow_cache/\"\n",
    "\n",
    "temp_location, cache_location"
   ]
  },
  {
   "cell_type": "code",
   "execution_count": null,
   "metadata": {
    "colab": {
     "base_uri": "https://localhost:8080/",
     "height": 51
    },
    "colab_type": "code",
    "executionInfo": {
     "elapsed": 168153,
     "status": "ok",
     "timestamp": 1561508582844,
     "user": {
      "displayName": "Alexey Strokach",
      "photoUrl": "https://lh4.googleusercontent.com/-CsQDBBcl3n0/AAAAAAAAAAI/AAAAAAAACyg/LJXILPSVwok/s64/photo.jpg",
      "userId": "14295043229009166910"
     },
     "user_tz": 420
    },
    "id": "Y2KieHGYrOKY",
    "outputId": "a85056fd-1ca9-44e4-b54f-0a75bf197567"
   },
   "outputs": [],
   "source": [
    "# options = PipelineOptions(runner=\"direct\", temp_location=temp_location)\n",
    "# options = PipelineOptions(runner=\"portable\", temp_location=temp_location)\n",
    "options = PipelineOptions(runner=\"PortableRunner\", temp_location=temp_location)\n",
    "options.display_data()"
   ]
  },
  {
   "cell_type": "markdown",
   "metadata": {
    "colab_type": "text",
    "id": "Qh5EkuunuiBc"
   },
   "source": [
    "## Load data"
   ]
  },
  {
   "cell_type": "markdown",
   "metadata": {
    "colab_type": "text",
    "id": "t0DCgSe1Guaw"
   },
   "source": [
    "### Generate a dataset of fake people profiles"
   ]
  },
  {
   "cell_type": "code",
   "execution_count": null,
   "metadata": {
    "colab": {},
    "colab_type": "code",
    "id": "9aCMqaZnGu9e"
   },
   "outputs": [],
   "source": [
    "try:\n",
    "    with open(\"fake_people.pkl\", \"rb\") as f:\n",
    "        fake_people = pickle.load(f)\n",
    "except IOError:\n",
    "    fake = Faker(seed=42)\n",
    "    fake_people = [fake.profile(fields=None, sex=None) for _ in range(10000)]\n",
    "    with open(\"fake_people.pkl\", \"wb\") as f:\n",
    "        pickle.dump(fake_people,f )"
   ]
  },
  {
   "cell_type": "code",
   "execution_count": null,
   "metadata": {
    "colab": {},
    "colab_type": "code",
    "id": "f7yMyYFbGu9g"
   },
   "outputs": [],
   "source": [
    "fake_people[0]"
   ]
  },
  {
   "cell_type": "markdown",
   "metadata": {
    "colab_type": "text",
    "id": "ygpQxivmG9Ib"
   },
   "source": [
    "## Analyse data"
   ]
  },
  {
   "cell_type": "markdown",
   "metadata": {
    "colab_type": "text",
    "id": "x_AdF69WGu9j"
   },
   "source": [
    "### Create a PCollection cache\n",
    "\n",
    "Convert the generated dataset into a `PCollection` which can be accessed from within a Beam pipeline."
   ]
  },
  {
   "cell_type": "code",
   "execution_count": null,
   "metadata": {
    "colab": {},
    "colab_type": "code",
    "id": "NHGLG3s2Gu9j"
   },
   "outputs": [],
   "source": [
    "input_cache = caching.SafeTextBasedCache(FileSystems.join(cache_location, \"fake_people\"), mode=\"overwrite\")\n",
    "input_cache.write(fake_people)"
   ]
  },
  {
   "cell_type": "code",
   "execution_count": null,
   "metadata": {
    "colab": {},
    "colab_type": "code",
    "id": "pQM0rhwbHO5J"
   },
   "outputs": [],
   "source": [
    "next(input_cache.read())"
   ]
  },
  {
   "cell_type": "markdown",
   "metadata": {
    "colab_type": "text",
    "id": "bU3T5ft4HSJx"
   },
   "source": [
    "### Validate the PCollection cache"
   ]
  },
  {
   "cell_type": "code",
   "execution_count": null,
   "metadata": {
    "colab": {},
    "colab_type": "code",
    "id": "fh-T4YRXGu9l"
   },
   "outputs": [],
   "source": [
    "# Make sure we have 10_000 fake profiles, as expected\n",
    "temp = caching.TFRecordBasedCache(\n",
    "    FileSystems.join(cache_location, \"temp\"), mode=\"overwrite\"\n",
    ")\n",
    "\n",
    "with beam.Pipeline(options=options) as p:\n",
    "    _ = (\n",
    "        p\n",
    "        | input_cache.reader()\n",
    "        | beam.combiners.Count.Globally()\n",
    "        | temp.writer()\n",
    "    )"
   ]
  },
  {
   "cell_type": "code",
   "execution_count": null,
   "metadata": {
    "colab": {},
    "colab_type": "code",
    "id": "fh-T4YRXGu9l"
   },
   "outputs": [],
   "source": [
    "assert next(temp.read()) == 10000"
   ]
  },
  {
   "cell_type": "code",
   "execution_count": null,
   "metadata": {},
   "outputs": [],
   "source": []
  }
 ],
 "metadata": {
  "colab": {
   "collapsed_sections": [],
   "name": "flink-demo.ipynb",
   "provenance": [
    {
     "file_id": "1mWPT8JPrUYzjsuDoHTb667S3pXBEOSPg",
     "timestamp": 1561506822898
    }
   ],
   "version": "0.3.2"
  },
  "kernelspec": {
   "display_name": "Python 3",
   "language": "python",
   "name": "python3"
  },
  "language_info": {
   "codemirror_mode": {
    "name": "ipython",
    "version": 2
   },
   "file_extension": ".py",
   "mimetype": "text/x-python",
   "name": "python",
   "nbconvert_exporter": "python",
   "pygments_lexer": "ipython2",
   "version": "2.7.15"
  }
 },
 "nbformat": 4,
 "nbformat_minor": 2
}
