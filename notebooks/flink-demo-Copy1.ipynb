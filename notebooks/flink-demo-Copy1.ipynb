{
 "cells": [
  {
   "cell_type": "markdown",
   "metadata": {
    "colab_type": "text",
    "id": "87lnJDuzrcvU"
   },
   "source": [
    "# Flink Demo"
   ]
  },
  {
   "cell_type": "markdown",
   "metadata": {
    "colab_type": "text",
    "id": "VNSuGNYzy7-Z"
   },
   "source": [
    "## Installation"
   ]
  },
  {
   "cell_type": "code",
   "execution_count": 2,
   "metadata": {
    "colab": {},
    "colab_type": "code",
    "id": "-M5ZTBKdvVWF"
   },
   "outputs": [
    {
     "data": {
      "text/plain": [
       "False"
      ]
     },
     "execution_count": 2,
     "metadata": {},
     "output_type": "execute_result"
    }
   ],
   "source": [
    "try:\n",
    "    import google.colab\n",
    "    GOOGLE_COLAB = True\n",
    "except ImportError:\n",
    "    GOOGLE_COLAB = False\n",
    "    \n",
    "GOOGLE_COLAB"
   ]
  },
  {
   "cell_type": "markdown",
   "metadata": {
    "colab_type": "text",
    "id": "5aXe9Opiu1Cy"
   },
   "source": [
    "### Install Java and Flink"
   ]
  },
  {
   "cell_type": "code",
   "execution_count": 6,
   "metadata": {
    "colab": {},
    "colab_type": "code",
    "id": "X3So5GkBrgPE"
   },
   "outputs": [
    {
     "name": "stdout",
     "output_type": "stream",
     "text": [
      "/usr/local/buildtools/java/jdk/bin/java\n"
     ]
    }
   ],
   "source": [
    "if GOOGLE_COLAB:\n",
    "    !apt-get install openjdk-8-jdk-headless -qq > /dev/null\n",
    "else:\n",
    "    !which java"
   ]
  },
  {
   "cell_type": "code",
   "execution_count": 57,
   "metadata": {
    "colab": {},
    "colab_type": "code",
    "id": "X3So5GkBrgPE"
   },
   "outputs": [],
   "source": [
    "!wget -q https://www-eu.apache.org/dist/flink/flink-1.8.0/flink-1.8.0-bin-scala_2.12.tgz -O flink-1.8.0-bin-scala_2.12.tgz\n",
    "!tar xf flink-1.8.0-bin-scala_2.12.tgz\n",
    "!rm flink-1.8.0-bin-scala_2.12.tgz"
   ]
  },
  {
   "cell_type": "markdown",
   "metadata": {
    "colab_type": "text",
    "id": "BUCLr1_vu9EG"
   },
   "source": [
    "### Start a Flink cluster"
   ]
  },
  {
   "cell_type": "code",
   "execution_count": 59,
   "metadata": {
    "colab": {
     "base_uri": "https://localhost:8080/",
     "height": 68
    },
    "colab_type": "code",
    "executionInfo": {
     "elapsed": 24312,
     "status": "ok",
     "timestamp": 1561585959001,
     "user": {
      "displayName": "Alexey Strokach",
      "photoUrl": "https://lh4.googleusercontent.com/-CsQDBBcl3n0/AAAAAAAAAAI/AAAAAAAACyg/LJXILPSVwok/s64/photo.jpg",
      "userId": "14295043229009166910"
     },
     "user_tz": 420
    },
    "id": "UmLXV2gZrgrg",
    "outputId": "4d2c3fec-9c85-429f-b142-25fe53a1b78a"
   },
   "outputs": [
    {
     "name": "stdout",
     "output_type": "stream",
     "text": [
      "Starting cluster.\n",
      "Starting standalonesession daemon on host strokach.svl.corp.google.com.\n",
      "Starting taskexecutor daemon on host strokach.svl.corp.google.com.\n"
     ]
    }
   ],
   "source": [
    "%%bash\n",
    "./flink-1.8.0/bin/start-cluster.sh"
   ]
  },
  {
   "cell_type": "markdown",
   "metadata": {
    "colab_type": "text",
    "id": "4UKevpPgvEY1"
   },
   "source": [
    "### (Optional) Create a tunnel to the Flink dashboard"
   ]
  },
  {
   "cell_type": "code",
   "execution_count": 60,
   "metadata": {
    "colab": {},
    "colab_type": "code",
    "id": "SB6W1OyhsN8D"
   },
   "outputs": [
    {
     "name": "stdout",
     "output_type": "stream",
     "text": [
      "Archive:  ngrok-stable-linux-amd64.zip\n",
      "  inflating: ngrok                   \n"
     ]
    }
   ],
   "source": [
    "!wget -q https://bin.equinox.io/c/4VmDzA7iaHb/ngrok-stable-linux-amd64.zip -O ngrok-stable-linux-amd64.zip\n",
    "!unzip -o ngrok-stable-linux-amd64.zip"
   ]
  },
  {
   "cell_type": "code",
   "execution_count": 61,
   "metadata": {
    "colab": {
     "base_uri": "https://localhost:8080/",
     "height": 51
    },
    "colab_type": "code",
    "executionInfo": {
     "elapsed": 1742,
     "status": "ok",
     "timestamp": 1561586250495,
     "user": {
      "displayName": "Alexey Strokach",
      "photoUrl": "https://lh4.googleusercontent.com/-CsQDBBcl3n0/AAAAAAAAAAI/AAAAAAAACyg/LJXILPSVwok/s64/photo.jpg",
      "userId": "14295043229009166910"
     },
     "user_tz": 420
    },
    "id": "HJ9FChlcvX_Z",
    "outputId": "7f04f4a0-4fcc-4ec0-bbdd-48f00f1fa1cd"
   },
   "outputs": [
    {
     "data": {
      "text/html": [
       "<a href='http://localhost:8081'>http://localhost:8081</a>"
      ],
      "text/plain": [
       "<IPython.core.display.HTML object>"
      ]
     },
     "metadata": {},
     "output_type": "display_data"
    }
   ],
   "source": [
    "if GOOGLE_COLAB:\n",
    "    import json\n",
    "    import os\n",
    "    import time\n",
    "    import subprocess\n",
    "    import sys\n",
    "    from urllib import request\n",
    "\n",
    "    env = os.environ.copy()\n",
    "    if os.getcwd() not in env[\"PATH\"]:\n",
    "        env[\"PATH\"] = \"{}:{}\".format(os.getcwd(), env[\"PATH\"])\n",
    "    ngrok = subprocess.Popen([\"ngrok\", \"http\", \"8081\"], env=env)\n",
    "\n",
    "    time.sleep(1)\n",
    "    link = \"http://localhost:4040/api/tunnels\"\n",
    "    ngrok_dashboard = json.loads(request.urlopen(link).read())['tunnels']\n",
    "    for tunnel in json.loads(request.urlopen(link).read())['tunnels']:\n",
    "        print(tunnel[\"name\"], tunnel[\"public_url\"])\n",
    "else:\n",
    "    print(\"http://localhost:8081\")"
   ]
  },
  {
   "cell_type": "markdown",
   "metadata": {
    "colab_type": "text",
    "id": "nxKoWhSIy29R"
   },
   "source": [
    "### Install Apache Beam"
   ]
  },
  {
   "cell_type": "code",
   "execution_count": 62,
   "metadata": {
    "colab": {
     "base_uri": "https://localhost:8080/",
     "height": 102
    },
    "colab_type": "code",
    "executionInfo": {
     "elapsed": 16024,
     "status": "ok",
     "timestamp": 1561586456508,
     "user": {
      "displayName": "Alexey Strokach",
      "photoUrl": "https://lh4.googleusercontent.com/-CsQDBBcl3n0/AAAAAAAAAAI/AAAAAAAACyg/LJXILPSVwok/s64/photo.jpg",
      "userId": "14295043229009166910"
     },
     "user_tz": 420
    },
    "id": "KmiLk8bZzMrP",
    "outputId": "694a7dc7-2f79-4920-f716-b7fea5cc24a3"
   },
   "outputs": [
    {
     "name": "stdout",
     "output_type": "stream",
     "text": [
      "Cloning into 'beam'...\n",
      "remote: Enumerating objects: 403640, done.\u001b[K\n",
      "remote: Total 403640 (delta 0), reused 0 (delta 0), pack-reused 403640\u001b[K\n",
      "Receiving objects: 100% (403640/403640), 126.25 MiB | 21.41 MiB/s, done.\n",
      "Resolving deltas: 100% (187592/187592), done.\n",
      "Updating files: 100% (5837/5837), done.\n"
     ]
    }
   ],
   "source": [
    "!git clone https://github.com/apache/beam.git"
   ]
  },
  {
   "cell_type": "code",
   "execution_count": 1,
   "metadata": {},
   "outputs": [
    {
     "name": "stdout",
     "output_type": "stream",
     "text": [
      "\u001b[33mDEPRECATION: Python 2.7 will reach the end of its life on January 1st, 2020. Please upgrade your Python as Python 2.7 won't be maintained after that date. A future version of pip will drop support for Python 2.7.\u001b[0m\n"
     ]
    }
   ],
   "source": [
    "!pip install -q virtualenv"
   ]
  },
  {
   "cell_type": "code",
   "execution_count": 6,
   "metadata": {},
   "outputs": [
    {
     "name": "stdout",
     "output_type": "stream",
     "text": [
      "Python 2.7.15\n"
     ]
    }
   ],
   "source": [
    "!python --version"
   ]
  },
  {
   "cell_type": "code",
   "execution_count": 7,
   "metadata": {
    "colab": {
     "base_uri": "https://localhost:8080/",
     "height": 1000
    },
    "colab_type": "code",
    "executionInfo": {
     "elapsed": 327595,
     "status": "ok",
     "timestamp": 1561586854348,
     "user": {
      "displayName": "Alexey Strokach",
      "photoUrl": "https://lh4.googleusercontent.com/-CsQDBBcl3n0/AAAAAAAAAAI/AAAAAAAACyg/LJXILPSVwok/s64/photo.jpg",
      "userId": "14295043229009166910"
     },
     "user_tz": 420
    },
    "id": "9vsY0NIvsOC7",
    "outputId": "ee1159ce-b079-4a55-d636-c86a2e0703a5"
   },
   "outputs": [
    {
     "name": "stdout",
     "output_type": "stream",
     "text": [
      "~/DriveFS/Colab Notebooks/beam-notebooks/notebooks/beam ~/DriveFS/Colab Notebooks/beam-notebooks/notebooks\n",
      "Traceback (most recent call last):\n",
      "  File \"/usr/local/google/home/strokach/miniconda3/lib/python3.7/site-packages/virtualenv.py\", line 2884, in <module>\n",
      "    main()\n",
      "  File \"/usr/local/google/home/strokach/miniconda3/lib/python3.7/site-packages/virtualenv.py\", line 712, in main\n",
      "    symlink=options.symlink)\n",
      "  File \"/usr/local/google/home/strokach/miniconda3/lib/python3.7/site-packages/virtualenv.py\", line 927, in create_environment\n",
      "    site_packages=site_packages, clear=clear, symlink=symlink))\n",
      "  File \"/usr/local/google/home/strokach/miniconda3/lib/python3.7/site-packages/virtualenv.py\", line 1389, in install_python\n",
      "    os.symlink(py_executable_base, full_pth)\n",
      "OSError: [Errno 38] Function not implemented\n",
      "\n",
      "\u001b[31mFAILURE: Build completed with 3 failures.\u001b[39m\n",
      "\n",
      "\u001b[31m1: \u001b[39m\u001b[31mTask failed with an exception.\u001b[39m\n",
      "-----------\n",
      "* What went wrong:\n",
      "Execution failed for task ':sdks:python:container:goPrepare'.\n",
      "\u001b[33m> \u001b[39mCreate symbolic link at /usr/local/google/home/strokach/DriveFS/Colab Notebooks/beam-notebooks/notebooks/beam/sdks/python/container/.gogradle/project_gopath/src/github.com/apache/beam/sdks/python/boot failed\n",
      "\n",
      "* Try:\n",
      "Run with \u001b[1m--stacktrace\u001b[m option to get the stack trace. Run with \u001b[1m--info\u001b[m or \u001b[1m--debug\u001b[m option to get more log output. Run with \u001b[1m--scan\u001b[m to get full insights.\n",
      "==============================================================================\n",
      "\n",
      "\u001b[31m2: \u001b[39m\u001b[31mTask failed with an exception.\u001b[39m\n",
      "-----------\n",
      "* What went wrong:\n",
      "Execution failed for task ':sdks:go:goPrepare'.\n",
      "\u001b[33m> \u001b[39mCreate symbolic link at /usr/local/google/home/strokach/DriveFS/Colab Notebooks/beam-notebooks/notebooks/beam/sdks/go/.gogradle/project_gopath/src/github.com/apache/beam/sdks/go failed\n",
      "\n",
      "* Try:\n",
      "Run with \u001b[1m--stacktrace\u001b[m option to get the stack trace. Run with \u001b[1m--info\u001b[m or \u001b[1m--debug\u001b[m option to get more log output. Run with \u001b[1m--scan\u001b[m to get full insights.\n",
      "==============================================================================\n",
      "\n",
      "\u001b[31m3: \u001b[39m\u001b[31mTask failed with an exception.\u001b[39m\n",
      "-----------\n",
      "* What went wrong:\n",
      "Execution failed for task ':sdks:python:setupVirtualenv'.\n",
      "\u001b[33m> \u001b[39mProcess 'command 'virtualenv'' finished with non-zero exit value 1\n",
      "\n",
      "* Try:\n",
      "Run with \u001b[1m--stacktrace\u001b[m option to get the stack trace. Run with \u001b[1m--info\u001b[m or \u001b[1m--debug\u001b[m option to get more log output. Run with \u001b[1m--scan\u001b[m to get full insights.\n",
      "==============================================================================\n",
      "\n",
      "* Get more help at \u001b[1mhttps://help.gradle.org\u001b[m\n",
      "\n",
      "\u001b[31;1mBUILD FAILED\u001b[0;39m in 3s\n",
      "\u001b[m"
     ]
    }
   ],
   "source": [
    "!pushd beam && chmod +x ./gradlew ./gradlew_orig && ./gradlew :sdks:python:container:docker > sdks-python-container-docker-build.log"
   ]
  },
  {
   "cell_type": "code",
   "execution_count": 71,
   "metadata": {
    "colab": {},
    "colab_type": "code",
    "id": "7MJGvHfBzugG"
   },
   "outputs": [
    {
     "name": "stdout",
     "output_type": "stream",
     "text": [
      "/usr/local/google/home/strokach/DriveFS/Colab Notebooks/beam-notebooks/notebooks\n"
     ]
    }
   ],
   "source": [
    "!pwd"
   ]
  }
 ],
 "metadata": {
  "colab": {
   "collapsed_sections": [],
   "name": "flink-demo.ipynb",
   "provenance": [
    {
     "file_id": "1mWPT8JPrUYzjsuDoHTb667S3pXBEOSPg",
     "timestamp": 1561506822898
    }
   ],
   "version": "0.3.2"
  },
  "kernelspec": {
   "display_name": "Python [conda env:beam-dev]",
   "language": "python",
   "name": "conda-env-beam-dev-py"
  },
  "language_info": {
   "codemirror_mode": {
    "name": "ipython",
    "version": 2
   },
   "file_extension": ".py",
   "mimetype": "text/x-python",
   "name": "python",
   "nbconvert_exporter": "python",
   "pygments_lexer": "ipython2",
   "version": "2.7.15"
  }
 },
 "nbformat": 4,
 "nbformat_minor": 2
}
