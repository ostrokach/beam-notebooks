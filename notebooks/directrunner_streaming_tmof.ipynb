{
 "cells": [
  {
   "cell_type": "markdown",
   "metadata": {},
   "source": [
    "# Imports"
   ]
  },
  {
   "cell_type": "code",
   "execution_count": 1,
   "metadata": {},
   "outputs": [],
   "source": [
    "from __future__ import print_function\n",
    "\n",
    "import multiprocessing\n",
    "import os\n",
    "import os.path as op\n",
    "import subprocess\n",
    "import time\n",
    "\n",
    "import apache_beam as beam\n",
    "\n",
    "try:\n",
    "    from pathlib import Path\n",
    "except ImportError:\n",
    "    from pathlib2 import Path"
   ]
  },
  {
   "cell_type": "code",
   "execution_count": 2,
   "metadata": {},
   "outputs": [
    {
     "name": "stdout",
     "output_type": "stream",
     "text": [
      "2.14.0.dev\n"
     ]
    }
   ],
   "source": [
    "print(beam.__version__)"
   ]
  },
  {
   "cell_type": "markdown",
   "metadata": {},
   "source": [
    "# Functions"
   ]
  },
  {
   "cell_type": "code",
   "execution_count": 3,
   "metadata": {},
   "outputs": [
    {
     "data": {
      "text/plain": [
       "205"
      ]
     },
     "execution_count": 3,
     "metadata": {},
     "output_type": "execute_result"
    }
   ],
   "source": [
    "def count_open_files():\n",
    "    \"\"\"Count the number of files opened by current process.\"\"\"\n",
    "    pid = multiprocessing.current_process().pid\n",
    "    lsof_out = subprocess.check_output([\"lsof\", \"-p\", str(pid)])\n",
    "    num_open_files = len(lsof_out.strip().split(\"\\n\")) - 1\n",
    "    return num_open_files\n",
    "\n",
    "\n",
    "count_open_files()"
   ]
  },
  {
   "cell_type": "markdown",
   "metadata": {},
   "source": [
    "# Parameters"
   ]
  },
  {
   "cell_type": "code",
   "execution_count": 4,
   "metadata": {},
   "outputs": [
    {
     "name": "stdout",
     "output_type": "stream",
     "text": [
      "Updated property [core/project].\n"
     ]
    }
   ],
   "source": [
    "project_id = 'strokach-playground'\n",
    "\n",
    "os.environ[\"GOOGLE_CLOUD_PROJECT\"] = project_id\n",
    "!gcloud config set project {project_id}"
   ]
  },
  {
   "cell_type": "code",
   "execution_count": 5,
   "metadata": {},
   "outputs": [
    {
     "data": {
      "text/plain": [
       "PosixPath('/home/strokach/workspace/beam-notebooks/directrunner_streaming_tmof')"
      ]
     },
     "execution_count": 5,
     "metadata": {},
     "output_type": "execute_result"
    }
   ],
   "source": [
    "NOTEBOOK_NAME = \"directrunner_streaming_tmof\"\n",
    "NOTEBOOK_PATH = Path(NOTEBOOK_NAME).resolve()\n",
    "NOTEBOOK_PATH.mkdir(exist_ok=True)\n",
    "\n",
    "NOTEBOOK_PATH"
   ]
  },
  {
   "cell_type": "markdown",
   "metadata": {},
   "source": [
    "# Pipeline"
   ]
  },
  {
   "cell_type": "code",
   "execution_count": 6,
   "metadata": {},
   "outputs": [
    {
     "data": {
      "text/plain": [
       "<apache_beam.runners.direct.direct_runner.SwitchingDirectRunner at 0x7f1076d742d0>"
      ]
     },
     "execution_count": 6,
     "metadata": {},
     "output_type": "execute_result"
    }
   ],
   "source": [
    "runner = beam.runners.direct.DirectRunner()\n",
    "runner"
   ]
  },
  {
   "cell_type": "code",
   "execution_count": 7,
   "metadata": {},
   "outputs": [
    {
     "name": "stderr",
     "output_type": "stream",
     "text": [
      "WARNING:root:Discarding unparseable args: ['-f', '/home/strokach/.local/share/jupyter/runtime/kernel-68bea7d5-0a1a-4298-bd9f-ff272c7b5d74.json']\n"
     ]
    },
    {
     "data": {
      "text/plain": [
       "{'job_name': 'taxirides-realtime',\n",
       " 'project': 'strokach-playground',\n",
       " 'streaming': True}"
      ]
     },
     "execution_count": 7,
     "metadata": {},
     "output_type": "execute_result"
    }
   ],
   "source": [
    "pipeline_options = beam.pipeline.PipelineOptions(\n",
    "    project=project_id,\n",
    "    job_name=\"taxirides-realtime\",\n",
    "    streaming=True,\n",
    ")\n",
    "pipeline_options.display_data()"
   ]
  },
  {
   "cell_type": "code",
   "execution_count": 8,
   "metadata": {},
   "outputs": [],
   "source": [
    "taxirides_pc = beam.Pipeline(\n",
    "    runner=runner, options=pipeline_options\n",
    ") | \"Read\" >> beam.io.ReadFromPubSub(\n",
    "    topic=\"projects/strokach-playground/topics/taxirides-realtime\"\n",
    ")"
   ]
  },
  {
   "cell_type": "code",
   "execution_count": 9,
   "metadata": {},
   "outputs": [],
   "source": [
    "results = taxirides_pc.pipeline.run()"
   ]
  },
  {
   "cell_type": "code",
   "execution_count": 10,
   "metadata": {},
   "outputs": [
    {
     "name": "stdout",
     "output_type": "stream",
     "text": [
      "Time elapsed:   0s, State: RUNNING; Number of open files: 218\n",
      "Time elapsed:   5s, State: RUNNING; Number of open files: 225\n",
      "Time elapsed:  10s, State: RUNNING; Number of open files: 241\n",
      "Time elapsed:  15s, State: RUNNING; Number of open files: 325\n",
      "Time elapsed:  20s, State: RUNNING; Number of open files: 452\n",
      "Time elapsed:  25s, State: RUNNING; Number of open files: 589\n",
      "Time elapsed:  31s, State: RUNNING; Number of open files: 735\n",
      "Time elapsed:  36s, State: RUNNING; Number of open files: 880\n",
      "Time elapsed:  41s, State: RUNNING; Number of open files: 1013\n"
     ]
    },
    {
     "ename": "NameError",
     "evalue": "name 'breakd' is not defined",
     "output_type": "error",
     "traceback": [
      "\u001b[0;31m---------------------------------------------------------------------------\u001b[0m",
      "\u001b[0;31mNameError\u001b[0m                                 Traceback (most recent call last)",
      "\u001b[0;32m<ipython-input-10-26417cfb441e>\u001b[0m in \u001b[0;36m<module>\u001b[0;34m()\u001b[0m\n\u001b[1;32m      8\u001b[0m     )\n\u001b[1;32m      9\u001b[0m     \u001b[0;32mif\u001b[0m \u001b[0mnum_open_files\u001b[0m \u001b[0;34m>\u001b[0m \u001b[0;36m1000\u001b[0m\u001b[0;34m:\u001b[0m\u001b[0;34m\u001b[0m\u001b[0m\n\u001b[0;32m---> 10\u001b[0;31m         \u001b[0mbreakd\u001b[0m\u001b[0;34m\u001b[0m\u001b[0m\n\u001b[0m\u001b[1;32m     11\u001b[0m     \u001b[0mtime\u001b[0m\u001b[0;34m.\u001b[0m\u001b[0msleep\u001b[0m\u001b[0;34m(\u001b[0m\u001b[0;36m5\u001b[0m\u001b[0;34m)\u001b[0m\u001b[0;34m\u001b[0m\u001b[0m\n",
      "\u001b[0;31mNameError\u001b[0m: name 'breakd' is not defined"
     ]
    }
   ],
   "source": [
    "start_time = time.time()\n",
    "while True:\n",
    "    num_open_files = count_open_files()\n",
    "    print(\n",
    "        \"Time elapsed: {:3.0f}s, State: {:s}; Number of open files: {}\".format(\n",
    "            time.time() - start_time, results.state, num_open_files\n",
    "        )\n",
    "    )\n",
    "    if num_open_files > 1000:\n",
    "        break\n",
    "    time.sleep(5)"
   ]
  },
  {
   "cell_type": "code",
   "execution_count": null,
   "metadata": {},
   "outputs": [],
   "source": []
  },
  {
   "cell_type": "code",
   "execution_count": null,
   "metadata": {},
   "outputs": [],
   "source": []
  },
  {
   "cell_type": "code",
   "execution_count": 1,
   "metadata": {},
   "outputs": [],
   "source": [
    "from google.cloud import pubsub"
   ]
  },
  {
   "cell_type": "code",
   "execution_count": null,
   "metadata": {},
   "outputs": [],
   "source": []
  },
  {
   "cell_type": "code",
   "execution_count": 2,
   "metadata": {},
   "outputs": [],
   "source": [
    "sub_client = pubsub.SubscriberClient()"
   ]
  },
  {
   "cell_type": "code",
   "execution_count": 4,
   "metadata": {},
   "outputs": [
    {
     "data": {
      "text/plain": [
       "<grpc._channel.Channel at 0x7ff9462fe0d0>"
      ]
     },
     "execution_count": 4,
     "metadata": {},
     "output_type": "execute_result"
    }
   ],
   "source": [
    "sub_client.api.transport.channel."
   ]
  }
 ],
 "metadata": {
  "kernelspec": {
   "display_name": "Python [conda env:apache-beam-dev]",
   "language": "python",
   "name": "conda-env-apache-beam-dev-py"
  },
  "language_info": {
   "codemirror_mode": {
    "name": "ipython",
    "version": 2
   },
   "file_extension": ".py",
   "mimetype": "text/x-python",
   "name": "python",
   "nbconvert_exporter": "python",
   "pygments_lexer": "ipython2",
   "version": "2.7.15"
  }
 },
 "nbformat": 4,
 "nbformat_minor": 2
}
