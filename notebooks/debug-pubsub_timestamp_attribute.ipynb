{
 "cells": [
  {
   "cell_type": "markdown",
   "metadata": {},
   "source": [
    "## Imports"
   ]
  },
  {
   "cell_type": "code",
   "execution_count": null,
   "metadata": {},
   "outputs": [],
   "source": [
    "from __future__ import print_function\n",
    "\n",
    "import contextlib\n",
    "import gc\n",
    "import json\n",
    "import os\n",
    "import shutil\n",
    "import tempfile\n",
    "import time\n",
    "import uuid\n",
    "from datetime import datetime\n",
    "\n",
    "import apache_beam as beam\n",
    "import pytz\n",
    "from apache_beam.io.gcp.pubsub import PubsubMessage\n",
    "from apache_beam.pipeline import PipelineOptions\n",
    "from apache_beam.runners.interactive.caching import streambasedcache\n",
    "from apache_beam.transforms import combiners, window\n",
    "from apache_beam.utils.timestamp import Timestamp\n",
    "\n",
    "try:\n",
    "    from contextlib import ExitStack\n",
    "except ImportError:\n",
    "    from contextlib2 import ExitStack"
   ]
  },
  {
   "cell_type": "code",
   "execution_count": null,
   "metadata": {},
   "outputs": [],
   "source": [
    "try:\n",
    "    %load_ext autoreload\n",
    "    %autoreload 2\n",
    "except Exception:\n",
    "    print(\"No autoreload\")"
   ]
  },
  {
   "cell_type": "markdown",
   "metadata": {},
   "source": [
    "## Parameters"
   ]
  },
  {
   "cell_type": "code",
   "execution_count": null,
   "metadata": {},
   "outputs": [],
   "source": [
    "#@title Google Cloud Project Info { display-mode: \"form\" }\n",
    "project_id = \"strokach-playground\" #@param {type:\"string\"}\n",
    "gcs_temp_location = \"gs://strokach/dataflow_temp\" #@param {type:\"string\"}"
   ]
  },
  {
   "cell_type": "code",
   "execution_count": null,
   "metadata": {},
   "outputs": [],
   "source": [
    "options = PipelineOptions(\n",
    "    temp_location=gcs_temp_location, streaming=True, project=project_id,\n",
    "#     runner=\"DirectRunner\",\n",
    "    runner=\"DataflowRunner\",\n",
    "    sdk_location=os.path.expanduser(\n",
    "        \"~/workspace/beam/sdks/python/dist/apache-beam-2.15.0.dev0.tar.gz\"\n",
    "    ),\n",
    "    setup_file=\"../setup.py\",\n",
    "    job_name=\"test11\"\n",
    ")\n",
    "options.display_data()"
   ]
  },
  {
   "cell_type": "markdown",
   "metadata": {},
   "source": [
    "## Functions"
   ]
  },
  {
   "cell_type": "code",
   "execution_count": null,
   "metadata": {},
   "outputs": [],
   "source": [
    "def create_cache(location, cache_class, *args, **kwargs):\n",
    "    for _ in range(3):\n",
    "        full_location = \"{}-{}\".format(location, uuid.uuid4().hex)\n",
    "        try:\n",
    "            return cache_class(full_location, *args, **kwargs)\n",
    "        except IOError as e:\n",
    "            pass\n",
    "    raise e"
   ]
  },
  {
   "cell_type": "code",
   "execution_count": null,
   "metadata": {},
   "outputs": [],
   "source": [
    "class AddTimestampDoFn(beam.DoFn):\n",
    "    def process(self, element):\n",
    "        import apache_beam as beam\n",
    "        from apache_beam.utils.timestamp import Timestamp\n",
    "\n",
    "        yield beam.window.TimestampedValue(element, Timestamp(seconds=int(element)))"
   ]
  },
  {
   "cell_type": "code",
   "execution_count": null,
   "metadata": {},
   "outputs": [],
   "source": [
    "class FormatDoFn(beam.DoFn):\n",
    "    def process(self, element, window=beam.DoFn.WindowParam):\n",
    "        import pytz\n",
    "\n",
    "        yield {\n",
    "            \"events\": element,\n",
    "            \"window_start_milliseconds\": int(window.start.micros / 1000),\n",
    "            \"window_end_milliseconds\": int(window.end.micros / 1000)\n",
    "        }"
   ]
  },
  {
   "cell_type": "code",
   "execution_count": null,
   "metadata": {},
   "outputs": [],
   "source": [
    "@contextlib.contextmanager\n",
    "def run_pipeline(p):\n",
    "    pr = p.run()\n",
    "    try:\n",
    "        yield pr\n",
    "    finally:\n",
    "        pr.cancel()"
   ]
  },
  {
   "cell_type": "markdown",
   "metadata": {},
   "source": [
    "### Absurd time / no groupby"
   ]
  },
  {
   "cell_type": "code",
   "execution_count": null,
   "metadata": {},
   "outputs": [],
   "source": [
    "input = create_cache(\n",
    "    \"projects/{}/topics/input\".format(project_id),\n",
    "    streambasedcache.PubSubBasedCache,\n",
    "    #     with_attributes=[\"timestamp_milliseconds\"],\n",
    "    #     timestamp_attribute=\"timestamp_milliseconds\",\n",
    ")\n",
    "\n",
    "output = create_cache(\n",
    "    \"projects/{}/topics/output\".format(project_id),\n",
    "    streambasedcache.PubSubBasedCache,\n",
    "    #     with_attributes=[\"timestamp_milliseconds\"],\n",
    "    #     timestamp_attribute=\"timestamp_milliseconds\",\n",
    ")\n",
    "\n",
    "\n",
    "start_time = 0\n",
    "data = [(start_time + i) for i in range(10)]\n",
    "\n",
    "input.write(data)\n",
    "\n",
    "p = beam.Pipeline(options=options)\n",
    "\n",
    "pcoll = (\n",
    "    p\n",
    "    # | beam.Create()\n",
    "    | input.reader()\n",
    "    | beam.Map(lambda e: print(e) or e)\n",
    "    | beam.ParDo(AddTimestampDoFn())\n",
    "    | beam.WindowInto(window.FixedWindows(1))\n",
    "    | beam.ParDo(FormatDoFn())\n",
    "    # | beam.io.WriteToText(os.path.join(\"/tmp\", \"pipeline-gc-test2\"))\n",
    "    | output.writer()\n",
    ")\n",
    "\n",
    "gc.collect()\n",
    "\n",
    "with run_pipeline(p):\n",
    "    while True:\n",
    "        for element in output.read(timeout=5):\n",
    "            print(element)\n",
    "        time.sleep(1)"
   ]
  },
  {
   "cell_type": "markdown",
   "metadata": {
    "toc-hr-collapsed": true
   },
   "source": [
    "### Absurd time / groupby"
   ]
  },
  {
   "cell_type": "code",
   "execution_count": null,
   "metadata": {},
   "outputs": [],
   "source": [
    "print(datetime.now().strftime(\"%s\"))\n",
    "print((datetime.utcnow() - datetime.utcfromtimestamp(0)).total_seconds())"
   ]
  },
  {
   "cell_type": "code",
   "execution_count": null,
   "metadata": {},
   "outputs": [],
   "source": [
    "class AddTimestampDoFn(beam.DoFn):\n",
    "    def process(self, element):\n",
    "        from apache_beam.transforms.window import TimestampedValue\n",
    "        from apache_beam.utils.timestamp import Timestamp\n",
    "\n",
    "        yield TimestampedValue(element, Timestamp(seconds=int(element[\"index\"])))"
   ]
  },
  {
   "cell_type": "code",
   "execution_count": null,
   "metadata": {},
   "outputs": [],
   "source": [
    "input = create_cache(\n",
    "    \"projects/{}/topics/input\".format(project_id),\n",
    "    streambasedcache.PubSubBasedCache,\n",
    "    with_attributes=True,\n",
    "    timestamp_attribute=\"timestamp\",\n",
    ")\n",
    "print(input.location)\n",
    "\n",
    "output = create_cache(\n",
    "    \"projects/{}/topics/output\".format(project_id),\n",
    "    streambasedcache.PubSubBasedCache,\n",
    "    #     with_attributes=[\"timestamp_milliseconds\"],\n",
    "    #     timestamp_attribute=\"timestamp_milliseconds\",\n",
    ")\n",
    "print(output.location)\n",
    "\n",
    "start_time = 0\n",
    "data = [\n",
    "    PubsubMessage(\n",
    "        json.dumps({\"index\": (start_time + i)}).encode(\"utf-8\"),\n",
    "        {\n",
    "            \"timestamp\": (\n",
    "                datetime.utcfromtimestamp((start_time + i))\n",
    "                .replace(tzinfo=pytz.UTC)\n",
    "                .isoformat()\n",
    "            )\n",
    "        },\n",
    "    )\n",
    "    for i in range(10)\n",
    "]\n",
    "\n",
    "input.write(data)\n",
    "\n",
    "p = beam.Pipeline(options=options)\n",
    "\n",
    "pcoll = (\n",
    "    p\n",
    "    # | beam.Create()\n",
    "    | input.reader()\n",
    "    | beam.Map(lambda e: print(e.data) or e.data)\n",
    "    | beam.Map(lambda e: json.loads(e.decode(\"utf-8\")))\n",
    "    | beam.ParDo(AddTimestampDoFn())\n",
    "    | beam.WindowInto(beam.window.FixedWindows(1))\n",
    "    | beam.CombineGlobally(beam.combiners.ToListCombineFn()).without_defaults()\n",
    "    | beam.ParDo(FormatDoFn())\n",
    "    # | beam.io.WriteToText(os.path.join(\"/tmp\", \"pipeline-gc-test2\"))\n",
    "    | output.writer()\n",
    ")\n",
    "\n",
    "with run_pipeline(p):\n",
    "    while True:\n",
    "        for element in output.read(timeout=5):\n",
    "            print(element)\n",
    "        time.sleep(1)"
   ]
  },
  {
   "cell_type": "code",
   "execution_count": null,
   "metadata": {},
   "outputs": [],
   "source": []
  },
  {
   "cell_type": "code",
   "execution_count": null,
   "metadata": {},
   "outputs": [],
   "source": []
  },
  {
   "cell_type": "code",
   "execution_count": null,
   "metadata": {},
   "outputs": [],
   "source": [
    "class Foo:\n",
    "    \n",
    "    def __init__(self, name):\n",
    "        self.name = name\n",
    "        self.removed = False\n",
    "\n",
    "    def __del__(self):\n",
    "        print(\"Removing Foo with name '{}.'\".format(self.name))\n",
    "        self.removed = True\n",
    "\n",
    "foo = Foo(uuid.uuid4().hex)\n",
    "print(\"Foo name: '{}'.\".format(foo.name))\n",
    "\n",
    "with beam.Pipeline(options=options) as p:\n",
    "    p.parent = foo\n",
    "    create_pt = beam.Create(list(range(10)))\n",
    "    create_pt.parent = foo\n",
    "    pcoll = (\n",
    "        p\n",
    "        | create_pt\n",
    "        | beam.Map(lambda e: print(e) or e)\n",
    "        | beam.io.WriteToText(os.path.join(\"/tmp\", \"pipeline-gc-test2\"))\n",
    "    )\n",
    "    pcoll.parent = foo\n",
    "\n",
    "del p\n",
    "del pcoll\n",
    "# del create_pt\n",
    "\n",
    "gc.collect()\n",
    "del foo"
   ]
  },
  {
   "cell_type": "code",
   "execution_count": null,
   "metadata": {},
   "outputs": [],
   "source": [
    "print(create_pt.parent.name)\n",
    "print(create_pt.parent.removed)"
   ]
  },
  {
   "cell_type": "code",
   "execution_count": null,
   "metadata": {},
   "outputs": [],
   "source": []
  },
  {
   "cell_type": "code",
   "execution_count": null,
   "metadata": {},
   "outputs": [],
   "source": [
    "class Foo:\n",
    "    def __init__(self, name):\n",
    "        self.name = name\n",
    "        self.removed = False\n",
    "        self.data = {}\n",
    "\n",
    "    def __del__(self):\n",
    "        print(\"Removing Foo with name '{}.'\".format(self.name))\n",
    "        self.removed = True\n",
    "\n",
    "    def writer(self):\n",
    "        return Bar(self.data)\n",
    "\n",
    "\n",
    "class Bar:\n",
    "    def __init__(self, data):\n",
    "        self.data = data\n",
    "\n",
    "\n",
    "foo = Foo(uuid.uuid4().hex)\n",
    "print(\"Foo name: '{}'.\".format(foo.name))\n",
    "\n",
    "with beam.Pipeline(options=options) as p:\n",
    "    p.parent = foo\n",
    "    create_pt = beam.Create(list(range(10)))\n",
    "    create_pt.parent = foo.writer()\n",
    "    pcoll = (\n",
    "        p\n",
    "        | create_pt\n",
    "        | beam.Map(lambda e: print(e) or e)\n",
    "        | beam.io.WriteToText(os.path.join(\"/tmp\", \"pipeline-gc-test2\"))\n",
    "    )\n",
    "    pcoll.parent = foo\n",
    "\n",
    "del p\n",
    "del pcoll\n",
    "# del create_pt\n",
    "\n",
    "gc.collect()\n",
    "del foo"
   ]
  },
  {
   "cell_type": "code",
   "execution_count": null,
   "metadata": {},
   "outputs": [],
   "source": []
  },
  {
   "cell_type": "code",
   "execution_count": null,
   "metadata": {},
   "outputs": [],
   "source": [
    "time.sleep(5)"
   ]
  },
  {
   "cell_type": "code",
   "execution_count": null,
   "metadata": {},
   "outputs": [],
   "source": []
  }
 ],
 "metadata": {
  "colab": {
   "name": "deleteme.ipynb",
   "provenance": [],
   "version": "0.3.2"
  },
  "kernelspec": {
   "display_name": "Python [conda env:beam-dev]",
   "language": "python",
   "name": "conda-env-beam-dev-py"
  },
  "language_info": {
   "codemirror_mode": {
    "name": "ipython",
    "version": 2
   },
   "file_extension": ".py",
   "mimetype": "text/x-python",
   "name": "python",
   "nbconvert_exporter": "python",
   "pygments_lexer": "ipython2",
   "version": "2.7.15"
  }
 },
 "nbformat": 4,
 "nbformat_minor": 2
}
