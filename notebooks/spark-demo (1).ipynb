{
 "cells": [
  {
   "cell_type": "markdown",
   "metadata": {
    "colab_type": "text",
    "id": "wvkEkg0LvNky"
   },
   "source": [
    "# Spark Demo"
   ]
  },
  {
   "cell_type": "code",
   "execution_count": null,
   "metadata": {
    "colab": {},
    "colab_type": "code",
    "id": "H4c7UTXhvPCO"
   },
   "outputs": [],
   "source": []
  },
  {
   "cell_type": "markdown",
   "metadata": {
    "colab_type": "text",
    "id": "kvD4HBMi0ohY"
   },
   "source": [
    "## Install Java, Spark, and Findspark\n",
    "This installs Apache Spark 2.4.3, Java 8, and [Findspark](https://github.com/minrk/findspark), a library that makes it easy for Python to find Spark."
   ]
  },
  {
   "cell_type": "code",
   "execution_count": null,
   "metadata": {
    "colab": {},
    "colab_type": "code",
    "id": "fUhBhrGmyAvs"
   },
   "outputs": [],
   "source": [
    "!apt-get install openjdk-8-jdk-headless -qq > /dev/null\n",
    "!wget -q https://www-eu.apache.org/dist/spark/spark-2.4.3/spark-2.4.3-bin-hadoop2.7.tgz -O spark-2.4.3-bin-hadoop2.7.tgz\n",
    "!tar xf spark-2.4.3-bin-hadoop2.7.tgz\n",
    "!pip install -q findspark"
   ]
  },
  {
   "cell_type": "markdown",
   "metadata": {
    "colab_type": "text",
    "id": "b4Kjvk_h1AHl"
   },
   "source": [
    "## Set Environment Variables\n",
    "Set the locations where Spark and Java are installed."
   ]
  },
  {
   "cell_type": "code",
   "execution_count": null,
   "metadata": {
    "colab": {},
    "colab_type": "code",
    "id": "8Xnb_ePUyQIL"
   },
   "outputs": [],
   "source": [
    "import os\n",
    "os.environ[\"JAVA_HOME\"] = \"/usr/lib/jvm/java-8-openjdk-amd64\"\n",
    "os.environ[\"SPARK_HOME\"] = \"/content/spark-2.4.3-bin-hadoop2.7\""
   ]
  },
  {
   "cell_type": "markdown",
   "metadata": {
    "colab_type": "text",
    "id": "NwU28K5f1H3P"
   },
   "source": [
    "## Start a SparkSession\n",
    "This will start a local Spark session."
   ]
  },
  {
   "cell_type": "code",
   "execution_count": null,
   "metadata": {
    "colab": {},
    "colab_type": "code",
    "id": "wB6v3TpSzEwr"
   },
   "outputs": [],
   "source": [
    "import os\n",
    "import subprocess\n",
    "\n",
    "import findspark\n",
    "\n",
    "findspark.init()"
   ]
  },
  {
   "cell_type": "code",
   "execution_count": null,
   "metadata": {
    "colab": {},
    "colab_type": "code",
    "id": "RDCMJaVnzKW7"
   },
   "outputs": [],
   "source": [
    "from pyspark.sql import SparkSession\n",
    "\n",
    "spark = SparkSession.builder.master(\"local[*]\").getOrCreate()"
   ]
  },
  {
   "cell_type": "code",
   "execution_count": null,
   "metadata": {
    "colab": {
     "base_uri": "https://localhost:8080/",
     "height": 216
    },
    "colab_type": "code",
    "executionInfo": {
     "elapsed": 231,
     "status": "ok",
     "timestamp": 1561083050746,
     "user": {
      "displayName": "Alexey Strokach",
      "photoUrl": "https://lh3.googleusercontent.com/-Lp8Zf68EiFo/AAAAAAAAAAI/AAAAAAAAABU/H-NObGtJeXY/s64/photo.jpg",
      "userId": "00492508659432265464"
     },
     "user_tz": 420
    },
    "id": "7_Rsa-FUTQPv",
    "outputId": "ff5c28ff-04e5-4144-bbb2-840c5022ea55"
   },
   "outputs": [],
   "source": [
    "spark"
   ]
  },
  {
   "cell_type": "code",
   "execution_count": null,
   "metadata": {
    "colab": {
     "base_uri": "https://localhost:8080/",
     "height": 34
    },
    "colab_type": "code",
    "executionInfo": {
     "elapsed": 994,
     "status": "ok",
     "timestamp": 1561083303670,
     "user": {
      "displayName": "Alexey Strokach",
      "photoUrl": "https://lh3.googleusercontent.com/-Lp8Zf68EiFo/AAAAAAAAAAI/AAAAAAAAABU/H-NObGtJeXY/s64/photo.jpg",
      "userId": "00492508659432265464"
     },
     "user_tz": 420
    },
    "id": "j3ym_KXw0MZ4",
    "outputId": "ffd6cf5c-77fa-44a9-da7e-cc214e58607f"
   },
   "outputs": [],
   "source": [
    "!which python"
   ]
  },
  {
   "cell_type": "code",
   "execution_count": null,
   "metadata": {
    "colab": {
     "base_uri": "https://localhost:8080/",
     "height": 34
    },
    "colab_type": "code",
    "executionInfo": {
     "elapsed": 904,
     "status": "ok",
     "timestamp": 1561083242264,
     "user": {
      "displayName": "Alexey Strokach",
      "photoUrl": "https://lh3.googleusercontent.com/-Lp8Zf68EiFo/AAAAAAAAAAI/AAAAAAAAABU/H-NObGtJeXY/s64/photo.jpg",
      "userId": "00492508659432265464"
     },
     "user_tz": 420
    },
    "id": "TsP5fXKDymz3",
    "outputId": "824a8121-a9fa-4939-9e0f-2580fd7495be"
   },
   "outputs": [],
   "source": [
    "!hostname"
   ]
  },
  {
   "cell_type": "code",
   "execution_count": null,
   "metadata": {
    "colab": {},
    "colab_type": "code",
    "id": "fgJK75BxynWF"
   },
   "outputs": [],
   "source": [
    "ngrok = subprocess.Popen([\"./ngrok\", \"http\", \"http://a78eefd263d2:4040/\"])"
   ]
  },
  {
   "cell_type": "code",
   "execution_count": null,
   "metadata": {
    "colab": {},
    "colab_type": "code",
    "id": "nE7-Nw5RyngV"
   },
   "outputs": [],
   "source": [
    "ngrok.kill()"
   ]
  },
  {
   "cell_type": "code",
   "execution_count": null,
   "metadata": {
    "colab": {},
    "colab_type": "code",
    "id": "KXA4ZcL2tYno"
   },
   "outputs": [],
   "source": [
    "!wget https://bin.equinox.io/c/4VmDzA7iaHb/ngrok-stable-linux-amd64.zip > /dev/null 2>&1"
   ]
  },
  {
   "cell_type": "code",
   "execution_count": null,
   "metadata": {
    "colab": {},
    "colab_type": "code",
    "id": "Et2BwuLDv6LF"
   },
   "outputs": [],
   "source": [
    "!unzip ngrok-stable-linux-amd64.zip > /dev/null 2>&1"
   ]
  },
  {
   "cell_type": "code",
   "execution_count": null,
   "metadata": {
    "colab": {
     "base_uri": "https://localhost:8080/",
     "height": 34
    },
    "colab_type": "code",
    "executionInfo": {
     "elapsed": 1048,
     "status": "ok",
     "timestamp": 1561083161309,
     "user": {
      "displayName": "Alexey Strokach",
      "photoUrl": "https://lh3.googleusercontent.com/-Lp8Zf68EiFo/AAAAAAAAAAI/AAAAAAAAABU/H-NObGtJeXY/s64/photo.jpg",
      "userId": "00492508659432265464"
     },
     "user_tz": 420
    },
    "id": "YW0hhclDv8s3",
    "outputId": "e630ebfb-831c-4117-e7c1-c12a8d66781e"
   },
   "outputs": [],
   "source": [
    "# get the public ip to view tensorboard webui\n",
    "! curl -s http://localhost:4041/api/tunnels | python3 -c \\\n",
    "    \"import sys, json; print(json.load(sys.stdin)['tunnels'][0]['public_url'])\""
   ]
  },
  {
   "cell_type": "code",
   "execution_count": null,
   "metadata": {
    "colab": {},
    "colab_type": "code",
    "id": "MVr9NC0zw5Hc"
   },
   "outputs": [],
   "source": [
    "get_ipython().system_raw('./ngrok http http://d36a079c99f5:4040/ &')"
   ]
  },
  {
   "cell_type": "code",
   "execution_count": null,
   "metadata": {
    "colab": {
     "base_uri": "https://localhost:8080/",
     "height": 663
    },
    "colab_type": "code",
    "executionInfo": {
     "elapsed": 953,
     "status": "ok",
     "timestamp": 1561082378480,
     "user": {
      "displayName": "Alexey Strokach",
      "photoUrl": "https://lh3.googleusercontent.com/-Lp8Zf68EiFo/AAAAAAAAAAI/AAAAAAAAABU/H-NObGtJeXY/s64/photo.jpg",
      "userId": "00492508659432265464"
     },
     "user_tz": 420
    },
    "id": "LKTjtSNZv7xQ",
    "outputId": "3c4868d7-dc31-4657-c85d-dcaf36a7d9ab"
   },
   "outputs": [],
   "source": [
    "!./ngrok http d36a079c99f5:4040"
   ]
  },
  {
   "cell_type": "code",
   "execution_count": null,
   "metadata": {
    "colab": {},
    "colab_type": "code",
    "id": "1OSrAVYjv9Ko"
   },
   "outputs": [],
   "source": []
  },
  {
   "cell_type": "code",
   "execution_count": null,
   "metadata": {
    "colab": {},
    "colab_type": "code",
    "id": "dW83_yyVv9Tu"
   },
   "outputs": [],
   "source": []
  },
  {
   "cell_type": "code",
   "execution_count": null,
   "metadata": {
    "colab": {},
    "colab_type": "code",
    "id": "RqE_67t4tZDP"
   },
   "outputs": [],
   "source": [
    "import IPython"
   ]
  },
  {
   "cell_type": "code",
   "execution_count": null,
   "metadata": {
    "colab": {},
    "colab_type": "code",
    "id": "Zzy_skcItaut"
   },
   "outputs": [],
   "source": [
    "def display_tensorboard(port, height):\n",
    "    import IPython.display\n",
    "    shell = \"\"\"\n",
    "    <div id=\"root\"></div>\n",
    "    <script>\n",
    "        (function() {\n",
    "        window.TENSORBOARD_ENV = window.TENSORBOARD_ENV || {};\n",
    "        window.TENSORBOARD_ENV[\"IN_COLAB\"] = true;\n",
    "        document.querySelector(\"base\").href = \"https://localhost:%PORT%/#/overview\";\n",
    "        function executeAllScripts(root) {\n",
    "            // When `script` elements are inserted into the DOM by\n",
    "            // assigning to an element's `innerHTML`, the scripts are not\n",
    "            // executed. Thus, we manually re-insert these scripts so that\n",
    "            // TensorBoard can initialize itself.\n",
    "            for (const script of root.querySelectorAll(\"script\")) {\n",
    "            const newScript = document.createElement(\"script\");\n",
    "            newScript.type = script.type;\n",
    "            newScript.textContent = script.textContent;\n",
    "            root.appendChild(newScript);\n",
    "            script.remove();\n",
    "            }\n",
    "        }\n",
    "        function setHeight(root, height) {\n",
    "            // We set the height dynamically after the TensorBoard UI has\n",
    "            // been initialized. This avoids an intermediate state in\n",
    "            // which the container plus the UI become taller than the\n",
    "            // final width and cause the Colab output frame to be\n",
    "            // permanently resized, eventually leading to an empty\n",
    "            // vertical gap below the TensorBoard UI. It's not clear\n",
    "            // exactly what causes this problematic intermediate state,\n",
    "            // but setting the height late seems to fix it.\n",
    "            root.style.height = `${height}px`;\n",
    "        }\n",
    "        const root = document.getElementById(\"root\");\n",
    "        fetch(\".\")\n",
    "            .then((x) => x.text())\n",
    "            .then((html) => void (root.innerHTML = html))\n",
    "            .then(() => executeAllScripts(root))\n",
    "            .then(() => setHeight(root, %HEIGHT%));\n",
    "        })();\n",
    "    </script>\n",
    "    \"\"\".replace(\"%PORT%\", \"%d\" % port).replace(\"%HEIGHT%\", \"%d\" % height)\n",
    "    html = IPython.display.HTML(shell)\n",
    "    return html"
   ]
  },
  {
   "cell_type": "code",
   "execution_count": null,
   "metadata": {
    "colab": {
     "base_uri": "https://localhost:8080/",
     "height": 417,
     "resources": {
      "http://localhost:8080/": {
       "data": "",
       "headers": [
        [
         "content-length",
         "0"
        ],
        [
         "content-type",
         "text/html; charset=UTF-8"
        ]
       ],
       "ok": false,
       "status": 404,
       "status_text": ""
      }
     }
    },
    "colab_type": "code",
    "executionInfo": {
     "elapsed": 214,
     "status": "ok",
     "timestamp": 1561081644654,
     "user": {
      "displayName": "Alexey Strokach",
      "photoUrl": "https://lh3.googleusercontent.com/-Lp8Zf68EiFo/AAAAAAAAAAI/AAAAAAAAABU/H-NObGtJeXY/s64/photo.jpg",
      "userId": "00492508659432265464"
     },
     "user_tz": 420
    },
    "id": "vMk9RqQMtaw3",
    "outputId": "87a3cd37-aede-46aa-f8da-dffd74e37439"
   },
   "outputs": [],
   "source": [
    "display_tensorboard(8080, 400)"
   ]
  },
  {
   "cell_type": "code",
   "execution_count": null,
   "metadata": {
    "colab": {},
    "colab_type": "code",
    "id": "m76X76crtazR"
   },
   "outputs": [],
   "source": []
  },
  {
   "cell_type": "code",
   "execution_count": null,
   "metadata": {
    "colab": {},
    "colab_type": "code",
    "id": "ekToyNTtta12"
   },
   "outputs": [],
   "source": []
  },
  {
   "cell_type": "code",
   "execution_count": null,
   "metadata": {
    "colab": {},
    "colab_type": "code",
    "id": "xtigeFUAta4O"
   },
   "outputs": [],
   "source": []
  },
  {
   "cell_type": "code",
   "execution_count": null,
   "metadata": {
    "colab": {},
    "colab_type": "code",
    "id": "6cfVFkPRTWEY"
   },
   "outputs": [],
   "source": [
    "http://d3f38a4386f9:4040/"
   ]
  },
  {
   "cell_type": "markdown",
   "metadata": {
    "colab_type": "text",
    "id": "T3ULPx4Y1LiR"
   },
   "source": [
    "## Use Spark!\n",
    "That's all there is to it - you're ready to use Spark!"
   ]
  },
  {
   "cell_type": "code",
   "execution_count": null,
   "metadata": {
    "colab": {
     "base_uri": "https://localhost:8080/",
     "height": 204
    },
    "colab_type": "code",
    "executionInfo": {
     "elapsed": 567,
     "status": "ok",
     "timestamp": 1561057881350,
     "user": {
      "displayName": "Alexey Strokach",
      "photoUrl": "https://lh3.googleusercontent.com/-Lp8Zf68EiFo/AAAAAAAAAAI/AAAAAAAAABU/H-NObGtJeXY/s64/photo.jpg",
      "userId": "00492508659432265464"
     },
     "user_tz": 420
    },
    "id": "XJp8ZI-VzYEz",
    "outputId": "2e32c527-e4cf-4286-da01-c3b54a8fa17c"
   },
   "outputs": [],
   "source": [
    "df = spark.createDataFrame([{\"hello\": \"world\"} for x in range(1000)])\n",
    "df.show(3)"
   ]
  },
  {
   "cell_type": "code",
   "execution_count": null,
   "metadata": {
    "colab": {},
    "colab_type": "code",
    "id": "PZkw_gPEQvId"
   },
   "outputs": [],
   "source": []
  }
 ],
 "metadata": {
  "accelerator": "GPU",
  "colab": {
   "collapsed_sections": [],
   "name": "spark-demo.ipynb",
   "provenance": [
    {
     "file_id": "1F9OUID_hTQcV4d7f5m6EIetfrJeZL02N",
     "timestamp": 1561506828779
    },
    {
     "file_id": "10pbh7mat98JuRviL0NX5TH-O-_Bsuc49",
     "timestamp": 1561049226731
    },
    {
     "file_id": "1mI1PnM7QDmXdMLQL79TrW1NA45gJ6I_L",
     "timestamp": 1561049026884
    }
   ],
   "toc_visible": true,
   "version": "0.3.2"
  },
  "kernelspec": {
   "display_name": "Python 3",
   "name": "python3"
  }
 },
 "nbformat": 4,
 "nbformat_minor": 0
}
