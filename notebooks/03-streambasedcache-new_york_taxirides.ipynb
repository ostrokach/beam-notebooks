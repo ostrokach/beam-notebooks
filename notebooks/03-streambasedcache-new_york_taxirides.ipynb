{
 "cells": [
  {
   "cell_type": "markdown",
   "metadata": {},
   "source": [
    "# StreamBasedCache Demo - New York Taxi Rides"
   ]
  },
  {
   "cell_type": "markdown",
   "metadata": {},
   "source": [
    "**Limitations**\n",
    "\n",
    "- Caches are not removed on system exit.\n",
    "  - Adding a `__del__` method would conflict with over-write semantics."
   ]
  },
  {
   "cell_type": "markdown",
   "metadata": {},
   "source": [
    "## Install dependencies"
   ]
  },
  {
   "cell_type": "code",
   "execution_count": null,
   "metadata": {},
   "outputs": [],
   "source": [
    "try:\n",
    "    import google.colab\n",
    "    GOOGLE_COLAB = True\n",
    "except ImportError:\n",
    "    GOOGLE_COLAB = False"
   ]
  },
  {
   "cell_type": "markdown",
   "metadata": {},
   "source": [
    "## Imports"
   ]
  },
  {
   "cell_type": "code",
   "execution_count": null,
   "metadata": {},
   "outputs": [],
   "source": [
    "from __future__ import division, print_function\n",
    "\n",
    "import atexit\n",
    "import itertools\n",
    "import json\n",
    "import os\n",
    "import time\n",
    "import uuid\n",
    "from datetime import datetime\n",
    "\n",
    "import apache_beam as beam\n",
    "import dateutil\n",
    "import pytz\n",
    "from apache_beam import transforms\n",
    "from apache_beam.io.gcp.pubsub import PubsubMessage\n",
    "from apache_beam.options.pipeline_options import (GoogleCloudOptions,\n",
    "                                                  PipelineOptions)\n",
    "from apache_beam.runners.interactive.caching import streambasedcache\n",
    "from apache_beam.transforms import combiners, window\n",
    "from google.api_core import exceptions as gexc\n",
    "from google.cloud import pubsub_v1"
   ]
  },
  {
   "cell_type": "markdown",
   "metadata": {},
   "source": [
    "## Parameters"
   ]
  },
  {
   "cell_type": "code",
   "execution_count": null,
   "metadata": {},
   "outputs": [],
   "source": [
    "NOTEBOOK_NAME = \"streambasedcache-new_york_taxirides\"\n",
    "\n",
    "try:\n",
    "    os.makedirs(NOTEBOOK_NAME)\n",
    "except OSError:\n",
    "    pass"
   ]
  },
  {
   "cell_type": "code",
   "execution_count": null,
   "metadata": {},
   "outputs": [],
   "source": [
    "# { display-mode: \"form\" }\n",
    "project_id = \"strokach-playground\"  #@param {type:\"string\"}\n",
    "remote_temp_location = \"gs://strokach/dataflow_temp\"  #@param {type:\"string\"}"
   ]
  },
  {
   "cell_type": "code",
   "execution_count": null,
   "metadata": {},
   "outputs": [],
   "source": [
    "options = PipelineOptions(\n",
    "    project=project_id,\n",
    "    temp_location=remote_temp_location,\n",
    "    streaming=True,\n",
    "    runner=\"DirectRunner\",\n",
    "#     runner=\"DataflowRunner\",\n",
    "    sdk_location=os.path.expanduser(\n",
    "        \"~/workspace/beam/sdks/python/dist/apache-beam-2.15.0.dev0.tar.gz\"\n",
    "    ),\n",
    "    setup_file=\"../setup.py\"\n",
    ")\n",
    "options.display_data()"
   ]
  },
  {
   "cell_type": "code",
   "execution_count": null,
   "metadata": {},
   "outputs": [],
   "source": [
    "if GOOGLE_COLAB:\n",
    "    from google.colab import auth\n",
    "    auth.authenticate_user()"
   ]
  },
  {
   "cell_type": "code",
   "execution_count": null,
   "metadata": {},
   "outputs": [],
   "source": [
    "try:\n",
    "    %load_ext autoreload\n",
    "    %autoreload 2\n",
    "except Exception:\n",
    "    print(\"No autoreload\")"
   ]
  },
  {
   "cell_type": "markdown",
   "metadata": {},
   "source": [
    "## Function definitions"
   ]
  },
  {
   "cell_type": "code",
   "execution_count": null,
   "metadata": {},
   "outputs": [],
   "source": [
    "def create_cache(location, cache_class, *args, **kwargs):\n",
    "    for _ in range(3):\n",
    "        full_location = \"{}-{}\".format(location, uuid.uuid4().hex[:8])\n",
    "        try:\n",
    "            return cache_class(full_location, *args, **kwargs)\n",
    "        except IOError as e:\n",
    "            pass\n",
    "    raise e"
   ]
  },
  {
   "cell_type": "markdown",
   "metadata": {},
   "source": [
    "### Create subscription"
   ]
  },
  {
   "cell_type": "code",
   "execution_count": null,
   "metadata": {},
   "outputs": [],
   "source": [
    "sub_client = pubsub_v1.SubscriberClient()"
   ]
  },
  {
   "cell_type": "code",
   "execution_count": null,
   "metadata": {},
   "outputs": [],
   "source": [
    "project_id"
   ]
  },
  {
   "cell_type": "code",
   "execution_count": null,
   "metadata": {},
   "outputs": [],
   "source": [
    "taxirides_topic_path = \"projects/pubsub-public-data/topics/taxirides-realtime\"\n",
    "subscription_path = \"projects/{}/subscriptions/{}\".format(project_id, NOTEBOOK_NAME)\n",
    "\n",
    "\n",
    "def create_subscription(subscription_path, taxirides_topic_path):\n",
    "    sub_client.create_subscription(subscription_path, taxirides_topic_path)\n",
    "\n",
    "\n",
    "def delete_subscription(subscription_path):\n",
    "    sub_client.delete_subscription(subscription_path)\n",
    "\n",
    "\n",
    "try:\n",
    "    create_subscription(subscription_path, taxirides_topic_path)\n",
    "    atexit.register(delete_subscription, subscription_path)\n",
    "except gexc.AlreadyExists:\n",
    "    delete_subscription(subscription_path)\n",
    "    create_subscription(subscription_path, taxirides_topic_path)\n",
    "    atexit.register(delete_subscription, subscription_path)"
   ]
  },
  {
   "cell_type": "markdown",
   "metadata": {},
   "source": [
    "### Read data from subscription"
   ]
  },
  {
   "cell_type": "code",
   "execution_count": null,
   "metadata": {},
   "outputs": [],
   "source": [
    "class LoadPubSubMessage(beam.DoFn):\n",
    "    def process(self, message):\n",
    "        from datetime import datetime\n",
    "        import json\n",
    "\n",
    "        import arrow\n",
    "        import pytz\n",
    "\n",
    "        from apache_beam.transforms import window\n",
    "        from apache_beam.utils import timestamp\n",
    "\n",
    "        timestamp_str = message.attributes[\"ts\"]\n",
    "        dt = arrow.get(timestamp_str).datetime\n",
    "        dt_delta = dt.astimezone(pytz.UTC) - datetime.utcfromtimestamp(0).replace(\n",
    "            tzinfo=pytz.UTC\n",
    "        )\n",
    "        timestampt = timestamp.Timestamp(seconds=dt_delta.total_seconds())\n",
    "\n",
    "        element = json.loads(message.data.decode())\n",
    "        element[\"timestamp_milliseconds\"] = int(timestampt.micros / 1000)\n",
    "        yield window.TimestampedValue(element, timestampt)\n",
    "\n",
    "\n",
    "message = PubsubMessage(\n",
    "    data=json.dumps({\"x\": \"hello\"}).encode(\"utf-8\"),\n",
    "    attributes={\"ts\": \"2019-06-27T20:36:35.4972-04:00\"},\n",
    ")\n",
    "assert next(LoadPubSubMessage().process(message)).value == {\n",
    "    u\"x\": u\"hello\",\n",
    "    \"timestamp_milliseconds\": 1561682195497,\n",
    "}\n",
    "assert next(LoadPubSubMessage().process(message)).timestamp.micros == 1561682195497200\n",
    "next(LoadPubSubMessage().process(message)).value"
   ]
  },
  {
   "cell_type": "code",
   "execution_count": null,
   "metadata": {},
   "outputs": [],
   "source": [
    "class AddMercatorCoords(beam.DoFn):\n",
    "    \n",
    "    def process(self, element):\n",
    "        import numpy as np\n",
    "\n",
    "        r_major = 6378137.000\n",
    "\n",
    "        element[\"utm_x\"] = (r_major * 2 * np.pi / 360) * element[\"longitude\"]\n",
    "        try:\n",
    "            scale = element[\"utm_x\"] / element[\"longitude\"]\n",
    "        except ZeroDivisionError:\n",
    "            scale = 0\n",
    "        element[\"utm_y\"] = (\n",
    "            180.0 / np.pi * np.log(np.tan((np.pi / 4.0) + element[\"latitude\"] * (np.pi / 180.0 / 2.0))) * scale\n",
    "        )\n",
    "        yield element\n",
    "#         events_df[\"utm_y\"] = events_df[\"utm_y\"].fillna(0)\n",
    "        \n",
    "        \n",
    "next(AddMercatorCoords().process({\"longitude\": 0, \"latitude\": 0}))"
   ]
  },
  {
   "cell_type": "code",
   "execution_count": null,
   "metadata": {},
   "outputs": [],
   "source": [
    "class FilterByRegion(beam.DoFn):\n",
    "    def __init__(self, utm_x_range, utm_y_range):\n",
    "        self.utm_x_range = utm_x_range\n",
    "        self.utm_y_range = utm_y_range\n",
    "\n",
    "    def process(self, element):\n",
    "        if (self.utm_x_range[0] <= element[\"utm_x\"] < self.utm_x_range[1]) and (\n",
    "            self.utm_y_range[0] <= element[\"utm_y\"] < self.utm_y_range[1]\n",
    "        ):\n",
    "            yield element"
   ]
  },
  {
   "cell_type": "code",
   "execution_count": null,
   "metadata": {},
   "outputs": [],
   "source": [
    "class FilterRideStatus(beam.DoFn):\n",
    "    def __init__(self, ride_status):\n",
    "        self._ride_status = ride_status\n",
    "        super(FilterRideStatus, self).__init__()\n",
    "\n",
    "    def process(self, element):\n",
    "        if element[\"ride_status\"] in self._ride_status:\n",
    "            yield element"
   ]
  },
  {
   "cell_type": "code",
   "execution_count": null,
   "metadata": {},
   "outputs": [],
   "source": [
    "class AddWindowRange(beam.DoFn):\n",
    "    def process(self, element, window=beam.DoFn.WindowParam):\n",
    "        import pytz\n",
    "\n",
    "        ts_format = \"%Y-%m-%dT%H:%M:%S.%f-04:00\"\n",
    "        element[\"window_start_est\"] = (\n",
    "            window.start.to_utc_datetime()\n",
    "            .replace(tzinfo=pytz.UTC)\n",
    "            .astimezone(pytz.timezone(\"US/Eastern\"))\n",
    "            .strftime(ts_format)\n",
    "        )\n",
    "        element[\"window_end_est\"] = (\n",
    "            window.end.to_utc_datetime()\n",
    "            .replace(tzinfo=pytz.UTC)\n",
    "            .astimezone(pytz.timezone(\"US/Eastern\"))\n",
    "            .strftime(ts_format)\n",
    "        )\n",
    "        element[\"window_start_milliseconds\"] = int(window.start.micros / 1000)\n",
    "        element[\"window_end_milliseconds\"] = int(window.end.micros / 1000)\n",
    "        yield element"
   ]
  },
  {
   "cell_type": "markdown",
   "metadata": {},
   "source": [
    "> ***Issues***\n",
    "> \n",
    "> - If any errors occur, we more often than not have to restart the kernel.\n",
    "> - Python Beam SDK does not support publishing messages with a specific timestamp. We always have to infer the timestamp from one of the attributes."
   ]
  },
  {
   "cell_type": "code",
   "execution_count": null,
   "metadata": {},
   "outputs": [],
   "source": [
    "MERCATOR_X_RANGE = (-8240000, -8220000)\n",
    "MERCATOR_Y_RANGE = (4950000, 5000000)"
   ]
  },
  {
   "cell_type": "code",
   "execution_count": null,
   "metadata": {},
   "outputs": [],
   "source": [
    "try:\n",
    "    pr.cancel()\n",
    "except NameError:\n",
    "    pass\n",
    "\n",
    "temp = streambasedcache.PubSubBasedCache(\n",
    "    \"projects/{}/topics/{}-temp\".format(project_id, NOTEBOOK_NAME),\n",
    "    mode=\"overwrite\",\n",
    "    with_attributes=[\"timestamp_milliseconds\"],\n",
    "    timestamp_attribute=\"timestamp_milliseconds\",\n",
    ")\n",
    "\n",
    "options.view_as(GoogleCloudOptions).job_name = \"test6\"\n",
    "p = beam.Pipeline(options=options)\n",
    "\n",
    "out = (\n",
    "    p\n",
    "    | \"Read\"\n",
    "    >> beam.io.ReadFromPubSub(subscription=subscription_path, with_attributes=True)\n",
    "    | \"Decode message\" >> beam.ParDo(LoadPubSubMessage())\n",
    "    | \"Add Mercator coords\" >> beam.ParDo(AddMercatorCoords())\n",
    "    | \"Filter to New York\"\n",
    "    >> beam.ParDo(FilterByRegion(MERCATOR_X_RANGE, MERCATOR_Y_RANGE))\n",
    "    | \"Window\" >> beam.WindowInto(window.FixedWindows(1))\n",
    "    | \"Add window info\" >> beam.ParDo(AddWindowRange())\n",
    "    | \"Combine\" >> beam.CombineGlobally(combiners.ToListCombineFn()).without_defaults()\n",
    "    | \"Reduce\"\n",
    "    >> beam.Map(\n",
    "        lambda e: {\n",
    "            \"timestamp_milliseconds\": e[0][\"window_end_milliseconds\"],\n",
    "            \"number_of_events\": len(e),\n",
    "        }\n",
    "    )\n",
    "    | \"Write\" >> temp.writer()\n",
    ")\n",
    "\n",
    "pr = p.run()"
   ]
  },
  {
   "cell_type": "code",
   "execution_count": null,
   "metadata": {},
   "outputs": [],
   "source": [
    "data_source  = temp.read(from_start=False, timeout=10, return_timestamp=True)\n",
    "out = list(itertools.islice(data_source, 100))\n",
    "out"
   ]
  },
  {
   "cell_type": "code",
   "execution_count": null,
   "metadata": {},
   "outputs": [],
   "source": [
    "out"
   ]
  },
  {
   "cell_type": "code",
   "execution_count": null,
   "metadata": {},
   "outputs": [],
   "source": [
    "# try:\n",
    "#     print(pr.cancel())\n",
    "# except NameError:\n",
    "#     pass"
   ]
  },
  {
   "cell_type": "code",
   "execution_count": null,
   "metadata": {},
   "outputs": [],
   "source": []
  },
  {
   "cell_type": "code",
   "execution_count": null,
   "metadata": {},
   "outputs": [],
   "source": [
    "random.randint(0, 10)"
   ]
  },
  {
   "cell_type": "code",
   "execution_count": null,
   "metadata": {},
   "outputs": [],
   "source": []
  },
  {
   "cell_type": "code",
   "execution_count": null,
   "metadata": {},
   "outputs": [],
   "source": [
    "import threading\n",
    "output_notebook()\n",
    "\n",
    "fg = figure(plot_width=400, plot_height=400)\n",
    "\n",
    "source = ColumnDataSource(\n",
    "    data=dict(x=[1, 2, 3, 4, 5], y=[random.randint(0, 10) for _ in range(5)])\n",
    ")\n",
    "\n",
    "# add a circle renderer with a size, color, and alpha\n",
    "fg.circle(\"x\", \"y\", size=20, color=\"navy\", alpha=0.5, source=source)\n",
    "\n",
    "# show the results\n",
    "handle = show(fg, notebook_handle=True)\n",
    "\n",
    "def update_plot():\n",
    "    while True:\n",
    "        time.sleep(1)\n",
    "        source.data = {\"x\": [1, 2, 3, 4, 5], \"y\": [random.randint(0, 10) for _ in range(5)]}\n",
    "        #     print(source.data)\n",
    "        push_notebook(handle=handle)\n",
    "        \n",
    "        \n",
    "t2 = threading.Thread(target=update_plot)\n",
    "t2.start()"
   ]
  },
  {
   "cell_type": "code",
   "execution_count": null,
   "metadata": {},
   "outputs": [],
   "source": [
    "t1.join()"
   ]
  },
  {
   "cell_type": "code",
   "execution_count": null,
   "metadata": {},
   "outputs": [],
   "source": []
  },
  {
   "cell_type": "code",
   "execution_count": null,
   "metadata": {},
   "outputs": [],
   "source": [
    "from bokeh.io import output_notebook, push_notebook, show\n",
    "from bokeh.models import ColumnDataSource\n",
    "from bokeh.plotting import figure\n",
    "\n",
    "output_notebook()\n",
    "\n",
    "fg = figure(plot_width=400, plot_height=400)\n",
    "\n",
    "source = ColumnDataSource(data=dict(x=[1, 2, 3, 4, 5], y=[6, 7, 2, 4, 5]))\n",
    "\n",
    "# add a circle renderer with a size, color, and alpha\n",
    "fg.circle(\"x\", \"y\", size=20, color=\"navy\", alpha=0.5, source=source)\n",
    "\n",
    "# show the results\n",
    "handle = show(fg, notebook_handle=True)\n",
    "\n",
    "while True:\n",
    "    time.sleep(1)\n",
    "    source.data = {\n",
    "        \"x\": source.data[\"x\"] + [x + 1 for x in source.data[\"x\"]],\n",
    "        \"y\": [y + 1 for y in source.data[\"y\"]],\n",
    "    }\n",
    "    #     print(source.data)\n",
    "    push_notebook(handle=handle)"
   ]
  },
  {
   "cell_type": "code",
   "execution_count": null,
   "metadata": {},
   "outputs": [],
   "source": [
    "output_notebook()\n",
    "\n",
    "fg, source = create_map()\n",
    "\n",
    "# Updates\n",
    "handle = show(fg, notebook_handle=True)\n",
    "\n",
    "days_of_week = [\n",
    "    \"Monday\",\n",
    "    \"Tuesday\",\n",
    "    \"Wednesday\",\n",
    "    \"Thursday\",\n",
    "    \"Friday\",\n",
    "    \"Saturday\",\n",
    "    \"Sunday\",\n",
    "]\n",
    "\n",
    "data_source = temp.read(timeout=10, return_timestamp=True)\n",
    "time.sleep(5)\n",
    "\n",
    "for timestamp, message in data_source:\n",
    "    data = message.data.data\n",
    "    dt = datetime.utcfromtimestamp(timestamp).replace(\n",
    "        tzinfo=pytz.UTC\n",
    "    )  # .astimezone(pytz.timezone('US/Eastern'))\n",
    "    dt_str = days_of_week[dt.weekday()] + \" \" + dt.strftime(\"%b %d %Y %I:%M:%S %f\")\n",
    "    fg.title.text = dt_str\n",
    "    fg.title.align = \"center\"\n",
    "    source.data = {\n",
    "        \"x\": [d[\"utm_x\"] for d in data],\n",
    "        \"y\": [d[\"utm_y\"] for d in data],\n",
    "        \"ride_status\": [d[\"ride_status\"] for d in data],\n",
    "    }\n",
    "#     print(source.data)\n",
    "    push_notebook(handle=handle)\n",
    "    time.sleep(0.1)"
   ]
  },
  {
   "cell_type": "code",
   "execution_count": null,
   "metadata": {},
   "outputs": [],
   "source": [
    "import bokeh\n",
    "from bokeh.core.properties import value\n",
    "from bokeh.io import output_notebook, push_notebook, show\n",
    "from bokeh.layouts import row\n",
    "from bokeh.models import ColumnDataSource, Label, LabelSet, Legend, LegendItem, Range1d\n",
    "from bokeh.models.annotations import Title\n",
    "from bokeh.plotting import figure, show\n",
    "from bokeh.tile_providers import Vendors, get_provider\n",
    "from bokeh.transform import factor_cmap\n",
    "\n",
    "if GOOGLE_COLAB:\n",
    "    print(\"Interactive plot does not work on colab yet!\")\n",
    "\n",
    "\n",
    "def create_map():\n",
    "    # Colormap\n",
    "    # cmap = bokeh.palettes.d3[\"Category10\"][4]\n",
    "    cmap = bokeh.palettes.d3[\"Category20b\"][20]\n",
    "    colors = [cmap[1], cmap[9], cmap[-2]]\n",
    "\n",
    "    # Source of data\n",
    "    source = ColumnDataSource(data=dict(x=[], y=[], ride_status=[]))\n",
    "\n",
    "    # Background map\n",
    "    fg = figure(\n",
    "        x_range=MERCATOR_X_RANGE,\n",
    "        y_range=MERCATOR_Y_RANGE,\n",
    "        x_axis_type=\"mercator\",\n",
    "        y_axis_type=\"mercator\",\n",
    "        title_location=\"above\",\n",
    "        plot_height=600,\n",
    "    )\n",
    "    fg.add_tile(get_provider(Vendors.CARTODBPOSITRON))\n",
    "\n",
    "    # Scatterplot\n",
    "    fg.circle(\n",
    "        x=\"x\",\n",
    "        y=\"y\",\n",
    "        source=source,\n",
    "        size=2,\n",
    "        color=factor_cmap(\"ride_status\", colors, [\"pickup\", \"enroute\", \"dropoff\"]),\n",
    "        fill_alpha=0.8,\n",
    "        #     legend=value(\"start\", \"stop\"),\n",
    "        #     legend=[value(x) for x in [\"start\", \"stop\"]],\n",
    "    )\n",
    "\n",
    "    # Legend\n",
    "    pickup = fg.circle(x=[], y=[], color=colors[0])\n",
    "    enroute = fg.circle(x=[], y=[], color=colors[1])\n",
    "    dropoff = fg.circle(x=[], y=[], color=colors[2])\n",
    "    legend = Legend(\n",
    "        items=[(\"pickup\", [pickup]), (\"enroute\", [enroute]), (\"dropoff\", [dropoff])]\n",
    "    )\n",
    "    fg.add_layout(legend)\n",
    "    return fg, source"
   ]
  },
  {
   "cell_type": "code",
   "execution_count": null,
   "metadata": {},
   "outputs": [],
   "source": []
  },
  {
   "cell_type": "code",
   "execution_count": null,
   "metadata": {},
   "outputs": [],
   "source": []
  },
  {
   "cell_type": "code",
   "execution_count": null,
   "metadata": {},
   "outputs": [],
   "source": [
    "try:\n",
    "    data_source  = temp.read(timeout=10, return_timestamp=True)\n",
    "#     time.sleep(3)\n",
    "    out = list(itertools.islice(data_source, 100))\n",
    "finally:\n",
    "    pr.cancel()\n",
    "out"
   ]
  },
  {
   "cell_type": "code",
   "execution_count": null,
   "metadata": {},
   "outputs": [],
   "source": []
  },
  {
   "cell_type": "code",
   "execution_count": null,
   "metadata": {},
   "outputs": [],
   "source": []
  },
  {
   "cell_type": "code",
   "execution_count": null,
   "metadata": {},
   "outputs": [],
   "source": [
    "out = (\n",
    "    p\n",
    "    | \"Read\"\n",
    "    >> beam.io.ReadFromPubSub(subscription=subscription_path, with_attributes=True)\n",
    "    | \"Decode message\" >> beam.ParDo(LoadPubSubMessage())\n",
    "    | \"Window\" >> beam.WindowInto(window.FixedWindows(1))\n",
    "    | \"Add window info\" >> beam.ParDo(AddWindowRange())\n",
    "    | \"Combine\" >> beam.CombineGlobally(combiners.ToListCombineFn()).without_defaults()\n",
    "    | \"Reduce\"\n",
    "    >> beam.Map(\n",
    "        lambda e: {\n",
    "            \"timestamp_milliseconds\": e[0][\"window_end_milliseconds\"],\n",
    "            \"number_of_events\": len(e),\n",
    "        }\n",
    "    )\n",
    "    | \"Write\" >> temp.writer()\n",
    ")"
   ]
  },
  {
   "cell_type": "code",
   "execution_count": null,
   "metadata": {},
   "outputs": [],
   "source": [
    "    #     | \"Filter to pickups and dropoff\"\n",
    "    #     >> beam.ParDo(FilterRideStatus([\"pickup\", \"dropoff\"]))\n",
    "    | \"Pair with end of window\" >> beam.Map(lambda e: (e[\"window_end_milliseconds\"], e))\n",
    "    | \"Group by end of window\" >> beam.GroupByKey()\n",
    "    | \"Reduce\"\n",
    "    >> beam.Map(\n",
    "        lambda e: {\"timestamp_milliseconds\": e[0], \"number_of_events\": len(e[1])}\n",
    "    )\n"
   ]
  },
  {
   "cell_type": "code",
   "execution_count": null,
   "metadata": {},
   "outputs": [],
   "source": [
    "# [Timestamp(1562888333.275000),\n",
    "#  Timestamp(1562888333.279000),\n",
    "#  Timestamp(1562888333.286000),\n",
    "#  Timestamp(1562888333.288000),\n",
    "#  Timestamp(1562888333.294000)]"
   ]
  },
  {
   "cell_type": "code",
   "execution_count": null,
   "metadata": {},
   "outputs": [],
   "source": [
    "# try:\n",
    "#     pr.cancel()\n",
    "# except NameError:\n",
    "#     pass"
   ]
  },
  {
   "cell_type": "markdown",
   "metadata": {},
   "source": [
    "### Interactive dashboard"
   ]
  },
  {
   "cell_type": "code",
   "execution_count": null,
   "metadata": {},
   "outputs": [],
   "source": [
    "import bokeh\n",
    "from bokeh.core.properties import value\n",
    "from bokeh.io import output_notebook, push_notebook, show\n",
    "from bokeh.layouts import row\n",
    "from bokeh.models import ColumnDataSource, Label, LabelSet, Legend, LegendItem, Range1d\n",
    "from bokeh.models.annotations import Title\n",
    "from bokeh.plotting import figure, show\n",
    "from bokeh.tile_providers import Vendors, get_provider\n",
    "from bokeh.transform import factor_cmap\n",
    "\n",
    "if GOOGLE_COLAB:\n",
    "    print(\"Interactive plot does not work on colab yet!\")\n",
    "\n",
    "\n",
    "def create_map():\n",
    "    # Colormap\n",
    "    # cmap = bokeh.palettes.d3[\"Category10\"][4]\n",
    "    cmap = bokeh.palettes.d3[\"Category20b\"][20]\n",
    "    colors = [cmap[1], cmap[9], cmap[-2]]\n",
    "\n",
    "    # Source of data\n",
    "    source = ColumnDataSource(data=dict(x=[], y=[], ride_status=[]))\n",
    "\n",
    "    # Background map\n",
    "    fg = figure(\n",
    "        x_range=MERCATOR_X_RANGE,\n",
    "        y_range=MERCATOR_Y_RANGE,\n",
    "        x_axis_type=\"mercator\",\n",
    "        y_axis_type=\"mercator\",\n",
    "        title_location=\"above\",\n",
    "        plot_height=600,\n",
    "    )\n",
    "    fg.add_tile(get_provider(Vendors.CARTODBPOSITRON))\n",
    "\n",
    "    # Scatterplot\n",
    "    fg.circle(\n",
    "        x=\"x\",\n",
    "        y=\"y\",\n",
    "        source=source,\n",
    "        size=2,\n",
    "        color=factor_cmap(\"ride_status\", colors, [\"pickup\", \"enroute\", \"dropoff\"]),\n",
    "        fill_alpha=0.8,\n",
    "        #     legend=value(\"start\", \"stop\"),\n",
    "        #     legend=[value(x) for x in [\"start\", \"stop\"]],\n",
    "    )\n",
    "\n",
    "    # Legend\n",
    "    pickup = fg.circle(x=[], y=[], color=colors[0])\n",
    "    enroute = fg.circle(x=[], y=[], color=colors[1])\n",
    "    dropoff = fg.circle(x=[], y=[], color=colors[2])\n",
    "    legend = Legend(\n",
    "        items=[(\"pickup\", [pickup]), (\"enroute\", [enroute]), (\"dropoff\", [dropoff])]\n",
    "    )\n",
    "    fg.add_layout(legend)\n",
    "    return fg, source"
   ]
  },
  {
   "cell_type": "code",
   "execution_count": null,
   "metadata": {},
   "outputs": [],
   "source": [
    "output_notebook()\n",
    "\n",
    "fg, source = create_map()\n",
    "\n",
    "# Updates\n",
    "handle = show(fg, notebook_handle=True)\n",
    "\n",
    "days_of_week = [\n",
    "    \"Monday\",\n",
    "    \"Tuesday\",\n",
    "    \"Wednesday\",\n",
    "    \"Thursday\",\n",
    "    \"Friday\",\n",
    "    \"Saturday\",\n",
    "    \"Sunday\",\n",
    "]\n",
    "\n",
    "data_source = temp.read(timeout=10, return_timestamp=True)\n",
    "time.sleep(5)\n",
    "\n",
    "for timestamp, message in data_source:\n",
    "    data = message.data.data\n",
    "    dt = datetime.utcfromtimestamp(timestamp).replace(\n",
    "        tzinfo=pytz.UTC\n",
    "    )  # .astimezone(pytz.timezone('US/Eastern'))\n",
    "    dt_str = days_of_week[dt.weekday()] + \" \" + dt.strftime(\"%b %d %Y %I:%M:%S %f\")\n",
    "    fg.title.text = dt_str\n",
    "    fg.title.align = \"center\"\n",
    "    source.data = {\n",
    "        \"x\": [d[\"utm_x\"] for d in data],\n",
    "        \"y\": [d[\"utm_y\"] for d in data],\n",
    "        \"ride_status\": [d[\"ride_status\"] for d in data],\n",
    "    }\n",
    "#     print(source.data)\n",
    "    push_notebook(handle=handle)\n",
    "    time.sleep(0.1)"
   ]
  },
  {
   "cell_type": "code",
   "execution_count": null,
   "metadata": {},
   "outputs": [],
   "source": []
  }
 ],
 "metadata": {
  "kernelspec": {
   "display_name": "Python [conda env:beam-dev]",
   "language": "python",
   "name": "conda-env-beam-dev-py"
  },
  "language_info": {
   "codemirror_mode": {
    "name": "ipython",
    "version": 2
   },
   "file_extension": ".py",
   "mimetype": "text/x-python",
   "name": "python",
   "nbconvert_exporter": "python",
   "pygments_lexer": "ipython2",
   "version": "2.7.15"
  },
  "toc": {
   "base_numbering": 1,
   "nav_menu": {},
   "number_sections": false,
   "sideBar": false,
   "skip_h1_title": false,
   "title_cell": "Table of Contents",
   "title_sidebar": "Contents",
   "toc_cell": false,
   "toc_position": {
    "height": "705px",
    "left": "43px",
    "top": "147px",
    "width": "388px"
   },
   "toc_section_display": true,
   "toc_window_display": true
  }
 },
 "nbformat": 4,
 "nbformat_minor": 2
}
