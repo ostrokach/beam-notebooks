{
 "cells": [
  {
   "cell_type": "markdown",
   "metadata": {
    "colab_type": "text",
    "id": "view-in-github"
   },
   "source": [
    "<a href=\"https://colab.research.google.com/github/ostrokach/beam-notebooks/blob/master/notebooks/pubsub_streaming_pull.ipynb\" target=\"_parent\"><img src=\"https://colab.research.google.com/assets/colab-badge.svg\" alt=\"Open In Colab\"/></a>"
   ]
  },
  {
   "cell_type": "markdown",
   "metadata": {
    "colab_type": "text",
    "id": "fOJtOOa08kmO"
   },
   "source": [
    "## Install dependencies"
   ]
  },
  {
   "cell_type": "code",
   "execution_count": null,
   "metadata": {
    "colab": {},
    "colab_type": "code",
    "id": "h8xeEOAE8jyf"
   },
   "outputs": [],
   "source": [
    "try:\n",
    "    from google.colab import auth\n",
    "    GOOGLE_COLAB = True\n",
    "except ImportError:\n",
    "    GOOGLE_COLAB = False"
   ]
  },
  {
   "cell_type": "code",
   "execution_count": null,
   "metadata": {
    "colab": {
     "base_uri": "https://localhost:8080/",
     "height": 340
    },
    "colab_type": "code",
    "id": "7T3CSBR45m3B",
    "outputId": "754e504c-8b5f-496a-9182-3f681de022ea"
   },
   "outputs": [],
   "source": [
    "if GOOGLE_COLAB:\n",
    "    !pip install google-cloud-pubsub"
   ]
  },
  {
   "cell_type": "markdown",
   "metadata": {
    "colab_type": "text",
    "id": "9RUiGz925iUH"
   },
   "source": [
    "## Imports"
   ]
  },
  {
   "cell_type": "code",
   "execution_count": null,
   "metadata": {
    "colab": {},
    "colab_type": "code",
    "id": "EUCg1XEv5iUJ"
   },
   "outputs": [],
   "source": [
    "from google.cloud import pubsub\n",
    "from google.api_core import exceptions as gexc"
   ]
  },
  {
   "cell_type": "markdown",
   "metadata": {
    "colab_type": "text",
    "id": "YoQpUX2m5iUM"
   },
   "source": [
    "## Parameters"
   ]
  },
  {
   "cell_type": "code",
   "execution_count": null,
   "metadata": {
    "cellView": "form",
    "colab": {},
    "colab_type": "code",
    "id": "UlA0ERtf5iUN"
   },
   "outputs": [],
   "source": [
    "# { display-mode: \"form\" }\n",
    "project_id = \"strokach-playground\" #@param {type:\"string\"}"
   ]
  },
  {
   "cell_type": "code",
   "execution_count": null,
   "metadata": {
    "colab": {},
    "colab_type": "code",
    "id": "zh_CrwPm5iUP"
   },
   "outputs": [],
   "source": [
    "if GOOGLE_COLAB:\n",
    "    auth.authenticate_user()"
   ]
  },
  {
   "cell_type": "markdown",
   "metadata": {
    "colab_type": "text",
    "id": "0gKd6gjH5iUS"
   },
   "source": [
    "## Workflow"
   ]
  },
  {
   "cell_type": "markdown",
   "metadata": {
    "colab_type": "text",
    "id": "tYa47wup88ft"
   },
   "source": [
    "### Following the documentation"
   ]
  },
  {
   "cell_type": "code",
   "execution_count": null,
   "metadata": {
    "colab": {},
    "colab_type": "code",
    "id": "BDHyvmm55iUT"
   },
   "outputs": [],
   "source": [
    "sub_client = pubsub.SubscriberClient()"
   ]
  },
  {
   "cell_type": "code",
   "execution_count": null,
   "metadata": {
    "colab": {},
    "colab_type": "code",
    "id": "T8XQhoi65iUV"
   },
   "outputs": [],
   "source": [
    "subscription_name = \"projects/{}/subscriptions/taxirides-realtime-sub\".format(project_id)\n",
    "\n",
    "try:\n",
    "    sub_client.create_subscription(\n",
    "        subscription_name,\n",
    "        \"projects/pubsub-public-data/topics/taxirides-realtime\",\n",
    "    )\n",
    "except gexc.AlreadyExists:\n",
    "    sub_client.delete_subscription(subscription_name)\n",
    "    sub_client.create_subscription(\n",
    "        subscription_name,\n",
    "        \"projects/pubsub-public-data/topics/taxirides-realtime\",\n",
    "    )"
   ]
  },
  {
   "cell_type": "code",
   "execution_count": null,
   "metadata": {
    "colab": {},
    "colab_type": "code",
    "id": "sZLVR52i9B78"
   },
   "outputs": [],
   "source": [
    "requests = [{\"subscription\": subscription_name, \"stream_ack_deadline_seconds\": 10}]"
   ]
  },
  {
   "cell_type": "code",
   "execution_count": null,
   "metadata": {
    "colab": {
     "base_uri": "https://localhost:8080/",
     "height": 494
    },
    "colab_type": "code",
    "id": "S4hI7bYO9CZ9",
    "outputId": "c1ace261-fd82-4c6c-a0fd-7b7e0d307c93"
   },
   "outputs": [],
   "source": [
    "for i, response in enumerate(sub_client.streaming_pull(requests=requests, timeout=10)):\n",
    "    print(response)\n",
    "    if i >= 10:\n",
    "        break"
   ]
  },
  {
   "cell_type": "markdown",
   "metadata": {
    "colab_type": "text",
    "id": "HvUw8bel9ChE"
   },
   "source": [
    "### Something that seems to work"
   ]
  },
  {
   "cell_type": "code",
   "execution_count": null,
   "metadata": {
    "colab": {},
    "colab_type": "code",
    "id": "oda_UCxT9FSk"
   },
   "outputs": [],
   "source": [
    "sub_client = pubsub.SubscriberClient()"
   ]
  },
  {
   "cell_type": "code",
   "execution_count": null,
   "metadata": {
    "colab": {},
    "colab_type": "code",
    "id": "TeWOPaIp9Fp1"
   },
   "outputs": [],
   "source": [
    "subscription_name = \"projects/{}/subscriptions/taxirides-realtime-sub\".format(project_id)\n",
    "\n",
    "try:\n",
    "    sub_client.create_subscription(\n",
    "        subscription_name,\n",
    "        \"projects/pubsub-public-data/topics/taxirides-realtime\",\n",
    "    )\n",
    "except gexc.AlreadyExists:\n",
    "    sub_client.delete_subscription(subscription_name)\n",
    "    sub_client.create_subscription(\n",
    "        subscription_name,\n",
    "        \"projects/pubsub-public-data/topics/taxirides-realtime\",\n",
    "    )"
   ]
  },
  {
   "cell_type": "code",
   "execution_count": null,
   "metadata": {
    "colab": {},
    "colab_type": "code",
    "id": "0dT8ep7O6can"
   },
   "outputs": [],
   "source": [
    "def request_generator():\n",
    "    r = pubsub.types.StreamingPullRequest()\n",
    "    r.subscription = subscription_name\n",
    "    r.stream_ack_deadline_seconds = 10\n",
    "    yield r\n",
    "\n",
    "    while True:\n",
    "        r = pubsub.types.StreamingPullRequest()\n",
    "        yield r"
   ]
  },
  {
   "cell_type": "code",
   "execution_count": null,
   "metadata": {
    "colab": {
     "base_uri": "https://localhost:8080/",
     "height": 1000
    },
    "colab_type": "code",
    "id": "xVVJZwgz5iUd",
    "outputId": "4c8f38ce-8167-41a3-e496-ffe004efaf99"
   },
   "outputs": [],
   "source": [
    "for i, response in enumerate(sub_client.streaming_pull(requests=request_generator(), timeout=10)):\n",
    "    print(response)\n",
    "    if i >= 10:\n",
    "        break"
   ]
  }
 ],
 "metadata": {
  "colab": {
   "include_colab_link": true,
   "name": "pubsub_streaming_pull.ipynb",
   "provenance": [],
   "toc_visible": true,
   "version": "0.3.2"
  },
  "kernelspec": {
   "display_name": "Python 3",
   "language": "python",
   "name": "python3"
  },
  "language_info": {
   "codemirror_mode": {
    "name": "ipython",
    "version": 3
   },
   "file_extension": ".py",
   "mimetype": "text/x-python",
   "name": "python",
   "nbconvert_exporter": "python",
   "pygments_lexer": "ipython3",
   "version": "3.7.3"
  }
 },
 "nbformat": 4,
 "nbformat_minor": 0
}
