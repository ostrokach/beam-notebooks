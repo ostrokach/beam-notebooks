{
 "cells": [
  {
   "cell_type": "markdown",
   "metadata": {
    "colab_type": "text",
    "id": "rzJD1C5i1Qd1"
   },
   "source": [
    "# Install packages"
   ]
  },
  {
   "cell_type": "code",
   "execution_count": null,
   "metadata": {
    "colab": {
     "base_uri": "https://localhost:8080/",
     "height": 1121
    },
    "colab_type": "code",
    "id": "PtVG5WmM1TpP",
    "outputId": "113363a0-f3c2-440d-c3ad-1945f077b831"
   },
   "outputs": [],
   "source": [
    "# !pip install apache-beam[gcp] google-cloud-pubsub bokeh"
   ]
  },
  {
   "cell_type": "code",
   "execution_count": null,
   "metadata": {
    "colab": {
     "base_uri": "https://localhost:8080/",
     "height": 819
    },
    "colab_type": "code",
    "id": "NJjC4H5mggt-",
    "outputId": "7dbdd2be-ea41-4ba9-caae-6296672a6c2f"
   },
   "outputs": [],
   "source": [
    "# !pip install -e \"git+https://github.com/ostrokach/beam.git@develop#egg=apache-beam&subdirectory=sdks/python\""
   ]
  },
  {
   "cell_type": "markdown",
   "metadata": {
    "colab_type": "text",
    "id": "gT6N5wfP0jzc"
   },
   "source": [
    "# Imports"
   ]
  },
  {
   "cell_type": "markdown",
   "metadata": {
    "colab_type": "text",
    "id": "DBbwfsOWPTzH"
   },
   "source": [
    "Packages available by default:"
   ]
  },
  {
   "cell_type": "code",
   "execution_count": null,
   "metadata": {
    "colab": {},
    "colab_type": "code",
    "id": "T3HokNY_0j7R"
   },
   "outputs": [],
   "source": [
    "import atexit\n",
    "import json\n",
    "import os\n",
    "import os.path as op\n",
    "import string\n",
    "\n",
    "import matplotlib.pyplot as plt\n",
    "import numpy as np\n",
    "import pandas as pd\n",
    "import pyarrow as pa\n",
    "from google.cloud import bigquery, pubsub_v1\n",
    "\n",
    "import apache_beam as beam\n",
    "from apache_beam.runners.direct import direct_runner\n",
    "from apache_beam.runners.interactive import interactive_runner\n",
    "from apitools.base.py.exceptions import HttpConflictError"
   ]
  },
  {
   "cell_type": "markdown",
   "metadata": {
    "colab_type": "text",
    "id": "qTmLBxDxBAZL"
   },
   "source": [
    "# Parameters"
   ]
  },
  {
   "cell_type": "code",
   "execution_count": null,
   "metadata": {
    "colab": {
     "base_uri": "https://localhost:8080/",
     "height": 35
    },
    "colab_type": "code",
    "id": "SFCxIMKl0_nQ",
    "outputId": "822839dd-1f25-42fc-c314-dfe4dc415eed"
   },
   "outputs": [],
   "source": []
  },
  {
   "cell_type": "code",
   "execution_count": null,
   "metadata": {
    "colab": {
     "base_uri": "https://localhost:8080/",
     "height": 35
    },
    "colab_type": "code",
    "id": "FFSD5VCneJA_",
    "outputId": "fdf2579a-3db7-4051-aaa2-00227ec7812c"
   },
   "outputs": [],
   "source": [
    "# auth.authenticate_user()\n",
    "# print('Authenticated')"
   ]
  },
  {
   "cell_type": "code",
   "execution_count": null,
   "metadata": {},
   "outputs": [],
   "source": [
    "NOTEBOOK_NAME = \"bokeh_examples\"\n",
    "NOTEBOOK_PATH = op.realpath(NOTEBOOK_NAME)\n",
    "\n",
    "NOTEBOOK_PATH"
   ]
  },
  {
   "cell_type": "markdown",
   "metadata": {},
   "source": [
    "# Functions"
   ]
  },
  {
   "cell_type": "code",
   "execution_count": null,
   "metadata": {},
   "outputs": [],
   "source": [
    "class AverageFn(beam.CombineFn):\n",
    "    def create_accumulator(self):\n",
    "        return (0.0, 0.0, 0)\n",
    "\n",
    "    def add_input(self, sum_count, input):\n",
    "        from datetime import datetime\n",
    "\n",
    "        (passenger_count_sum, timepoint_sum, count) = sum_count\n",
    "\n",
    "        try:\n",
    "            timestamp = datetime.strptime(\n",
    "                input[\"timestamp\"], \"%Y-%m-%dT%H:%M:%S.%f-04:00\"\n",
    "            )\n",
    "        except ValueError:\n",
    "            timestamp = datetime.strptime(input[\"timestamp\"], \"%Y-%m-%dT%H:%M:%S-04:00\")\n",
    "\n",
    "        passenger_count_sum += input[\"passenger_count\"]\n",
    "        timepoint_sum += float(timestamp.strftime(\"%s\"))\n",
    "        count += 1\n",
    "        return passenger_count_sum, timepoint_sum, count\n",
    "\n",
    "    def merge_accumulators(self, accumulators):\n",
    "        passenger_count_sums, timepoint_sums, counts = zip(*accumulators)\n",
    "        return sum(passenger_count_sums), sum(timepoint_sums), sum(counts)\n",
    "\n",
    "    def extract_output(self, sum_count):\n",
    "        (passenger_count_sum, timepoint_sum, count) = sum_count\n",
    "        passenger_count_avg = passenger_count_sum / count if count else float(\"NaN\")\n",
    "        timepoint_avg = timepoint_sum / count if count else float(\"NaN\")\n",
    "        return passenger_count_avg, timepoint_avg"
   ]
  },
  {
   "cell_type": "code",
   "execution_count": null,
   "metadata": {},
   "outputs": [],
   "source": [
    "def update_plot(values):\n",
    "    x_lst = []\n",
    "    y_lst = []\n",
    "    count = 0\n",
    "    for element in values:\n",
    "        try:\n",
    "            x_lst.append(element[\"x\"])\n",
    "            y_lst.append(element[\"y\"])\n",
    "            count += 1\n",
    "            if count > 10:\n",
    "                break\n",
    "        except (KeyError, TypeError):\n",
    "            output.append(element)\n",
    "    source.stream({\"x\": x_lst, \"y\": y_lst})\n",
    "    push_notebook(handle=t)"
   ]
  },
  {
   "cell_type": "code",
   "execution_count": null,
   "metadata": {},
   "outputs": [],
   "source": [
    "def increment_counter(element):\n",
    "    global counter\n",
    "    counter += 1\n",
    "    return element"
   ]
  },
  {
   "cell_type": "code",
   "execution_count": null,
   "metadata": {
    "colab": {},
    "colab_type": "code",
    "id": "4yHO5rMiQPr0"
   },
   "outputs": [],
   "source": [
    "def tee_to_output(element):\n",
    "    output.append(element)\n",
    "    return element"
   ]
  },
  {
   "cell_type": "code",
   "execution_count": null,
   "metadata": {
    "colab": {},
    "colab_type": "code",
    "id": "MkZ77QpZYumA"
   },
   "outputs": [],
   "source": [
    "def load_json(element):\n",
    "    ju = json.loads(element)\n",
    "    js = {}\n",
    "    for k, v in ju.items():\n",
    "        if isinstance(k, unicode):\n",
    "            k = str(k)\n",
    "        if isinstance(v, unicode):\n",
    "            v = str(v)\n",
    "        js[k] = v\n",
    "    return js\n",
    "\n",
    "\n",
    "assert load_json(u'{\"a\": 10, \"b\": \"20\"}') == {\"a\": 10, \"b\": \"20\"}"
   ]
  },
  {
   "cell_type": "code",
   "execution_count": null,
   "metadata": {},
   "outputs": [],
   "source": [
    "def dump_json(element):\n",
    "    element_str = json.dumps(element).encode(\"utf-8\")\n",
    "    return element_str\n",
    "\n",
    "\n",
    "assert dump_json({\"a\": 10, \"b\": \"20\"}) == u'{\"a\": 10, \"b\": \"20\"}'"
   ]
  },
  {
   "cell_type": "code",
   "execution_count": null,
   "metadata": {},
   "outputs": [],
   "source": [
    "def geographic_to_utm(longitude, latitude):\n",
    "    from pyproj import Proj, transform\n",
    "\n",
    "    x, y = transform(\n",
    "        Proj(init='epsg:4326'),\n",
    "        Proj(init='epsg:3857'),\n",
    "        longitude,\n",
    "        latitude,\n",
    "    )\n",
    "\n",
    "    return x, y"
   ]
  },
  {
   "cell_type": "markdown",
   "metadata": {},
   "source": [
    "## DoFns"
   ]
  },
  {
   "cell_type": "code",
   "execution_count": null,
   "metadata": {},
   "outputs": [],
   "source": [
    "class SelectWithinGeographicRange(beam.DoFn):\n",
    "    def __init__(self, longitude_range, latitude_range):\n",
    "        self.longitude_range = longitude_range\n",
    "        self.latitude_range = latitude_range\n",
    "\n",
    "    def process(self, element):\n",
    "        if (\n",
    "            self.longitude_range[0] <= element[\"longitude\"] <= self.longitude_range[1]\n",
    "        ) and (self.latitude_range[0] <= element[\"latitude\"] <= self.latitude_range[1]):\n",
    "            return [element]\n",
    "        else:\n",
    "            return []\n",
    "\n",
    "\n",
    "el = {\"longitude\": 0, \"latitude\": 0}\n",
    "assert SelectWithinGeographicRange((0, 1), (0, 1)).process(el) == [el]\n",
    "\n",
    "el = {\"longitude\": 0, \"latitude\": 1}\n",
    "assert SelectWithinGeographicRange((0, 1), (0, 1)).process(el) == [el]\n",
    "\n",
    "el = {\"longitude\": 0, \"latitude\": -0.1}\n",
    "assert SelectWithinGeographicRange((0, 1), (0, 1)).process(el) == []"
   ]
  },
  {
   "cell_type": "code",
   "execution_count": null,
   "metadata": {},
   "outputs": [],
   "source": [
    "class Limit(beam.CombineFn):\n",
    "    \n",
    "    def __init__(self, limit=1000):\n",
    "        self.limit = 1000\n",
    "        \n",
    "    def create_accumulator(self):\n",
    "        lst = []\n",
    "        return lst\n",
    "    \n",
    "    def add_input(self, lst, input):\n",
    "        if len(lst) < self.limit:\n",
    "            lst.append(input)\n",
    "        return lst\n",
    "\n",
    "    def merge_accumulators(self, accumulators):\n",
    "        lst = [l for lst in accumulators for l in lst]\n",
    "        lst = lst[:self.limit]\n",
    "        return lst\n",
    "\n",
    "    def extract_output(self, lst):\n",
    "        return lst"
   ]
  },
  {
   "cell_type": "code",
   "execution_count": null,
   "metadata": {},
   "outputs": [],
   "source": [
    "def add_mercator_coords(element):\n",
    "    def geographic_to_utm(longitude, latitude):\n",
    "        from pyproj import Proj, transform\n",
    "\n",
    "        x, y = transform(\n",
    "            Proj(init=\"epsg:4326\"), Proj(init=\"epsg:3857\"), longitude, latitude\n",
    "        )\n",
    "        return x, y\n",
    "\n",
    "    element[\"x\"], element[\"y\"] = geographic_to_utm(\n",
    "        element[\"longitude\"], element[\"latitude\"]\n",
    "    )\n",
    "    return element"
   ]
  },
  {
   "cell_type": "markdown",
   "metadata": {},
   "source": [
    "# Parameters"
   ]
  },
  {
   "cell_type": "code",
   "execution_count": null,
   "metadata": {},
   "outputs": [],
   "source": [
    "LONGITUDE_RANGE = (-74.07, -73.90)\n",
    "LATITUDE_RANGE = (40.74, 40.76)"
   ]
  },
  {
   "cell_type": "code",
   "execution_count": null,
   "metadata": {},
   "outputs": [],
   "source": [
    "x_min, y_min = geographic_to_utm(longitude=LONGITUDE_RANGE[0], latitude=LATITUDE_RANGE[0])\n",
    "x_max, y_max = geographic_to_utm(longitude=LONGITUDE_RANGE[1], latitude=LATITUDE_RANGE[1])\n",
    "\n",
    "MERCATOR_X_RANGE = (x_min, x_max)\n",
    "MERCATOR_Y_RANGE = (y_min, y_max)"
   ]
  },
  {
   "cell_type": "markdown",
   "metadata": {
    "colab_type": "text",
    "id": "JHv-dElW8IN9"
   },
   "source": [
    "# Pipelines"
   ]
  },
  {
   "cell_type": "markdown",
   "metadata": {},
   "source": [
    "### Copy `taxirides-realtime`"
   ]
  },
  {
   "cell_type": "code",
   "execution_count": null,
   "metadata": {
    "colab": {},
    "colab_type": "code",
    "id": "ypS7sR7N_3Dk"
   },
   "outputs": [],
   "source": [
    "runner = beam.runners.dataflow.DataflowRunner()"
   ]
  },
  {
   "cell_type": "code",
   "execution_count": null,
   "metadata": {
    "colab": {},
    "colab_type": "code",
    "id": "ypS7sR7N_3Dk"
   },
   "outputs": [],
   "source": [
    "pipeline_options = beam.pipeline.PipelineOptions(\n",
    "    project=project_id,\n",
    "    temp_location=\"gs://strokach/temp\",\n",
    "    job_name=\"taxirides-realtime-3\",\n",
    "    streaming=True,\n",
    "    sdk_location=op.expanduser(\n",
    "        \"~/workspace/beam/sdks/python/dist/apache-beam-2.14.0.dev0.tar.gz\"\n",
    "    ),\n",
    ")"
   ]
  },
  {
   "cell_type": "code",
   "execution_count": null,
   "metadata": {
    "colab": {},
    "colab_type": "code",
    "id": "BtmiapFM2ZVs"
   },
   "outputs": [],
   "source": [
    "taxirides_wf = (\n",
    "    beam.Pipeline(runner=runner, options=pipeline_options)\n",
    "    | \"Read\"\n",
    "    >> beam.io.ReadFromPubSub(\n",
    "        topic=\"projects/pubsub-public-data/topics/taxirides-realtime\"\n",
    "    )\n",
    "    | \"Write\"\n",
    "    >> beam.io.WriteToPubSub(\n",
    "        topic=\"projects/strokach-playground/topics/taxirides-realtime\"\n",
    "    )\n",
    ")"
   ]
  },
  {
   "cell_type": "code",
   "execution_count": null,
   "metadata": {
    "colab": {},
    "colab_type": "code",
    "id": "WqwaQeZREFgX"
   },
   "outputs": [],
   "source": [
    "try:\n",
    "    taxirides_r = taxirides_wf.pipeline.run()\n",
    "except HttpConflictError as e:\n",
    "    print(e.content)\n",
    "    pass\n",
    "# atexit.register(taxirides_r.cancel)"
   ]
  },
  {
   "cell_type": "markdown",
   "metadata": {},
   "source": [
    "### Select subset of `taxirides-realtime`"
   ]
  },
  {
   "cell_type": "code",
   "execution_count": null,
   "metadata": {},
   "outputs": [],
   "source": [
    "pipeline_options = beam.pipeline.PipelineOptions(\n",
    "    project=project_id,\n",
    "    temp_location=\"gs://strokach/temp\",\n",
    "    job_name=\"taxirides-realtime-ny-11\",\n",
    "    streaming=True,\n",
    "    sdk_location=op.expanduser(\n",
    "        \"~/workspace/beam/sdks/python/dist/apache-beam-2.14.0.dev0.tar.gz\"\n",
    "    ),\n",
    "    setup_file=\"./setup.py\",\n",
    ")\n",
    "pipeline_options.display_data()"
   ]
  },
  {
   "cell_type": "code",
   "execution_count": null,
   "metadata": {},
   "outputs": [],
   "source": [
    "taxirides_wf = (\n",
    "    beam.Pipeline(runner=runner, options=pipeline_options)\n",
    "    | \"Read\"\n",
    "    >> beam.io.ReadFromPubSub(\n",
    "        topic=\"projects/pubsub-public-data/topics/taxirides-realtime\",\n",
    "        timestamp_attribute=\"ts\",\n",
    "    )\n",
    "    | \"Load JSON\" >> beam.Map(load_json)\n",
    "    | \"Window Into\" >> beam.WindowInto(beam.window.FixedWindows(10))\n",
    "    | \"Filter coords\"\n",
    "    >> beam.ParDo(SelectWithinGeographicRange(LONGITUDE_RANGE, LATITUDE_RANGE))\n",
    "    | \"Add UTM coords\" >> beam.Map(add_mercator_coords)\n",
    "    #     | \"Limit\" >> beam.CombineGlobally(Limit(10)).without_defaults()\n",
    "    | \"Serialize to JSON\" >> beam.Map(dump_json)\n",
    "    | \"Write\"\n",
    "    >> beam.io.WriteToPubSub(\n",
    "        topic=\"projects/strokach-playground/topics/taxirides-realtime-ny\"\n",
    "    )\n",
    ")"
   ]
  },
  {
   "cell_type": "code",
   "execution_count": null,
   "metadata": {},
   "outputs": [],
   "source": [
    "try:\n",
    "    taxirides_r = taxirides_wf.pipeline.run()\n",
    "except HttpConflictError as e:\n",
    "    print(e.content)\n",
    "    pass\n",
    "# atexit.register(taxirides_r.cancel)"
   ]
  },
  {
   "cell_type": "markdown",
   "metadata": {},
   "source": [
    "# Dashboards"
   ]
  },
  {
   "cell_type": "markdown",
   "metadata": {},
   "source": [
    "## Imports"
   ]
  },
  {
   "cell_type": "code",
   "execution_count": null,
   "metadata": {},
   "outputs": [],
   "source": [
    "from bokeh.io import push_notebook, show, output_notebook\n",
    "from bokeh.layouts import row\n",
    "from bokeh.models import ColumnDataSource\n",
    "from bokeh.plotting import figure\n",
    "output_notebook()"
   ]
  },
  {
   "cell_type": "markdown",
   "metadata": {},
   "source": [
    "## Test interactive plotting"
   ]
  },
  {
   "cell_type": "code",
   "execution_count": null,
   "metadata": {},
   "outputs": [],
   "source": [
    "p1 = figure(plot_width=250, plot_height=250)\n",
    "r1 = p1.circle([1,2,3], [4,5,6], size=20)\n",
    "\n",
    "p2 = figure(plot_width=250, plot_height=250)\n",
    "r2 = p2.circle([1,2,3], [4,5,6], size=20)\n",
    "\n",
    "t = show(row(p1, p2), notebook_handle=True)\n",
    "\n",
    "output_notebook()"
   ]
  },
  {
   "cell_type": "code",
   "execution_count": null,
   "metadata": {},
   "outputs": [],
   "source": [
    "r1.glyph.fill_color = \"white\"\n",
    "push_notebook(handle=t)"
   ]
  },
  {
   "cell_type": "markdown",
   "metadata": {},
   "source": [
    "## Map taxi trips"
   ]
  },
  {
   "cell_type": "code",
   "execution_count": null,
   "metadata": {},
   "outputs": [],
   "source": [
    "from bokeh.plotting import figure, show\n",
    "from bokeh.tile_providers import Vendors, get_provider\n",
    "\n",
    "# range bounds supplied in web mercator coordinates\n",
    "p = figure(\n",
    "    x_range=MERCATOR_X_RANGE,\n",
    "    y_range=MERCATOR_Y_RANGE,\n",
    "    x_axis_type=\"mercator\",\n",
    "    y_axis_type=\"mercator\",\n",
    "#     plot_height=600,\n",
    ")\n",
    "p.add_tile(get_provider(Vendors.CARTODBPOSITRON))\n",
    "\n",
    "source = ColumnDataSource(data=dict(x=[], y=[]))\n",
    "\n",
    "p.circle(x=\"x\", y=\"y\", size=6, fill_color=\"blue\", fill_alpha=0.8, source=source)\n",
    "\n",
    "t = show(p, notebook_handle=True)"
   ]
  },
  {
   "cell_type": "code",
   "execution_count": null,
   "metadata": {},
   "outputs": [],
   "source": [
    "# source.stream({\"x\": [0,1,2], \"y\": [1,2,3]})\n",
    "# push_notebook(handle=t)"
   ]
  },
  {
   "cell_type": "code",
   "execution_count": null,
   "metadata": {},
   "outputs": [],
   "source": [
    "from google.cloud import pubsub_v1"
   ]
  },
  {
   "cell_type": "code",
   "execution_count": null,
   "metadata": {},
   "outputs": [],
   "source": [
    "def update_plot(message):\n",
    "    global count\n",
    "    output.append(json.loads(message.data))\n",
    "    count += 1\n",
    "#     x = json.loads(message.data)['x']\n",
    "#     y = json.loads(message.data)['y']\n",
    "#     source.stream({\"x\": [x], \"y\": [y]})\n",
    "#     push_notebook(handle=t)"
   ]
  },
  {
   "cell_type": "code",
   "execution_count": null,
   "metadata": {},
   "outputs": [],
   "source": [
    "raise Exception"
   ]
  },
  {
   "cell_type": "code",
   "execution_count": null,
   "metadata": {},
   "outputs": [],
   "source": [
    "import time\n",
    "\n",
    "from google.cloud import pubsub_v1\n",
    "\n",
    "subscriber = pubsub_v1.SubscriberClient()\n",
    "subscription_path = subscriber.subscription_path(project_id, \"noo\")\n",
    "\n",
    "count = 0\n",
    "output = []\n",
    "\n",
    "\n",
    "def callback(message):\n",
    "    print(\"Received message: {}\".format(message.data))\n",
    "    outputs.append(message)\n",
    "#     message.ack()\n",
    "\n",
    "flow_control = pubsub_v1.types.FlowControl(max_messages=10)\n",
    "future = subscriber.subscribe(subscription_path, callback=update_plot, flow_control=flow_control)\n",
    "result = future.result(timeout=10)\n",
    "# The subscriber is non-blocking. We must keep the main thread from\n",
    "# exiting to allow it to process messages asynchronously in the background.\n",
    "print(\"Listening for messages on {}\".format(subscription_path))\n",
    "# while True:\n",
    "#     try:\n",
    "#         future.result(timeout=2)\n",
    "#     except Exception as e:\n",
    "#         print(e)\n",
    "#     subscriber.subscribe(subscription_path, callback=update_plot)\n",
    "\n",
    "#     print(len(outputs))"
   ]
  },
  {
   "cell_type": "code",
   "execution_count": null,
   "metadata": {},
   "outputs": [],
   "source": [
    "\n",
    "while True:\n",
    "    subscriber = pubsub_v1.SubscriberClient()\n",
    "    try:\n",
    "        subscription_path = subscriber.subscription_path(project_id, \"noo\")\n",
    "        pull_response = subscriber.pull(subscription_path, max_messages=100, timeout=5, retry=None)\n",
    "        output = []\n",
    "        for msg in pull_response.received_messages:\n",
    "            output.append(msg)\n",
    "        print(len(output))\n",
    "    finally:\n",
    "        subscriber.api.transport._channel.close()\n"
   ]
  },
  {
   "cell_type": "code",
   "execution_count": null,
   "metadata": {},
   "outputs": [],
   "source": [
    "count"
   ]
  },
  {
   "cell_type": "code",
   "execution_count": null,
   "metadata": {},
   "outputs": [],
   "source": [
    "pubsub_v1.types.FlowControl?"
   ]
  },
  {
   "cell_type": "code",
   "execution_count": null,
   "metadata": {},
   "outputs": [],
   "source": [
    "project = subscriber.project_path(project_id)\n",
    "list(subscriber.list_subscriptions(project))"
   ]
  },
  {
   "cell_type": "code",
   "execution_count": null,
   "metadata": {},
   "outputs": [],
   "source": [
    "json.loads(outputs[0].data)['x']\n",
    "json.loads(outputs[0].data)['x']"
   ]
  },
  {
   "cell_type": "markdown",
   "metadata": {},
   "source": [
    "# Things that did not work"
   ]
  },
  {
   "cell_type": "markdown",
   "metadata": {
    "colab": {},
    "colab_type": "code",
    "id": "daKIkHcNlruA"
   },
   "source": [
    "### Read stream using `DirectRunner`"
   ]
  },
  {
   "cell_type": "code",
   "execution_count": null,
   "metadata": {},
   "outputs": [],
   "source": [
    "output_folder = op.join(NOTEBOOK_PATH, \"pipeline-output\") \n",
    "\n",
    "try:\n",
    "    os.makedirs(output_folder)\n",
    "except OSError:\n",
    "    pass"
   ]
  },
  {
   "cell_type": "code",
   "execution_count": null,
   "metadata": {},
   "outputs": [],
   "source": [
    "output = []\n",
    "counter = 0\n",
    "\n",
    "data = (\n",
    "    beam.Pipeline(\n",
    "        runner=\"direct\", options=beam.pipeline.PipelineOptions(streaming=True)\n",
    "    )\n",
    "    | \"Read\"\n",
    "    >> beam.io.ReadFromPubSub(\n",
    "        topic=\"projects/strokach-playground/topics/taxirides-realtime-ny\",\n",
    "        #         subscription=\"projects/strokach-playground/subscriptions/beam_1558483403_228577dd\",\n",
    "        timestamp_attribute=\"ts\",\n",
    "    )\n",
    "    | \"Load JSON\" >> beam.Map(load_json)\n",
    "#     | \"Window Into\" >> beam.WindowInto(beam.window.FixedWindows(10))\n",
    "#     | \"Filter non-NY\" >> beam.FlatMap(filter_ny)\n",
    "#     | \"Add UTM coords\" >> beam.Map(geographic_to_utm)\n",
    "#     | \"Update plot\" >> beam.CombineGlobally(update_plot).without_defaults()\n",
    "    | \"Tee to output\" >> beam.Map(tee_to_output)\n",
    "    | \"Update counter\" >> beam.Map(increment_counter)\n",
    ")"
   ]
  },
  {
   "cell_type": "code",
   "execution_count": null,
   "metadata": {},
   "outputs": [],
   "source": [
    "result = data.pipeline.run()\n",
    "# atexit.register(result.cancel)"
   ]
  },
  {
   "cell_type": "code",
   "execution_count": null,
   "metadata": {},
   "outputs": [],
   "source": [
    "result.cancel()"
   ]
  },
  {
   "cell_type": "code",
   "execution_count": null,
   "metadata": {},
   "outputs": [],
   "source": [
    "result.state"
   ]
  },
  {
   "cell_type": "code",
   "execution_count": null,
   "metadata": {},
   "outputs": [],
   "source": [
    "counter"
   ]
  },
  {
   "cell_type": "code",
   "execution_count": null,
   "metadata": {},
   "outputs": [],
   "source": [
    "output"
   ]
  },
  {
   "cell_type": "code",
   "execution_count": null,
   "metadata": {},
   "outputs": [],
   "source": [
    "# result.cancel()"
   ]
  },
  {
   "cell_type": "markdown",
   "metadata": {},
   "source": [
    "#### Errors\n",
    "\n",
    "After ~30 seconds, the process crashes with errors:\n",
    "\n",
    "```python\n",
    "The history saving thread hit an unexpected error (OperationalError('unable to open database file',)).\n",
    "History will not be written to the database.\n",
    "```\n",
    "\n",
    "```python\n",
    "ERROR:grpc._plugin_wrapping:AuthMetadataPluginCallback \"<google.auth.transport.grpc.AuthMetadataPlugin object at 0x7f61ea61cc50>\" raised exception!\n",
    "Traceback (most recent call last):\n",
    "  File \"/home/strokach/miniconda3/envs/beam-dev/lib/python2.7/site-packages/grpc/_plugin_wrapping.py\", line 80, in __call__\n",
    "  File \"/home/strokach/miniconda3/envs/beam-dev/lib/python2.7/site-packages/google/auth/transport/grpc.py\", line 77, in __call__\n",
    "  File \"/home/strokach/miniconda3/envs/beam-dev/lib/python2.7/site-packages/google/auth/transport/grpc.py\", line 65, in _get_authorization_headers\n",
    "  File \"/home/strokach/miniconda3/envs/beam-dev/lib/python2.7/site-packages/google/auth/credentials.py\", line 122, in before_request\n",
    "  File \"/home/strokach/miniconda3/envs/beam-dev/lib/python2.7/site-packages/google/oauth2/service_account.py\", line 322, in refresh\n",
    "  File \"/home/strokach/miniconda3/envs/beam-dev/lib/python2.7/site-packages/google/oauth2/_client.py\", line 145, in jwt_grant\n",
    "  File \"/home/strokach/miniconda3/envs/beam-dev/lib/python2.7/site-packages/google/oauth2/_client.py\", line 106, in _token_endpoint_request\n",
    "  File \"/home/strokach/miniconda3/envs/beam-dev/lib/python2.7/site-packages/google/auth/transport/requests.py\", line 124, in __call__\n",
    "  File \"/home/strokach/miniconda3/envs/beam-dev/lib/python2.7/site-packages/six.py\", line 737, in raise_from\n",
    "TransportError: HTTPSConnectionPool(host='oauth2.googleapis.com', port=443): Max retries exceeded with url: /token\n",
    "            (Caused by NewConnectionError('<urllib3.connection.VerifiedHTTPSConnection object at 0x7f61ea62d810>: Failed to establish a new connection: [Errno 24] Too many open files',))\n",
    "```\n",
    "            \n",
    "```python\n",
    "Traceback (most recent call last):\n",
    "Exception in thread Thread-490:\n",
    "Traceback (most recent call last):\n",
    "  File \"/home/strokach/miniconda3/envs/beam-dev/lib/python2.7/threading.py\", line 801, in __bootstrap_inner\n",
    "  File \"/home/strokach/miniconda3/envs/beam-dev/lib/python2.7/threading.py\", line 754, in run\n",
    "  File \"/home/strokach/miniconda3/envs/beam-dev/lib/python2.7/site-packages/grpc/_plugin_wrapping.py\", line 84, in __call__\n",
    "  File \"/home/strokach/miniconda3/envs/beam-dev/lib/python2.7/logging/__init__.py\", line 1207, in exception\n",
    "  File \"/home/strokach/miniconda3/envs/beam-dev/lib/python2.7/logging/__init__.py\", line 1200, in error\n",
    "  File \"/home/strokach/miniconda3/envs/beam-dev/lib/python2.7/logging/__init__.py\", line 1293, in _log\n",
    "  File \"/home/strokach/miniconda3/envs/beam-dev/lib/python2.7/logging/__init__.py\", line 1303, in handle\n",
    "  File \"/home/strokach/miniconda3/envs/beam-dev/lib/python2.7/logging/__init__.py\", line 1343, in callHandlers\n",
    "  File \"/home/strokach/miniconda3/envs/beam-dev/lib/python2.7/logging/__init__.py\", line 766, in handle\n",
    "  File \"/home/strokach/miniconda3/envs/beam-dev/lib/python2.7/logging/__init__.py\", line 896, in emit\n",
    "  File \"/home/strokach/miniconda3/envs/beam-dev/lib/python2.7/logging/__init__.py\", line 819, in handleError\n",
    "  File \"/home/strokach/miniconda3/envs/beam-dev/lib/python2.7/traceback.py\", line 124, in print_exception\n",
    "  File \"/home/strokach/miniconda3/envs/beam-dev/lib/python2.7/traceback.py\", line 13, in _print\n",
    "  File \"/home/strokach/miniconda3/envs/beam-dev/lib/python2.7/site-packages/ipykernel/iostream.py\", line 400, in write\n",
    "  File \"/home/strokach/miniconda3/envs/beam-dev/lib/python2.7/site-packages/ipykernel/iostream.py\", line 203, in schedule\n",
    "  File \"/home/strokach/miniconda3/envs/beam-dev/lib/python2.7/site-packages/ipykernel/iostream.py\", line 101, in _event_pipe\n",
    "  File \"/home/strokach/miniconda3/envs/beam-dev/lib/python2.7/site-packages/zmq/sugar/context.py\", line 146, in socket\n",
    "  File \"/home/strokach/miniconda3/envs/beam-dev/lib/python2.7/site-packages/zmq/sugar/socket.py\", line 59, in __init__\n",
    "  File \"zmq/backend/cython/socket.pyx\", line 328, in zmq.backend.cython.socket.Socket.__init__\n",
    "ZMQError: Too many open files\n",
    "Unhandled exception in thread started by <bound method Thread.__bootstrap of <Thread(Thread-490, stopped daemon 140058531190528)>>\n",
    "```\n",
    "\n",
    "```python\n",
    "Unhandled exception in thread started by \n",
    "Traceback (most recent call last):\n",
    "  File \"/home/strokach/miniconda3/envs/beam-dev/lib/python2.7/threading.py\", line 774, in __bootstrap\n",
    "  File \"/home/strokach/miniconda3/envs/beam-dev/lib/python2.7/threading.py\", line 814, in __bootstrap_inner\n",
    "  File \"/home/strokach/miniconda3/envs/beam-dev/lib/python2.7/site-packages/ipykernel/iostream.py\", line 400, in write\n",
    "  File \"/home/strokach/miniconda3/envs/beam-dev/lib/python2.7/site-packages/ipykernel/iostream.py\", line 203, in schedule\n",
    "  File \"/home/strokach/miniconda3/envs/beam-dev/lib/python2.7/site-packages/ipykernel/iostream.py\", line 101, in _event_pipe\n",
    "  File \"/home/strokach/miniconda3/envs/beam-dev/lib/python2.7/site-packages/zmq/sugar/context.py\", line 146, in socket\n",
    "  File \"/home/strokach/miniconda3/envs/beam-dev/lib/python2.7/site-packages/zmq/sugar/socket.py\", line 59, in __init__\n",
    "  File \"zmq/backend/cython/socket.pyx\", line 328, in zmq.backend.cython.socket.Socket.__init__\n",
    "ZMQError: Too many open files\n",
    "```\n",
    "\n",
    "```\n",
    "ZMQbg/0    3922  3934   strokach  753u  a_inode               0,11        0       8555 [eventpoll]\n",
    "ZMQbg/0    3922  3934   strokach  754u  a_inode               0,11        0       8555 [eventfd]\n",
    "ZMQbg/0    3922  3934   strokach  755u     IPv6             916106      0t0        TCP workstation.c.strokach-playground.internal:40042->lax28s15-in-f10.1e100.net:https (ESTABLISHED)\n",
    "ZMQbg/0    3922  3934   strokach  756u     IPv4             915269      0t0        TCP workstation.c.strokach-playground.internal:40044->lax28s15-in-f10.1e100.net:https (ESTABLISHED)\n",
    "ZMQbg/0    3922  3934   strokach  757u  a_inode               0,11        0       8555 [eventpoll]\n",
    "ZMQbg/0    3922  3934   strokach  758u  a_inode               0,11        0       8555 [eventfd]\n",
    "ZMQbg/0    3922  3934   strokach  759u     IPv6             916116      0t0        TCP workstation.c.strokach-playground.internal:43134->lax17s15-in-f74.1e100.net:https (ESTABLISHED)\n",
    "ZMQbg/0    3922  3934   strokach  760u     IPv4             916121      0t0        TCP workstation.c.strokach-playground.internal:48062->lax28s10-in-f10.1e100.net:https (ESTABLISHED)\n",
    "ZMQbg/0    3922  3934   strokach  761u  a_inode               0,11        0       8555 [eventpoll]\n",
    "ZMQbg/0    3922  3934   strokach  762u  a_inode               0,11        0       8555 [eventfd]\n",
    "ZMQbg/0    3922  3934   strokach  763u     IPv6             916125      0t0        TCP workstation.c.strokach-playground.internal:34964->lax17s14-in-f138.1e100.net:https (ESTABLISHED)\n",
    "ZMQbg/0    3922  3934   strokach  764u     IPv4             916882      0t0        TCP workstation.c.strokach-playground.internal:34966->lax17s14-in-f138.1e100.net:https (ESTABLISHED)\n",
    "ZMQbg/0    3922  3934   strokach  765u  a_inode               0,11        0       8555 [eventpoll]\n",
    "ZMQbg/0    3922  3934   strokach  766u  a_inode               0,11        0       8555 [eventfd]\n",
    "ZMQbg/0    3922  3934   strokach  767u     IPv6             915304      0t0        TCP workstation.c.strokach-playground.internal:43082->lax17s05-in-f10.1e100.net:https (ESTABLISHED)\n",
    "ZMQbg/0    3922  3934   strokach  768u     IPv4             910231      0t0        TCP workstation.c.strokach-playground.internal:45014->lax17s38-in-f10.1e100.net:https (ESTABLISHED)\n",
    "ZMQbg/0    3922  3934   strokach  769u  a_inode               0,11        0       8555 [eventpoll]\n",
    "ZMQbg/0    3922  3934   strokach  770u  a_inode               0,11        0       8555 [eventfd]\n",
    "ZMQbg/0    3922  3934   strokach  771u     IPv6             916128      0t0        TCP workstation.c.strokach-playground.internal:43086->lax17s05-in-f10.1e100.net:https (ESTABLISHED)\n",
    "ZMQbg/0    3922  3934   strokach  772u     IPv4             916132      0t0        TCP workstation.c.strokach-playground.internal:40060->lax28s15-in-f10.1e100.net:https (ESTABLISHED)\n",
    "ZMQbg/0    3922  3934   strokach  773u  a_inode               0,11        0       8555 [eventpoll]\n",
    "ZMQbg/0    3922  3934   strokach  774u  a_inode               0,11        0       8555 [eventfd]\n",
    "ZMQbg/0    3922  3934   strokach  775u     IPv6             916136      0t0        TCP workstation.c.strokach-playground.internal:40062->lax28s15-in-f10.1e100.net:https (ESTABLISHED)\n",
    "ZMQbg/0    3922  3934   strokach  776u     IPv4             915310      0t0        TCP workstation.c.strokach-playground.internal:46920->lax02s23-in-f10.1e100.net:https (ESTABLISHED)\n",
    "ZMQbg/0    3922  3934   strokach  777u  a_inode               0,11        0       8555 [eventpoll]\n",
    "ZMQbg/0    3922  3934   strokach  778u  a_inode               0,11        0       8555 [eventfd]\n",
    "ZMQbg/0    3922  3934   strokach  779u     IPv6             910235      0t0        TCP workstation.c.strokach-playground.internal:43154->lax17s15-in-f74.1e100.net:https (ESTABLISHED)\n",
    "ZMQbg/0    3922  3934   strokach  780u     IPv4             916139      0t0        TCP workstation.c.strokach-playground.internal:46924->lax02s23-in-f10.1e100.net:https (ESTABLISHED)\n",
    "ZMQbg/0    3922  3934   strokach  781u  a_inode               0,11        0       8555 [eventpoll]\n",
    "ZMQbg/0    3922  3934   strokach  782u  a_inode               0,11        0       8555 [eventfd]\n",
    "ZMQbg/0    3922  3934   strokach  783u     IPv6             916888      0t0        TCP workstation.c.strokach-playground.internal:46926->lax02s23-in-f10.1e100.net:https (ESTABLISHED)\n",
    "ZMQbg/0    3922  3934   strokach  784u     IPv4             916149      0t0        TCP workstation.c.strokach-playground.internal:34986->lax17s14-in-f138.1e100.net:https (ESTABLISHED)\n",
    "ZMQbg/0    3922  3934   strokach  785u  a_inode               0,11        0       8555 [eventpoll]\n",
    "ZMQbg/0    3922  3934   strokach  786u  a_inode               0,11        0       8555 [eventfd]\n",
    "ZMQbg/0    3922  3934   strokach  787u     IPv6             915368      0t0        TCP workstation.c.strokach-playground.internal:34988->lax17s14-in-f138.1e100.net:https (ESTABLISHED)\n",
    "ZMQbg/0    3922  3934   strokach  788u     IPv4             916153      0t0        TCP workstation.c.strokach-playground.internal:45034->lax17s38-in-f10.1e100.net:https (ESTABLISHED)\n",
    "ZMQbg/0    3922  3934   strokach  789u  a_inode               0,11        0       8555 [eventpoll]\n",
    "ZMQbg/0    3922  3934   strokach  790u  a_inode               0,11        0       8555 [eventfd]\n",
    "ZMQbg/0    3922  3934   strokach  791u     IPv6             916157      0t0        TCP workstation.c.strokach-playground.internal:43106->lax17s05-in-f10.1e100.net:https (ESTABLISHED)\n",
    "ZMQbg/0    3922  3934   strokach  792u     IPv4             916891      0t0        TCP workstation.c.strokach-playground.internal:40080->lax28s15-in-f10.1e100.net:https (ESTABLISHED)\n",
    "ZMQbg/0    3922  3934   strokach  793u  a_inode               0,11        0       8555 [eventpoll]\n",
    "ZMQbg/0    3922  3934   strokach  794u  a_inode               0,11        0       8555 [eventfd]\n",
    "ZMQbg/0    3922  3934   strokach  795u     IPv6             916161      0t0        TCP workstation.c.strokach-playground.internal:43170->lax17s15-in-f74.1e100.net:https (ESTABLISHED)\n",
    "ZMQbg/0    3922  3934   strokach  796u     IPv4             915373      0t0        TCP workstation.c.strokach-playground.internal:46940->lax02s23-in-f10.1e100.net:https (ESTABLISHED)\n",
    "```"
   ]
  },
  {
   "cell_type": "code",
   "execution_count": null,
   "metadata": {},
   "outputs": [],
   "source": []
  },
  {
   "cell_type": "code",
   "execution_count": null,
   "metadata": {},
   "outputs": [],
   "source": []
  },
  {
   "cell_type": "code",
   "execution_count": null,
   "metadata": {},
   "outputs": [],
   "source": [
    "output[0]['y']"
   ]
  },
  {
   "cell_type": "code",
   "execution_count": null,
   "metadata": {},
   "outputs": [],
   "source": [
    "counter"
   ]
  },
  {
   "cell_type": "code",
   "execution_count": null,
   "metadata": {},
   "outputs": [],
   "source": [
    "output"
   ]
  },
  {
   "cell_type": "code",
   "execution_count": null,
   "metadata": {},
   "outputs": [],
   "source": []
  },
  {
   "cell_type": "code",
   "execution_count": null,
   "metadata": {},
   "outputs": [],
   "source": [
    "from bokeh.plotting import figure, show\n",
    "from bokeh.tile_providers import get_provider, Vendors\n",
    "\n",
    "# range bounds supplied in web mercator coordinates\n",
    "p = figure(x_range=(-1000000, 6000000), y_range=(-1000000, 7000000),\n",
    "           x_axis_type=\"mercator\", y_axis_type=\"mercator\")\n",
    "p.add_tile(get_provider(Vendors.CARTODBPOSITRON))\n",
    "\n",
    "source = ColumnDataSource(\n",
    "    data=dict(lat=[ 30.29,  30.20,  30.29],\n",
    "              lon=[-97.70, -97.74, -97.78])\n",
    ")\n",
    "\n",
    "p.circle(x=\"lon\", y=\"lat\", size=15, fill_color=\"blue\", fill_alpha=0.8, source=source)\n",
    "\n",
    "show(p)"
   ]
  },
  {
   "cell_type": "code",
   "execution_count": null,
   "metadata": {},
   "outputs": [],
   "source": []
  },
  {
   "cell_type": "code",
   "execution_count": null,
   "metadata": {},
   "outputs": [],
   "source": []
  },
  {
   "cell_type": "code",
   "execution_count": null,
   "metadata": {},
   "outputs": [],
   "source": [
    "def modify_doc(doc):\n",
    "    source = ColumnDataSource(data=dict(x=[], y=[]))\n",
    "\n",
    "    p = figure(\n",
    "        x_range=MERCATOR_X_RANGE,\n",
    "        y_range=MERCATOR_Y_RANGE,\n",
    "        x_axis_type=\"mercator\",\n",
    "        y_axis_type=\"mercator\",\n",
    "        plot_height=800,\n",
    "    )\n",
    "    p.add_tile(get_provider(Vendors.CARTODBPOSITRON))\n",
    "    p.circle(x=\"x\", y=\"y\", size=2, fill_color=\"blue\", fill_alpha=0.8, source=source)\n",
    "\n",
    "    while True:\n",
    "        for i, element in enumerate(temp.read()):\n",
    "            source.stream({\"x\": [element[\"x\"]], \"y\": [element[\"y\"]]})\n",
    "        \n",
    "    doc.add_root(p)\n",
    "\n",
    "    doc.theme = Theme(json=yaml.load(\"\"\"\n",
    "        attrs:\n",
    "            Figure:\n",
    "                background_fill_color: \"#DDDDDD\"\n",
    "                outline_line_color: white\n",
    "                toolbar_location: above\n",
    "                height: 800\n",
    "                width: 800\n",
    "            Grid:\n",
    "                grid_line_dash: [6, 4]\n",
    "                grid_line_color: white\n",
    "    \"\"\"))"
   ]
  },
  {
   "cell_type": "code",
   "execution_count": null,
   "metadata": {},
   "outputs": [],
   "source": [
    "show(modify_doc) # notebook_url=\"http://localhost:8888\""
   ]
  },
  {
   "cell_type": "code",
   "execution_count": null,
   "metadata": {},
   "outputs": [],
   "source": [
    "import yaml\n",
    "\n",
    "from bokeh.layouts import column\n",
    "from bokeh.models import ColumnDataSource, Slider\n",
    "from bokeh.plotting import figure\n",
    "from bokeh.themes import Theme\n",
    "from bokeh.io import show, output_notebook\n",
    "\n",
    "from bokeh.sampledata.sea_surface_temperature import sea_surface_temperature\n",
    "\n",
    "output_notebook()\n"
   ]
  },
  {
   "cell_type": "code",
   "execution_count": null,
   "metadata": {},
   "outputs": [],
   "source": [
    "def modify_doc(doc):\n",
    "    df = sea_surface_temperature.copy()\n",
    "    source = ColumnDataSource(data=df)\n",
    "\n",
    "    plot = figure(x_axis_type='datetime', y_range=(0, 25),\n",
    "                  y_axis_label='Temperature (Celsius)',\n",
    "                  title=\"Sea Surface Temperature at 43.18, -70.43\")\n",
    "    plot.line('time', 'temperature', source=source)\n",
    "\n",
    "    def callback(attr, old, new):\n",
    "        if new == 0:\n",
    "            data = df\n",
    "        else:\n",
    "            data = df.rolling('{0}D'.format(new)).mean()\n",
    "        source.data = ColumnDataSource(data=data).data\n",
    "\n",
    "    slider = Slider(start=0, end=30, value=0, step=1, title=\"Smoothing by N Days\")\n",
    "    slider.on_change('value', callback)\n",
    "\n",
    "    doc.add_root(column(slider, plot))\n",
    "\n",
    "    doc.theme = Theme(json=yaml.load(\"\"\"\n",
    "        attrs:\n",
    "            Figure:\n",
    "                background_fill_color: \"#DDDDDD\"\n",
    "                outline_line_color: white\n",
    "                toolbar_location: above\n",
    "                height: 500\n",
    "                width: 800\n",
    "            Grid:\n",
    "                grid_line_dash: [6, 4]\n",
    "                grid_line_color: white\n",
    "    \"\"\"))\n"
   ]
  },
  {
   "cell_type": "code",
   "execution_count": null,
   "metadata": {},
   "outputs": [],
   "source": [
    "show(modify_doc) # notebook_url=\"http://localhost:8888\""
   ]
  },
  {
   "cell_type": "code",
   "execution_count": null,
   "metadata": {},
   "outputs": [],
   "source": []
  },
  {
   "cell_type": "code",
   "execution_count": null,
   "metadata": {},
   "outputs": [],
   "source": []
  },
  {
   "cell_type": "code",
   "execution_count": null,
   "metadata": {},
   "outputs": [],
   "source": []
  },
  {
   "cell_type": "code",
   "execution_count": null,
   "metadata": {},
   "outputs": [],
   "source": []
  },
  {
   "cell_type": "code",
   "execution_count": null,
   "metadata": {},
   "outputs": [],
   "source": []
  },
  {
   "cell_type": "code",
   "execution_count": null,
   "metadata": {},
   "outputs": [],
   "source": []
  },
  {
   "cell_type": "code",
   "execution_count": null,
   "metadata": {},
   "outputs": [],
   "source": [
    "counter"
   ]
  },
  {
   "cell_type": "code",
   "execution_count": null,
   "metadata": {},
   "outputs": [],
   "source": []
  }
 ],
 "metadata": {
  "colab": {
   "collapsed_sections": [],
   "name": "Bokeh Examples",
   "provenance": [],
   "version": "0.3.2"
  },
  "kernelspec": {
   "display_name": "Python 3",
   "language": "python",
   "name": "python3"
  },
  "language_info": {
   "codemirror_mode": {
    "name": "ipython",
    "version": 2
   },
   "file_extension": ".py",
   "mimetype": "text/x-python",
   "name": "python",
   "nbconvert_exporter": "python",
   "pygments_lexer": "ipython2",
   "version": "2.7.15"
  }
 },
 "nbformat": 4,
 "nbformat_minor": 2
}
