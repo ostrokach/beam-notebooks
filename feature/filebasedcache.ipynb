{
 "cells": [
  {
   "cell_type": "markdown",
   "metadata": {
    "colab_type": "text",
    "id": "view-in-github"
   },
   "source": [
    "<a href=\"https://colab.research.google.com/github/ostrokach/beam-notebooks/blob/master/feature/filebasedcache.ipynb\" target=\"_parent\"><img src=\"https://colab.research.google.com/assets/colab-badge.svg\" alt=\"Open In Colab\"/></a>"
   ]
  },
  {
   "cell_type": "markdown",
   "metadata": {
    "colab_type": "text",
    "id": "RUtedcvxeXG1"
   },
   "source": [
    "## Install dependencies"
   ]
  },
  {
   "cell_type": "code",
   "execution_count": 1,
   "metadata": {
    "colab": {
     "base_uri": "https://localhost:8080/",
     "height": 921
    },
    "colab_type": "code",
    "id": "zsUWt2AjsmWU",
    "outputId": "84b2288b-490e-41b3-e586-32d3e0ef1625"
   },
   "outputs": [
    {
     "name": "stdout",
     "output_type": "stream",
     "text": [
      "\u001b[33mDEPRECATION: Python 2.7 will reach the end of its life on January 1st, 2020. Please upgrade your Python as Python 2.7 won't be maintained after that date. A future version of pip will drop support for Python 2.7.\u001b[0m\n",
      "Requirement already satisfied: apache_beam[gcp] from git+https://github.com/ostrokach/beam.git@feature/filebasedcache#egg=apache_beam[gcp]&subdirectory=sdks/python[gcp] in /usr/local/google/home/strokach/workspace/beam/sdks/python (2.14.0.dev0)\n",
      "Requirement already satisfied: crcmod<2.0,>=1.7 in /usr/local/google/home/strokach/miniconda3/envs/beam-dev/lib/python2.7/site-packages (from apache_beam[gcp]) (1.7)\n",
      "Requirement already satisfied: dill<0.2.10,>=0.2.9 in /usr/local/google/home/strokach/miniconda3/envs/beam-dev/lib/python2.7/site-packages (from apache_beam[gcp]) (0.2.9)\n",
      "Requirement already satisfied: fastavro<0.22,>=0.21.4 in /usr/local/google/home/strokach/miniconda3/envs/beam-dev/lib/python2.7/site-packages (from apache_beam[gcp]) (0.21.23)\n",
      "Requirement already satisfied: future<1.0.0,>=0.16.0 in /usr/local/google/home/strokach/miniconda3/envs/beam-dev/lib/python2.7/site-packages (from apache_beam[gcp]) (0.17.1)\n",
      "Requirement already satisfied: grpcio<2,>=1.8 in /usr/local/google/home/strokach/miniconda3/envs/beam-dev/lib/python2.7/site-packages (from apache_beam[gcp]) (1.16.1)\n",
      "Requirement already satisfied: hdfs<3.0.0,>=2.1.0 in /usr/local/google/home/strokach/miniconda3/envs/beam-dev/lib/python2.7/site-packages (from apache_beam[gcp]) (2.5.1)\n",
      "Requirement already satisfied: httplib2<=0.12.0,>=0.8 in /usr/local/google/home/strokach/miniconda3/envs/beam-dev/lib/python2.7/site-packages (from apache_beam[gcp]) (0.11.3)\n",
      "Requirement already satisfied: mock<3.0.0,>=1.0.1 in /usr/local/google/home/strokach/miniconda3/envs/beam-dev/lib/python2.7/site-packages (from apache_beam[gcp]) (2.0.0)\n",
      "Requirement already satisfied: oauth2client<4,>=2.0.1 in /usr/local/google/home/strokach/miniconda3/envs/beam-dev/lib/python2.7/site-packages (from apache_beam[gcp]) (2.2.0)\n",
      "Requirement already satisfied: protobuf<4,>=3.5.0.post1 in /usr/local/google/home/strokach/miniconda3/envs/beam-dev/lib/python2.7/site-packages (from apache_beam[gcp]) (3.6.1)\n",
      "Requirement already satisfied: pydot<1.3,>=1.2.0 in /usr/local/google/home/strokach/miniconda3/envs/beam-dev/lib/python2.7/site-packages (from apache_beam[gcp]) (1.2.4)\n",
      "Requirement already satisfied: pytz>=2018.3 in /usr/local/google/home/strokach/miniconda3/envs/beam-dev/lib/python2.7/site-packages (from apache_beam[gcp]) (2019.1)\n",
      "Requirement already satisfied: pyyaml<4.0.0,>=3.12 in /usr/local/google/home/strokach/miniconda3/envs/beam-dev/lib/python2.7/site-packages (from apache_beam[gcp]) (3.13)\n",
      "Requirement already satisfied: mmh3<2.5.2,>=2.5.1 in /usr/local/google/home/strokach/miniconda3/envs/beam-dev/lib/python2.7/site-packages (from apache_beam[gcp]) (2.5.1)\n",
      "Requirement already satisfied: avro<2.0.0,>=1.8.1 in /usr/local/google/home/strokach/miniconda3/envs/beam-dev/lib/python2.7/site-packages (from apache_beam[gcp]) (1.8.2)\n",
      "Requirement already satisfied: futures<4.0.0,>=3.2.0 in /usr/local/google/home/strokach/miniconda3/envs/beam-dev/lib/python2.7/site-packages (from apache_beam[gcp]) (3.2.0)\n",
      "Requirement already satisfied: pyvcf<0.7.0,>=0.6.8 in /usr/local/google/home/strokach/miniconda3/envs/beam-dev/lib/python2.7/site-packages (from apache_beam[gcp]) (0.6.8)\n",
      "Requirement already satisfied: typing<3.7.0,>=3.6.0 in /usr/local/google/home/strokach/miniconda3/envs/beam-dev/lib/python2.7/site-packages (from apache_beam[gcp]) (3.6.6)\n",
      "Requirement already satisfied: pyarrow<0.14.0,>=0.11.1 in /usr/local/google/home/strokach/miniconda3/envs/beam-dev/lib/python2.7/site-packages (from apache_beam[gcp]) (0.12.1)\n",
      "Requirement already satisfied: cachetools<4,>=3.1.0 in /usr/local/google/home/strokach/miniconda3/envs/beam-dev/lib/python2.7/site-packages (from apache_beam[gcp]) (3.1.1)\n",
      "Requirement already satisfied: google-apitools<0.5.29,>=0.5.28 in /usr/local/google/home/strokach/miniconda3/envs/beam-dev/lib/python2.7/site-packages (from apache_beam[gcp]) (0.5.28)\n",
      "Requirement already satisfied: google-cloud-datastore<1.8.0,>=1.7.1 in /usr/local/google/home/strokach/miniconda3/envs/beam-dev/lib/python2.7/site-packages (from apache_beam[gcp]) (1.7.4)\n",
      "Requirement already satisfied: google-cloud-pubsub<0.40.0,>=0.39.0 in /usr/local/google/home/strokach/miniconda3/envs/beam-dev/lib/python2.7/site-packages (from apache_beam[gcp]) (0.39.1)\n",
      "Requirement already satisfied: google-cloud-bigquery<1.7.0,>=1.6.0 in /usr/local/google/home/strokach/miniconda3/envs/beam-dev/lib/python2.7/site-packages (from apache_beam[gcp]) (1.6.1)\n",
      "Requirement already satisfied: google-cloud-core<0.30.0,>=0.28.1 in /usr/local/google/home/strokach/miniconda3/envs/beam-dev/lib/python2.7/site-packages (from apache_beam[gcp]) (0.29.1)\n",
      "Requirement already satisfied: google-cloud-bigtable<0.33.0,>=0.31.1 in /usr/local/google/home/strokach/miniconda3/envs/beam-dev/lib/python2.7/site-packages (from apache_beam[gcp]) (0.32.2)\n",
      "Requirement already satisfied: proto-google-cloud-datastore-v1<=0.90.4,>=0.90.0 in /usr/local/google/home/strokach/miniconda3/envs/beam-dev/lib/python2.7/site-packages (from apache_beam[gcp]) (0.90.4)\n",
      "Requirement already satisfied: googledatastore<7.1,>=7.0.1 in /usr/local/google/home/strokach/miniconda3/envs/beam-dev/lib/python2.7/site-packages (from apache_beam[gcp]) (7.0.2)\n",
      "Requirement already satisfied: six>=1.5.2 in /usr/local/google/home/strokach/miniconda3/envs/beam-dev/lib/python2.7/site-packages (from grpcio<2,>=1.8->apache_beam[gcp]) (1.12.0)\n",
      "Requirement already satisfied: enum34>=1.0.4 in /usr/local/google/home/strokach/miniconda3/envs/beam-dev/lib/python2.7/site-packages (from grpcio<2,>=1.8->apache_beam[gcp]) (1.1.6)\n",
      "Requirement already satisfied: requests>=2.7.0 in /usr/local/google/home/strokach/miniconda3/envs/beam-dev/lib/python2.7/site-packages (from hdfs<3.0.0,>=2.1.0->apache_beam[gcp]) (2.22.0)\n",
      "Requirement already satisfied: docopt in /usr/local/google/home/strokach/miniconda3/envs/beam-dev/lib/python2.7/site-packages (from hdfs<3.0.0,>=2.1.0->apache_beam[gcp]) (0.6.2)\n",
      "Requirement already satisfied: funcsigs>=1; python_version < \"3.3\" in /usr/local/google/home/strokach/miniconda3/envs/beam-dev/lib/python2.7/site-packages (from mock<3.0.0,>=1.0.1->apache_beam[gcp]) (1.0.2)\n",
      "Requirement already satisfied: pbr>=0.11 in /usr/local/google/home/strokach/miniconda3/envs/beam-dev/lib/python2.7/site-packages (from mock<3.0.0,>=1.0.1->apache_beam[gcp]) (5.2.1)\n",
      "Requirement already satisfied: pyasn1>=0.1.7 in /usr/local/google/home/strokach/miniconda3/envs/beam-dev/lib/python2.7/site-packages (from oauth2client<4,>=2.0.1->apache_beam[gcp]) (0.4.5)\n",
      "Requirement already satisfied: pyasn1-modules>=0.0.5 in /usr/local/google/home/strokach/miniconda3/envs/beam-dev/lib/python2.7/site-packages (from oauth2client<4,>=2.0.1->apache_beam[gcp]) (0.2.5)\n",
      "Requirement already satisfied: rsa>=3.1.4 in /usr/local/google/home/strokach/miniconda3/envs/beam-dev/lib/python2.7/site-packages (from oauth2client<4,>=2.0.1->apache_beam[gcp]) (3.4.2)\n",
      "Requirement already satisfied: setuptools in /usr/local/google/home/strokach/miniconda3/envs/beam-dev/lib/python2.7/site-packages (from protobuf<4,>=3.5.0.post1->apache_beam[gcp]) (41.0.1)\n",
      "Requirement already satisfied: pyparsing>=2.1.4 in /usr/local/google/home/strokach/miniconda3/envs/beam-dev/lib/python2.7/site-packages (from pydot<1.3,>=1.2.0->apache_beam[gcp]) (2.4.0)\n",
      "Requirement already satisfied: numpy>=1.14 in /usr/local/google/home/strokach/miniconda3/envs/beam-dev/lib/python2.7/site-packages (from pyarrow<0.14.0,>=0.11.1->apache_beam[gcp]) (1.16.4)\n",
      "Requirement already satisfied: fasteners>=0.14 in /usr/local/google/home/strokach/miniconda3/envs/beam-dev/lib/python2.7/site-packages (from google-apitools<0.5.29,>=0.5.28->apache_beam[gcp]) (0.15)\n",
      "Requirement already satisfied: google-api-core[grpc]<2.0.0dev,>=1.6.0 in /usr/local/google/home/strokach/miniconda3/envs/beam-dev/lib/python2.7/site-packages (from google-cloud-datastore<1.8.0,>=1.7.1->apache_beam[gcp]) (1.11.0)\n",
      "Requirement already satisfied: grpc-google-iam-v1<0.12dev,>=0.11.4 in /usr/local/google/home/strokach/miniconda3/envs/beam-dev/lib/python2.7/site-packages (from google-cloud-pubsub<0.40.0,>=0.39.0->apache_beam[gcp]) (0.11.4)\n",
      "Requirement already satisfied: google-resumable-media>=0.2.1 in /usr/local/google/home/strokach/miniconda3/envs/beam-dev/lib/python2.7/site-packages (from google-cloud-bigquery<1.7.0,>=1.6.0->apache_beam[gcp]) (0.3.2)\n",
      "Requirement already satisfied: googleapis-common-protos<2.0dev,>=1.5.2 in /usr/local/google/home/strokach/miniconda3/envs/beam-dev/lib/python2.7/site-packages (from proto-google-cloud-datastore-v1<=0.90.4,>=0.90.0->apache_beam[gcp]) (1.6.0)\n",
      "Requirement already satisfied: chardet<3.1.0,>=3.0.2 in /usr/local/google/home/strokach/miniconda3/envs/beam-dev/lib/python2.7/site-packages (from requests>=2.7.0->hdfs<3.0.0,>=2.1.0->apache_beam[gcp]) (3.0.4)\n",
      "Requirement already satisfied: idna<2.9,>=2.5 in /usr/local/google/home/strokach/miniconda3/envs/beam-dev/lib/python2.7/site-packages (from requests>=2.7.0->hdfs<3.0.0,>=2.1.0->apache_beam[gcp]) (2.8)\n",
      "Requirement already satisfied: urllib3!=1.25.0,!=1.25.1,<1.26,>=1.21.1 in /usr/local/google/home/strokach/miniconda3/envs/beam-dev/lib/python2.7/site-packages (from requests>=2.7.0->hdfs<3.0.0,>=2.1.0->apache_beam[gcp]) (1.24.3)\n",
      "Requirement already satisfied: certifi>=2017.4.17 in /usr/local/google/home/strokach/miniconda3/envs/beam-dev/lib/python2.7/site-packages (from requests>=2.7.0->hdfs<3.0.0,>=2.1.0->apache_beam[gcp]) (2019.3.9)\n",
      "Requirement already satisfied: monotonic>=0.1 in /usr/local/google/home/strokach/miniconda3/envs/beam-dev/lib/python2.7/site-packages (from fasteners>=0.14->google-apitools<0.5.29,>=0.5.28->apache_beam[gcp]) (1.5)\n",
      "Requirement already satisfied: google-auth<2.0dev,>=0.4.0 in /usr/local/google/home/strokach/miniconda3/envs/beam-dev/lib/python2.7/site-packages (from google-api-core[grpc]<2.0.0dev,>=1.6.0->google-cloud-datastore<1.8.0,>=1.7.1->apache_beam[gcp]) (1.6.3)\n"
     ]
    }
   ],
   "source": [
    "!pip install \"git+https://github.com/ostrokach/beam.git@feature/filebasedcache#egg=apache_beam[gcp]&subdirectory=sdks/python\"[gcp]"
   ]
  },
  {
   "cell_type": "code",
   "execution_count": null,
   "metadata": {
    "colab": {
     "base_uri": "https://localhost:8080/",
     "height": 153
    },
    "colab_type": "code",
    "id": "vwc8s3ZMviEy",
    "outputId": "f8410e82-9167-4d06-e3b9-5601815e80eb"
   },
   "outputs": [
    {
     "name": "stdout",
     "output_type": "stream",
     "text": [
      "[sudo] password for strokach: "
     ]
    }
   ],
   "source": [
    "!sudo apt-get install libsnappy-dev -y -q"
   ]
  },
  {
   "cell_type": "code",
   "execution_count": 3,
   "metadata": {
    "colab": {
     "base_uri": "https://localhost:8080/",
     "height": 34
    },
    "colab_type": "code",
    "id": "6JBBvTSgvcoD",
    "outputId": "a1af232b-8da0-4d1c-d5ea-dde91381d75c"
   },
   "outputs": [
    {
     "name": "stdout",
     "output_type": "stream",
     "text": [
      "Requirement already satisfied: python-snappy in /usr/local/lib/python2.7/dist-packages (0.5.4)\n"
     ]
    }
   ],
   "source": [
    "!pip install python-snappy"
   ]
  },
  {
   "cell_type": "markdown",
   "metadata": {
    "colab_type": "text",
    "id": "5zc3pwq0smN-"
   },
   "source": [
    "## Imports"
   ]
  },
  {
   "cell_type": "code",
   "execution_count": 1,
   "metadata": {
    "colab": {},
    "colab_type": "code",
    "id": "EwceiH15eVt-"
   },
   "outputs": [],
   "source": [
    "import copy\n",
    "import itertools\n",
    "import logging\n",
    "import os\n",
    "import tempfile\n",
    "import uuid\n",
    "\n",
    "import apache_beam as beam\n",
    "import numpy as np\n",
    "from apache_beam.io.filesystems import FileSystems\n",
    "from apache_beam.options.pipeline_options import (GoogleCloudOptions,\n",
    "                                                  PipelineOptions)\n",
    "from apache_beam.runners.direct.direct_runner import BundleBasedDirectRunner\n",
    "from apache_beam.runners.interactive import caching\n",
    "\n",
    "from faker import Faker"
   ]
  },
  {
   "cell_type": "code",
   "execution_count": 2,
   "metadata": {
    "colab": {},
    "colab_type": "code",
    "id": "mp81GHxrwYEf"
   },
   "outputs": [],
   "source": [
    "logging.basicConfig(level=logging.INFO)"
   ]
  },
  {
   "cell_type": "code",
   "execution_count": 3,
   "metadata": {},
   "outputs": [],
   "source": [
    "%load_ext autoreload\n",
    "%autoreload 2"
   ]
  },
  {
   "cell_type": "markdown",
   "metadata": {
    "colab_type": "text",
    "id": "VgAbUdQ2fKAL"
   },
   "source": [
    "## Functions"
   ]
  },
  {
   "cell_type": "markdown",
   "metadata": {
    "colab_type": "text",
    "id": "hzzEnIEftMYZ"
   },
   "source": [
    "## Options"
   ]
  },
  {
   "cell_type": "code",
   "execution_count": 8,
   "metadata": {
    "colab": {
     "base_uri": "https://localhost:8080/",
     "height": 34
    },
    "colab_type": "code",
    "id": "IpuqYM-zsorD",
    "outputId": "7b152776-64f4-442e-c672-155585027463"
   },
   "outputs": [
    {
     "data": {
      "text/plain": [
       "('/tmp/beam-dev', '/tmp/beam-dev/tmpoxIcDL', '/tmp/beam-dev/tmpoxIcDL/cache')"
      ]
     },
     "execution_count": 8,
     "metadata": {},
     "output_type": "execute_result"
    }
   ],
   "source": [
    "temp_root = \"/tmp/beam-dev\"\n",
    "try:\n",
    "    os.makedirs(temp_root)\n",
    "except OSError:\n",
    "    pass\n",
    "\n",
    "temp_location = tempfile.mkdtemp(dir=temp_root)\n",
    "\n",
    "cache_location = FileSystems.join(temp_location, \"cache\")\n",
    "try:\n",
    "    os.makedirs(cache_location)\n",
    "except OSError:\n",
    "    pass\n",
    "\n",
    "temp_root, temp_location, cache_location"
   ]
  },
  {
   "cell_type": "code",
   "execution_count": 9,
   "metadata": {
    "colab": {
     "base_uri": "https://localhost:8080/",
     "height": 51
    },
    "colab_type": "code",
    "id": "Y2KieHGYrOKY",
    "outputId": "23d2babb-bb98-4347-bd9c-51a91fb05e0c"
   },
   "outputs": [
    {
     "name": "stderr",
     "output_type": "stream",
     "text": [
      "WARNING:root:Discarding unparseable args: ['-f', '/run/user/674629/jupyter/kernel-7be00718-5ffb-4893-ac6e-b9f66a9d5fd2.json']\n"
     ]
    },
    {
     "data": {
      "text/plain": [
       "{'interactive': True, 'temp_location': '/tmp/beam-dev/tmpoxIcDL'}"
      ]
     },
     "execution_count": 9,
     "metadata": {},
     "output_type": "execute_result"
    }
   ],
   "source": [
    "options = PipelineOptions(temp_location=temp_location, interactive=False)\n",
    "options.display_data()"
   ]
  },
  {
   "cell_type": "code",
   "execution_count": 10,
   "metadata": {
    "colab": {},
    "colab_type": "code",
    "id": "lf1HFhy1rOR_"
   },
   "outputs": [],
   "source": [
    "runner = BundleBasedDirectRunner()"
   ]
  },
  {
   "cell_type": "markdown",
   "metadata": {
    "colab_type": "text",
    "id": "Qh5EkuunuiBc"
   },
   "source": [
    "## Generate a dataset\n",
    "\n",
    "Create a dataset of 10,000 fake people profiles."
   ]
  },
  {
   "cell_type": "code",
   "execution_count": 12,
   "metadata": {},
   "outputs": [],
   "source": [
    "# fake = Faker()\n",
    "# fake_people = [fake.profile(fields=None, sex=None) for _ in range(10000)]"
   ]
  },
  {
   "cell_type": "code",
   "execution_count": 13,
   "metadata": {},
   "outputs": [
    {
     "data": {
      "text/plain": [
       "[{'address': u'81628 Howard Meadows\\nChandlerville, TX 44380',\n",
       "  'birthdate': datetime.date(1942, 8, 27),\n",
       "  'blood_group': 'B-',\n",
       "  'company': u'Mcdonald Group',\n",
       "  'current_location': (Decimal('-50.510297'), Decimal('120.086476')),\n",
       "  'job': 'Product designer',\n",
       "  'mail': u'laura32@hotmail.com',\n",
       "  'name': u'Alexander Harrison',\n",
       "  'residence': u'USNS Mills\\nFPO AE 72127',\n",
       "  'sex': 'M',\n",
       "  'ssn': u'833-23-5384',\n",
       "  'username': u'prestonjessica',\n",
       "  'website': [u'https://www.carter.com/']}]"
      ]
     },
     "execution_count": 13,
     "metadata": {},
     "output_type": "execute_result"
    }
   ],
   "source": [
    "fake_people[:1]"
   ]
  },
  {
   "cell_type": "markdown",
   "metadata": {},
   "source": [
    "## Create a PCollection cache\n",
    "\n",
    "Convert the generated dataset into a `PCollection` which can be accessed from within a Beam pipeline."
   ]
  },
  {
   "cell_type": "code",
   "execution_count": 19,
   "metadata": {},
   "outputs": [],
   "source": [
    "input_cache = caching.SafeTextBasedCache(FileSystems.join(cache_location, \"fake_people\"), if_exists=\"overwrite\")\n",
    "input_cache.write(fake_people)"
   ]
  },
  {
   "cell_type": "code",
   "execution_count": 20,
   "metadata": {},
   "outputs": [
    {
     "name": "stderr",
     "output_type": "stream",
     "text": [
      "INFO:root:Running pipeline with DirectRunner.\n",
      "INFO:root:Starting finalize_write threads with num_shards: 1 (skipped: 0), batches: 1, num_threads: 1\n",
      "INFO:root:Renamed 1 shards in 0.12 seconds.\n"
     ]
    },
    {
     "data": {
      "text/plain": [
       "10000"
      ]
     },
     "execution_count": 20,
     "metadata": {},
     "output_type": "execute_result"
    }
   ],
   "source": [
    "# Make sure we have the correct number of people\n",
    "temp = caching.TFRecordBasedCache(\n",
    "    FileSystems.join(cache_location, \"temp\"), if_exists=\"overwrite\"\n",
    ")\n",
    "\n",
    "with beam.Pipeline(runner=runner, options=options) as p:\n",
    "    _ = (\n",
    "        p\n",
    "        | input_cache.reader()\n",
    "        | beam.combiners.Count.Globally()\n",
    "        | temp.writer()\n",
    "    )\n",
    "\n",
    "num_people = next(temp.read())\n",
    "num_people"
   ]
  },
  {
   "cell_type": "markdown",
   "metadata": {},
   "source": [
    "## Basic transformations"
   ]
  },
  {
   "cell_type": "markdown",
   "metadata": {},
   "source": [
    "### Add age columns"
   ]
  },
  {
   "cell_type": "code",
   "execution_count": 21,
   "metadata": {},
   "outputs": [],
   "source": [
    "def calculate_age(birthdate):\n",
    "    import datetime\n",
    "    td = datetime.date.today() - birthdate\n",
    "    return int(round(td.days // 365.25))\n",
    "\n",
    "def add_age_colum(element):\n",
    "    element[\"age\"] = calculate_age(element[\"birthdate\"])\n",
    "    return element"
   ]
  },
  {
   "cell_type": "code",
   "execution_count": 22,
   "metadata": {},
   "outputs": [
    {
     "name": "stderr",
     "output_type": "stream",
     "text": [
      "INFO:root:Running pipeline with DirectRunner.\n",
      "INFO:root:Starting finalize_write threads with num_shards: 10 (skipped: 0), batches: 10, num_threads: 10\n",
      "INFO:root:Renamed 10 shards in 0.12 seconds.\n"
     ]
    }
   ],
   "source": [
    "people_with_age = caching.TFRecordBasedCache(\n",
    "    FileSystems.join(cache_location, \"temp\"), if_exists=\"overwrite\"\n",
    ")\n",
    "\n",
    "with beam.Pipeline(runner=runner, options=options) as p:\n",
    "    _ = (\n",
    "        p\n",
    "        | input_cache.reader()\n",
    "#         | beam.combiners.Sample.FixedSizeGlobally(5)\n",
    "#         | beam.FlatMap(lambda e_lst: [e for e in e_lst])\n",
    "        | beam.Map(add_age_colum)\n",
    "        | people_with_age.writer()\n",
    "    )"
   ]
  },
  {
   "cell_type": "code",
   "execution_count": 24,
   "metadata": {},
   "outputs": [
    {
     "data": {
      "text/plain": [
       "{'address': u'256 Kelly Causeway Suite 231\\nNew Howardshire, MI 07575',\n",
       " 'age': 112,\n",
       " 'birthdate': datetime.date(1907, 4, 27),\n",
       " 'blood_group': 'B+',\n",
       " 'company': u'Lee LLC',\n",
       " 'current_location': (Decimal('-55.825322'), Decimal('105.693991')),\n",
       " 'job': 'Research scientist (medical)',\n",
       " 'mail': u'matthew27@hotmail.com',\n",
       " 'name': u'Andrea Baker',\n",
       " 'residence': u'7060 Robert Hollow\\nPort Zachary, MI 09904',\n",
       " 'sex': 'F',\n",
       " 'ssn': u'755-07-9888',\n",
       " 'username': u'randalldavis',\n",
       " 'website': [u'https://mora.net/',\n",
       "  u'https://rivera.info/',\n",
       "  u'http://phillips-rodgers.com/']}"
      ]
     },
     "execution_count": 24,
     "metadata": {},
     "output_type": "execute_result"
    }
   ],
   "source": [
    "next(people_with_age.read())"
   ]
  },
  {
   "cell_type": "markdown",
   "metadata": {},
   "source": [
    "## Chain transformations"
   ]
  },
  {
   "cell_type": "markdown",
   "metadata": {},
   "source": [
    "Select top 10 most popular occupations in the `> 30` age group."
   ]
  },
  {
   "cell_type": "code",
   "execution_count": 25,
   "metadata": {},
   "outputs": [
    {
     "name": "stderr",
     "output_type": "stream",
     "text": [
      "INFO:root:Running pipeline with DirectRunner.\n",
      "INFO:root:Starting finalize_write threads with num_shards: 1 (skipped: 0), batches: 1, num_threads: 1\n",
      "INFO:root:Renamed 1 shards in 0.12 seconds.\n"
     ]
    }
   ],
   "source": [
    "most_popular_occupations = caching.TFRecordBasedCache(\n",
    "    FileSystems.join(cache_location, \"most_popular_occupations\"), if_exists=\"overwrite\"\n",
    ")\n",
    "\n",
    "with beam.Pipeline(runner=runner, options=options) as p:\n",
    "    _ = (\n",
    "        p\n",
    "        | people_with_age.reader()\n",
    "        | beam.Filter(lambda e: e[\"age\"] > 30)\n",
    "        | beam.Map(lambda e: (e[\"job\"], e))\n",
    "        | beam.combiners.Count.PerKey()\n",
    "        | beam.combiners.Top.Of(10, key=lambda x: x[1])\n",
    "        | most_popular_occupations.writer()\n",
    "    )"
   ]
  },
  {
   "cell_type": "code",
   "execution_count": 26,
   "metadata": {},
   "outputs": [
    {
     "data": {
      "text/plain": [
       "[[('Engineer, water', 22),\n",
       "  ('Radiographer, diagnostic', 22),\n",
       "  ('Higher education lecturer', 22),\n",
       "  ('Corporate investment banker', 20),\n",
       "  ('Licensed conveyancer', 19),\n",
       "  ('Sound technician, broadcasting/film/video', 19),\n",
       "  ('Osteopath', 19),\n",
       "  ('Chief Marketing Officer', 19),\n",
       "  ('Fitness centre manager', 18),\n",
       "  ('Air cabin crew', 18)]]"
      ]
     },
     "execution_count": 26,
     "metadata": {},
     "output_type": "execute_result"
    }
   ],
   "source": [
    "list(most_popular_occupations.read())"
   ]
  },
  {
   "cell_type": "markdown",
   "metadata": {},
   "source": [
    "## Store for future use"
   ]
  },
  {
   "cell_type": "code",
   "execution_count": 32,
   "metadata": {},
   "outputs": [
    {
     "name": "stderr",
     "output_type": "stream",
     "text": [
      "INFO:root:Running pipeline with DirectRunner.\n",
      "INFO:root:Starting finalize_write threads with num_shards: 10 (skipped: 0), batches: 10, num_threads: 10\n",
      "INFO:root:Renamed 10 shards in 0.13 seconds.\n"
     ]
    }
   ],
   "source": [
    "output_folder = FileSystems.join(temp_location, \"json_output\")\n",
    "try:\n",
    "    os.makedirs(output_folder)\n",
    "except OSError:\n",
    "    pass\n",
    "\n",
    "\n",
    "def remove_nonserializable(element):\n",
    "    element[\"birthdate\"] = element[\"birthdate\"].isoformat()\n",
    "    del element[\"current_location\"]\n",
    "    return element\n",
    "    \n",
    "def to_json_string(element):\n",
    "    import json\n",
    "\n",
    "    return json.dumps(element)\n",
    "\n",
    "\n",
    "with beam.Pipeline(runner=runner, options=options) as p:\n",
    "    _ = (\n",
    "        p\n",
    "        | people_with_age.reader()\n",
    "        | beam.Map(remove_nonserializable)\n",
    "        | beam.Map(to_json_string)\n",
    "        | beam.io.WriteToText(\n",
    "            FileSystems.join(output_folder, \"output-data\"), file_name_suffix=\".json\"\n",
    "        )\n",
    "    )"
   ]
  },
  {
   "cell_type": "markdown",
   "metadata": {},
   "source": [
    "## Convert to DataFrame"
   ]
  },
  {
   "cell_type": "code",
   "execution_count": null,
   "metadata": {},
   "outputs": [],
   "source": []
  },
  {
   "cell_type": "code",
   "execution_count": null,
   "metadata": {},
   "outputs": [],
   "source": []
  }
 ],
 "metadata": {
  "colab": {
   "collapsed_sections": [],
   "include_colab_link": true,
   "name": "beam-lazyevaluation.ipynb",
   "provenance": [],
   "toc_visible": true,
   "version": "0.3.2"
  },
  "kernelspec": {
   "display_name": "Python [conda env:beam-dev]",
   "language": "python",
   "name": "conda-env-beam-dev-py"
  },
  "language_info": {
   "codemirror_mode": {
    "name": "ipython",
    "version": 2
   },
   "file_extension": ".py",
   "mimetype": "text/x-python",
   "name": "python",
   "nbconvert_exporter": "python",
   "pygments_lexer": "ipython2",
   "version": "2.7.15"
  }
 },
 "nbformat": 4,
 "nbformat_minor": 2
}
