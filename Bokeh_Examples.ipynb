{
 "cells": [
  {
   "cell_type": "markdown",
   "metadata": {
    "colab_type": "text",
    "id": "rzJD1C5i1Qd1"
   },
   "source": [
    "# Install packages"
   ]
  },
  {
   "cell_type": "code",
   "execution_count": 1,
   "metadata": {
    "colab": {
     "base_uri": "https://localhost:8080/",
     "height": 1121
    },
    "colab_type": "code",
    "id": "PtVG5WmM1TpP",
    "outputId": "113363a0-f3c2-440d-c3ad-1945f077b831"
   },
   "outputs": [],
   "source": [
    "# !pip install apache-beam[gcp] google-cloud-pubsub bokeh"
   ]
  },
  {
   "cell_type": "code",
   "execution_count": 2,
   "metadata": {
    "colab": {
     "base_uri": "https://localhost:8080/",
     "height": 819
    },
    "colab_type": "code",
    "id": "NJjC4H5mggt-",
    "outputId": "7dbdd2be-ea41-4ba9-caae-6296672a6c2f"
   },
   "outputs": [],
   "source": [
    "# !pip install -e \"git+https://github.com/ostrokach/beam.git@develop#egg=apache-beam&subdirectory=sdks/python\""
   ]
  },
  {
   "cell_type": "markdown",
   "metadata": {
    "colab_type": "text",
    "id": "gT6N5wfP0jzc"
   },
   "source": [
    "# Imports"
   ]
  },
  {
   "cell_type": "markdown",
   "metadata": {
    "colab_type": "text",
    "id": "DBbwfsOWPTzH"
   },
   "source": [
    "Packages available by default:"
   ]
  },
  {
   "cell_type": "code",
   "execution_count": null,
   "metadata": {
    "colab": {},
    "colab_type": "code",
    "id": "T3HokNY_0j7R"
   },
   "outputs": [],
   "source": [
    "import atexit\n",
    "import os\n",
    "import os.path as op\n",
    "import string\n",
    "import json\n",
    "\n",
    "import matplotlib.pyplot as plt\n",
    "import numpy as np\n",
    "import pandas as pd\n",
    "import pyarrow as pa\n",
    "from absl import flags\n",
    "from google.cloud import bigquery, pubsub_v1\n",
    "# from google.colab import auth"
   ]
  },
  {
   "cell_type": "markdown",
   "metadata": {
    "colab_type": "text",
    "id": "udKop65fPW50"
   },
   "source": [
    "Packages that have to be installed:"
   ]
  },
  {
   "cell_type": "code",
   "execution_count": 2,
   "metadata": {
    "colab": {},
    "colab_type": "code",
    "id": "FVqd9ipRPGnE"
   },
   "outputs": [],
   "source": [
    "import apache_beam as beam\n",
    "import avro.schema\n",
    "from apache_beam.runners.interactive import interactive_runner\n",
    "from apache_beam.runners.direct import direct_runner"
   ]
  },
  {
   "cell_type": "code",
   "execution_count": 3,
   "metadata": {
    "colab": {
     "base_uri": "https://localhost:8080/",
     "height": 35
    },
    "colab_type": "code",
    "id": "3L8szAyec96l",
    "outputId": "bebf808b-b7a7-4604-b97d-0d7b4e6fc5b4"
   },
   "outputs": [
    {
     "data": {
      "text/plain": [
       "2.14.0.dev"
      ]
     },
     "execution_count": 3,
     "metadata": {},
     "output_type": "execute_result"
    }
   ],
   "source": [
    "beam.__version__"
   ]
  },
  {
   "cell_type": "markdown",
   "metadata": {
    "colab_type": "text",
    "id": "qTmLBxDxBAZL"
   },
   "source": [
    "# Parameters"
   ]
  },
  {
   "cell_type": "code",
   "execution_count": 4,
   "metadata": {
    "colab": {
     "base_uri": "https://localhost:8080/",
     "height": 35
    },
    "colab_type": "code",
    "id": "SFCxIMKl0_nQ",
    "outputId": "822839dd-1f25-42fc-c314-dfe4dc415eed"
   },
   "outputs": [
    {
     "name": "stdout",
     "output_type": "stream",
     "text": [
      "Updated property [core/project].\r\n"
     ]
    }
   ],
   "source": [
    "project_id = 'strokach-playground'\n",
    "\n",
    "os.environ[\"GOOGLE_CLOUD_PROJECT\"] = project_id\n",
    "!gcloud config set project {project_id}"
   ]
  },
  {
   "cell_type": "code",
   "execution_count": 5,
   "metadata": {
    "colab": {
     "base_uri": "https://localhost:8080/",
     "height": 35
    },
    "colab_type": "code",
    "id": "FFSD5VCneJA_",
    "outputId": "fdf2579a-3db7-4051-aaa2-00227ec7812c"
   },
   "outputs": [],
   "source": [
    "# auth.authenticate_user()\n",
    "# print('Authenticated')"
   ]
  },
  {
   "cell_type": "code",
   "execution_count": 6,
   "metadata": {},
   "outputs": [
    {
     "data": {
      "text/plain": [
       "/usr/local/google/home/strokach/workspace/notebooks/bokeh_examples"
      ]
     },
     "execution_count": 6,
     "metadata": {},
     "output_type": "execute_result"
    }
   ],
   "source": [
    "NOTEBOOK_NAME = \"bokeh_examples\"\n",
    "NOTEBOOK_PATH = op.realpath(NOTEBOOK_NAME)\n",
    "\n",
    "NOTEBOOK_PATH"
   ]
  },
  {
   "cell_type": "markdown",
   "metadata": {
    "colab_type": "text",
    "id": "JHv-dElW8IN9"
   },
   "source": [
    "# Pipelines"
   ]
  },
  {
   "cell_type": "markdown",
   "metadata": {},
   "source": [
    "## taxirides-realtime"
   ]
  },
  {
   "cell_type": "code",
   "execution_count": 7,
   "metadata": {
    "colab": {},
    "colab_type": "code",
    "id": "ypS7sR7N_3Dk"
   },
   "outputs": [],
   "source": [
    "underlying_runner = beam.runners.dataflow.DataflowRunner()\n",
    "\n",
    "pipeline_options = beam.pipeline.PipelineOptions(\n",
    "    project=project_id,\n",
    "    temp_location=\"gs://strokach/temp\",\n",
    "    job_name=\"debug1\",\n",
    "    streaming=True,\n",
    "    # $ python setup.py sdist\n",
    "    sdk_location=\"/usr/local/google/home/strokach/workspace/beam/sdks/python/dist/apache-beam-2.14.0.dev0.tar.gz\",\n",
    ")\n",
    "\n",
    "# runner = interactive_runner.InteractiveRunner(underlying_runner=underlying_runner, render_option='graph')\n",
    "runner = underlying_runner"
   ]
  },
  {
   "cell_type": "code",
   "execution_count": 8,
   "metadata": {
    "colab": {},
    "colab_type": "code",
    "id": "BtmiapFM2ZVs"
   },
   "outputs": [],
   "source": [
    "taxirides_wf = (\n",
    "    beam.Pipeline(runner=runner, options=pipeline_options)\n",
    "    | \"Read\" >> beam.io.ReadFromPubSub(topic=\"projects/pubsub-public-data/topics/taxirides-realtime\")\n",
    "    | \"Write\" >> beam.io.WriteToPubSub(topic=\"projects/strokach-playground/topics/taxirides-realtime\")\n",
    ")"
   ]
  },
  {
   "cell_type": "code",
   "execution_count": 9,
   "metadata": {
    "colab": {},
    "colab_type": "code",
    "id": "WqwaQeZREFgX"
   },
   "outputs": [
    {
     "name": "stderr",
     "output_type": "stream",
     "text": [
      "WARNING:root:Discarding unparseable args: ['-f', '/run/user/674629/jupyter/kernel-e09bae35-0eb6-4905-b994-2665c4135ca0.json']\n",
      "WARNING:root:Discarding unparseable args: ['-f', '/run/user/674629/jupyter/kernel-e09bae35-0eb6-4905-b994-2665c4135ca0.json']\n"
     ]
    }
   ],
   "source": [
    "taxirides_r = taxirides_wf.pipeline.run()"
   ]
  },
  {
   "cell_type": "markdown",
   "metadata": {},
   "source": [
    "# Dashboards"
   ]
  },
  {
   "cell_type": "code",
   "execution_count": 24,
   "metadata": {},
   "outputs": [
    {
     "data": {
      "text/html": [
       "\n",
       "    <div class=\"bk-root\">\n",
       "        <a href=\"https://bokeh.pydata.org\" target=\"_blank\" class=\"bk-logo bk-logo-small bk-logo-notebook\"></a>\n",
       "        <span id=\"1319\">Loading BokehJS ...</span>\n",
       "    </div>"
      ]
     },
     "metadata": {},
     "output_type": "display_data"
    },
    {
     "data": {
      "application/javascript": [
       "\n",
       "(function(root) {\n",
       "  function now() {\n",
       "    return new Date();\n",
       "  }\n",
       "\n",
       "  var force = true;\n",
       "\n",
       "  if (typeof root._bokeh_onload_callbacks === \"undefined\" || force === true) {\n",
       "    root._bokeh_onload_callbacks = [];\n",
       "    root._bokeh_is_loading = undefined;\n",
       "  }\n",
       "\n",
       "  var JS_MIME_TYPE = 'application/javascript';\n",
       "  var HTML_MIME_TYPE = 'text/html';\n",
       "  var EXEC_MIME_TYPE = 'application/vnd.bokehjs_exec.v0+json';\n",
       "  var CLASS_NAME = 'output_bokeh rendered_html';\n",
       "\n",
       "  /**\n",
       "   * Render data to the DOM node\n",
       "   */\n",
       "  function render(props, node) {\n",
       "    var script = document.createElement(\"script\");\n",
       "    node.appendChild(script);\n",
       "  }\n",
       "\n",
       "  /**\n",
       "   * Handle when an output is cleared or removed\n",
       "   */\n",
       "  function handleClearOutput(event, handle) {\n",
       "    var cell = handle.cell;\n",
       "\n",
       "    var id = cell.output_area._bokeh_element_id;\n",
       "    var server_id = cell.output_area._bokeh_server_id;\n",
       "    // Clean up Bokeh references\n",
       "    if (id != null && id in Bokeh.index) {\n",
       "      Bokeh.index[id].model.document.clear();\n",
       "      delete Bokeh.index[id];\n",
       "    }\n",
       "\n",
       "    if (server_id !== undefined) {\n",
       "      // Clean up Bokeh references\n",
       "      var cmd = \"from bokeh.io.state import curstate; print(curstate().uuid_to_server['\" + server_id + \"'].get_sessions()[0].document.roots[0]._id)\";\n",
       "      cell.notebook.kernel.execute(cmd, {\n",
       "        iopub: {\n",
       "          output: function(msg) {\n",
       "            var id = msg.content.text.trim();\n",
       "            if (id in Bokeh.index) {\n",
       "              Bokeh.index[id].model.document.clear();\n",
       "              delete Bokeh.index[id];\n",
       "            }\n",
       "          }\n",
       "        }\n",
       "      });\n",
       "      // Destroy server and session\n",
       "      var cmd = \"import bokeh.io.notebook as ion; ion.destroy_server('\" + server_id + \"')\";\n",
       "      cell.notebook.kernel.execute(cmd);\n",
       "    }\n",
       "  }\n",
       "\n",
       "  /**\n",
       "   * Handle when a new output is added\n",
       "   */\n",
       "  function handleAddOutput(event, handle) {\n",
       "    var output_area = handle.output_area;\n",
       "    var output = handle.output;\n",
       "\n",
       "    // limit handleAddOutput to display_data with EXEC_MIME_TYPE content only\n",
       "    if ((output.output_type != \"display_data\") || (!output.data.hasOwnProperty(EXEC_MIME_TYPE))) {\n",
       "      return\n",
       "    }\n",
       "\n",
       "    var toinsert = output_area.element.find(\".\" + CLASS_NAME.split(' ')[0]);\n",
       "\n",
       "    if (output.metadata[EXEC_MIME_TYPE][\"id\"] !== undefined) {\n",
       "      toinsert[toinsert.length - 1].firstChild.textContent = output.data[JS_MIME_TYPE];\n",
       "      // store reference to embed id on output_area\n",
       "      output_area._bokeh_element_id = output.metadata[EXEC_MIME_TYPE][\"id\"];\n",
       "    }\n",
       "    if (output.metadata[EXEC_MIME_TYPE][\"server_id\"] !== undefined) {\n",
       "      var bk_div = document.createElement(\"div\");\n",
       "      bk_div.innerHTML = output.data[HTML_MIME_TYPE];\n",
       "      var script_attrs = bk_div.children[0].attributes;\n",
       "      for (var i = 0; i < script_attrs.length; i++) {\n",
       "        toinsert[toinsert.length - 1].firstChild.setAttribute(script_attrs[i].name, script_attrs[i].value);\n",
       "      }\n",
       "      // store reference to server id on output_area\n",
       "      output_area._bokeh_server_id = output.metadata[EXEC_MIME_TYPE][\"server_id\"];\n",
       "    }\n",
       "  }\n",
       "\n",
       "  function register_renderer(events, OutputArea) {\n",
       "\n",
       "    function append_mime(data, metadata, element) {\n",
       "      // create a DOM node to render to\n",
       "      var toinsert = this.create_output_subarea(\n",
       "        metadata,\n",
       "        CLASS_NAME,\n",
       "        EXEC_MIME_TYPE\n",
       "      );\n",
       "      this.keyboard_manager.register_events(toinsert);\n",
       "      // Render to node\n",
       "      var props = {data: data, metadata: metadata[EXEC_MIME_TYPE]};\n",
       "      render(props, toinsert[toinsert.length - 1]);\n",
       "      element.append(toinsert);\n",
       "      return toinsert\n",
       "    }\n",
       "\n",
       "    /* Handle when an output is cleared or removed */\n",
       "    events.on('clear_output.CodeCell', handleClearOutput);\n",
       "    events.on('delete.Cell', handleClearOutput);\n",
       "\n",
       "    /* Handle when a new output is added */\n",
       "    events.on('output_added.OutputArea', handleAddOutput);\n",
       "\n",
       "    /**\n",
       "     * Register the mime type and append_mime function with output_area\n",
       "     */\n",
       "    OutputArea.prototype.register_mime_type(EXEC_MIME_TYPE, append_mime, {\n",
       "      /* Is output safe? */\n",
       "      safe: true,\n",
       "      /* Index of renderer in `output_area.display_order` */\n",
       "      index: 0\n",
       "    });\n",
       "  }\n",
       "\n",
       "  // register the mime type if in Jupyter Notebook environment and previously unregistered\n",
       "  if (root.Jupyter !== undefined) {\n",
       "    var events = require('base/js/events');\n",
       "    var OutputArea = require('notebook/js/outputarea').OutputArea;\n",
       "\n",
       "    if (OutputArea.prototype.mime_types().indexOf(EXEC_MIME_TYPE) == -1) {\n",
       "      register_renderer(events, OutputArea);\n",
       "    }\n",
       "  }\n",
       "\n",
       "  \n",
       "  if (typeof (root._bokeh_timeout) === \"undefined\" || force === true) {\n",
       "    root._bokeh_timeout = Date.now() + 5000;\n",
       "    root._bokeh_failed_load = false;\n",
       "  }\n",
       "\n",
       "  var NB_LOAD_WARNING = {'data': {'text/html':\n",
       "     \"<div style='background-color: #fdd'>\\n\"+\n",
       "     \"<p>\\n\"+\n",
       "     \"BokehJS does not appear to have successfully loaded. If loading BokehJS from CDN, this \\n\"+\n",
       "     \"may be due to a slow or bad network connection. Possible fixes:\\n\"+\n",
       "     \"</p>\\n\"+\n",
       "     \"<ul>\\n\"+\n",
       "     \"<li>re-rerun `output_notebook()` to attempt to load from CDN again, or</li>\\n\"+\n",
       "     \"<li>use INLINE resources instead, as so:</li>\\n\"+\n",
       "     \"</ul>\\n\"+\n",
       "     \"<code>\\n\"+\n",
       "     \"from bokeh.resources import INLINE\\n\"+\n",
       "     \"output_notebook(resources=INLINE)\\n\"+\n",
       "     \"</code>\\n\"+\n",
       "     \"</div>\"}};\n",
       "\n",
       "  function display_loaded() {\n",
       "    var el = document.getElementById(\"1319\");\n",
       "    if (el != null) {\n",
       "      el.textContent = \"BokehJS is loading...\";\n",
       "    }\n",
       "    if (root.Bokeh !== undefined) {\n",
       "      if (el != null) {\n",
       "        el.textContent = \"BokehJS \" + root.Bokeh.version + \" successfully loaded.\";\n",
       "      }\n",
       "    } else if (Date.now() < root._bokeh_timeout) {\n",
       "      setTimeout(display_loaded, 100)\n",
       "    }\n",
       "  }\n",
       "\n",
       "\n",
       "  function run_callbacks() {\n",
       "    try {\n",
       "      root._bokeh_onload_callbacks.forEach(function(callback) {\n",
       "        if (callback != null)\n",
       "          callback();\n",
       "      });\n",
       "    } finally {\n",
       "      delete root._bokeh_onload_callbacks\n",
       "    }\n",
       "    console.debug(\"Bokeh: all callbacks have finished\");\n",
       "  }\n",
       "\n",
       "  function load_libs(css_urls, js_urls, callback) {\n",
       "    if (css_urls == null) css_urls = [];\n",
       "    if (js_urls == null) js_urls = [];\n",
       "\n",
       "    root._bokeh_onload_callbacks.push(callback);\n",
       "    if (root._bokeh_is_loading > 0) {\n",
       "      console.debug(\"Bokeh: BokehJS is being loaded, scheduling callback at\", now());\n",
       "      return null;\n",
       "    }\n",
       "    if (js_urls == null || js_urls.length === 0) {\n",
       "      run_callbacks();\n",
       "      return null;\n",
       "    }\n",
       "    console.debug(\"Bokeh: BokehJS not loaded, scheduling load and callback at\", now());\n",
       "    root._bokeh_is_loading = css_urls.length + js_urls.length;\n",
       "\n",
       "    function on_load() {\n",
       "      root._bokeh_is_loading--;\n",
       "      if (root._bokeh_is_loading === 0) {\n",
       "        console.debug(\"Bokeh: all BokehJS libraries/stylesheets loaded\");\n",
       "        run_callbacks()\n",
       "      }\n",
       "    }\n",
       "\n",
       "    function on_error() {\n",
       "      console.error(\"failed to load \" + url);\n",
       "    }\n",
       "\n",
       "    for (var i = 0; i < css_urls.length; i++) {\n",
       "      var url = css_urls[i];\n",
       "      const element = document.createElement(\"link\");\n",
       "      element.onload = on_load;\n",
       "      element.onerror = on_error;\n",
       "      element.rel = \"stylesheet\";\n",
       "      element.type = \"text/css\";\n",
       "      element.href = url;\n",
       "      console.debug(\"Bokeh: injecting link tag for BokehJS stylesheet: \", url);\n",
       "      document.body.appendChild(element);\n",
       "    }\n",
       "\n",
       "    for (var i = 0; i < js_urls.length; i++) {\n",
       "      var url = js_urls[i];\n",
       "      var element = document.createElement('script');\n",
       "      element.onload = on_load;\n",
       "      element.onerror = on_error;\n",
       "      element.async = false;\n",
       "      element.src = url;\n",
       "      console.debug(\"Bokeh: injecting script tag for BokehJS library: \", url);\n",
       "      document.head.appendChild(element);\n",
       "    }\n",
       "  };var element = document.getElementById(\"1319\");\n",
       "  if (element == null) {\n",
       "    console.error(\"Bokeh: ERROR: autoload.js configured with elementid '1319' but no matching script tag was found. \")\n",
       "    return false;\n",
       "  }\n",
       "\n",
       "  function inject_raw_css(css) {\n",
       "    const element = document.createElement(\"style\");\n",
       "    element.appendChild(document.createTextNode(css));\n",
       "    document.body.appendChild(element);\n",
       "  }\n",
       "\n",
       "  var js_urls = [\"https://cdn.pydata.org/bokeh/release/bokeh-1.1.0.min.js\", \"https://cdn.pydata.org/bokeh/release/bokeh-widgets-1.1.0.min.js\", \"https://cdn.pydata.org/bokeh/release/bokeh-tables-1.1.0.min.js\", \"https://cdn.pydata.org/bokeh/release/bokeh-gl-1.1.0.min.js\"];\n",
       "  var css_urls = [\"https://cdn.pydata.org/bokeh/release/bokeh-1.1.0.min.css\", \"https://cdn.pydata.org/bokeh/release/bokeh-widgets-1.1.0.min.css\", \"https://cdn.pydata.org/bokeh/release/bokeh-tables-1.1.0.min.css\"];\n",
       "\n",
       "  var inline_js = [\n",
       "    function(Bokeh) {\n",
       "      Bokeh.set_log_level(\"info\");\n",
       "    },\n",
       "    \n",
       "    function(Bokeh) {\n",
       "      \n",
       "    },\n",
       "    function(Bokeh) {} // ensure no trailing comma for IE\n",
       "  ];\n",
       "\n",
       "  function run_inline_js() {\n",
       "    \n",
       "    if ((root.Bokeh !== undefined) || (force === true)) {\n",
       "      for (var i = 0; i < inline_js.length; i++) {\n",
       "        inline_js[i].call(root, root.Bokeh);\n",
       "      }if (force === true) {\n",
       "        display_loaded();\n",
       "      }} else if (Date.now() < root._bokeh_timeout) {\n",
       "      setTimeout(run_inline_js, 100);\n",
       "    } else if (!root._bokeh_failed_load) {\n",
       "      console.log(\"Bokeh: BokehJS failed to load within specified timeout.\");\n",
       "      root._bokeh_failed_load = true;\n",
       "    } else if (force !== true) {\n",
       "      var cell = $(document.getElementById(\"1319\")).parents('.cell').data().cell;\n",
       "      cell.output_area.append_execute_result(NB_LOAD_WARNING)\n",
       "    }\n",
       "\n",
       "  }\n",
       "\n",
       "  if (root._bokeh_is_loading === 0) {\n",
       "    console.debug(\"Bokeh: BokehJS loaded, going straight to plotting\");\n",
       "    run_inline_js();\n",
       "  } else {\n",
       "    load_libs(css_urls, js_urls, function() {\n",
       "      console.debug(\"Bokeh: BokehJS plotting callback run at\", now());\n",
       "      run_inline_js();\n",
       "    });\n",
       "  }\n",
       "}(window));"
      ],
      "application/vnd.bokehjs_load.v0+json": "\n(function(root) {\n  function now() {\n    return new Date();\n  }\n\n  var force = true;\n\n  if (typeof root._bokeh_onload_callbacks === \"undefined\" || force === true) {\n    root._bokeh_onload_callbacks = [];\n    root._bokeh_is_loading = undefined;\n  }\n\n  \n\n  \n  if (typeof (root._bokeh_timeout) === \"undefined\" || force === true) {\n    root._bokeh_timeout = Date.now() + 5000;\n    root._bokeh_failed_load = false;\n  }\n\n  var NB_LOAD_WARNING = {'data': {'text/html':\n     \"<div style='background-color: #fdd'>\\n\"+\n     \"<p>\\n\"+\n     \"BokehJS does not appear to have successfully loaded. If loading BokehJS from CDN, this \\n\"+\n     \"may be due to a slow or bad network connection. Possible fixes:\\n\"+\n     \"</p>\\n\"+\n     \"<ul>\\n\"+\n     \"<li>re-rerun `output_notebook()` to attempt to load from CDN again, or</li>\\n\"+\n     \"<li>use INLINE resources instead, as so:</li>\\n\"+\n     \"</ul>\\n\"+\n     \"<code>\\n\"+\n     \"from bokeh.resources import INLINE\\n\"+\n     \"output_notebook(resources=INLINE)\\n\"+\n     \"</code>\\n\"+\n     \"</div>\"}};\n\n  function display_loaded() {\n    var el = document.getElementById(\"1319\");\n    if (el != null) {\n      el.textContent = \"BokehJS is loading...\";\n    }\n    if (root.Bokeh !== undefined) {\n      if (el != null) {\n        el.textContent = \"BokehJS \" + root.Bokeh.version + \" successfully loaded.\";\n      }\n    } else if (Date.now() < root._bokeh_timeout) {\n      setTimeout(display_loaded, 100)\n    }\n  }\n\n\n  function run_callbacks() {\n    try {\n      root._bokeh_onload_callbacks.forEach(function(callback) {\n        if (callback != null)\n          callback();\n      });\n    } finally {\n      delete root._bokeh_onload_callbacks\n    }\n    console.debug(\"Bokeh: all callbacks have finished\");\n  }\n\n  function load_libs(css_urls, js_urls, callback) {\n    if (css_urls == null) css_urls = [];\n    if (js_urls == null) js_urls = [];\n\n    root._bokeh_onload_callbacks.push(callback);\n    if (root._bokeh_is_loading > 0) {\n      console.debug(\"Bokeh: BokehJS is being loaded, scheduling callback at\", now());\n      return null;\n    }\n    if (js_urls == null || js_urls.length === 0) {\n      run_callbacks();\n      return null;\n    }\n    console.debug(\"Bokeh: BokehJS not loaded, scheduling load and callback at\", now());\n    root._bokeh_is_loading = css_urls.length + js_urls.length;\n\n    function on_load() {\n      root._bokeh_is_loading--;\n      if (root._bokeh_is_loading === 0) {\n        console.debug(\"Bokeh: all BokehJS libraries/stylesheets loaded\");\n        run_callbacks()\n      }\n    }\n\n    function on_error() {\n      console.error(\"failed to load \" + url);\n    }\n\n    for (var i = 0; i < css_urls.length; i++) {\n      var url = css_urls[i];\n      const element = document.createElement(\"link\");\n      element.onload = on_load;\n      element.onerror = on_error;\n      element.rel = \"stylesheet\";\n      element.type = \"text/css\";\n      element.href = url;\n      console.debug(\"Bokeh: injecting link tag for BokehJS stylesheet: \", url);\n      document.body.appendChild(element);\n    }\n\n    for (var i = 0; i < js_urls.length; i++) {\n      var url = js_urls[i];\n      var element = document.createElement('script');\n      element.onload = on_load;\n      element.onerror = on_error;\n      element.async = false;\n      element.src = url;\n      console.debug(\"Bokeh: injecting script tag for BokehJS library: \", url);\n      document.head.appendChild(element);\n    }\n  };var element = document.getElementById(\"1319\");\n  if (element == null) {\n    console.error(\"Bokeh: ERROR: autoload.js configured with elementid '1319' but no matching script tag was found. \")\n    return false;\n  }\n\n  function inject_raw_css(css) {\n    const element = document.createElement(\"style\");\n    element.appendChild(document.createTextNode(css));\n    document.body.appendChild(element);\n  }\n\n  var js_urls = [\"https://cdn.pydata.org/bokeh/release/bokeh-1.1.0.min.js\", \"https://cdn.pydata.org/bokeh/release/bokeh-widgets-1.1.0.min.js\", \"https://cdn.pydata.org/bokeh/release/bokeh-tables-1.1.0.min.js\", \"https://cdn.pydata.org/bokeh/release/bokeh-gl-1.1.0.min.js\"];\n  var css_urls = [\"https://cdn.pydata.org/bokeh/release/bokeh-1.1.0.min.css\", \"https://cdn.pydata.org/bokeh/release/bokeh-widgets-1.1.0.min.css\", \"https://cdn.pydata.org/bokeh/release/bokeh-tables-1.1.0.min.css\"];\n\n  var inline_js = [\n    function(Bokeh) {\n      Bokeh.set_log_level(\"info\");\n    },\n    \n    function(Bokeh) {\n      \n    },\n    function(Bokeh) {} // ensure no trailing comma for IE\n  ];\n\n  function run_inline_js() {\n    \n    if ((root.Bokeh !== undefined) || (force === true)) {\n      for (var i = 0; i < inline_js.length; i++) {\n        inline_js[i].call(root, root.Bokeh);\n      }if (force === true) {\n        display_loaded();\n      }} else if (Date.now() < root._bokeh_timeout) {\n      setTimeout(run_inline_js, 100);\n    } else if (!root._bokeh_failed_load) {\n      console.log(\"Bokeh: BokehJS failed to load within specified timeout.\");\n      root._bokeh_failed_load = true;\n    } else if (force !== true) {\n      var cell = $(document.getElementById(\"1319\")).parents('.cell').data().cell;\n      cell.output_area.append_execute_result(NB_LOAD_WARNING)\n    }\n\n  }\n\n  if (root._bokeh_is_loading === 0) {\n    console.debug(\"Bokeh: BokehJS loaded, going straight to plotting\");\n    run_inline_js();\n  } else {\n    load_libs(css_urls, js_urls, function() {\n      console.debug(\"Bokeh: BokehJS plotting callback run at\", now());\n      run_inline_js();\n    });\n  }\n}(window));"
     },
     "metadata": {},
     "output_type": "display_data"
    }
   ],
   "source": [
    "from bokeh.io import push_notebook, show, output_notebook\n",
    "from bokeh.layouts import row\n",
    "from bokeh.plotting import figure\n",
    "output_notebook()"
   ]
  },
  {
   "cell_type": "code",
   "execution_count": 9,
   "metadata": {},
   "outputs": [
    {
     "data": {
      "text/html": [
       "\n",
       "\n",
       "\n",
       "\n",
       "\n",
       "\n",
       "  <div class=\"bk-root\" id=\"a33dee7d-f244-45c4-a521-2e6396dff8f1\" data-root-id=\"1150\"></div>\n"
      ]
     },
     "metadata": {},
     "output_type": "display_data"
    },
    {
     "data": {
      "application/javascript": [
       "(function(root) {\n",
       "  function embed_document(root) {\n",
       "    \n",
       "  var docs_json = {\"a60d638e-af26-4db7-9982-8806bcd8cc46\":{\"roots\":{\"references\":[{\"attributes\":{},\"id\":\"1128\",\"type\":\"BasicTicker\"},{\"attributes\":{\"bottom_units\":\"screen\",\"fill_alpha\":{\"value\":0.5},\"fill_color\":{\"value\":\"lightgrey\"},\"left_units\":\"screen\",\"level\":\"overlay\",\"line_alpha\":{\"value\":1.0},\"line_color\":{\"value\":\"black\"},\"line_dash\":[4,4],\"line_width\":{\"value\":2},\"render_mode\":\"css\",\"right_units\":\"screen\",\"top_units\":\"screen\"},\"id\":\"1165\",\"type\":\"BoxAnnotation\"},{\"attributes\":{},\"id\":\"1166\",\"type\":\"Selection\"},{\"attributes\":{},\"id\":\"1167\",\"type\":\"UnionRenderers\"},{\"attributes\":{\"fill_color\":{\"value\":\"#1f77b4\"},\"line_color\":{\"value\":\"#1f77b4\"},\"size\":{\"units\":\"screen\",\"value\":20},\"x\":{\"field\":\"x\"},\"y\":{\"field\":\"y\"}},\"id\":\"1146\",\"type\":\"Circle\"},{\"attributes\":{\"fill_alpha\":{\"value\":0.1},\"fill_color\":{\"value\":\"#1f77b4\"},\"line_alpha\":{\"value\":0.1},\"line_color\":{\"value\":\"#1f77b4\"},\"size\":{\"units\":\"screen\",\"value\":20},\"x\":{\"field\":\"x\"},\"y\":{\"field\":\"y\"}},\"id\":\"1147\",\"type\":\"Circle\"},{\"attributes\":{},\"id\":\"1162\",\"type\":\"BasicTickFormatter\"},{\"attributes\":{},\"id\":\"1163\",\"type\":\"Selection\"},{\"attributes\":{},\"id\":\"1120\",\"type\":\"LinearScale\"},{\"attributes\":{\"data_source\":{\"id\":\"1145\",\"type\":\"ColumnDataSource\"},\"glyph\":{\"id\":\"1146\",\"type\":\"Circle\"},\"hover_glyph\":null,\"muted_glyph\":null,\"nonselection_glyph\":{\"id\":\"1147\",\"type\":\"Circle\"},\"selection_glyph\":null,\"view\":{\"id\":\"1149\",\"type\":\"CDSView\"}},\"id\":\"1148\",\"type\":\"GlyphRenderer\"},{\"attributes\":{\"source\":{\"id\":\"1145\",\"type\":\"ColumnDataSource\"}},\"id\":\"1149\",\"type\":\"CDSView\"},{\"attributes\":{\"bottom_units\":\"screen\",\"fill_alpha\":{\"value\":0.5},\"fill_color\":{\"value\":\"lightgrey\"},\"left_units\":\"screen\",\"level\":\"overlay\",\"line_alpha\":{\"value\":1.0},\"line_color\":{\"value\":\"black\"},\"line_dash\":[4,4],\"line_width\":{\"value\":2},\"render_mode\":\"css\",\"right_units\":\"screen\",\"top_units\":\"screen\"},\"id\":\"1168\",\"type\":\"BoxAnnotation\"},{\"attributes\":{\"formatter\":{\"id\":\"1156\",\"type\":\"BasicTickFormatter\"},\"ticker\":{\"id\":\"1086\",\"type\":\"BasicTicker\"}},\"id\":\"1085\",\"type\":\"LinearAxis\"},{\"attributes\":{\"ticker\":{\"id\":\"1086\",\"type\":\"BasicTicker\"}},\"id\":\"1089\",\"type\":\"Grid\"},{\"attributes\":{\"formatter\":{\"id\":\"1162\",\"type\":\"BasicTickFormatter\"},\"ticker\":{\"id\":\"1128\",\"type\":\"BasicTicker\"}},\"id\":\"1127\",\"type\":\"LinearAxis\"},{\"attributes\":{\"active_drag\":\"auto\",\"active_inspect\":\"auto\",\"active_multi\":null,\"active_scroll\":\"auto\",\"active_tap\":\"auto\",\"tools\":[{\"id\":\"1132\",\"type\":\"PanTool\"},{\"id\":\"1133\",\"type\":\"WheelZoomTool\"},{\"id\":\"1134\",\"type\":\"BoxZoomTool\"},{\"id\":\"1135\",\"type\":\"SaveTool\"},{\"id\":\"1136\",\"type\":\"ResetTool\"},{\"id\":\"1137\",\"type\":\"HelpTool\"}]},\"id\":\"1138\",\"type\":\"Toolbar\"},{\"attributes\":{},\"id\":\"1123\",\"type\":\"BasicTicker\"},{\"attributes\":{},\"id\":\"1083\",\"type\":\"LinearScale\"},{\"attributes\":{\"overlay\":{\"id\":\"1168\",\"type\":\"BoxAnnotation\"}},\"id\":\"1134\",\"type\":\"BoxZoomTool\"},{\"attributes\":{},\"id\":\"1158\",\"type\":\"BasicTickFormatter\"},{\"attributes\":{},\"id\":\"1081\",\"type\":\"LinearScale\"},{\"attributes\":{\"callback\":null},\"id\":\"1079\",\"type\":\"DataRange1d\"},{\"attributes\":{\"below\":[{\"id\":\"1085\",\"type\":\"LinearAxis\"}],\"center\":[{\"id\":\"1089\",\"type\":\"Grid\"},{\"id\":\"1094\",\"type\":\"Grid\"}],\"left\":[{\"id\":\"1090\",\"type\":\"LinearAxis\"}],\"plot_height\":250,\"plot_width\":250,\"renderers\":[{\"id\":\"1111\",\"type\":\"GlyphRenderer\"}],\"title\":{\"id\":\"1152\",\"type\":\"Title\"},\"toolbar\":{\"id\":\"1101\",\"type\":\"Toolbar\"},\"x_range\":{\"id\":\"1077\",\"type\":\"DataRange1d\"},\"x_scale\":{\"id\":\"1081\",\"type\":\"LinearScale\"},\"y_range\":{\"id\":\"1079\",\"type\":\"DataRange1d\"},\"y_scale\":{\"id\":\"1083\",\"type\":\"LinearScale\"}},\"id\":\"1076\",\"subtype\":\"Figure\",\"type\":\"Plot\"},{\"attributes\":{\"callback\":null},\"id\":\"1077\",\"type\":\"DataRange1d\"},{\"attributes\":{\"callback\":null,\"data\":{\"x\":[1,2,3],\"y\":[4,5,6]},\"selected\":{\"id\":\"1166\",\"type\":\"Selection\"},\"selection_policy\":{\"id\":\"1167\",\"type\":\"UnionRenderers\"}},\"id\":\"1145\",\"type\":\"ColumnDataSource\"},{\"attributes\":{\"data_source\":{\"id\":\"1108\",\"type\":\"ColumnDataSource\"},\"glyph\":{\"id\":\"1109\",\"type\":\"Circle\"},\"hover_glyph\":null,\"muted_glyph\":null,\"nonselection_glyph\":{\"id\":\"1110\",\"type\":\"Circle\"},\"selection_glyph\":null,\"view\":{\"id\":\"1112\",\"type\":\"CDSView\"}},\"id\":\"1111\",\"type\":\"GlyphRenderer\"},{\"attributes\":{\"fill_alpha\":{\"value\":0.1},\"fill_color\":{\"value\":\"#1f77b4\"},\"line_alpha\":{\"value\":0.1},\"line_color\":{\"value\":\"#1f77b4\"},\"size\":{\"units\":\"screen\",\"value\":20},\"x\":{\"field\":\"x\"},\"y\":{\"field\":\"y\"}},\"id\":\"1110\",\"type\":\"Circle\"},{\"attributes\":{\"below\":[{\"id\":\"1122\",\"type\":\"LinearAxis\"}],\"center\":[{\"id\":\"1126\",\"type\":\"Grid\"},{\"id\":\"1131\",\"type\":\"Grid\"}],\"left\":[{\"id\":\"1127\",\"type\":\"LinearAxis\"}],\"plot_height\":250,\"plot_width\":250,\"renderers\":[{\"id\":\"1148\",\"type\":\"GlyphRenderer\"}],\"title\":{\"id\":\"1154\",\"type\":\"Title\"},\"toolbar\":{\"id\":\"1138\",\"type\":\"Toolbar\"},\"x_range\":{\"id\":\"1114\",\"type\":\"DataRange1d\"},\"x_scale\":{\"id\":\"1118\",\"type\":\"LinearScale\"},\"y_range\":{\"id\":\"1116\",\"type\":\"DataRange1d\"},\"y_scale\":{\"id\":\"1120\",\"type\":\"LinearScale\"}},\"id\":\"1113\",\"subtype\":\"Figure\",\"type\":\"Plot\"},{\"attributes\":{\"source\":{\"id\":\"1108\",\"type\":\"ColumnDataSource\"}},\"id\":\"1112\",\"type\":\"CDSView\"},{\"attributes\":{\"callback\":null},\"id\":\"1114\",\"type\":\"DataRange1d\"},{\"attributes\":{\"callback\":null},\"id\":\"1116\",\"type\":\"DataRange1d\"},{\"attributes\":{},\"id\":\"1118\",\"type\":\"LinearScale\"},{\"attributes\":{},\"id\":\"1164\",\"type\":\"UnionRenderers\"},{\"attributes\":{\"formatter\":{\"id\":\"1160\",\"type\":\"BasicTickFormatter\"},\"ticker\":{\"id\":\"1123\",\"type\":\"BasicTicker\"}},\"id\":\"1122\",\"type\":\"LinearAxis\"},{\"attributes\":{},\"id\":\"1099\",\"type\":\"ResetTool\"},{\"attributes\":{\"dimension\":1,\"ticker\":{\"id\":\"1091\",\"type\":\"BasicTicker\"}},\"id\":\"1094\",\"type\":\"Grid\"},{\"attributes\":{},\"id\":\"1095\",\"type\":\"PanTool\"},{\"attributes\":{},\"id\":\"1096\",\"type\":\"WheelZoomTool\"},{\"attributes\":{\"overlay\":{\"id\":\"1165\",\"type\":\"BoxAnnotation\"}},\"id\":\"1097\",\"type\":\"BoxZoomTool\"},{\"attributes\":{\"formatter\":{\"id\":\"1158\",\"type\":\"BasicTickFormatter\"},\"ticker\":{\"id\":\"1091\",\"type\":\"BasicTicker\"}},\"id\":\"1090\",\"type\":\"LinearAxis\"},{\"attributes\":{},\"id\":\"1091\",\"type\":\"BasicTicker\"},{\"attributes\":{\"text\":\"\"},\"id\":\"1154\",\"type\":\"Title\"},{\"attributes\":{},\"id\":\"1133\",\"type\":\"WheelZoomTool\"},{\"attributes\":{},\"id\":\"1137\",\"type\":\"HelpTool\"},{\"attributes\":{\"dimension\":1,\"ticker\":{\"id\":\"1128\",\"type\":\"BasicTicker\"}},\"id\":\"1131\",\"type\":\"Grid\"},{\"attributes\":{},\"id\":\"1156\",\"type\":\"BasicTickFormatter\"},{\"attributes\":{},\"id\":\"1098\",\"type\":\"SaveTool\"},{\"attributes\":{\"children\":[{\"id\":\"1076\",\"subtype\":\"Figure\",\"type\":\"Plot\"},{\"id\":\"1113\",\"subtype\":\"Figure\",\"type\":\"Plot\"}]},\"id\":\"1150\",\"type\":\"Row\"},{\"attributes\":{},\"id\":\"1135\",\"type\":\"SaveTool\"},{\"attributes\":{},\"id\":\"1136\",\"type\":\"ResetTool\"},{\"attributes\":{\"ticker\":{\"id\":\"1123\",\"type\":\"BasicTicker\"}},\"id\":\"1126\",\"type\":\"Grid\"},{\"attributes\":{\"text\":\"\"},\"id\":\"1152\",\"type\":\"Title\"},{\"attributes\":{},\"id\":\"1086\",\"type\":\"BasicTicker\"},{\"attributes\":{},\"id\":\"1132\",\"type\":\"PanTool\"},{\"attributes\":{},\"id\":\"1100\",\"type\":\"HelpTool\"},{\"attributes\":{\"active_drag\":\"auto\",\"active_inspect\":\"auto\",\"active_multi\":null,\"active_scroll\":\"auto\",\"active_tap\":\"auto\",\"tools\":[{\"id\":\"1095\",\"type\":\"PanTool\"},{\"id\":\"1096\",\"type\":\"WheelZoomTool\"},{\"id\":\"1097\",\"type\":\"BoxZoomTool\"},{\"id\":\"1098\",\"type\":\"SaveTool\"},{\"id\":\"1099\",\"type\":\"ResetTool\"},{\"id\":\"1100\",\"type\":\"HelpTool\"}]},\"id\":\"1101\",\"type\":\"Toolbar\"},{\"attributes\":{},\"id\":\"1160\",\"type\":\"BasicTickFormatter\"},{\"attributes\":{\"callback\":null,\"data\":{\"x\":[1,2,3],\"y\":[4,5,6]},\"selected\":{\"id\":\"1163\",\"type\":\"Selection\"},\"selection_policy\":{\"id\":\"1164\",\"type\":\"UnionRenderers\"}},\"id\":\"1108\",\"type\":\"ColumnDataSource\"},{\"attributes\":{\"fill_color\":{\"value\":\"#1f77b4\"},\"line_color\":{\"value\":\"#1f77b4\"},\"size\":{\"units\":\"screen\",\"value\":20},\"x\":{\"field\":\"x\"},\"y\":{\"field\":\"y\"}},\"id\":\"1109\",\"type\":\"Circle\"}],\"root_ids\":[\"1150\"]},\"title\":\"Bokeh Application\",\"version\":\"1.1.0\"}};\n",
       "  var render_items = [{\"docid\":\"a60d638e-af26-4db7-9982-8806bcd8cc46\",\"notebook_comms_target\":\"1169\",\"roots\":{\"1150\":\"a33dee7d-f244-45c4-a521-2e6396dff8f1\"}}];\n",
       "  root.Bokeh.embed.embed_items_notebook(docs_json, render_items);\n",
       "\n",
       "  }\n",
       "  if (root.Bokeh !== undefined) {\n",
       "    embed_document(root);\n",
       "  } else {\n",
       "    var attempts = 0;\n",
       "    var timer = setInterval(function(root) {\n",
       "      if (root.Bokeh !== undefined) {\n",
       "        embed_document(root);\n",
       "        clearInterval(timer);\n",
       "      }\n",
       "      attempts++;\n",
       "      if (attempts > 100) {\n",
       "        console.log(\"Bokeh: ERROR: Unable to run BokehJS code because BokehJS library is missing\");\n",
       "        clearInterval(timer);\n",
       "      }\n",
       "    }, 10, root)\n",
       "  }\n",
       "})(window);"
      ],
      "application/vnd.bokehjs_exec.v0+json": ""
     },
     "metadata": {
      "application/vnd.bokehjs_exec.v0+json": {
       "id": "1150"
      }
     },
     "output_type": "display_data"
    }
   ],
   "source": [
    "p1 = figure(plot_width=250, plot_height=250)\n",
    "r1 = p1.circle([1,2,3], [4,5,6], size=20)\n",
    "\n",
    "p2 = figure(plot_width=250, plot_height=250)\n",
    "r2 = p2.circle([1,2,3], [4,5,6], size=20)\n",
    "\n",
    "t = show(row(p1, p2), notebook_handle=True)"
   ]
  },
  {
   "cell_type": "code",
   "execution_count": 10,
   "metadata": {},
   "outputs": [
    {
     "data": {
      "text/html": [
       "<p><code>&lt;Bokeh Notebook handle for <strong>In[9]</strong>&gt;</code></p>"
      ],
      "text/plain": [
       "<bokeh.io.notebook.CommsHandle at 0x7fc57c26f310>"
      ]
     },
     "execution_count": 10,
     "metadata": {},
     "output_type": "execute_result"
    }
   ],
   "source": [
    "t"
   ]
  },
  {
   "cell_type": "code",
   "execution_count": 11,
   "metadata": {},
   "outputs": [],
   "source": [
    "r1.glyph.fill_color = \"white\"\n",
    "push_notebook(handle=t)"
   ]
  },
  {
   "cell_type": "code",
   "execution_count": 44,
   "metadata": {},
   "outputs": [],
   "source": [
    "source = ColumnDataSource(data=dict(foo=[], bar=[]))"
   ]
  },
  {
   "cell_type": "code",
   "execution_count": 45,
   "metadata": {},
   "outputs": [],
   "source": [
    "# has new, identical-length updates for all columns in source\n",
    "new_data = {\n",
    "    'foo' : [10, 20],\n",
    "    'bar' : [100, 200],\n",
    "}\n",
    "\n",
    "source.stream(new_data)"
   ]
  },
  {
   "cell_type": "code",
   "execution_count": 47,
   "metadata": {},
   "outputs": [],
   "source": [
    "# has new, identical-length updates for all columns in source\n",
    "new_data = {\n",
    "    'foo' : [15],\n",
    "    'bar' : [150],\n",
    "}\n",
    "\n",
    "source.stream(new_data)\n",
    "push_notebook(handle=t)"
   ]
  },
  {
   "cell_type": "code",
   "execution_count": 127,
   "metadata": {},
   "outputs": [
    {
     "data": {
      "text/html": [
       "\n",
       "\n",
       "\n",
       "\n",
       "\n",
       "\n",
       "  <div class=\"bk-root\" id=\"e5481da5-f7ee-4ada-afcd-f4e27e9541d8\" data-root-id=\"2385\"></div>\n"
      ]
     },
     "metadata": {},
     "output_type": "display_data"
    },
    {
     "data": {
      "application/javascript": [
       "(function(root) {\n",
       "  function embed_document(root) {\n",
       "    \n",
       "  var docs_json = {\"79035dfd-0e7f-47ee-9960-43077ac3b577\":{\"roots\":{\"references\":[{\"attributes\":{\"overlay\":{\"id\":\"2511\",\"type\":\"BoxAnnotation\"}},\"id\":\"2406\",\"type\":\"BoxZoomTool\"},{\"attributes\":{},\"id\":\"2407\",\"type\":\"SaveTool\"},{\"attributes\":{},\"id\":\"2404\",\"type\":\"PanTool\"},{\"attributes\":{},\"id\":\"2405\",\"type\":\"WheelZoomTool\"},{\"attributes\":{\"below\":[{\"id\":\"2394\",\"type\":\"LinearAxis\"}],\"center\":[{\"id\":\"2398\",\"type\":\"Grid\"},{\"id\":\"2403\",\"type\":\"Grid\"}],\"left\":[{\"id\":\"2399\",\"type\":\"LinearAxis\"}],\"renderers\":[{\"id\":\"2420\",\"type\":\"GlyphRenderer\"}],\"title\":{\"id\":\"2504\",\"type\":\"Title\"},\"toolbar\":{\"id\":\"2410\",\"type\":\"Toolbar\"},\"x_range\":{\"id\":\"2386\",\"type\":\"DataRange1d\"},\"x_scale\":{\"id\":\"2390\",\"type\":\"LinearScale\"},\"y_range\":{\"id\":\"2388\",\"type\":\"DataRange1d\"},\"y_scale\":{\"id\":\"2392\",\"type\":\"LinearScale\"}},\"id\":\"2385\",\"subtype\":\"Figure\",\"type\":\"Plot\"},{\"attributes\":{\"callback\":null,\"data\":{\"passenger_count\":[],\"timepoint\":[]},\"selected\":{\"id\":\"2509\",\"type\":\"Selection\"},\"selection_policy\":{\"id\":\"2510\",\"type\":\"UnionRenderers\"}},\"id\":\"2384\",\"type\":\"ColumnDataSource\"},{\"attributes\":{},\"id\":\"2509\",\"type\":\"Selection\"},{\"attributes\":{\"callback\":null},\"id\":\"2386\",\"type\":\"DataRange1d\"},{\"attributes\":{\"callback\":null},\"id\":\"2388\",\"type\":\"DataRange1d\"},{\"attributes\":{\"text\":\"\"},\"id\":\"2504\",\"type\":\"Title\"},{\"attributes\":{},\"id\":\"2408\",\"type\":\"ResetTool\"},{\"attributes\":{\"dimension\":1,\"ticker\":{\"id\":\"2400\",\"type\":\"BasicTicker\"}},\"id\":\"2403\",\"type\":\"Grid\"},{\"attributes\":{},\"id\":\"2400\",\"type\":\"BasicTicker\"},{\"attributes\":{\"data_source\":{\"id\":\"2384\",\"type\":\"ColumnDataSource\"},\"glyph\":{\"id\":\"2418\",\"type\":\"Line\"},\"hover_glyph\":null,\"muted_glyph\":null,\"nonselection_glyph\":{\"id\":\"2419\",\"type\":\"Line\"},\"selection_glyph\":null,\"view\":{\"id\":\"2421\",\"type\":\"CDSView\"}},\"id\":\"2420\",\"type\":\"GlyphRenderer\"},{\"attributes\":{\"source\":{\"id\":\"2384\",\"type\":\"ColumnDataSource\"}},\"id\":\"2421\",\"type\":\"CDSView\"},{\"attributes\":{},\"id\":\"2508\",\"type\":\"BasicTickFormatter\"},{\"attributes\":{},\"id\":\"2506\",\"type\":\"BasicTickFormatter\"},{\"attributes\":{\"active_drag\":\"auto\",\"active_inspect\":\"auto\",\"active_multi\":null,\"active_scroll\":\"auto\",\"active_tap\":\"auto\",\"tools\":[{\"id\":\"2404\",\"type\":\"PanTool\"},{\"id\":\"2405\",\"type\":\"WheelZoomTool\"},{\"id\":\"2406\",\"type\":\"BoxZoomTool\"},{\"id\":\"2407\",\"type\":\"SaveTool\"},{\"id\":\"2408\",\"type\":\"ResetTool\"},{\"id\":\"2409\",\"type\":\"HelpTool\"}]},\"id\":\"2410\",\"type\":\"Toolbar\"},{\"attributes\":{\"formatter\":{\"id\":\"2506\",\"type\":\"BasicTickFormatter\"},\"ticker\":{\"id\":\"2395\",\"type\":\"BasicTicker\"}},\"id\":\"2394\",\"type\":\"LinearAxis\"},{\"attributes\":{},\"id\":\"2395\",\"type\":\"BasicTicker\"},{\"attributes\":{},\"id\":\"2392\",\"type\":\"LinearScale\"},{\"attributes\":{},\"id\":\"2390\",\"type\":\"LinearScale\"},{\"attributes\":{\"line_alpha\":0.1,\"line_color\":\"#1f77b4\",\"x\":{\"field\":\"timepoint\"},\"y\":{\"field\":\"passenger_count\"}},\"id\":\"2419\",\"type\":\"Line\"},{\"attributes\":{\"line_color\":\"#1f77b4\",\"x\":{\"field\":\"timepoint\"},\"y\":{\"field\":\"passenger_count\"}},\"id\":\"2418\",\"type\":\"Line\"},{\"attributes\":{},\"id\":\"2409\",\"type\":\"HelpTool\"},{\"attributes\":{},\"id\":\"2510\",\"type\":\"UnionRenderers\"},{\"attributes\":{\"bottom_units\":\"screen\",\"fill_alpha\":{\"value\":0.5},\"fill_color\":{\"value\":\"lightgrey\"},\"left_units\":\"screen\",\"level\":\"overlay\",\"line_alpha\":{\"value\":1.0},\"line_color\":{\"value\":\"black\"},\"line_dash\":[4,4],\"line_width\":{\"value\":2},\"render_mode\":\"css\",\"right_units\":\"screen\",\"top_units\":\"screen\"},\"id\":\"2511\",\"type\":\"BoxAnnotation\"},{\"attributes\":{\"ticker\":{\"id\":\"2395\",\"type\":\"BasicTicker\"}},\"id\":\"2398\",\"type\":\"Grid\"},{\"attributes\":{\"formatter\":{\"id\":\"2508\",\"type\":\"BasicTickFormatter\"},\"ticker\":{\"id\":\"2400\",\"type\":\"BasicTicker\"}},\"id\":\"2399\",\"type\":\"LinearAxis\"}],\"root_ids\":[\"2385\"]},\"title\":\"Bokeh Application\",\"version\":\"1.1.0\"}};\n",
       "  var render_items = [{\"docid\":\"79035dfd-0e7f-47ee-9960-43077ac3b577\",\"notebook_comms_target\":\"2512\",\"roots\":{\"2385\":\"e5481da5-f7ee-4ada-afcd-f4e27e9541d8\"}}];\n",
       "  root.Bokeh.embed.embed_items_notebook(docs_json, render_items);\n",
       "\n",
       "  }\n",
       "  if (root.Bokeh !== undefined) {\n",
       "    embed_document(root);\n",
       "  } else {\n",
       "    var attempts = 0;\n",
       "    var timer = setInterval(function(root) {\n",
       "      if (root.Bokeh !== undefined) {\n",
       "        embed_document(root);\n",
       "        clearInterval(timer);\n",
       "      }\n",
       "      attempts++;\n",
       "      if (attempts > 100) {\n",
       "        console.log(\"Bokeh: ERROR: Unable to run BokehJS code because BokehJS library is missing\");\n",
       "        clearInterval(timer);\n",
       "      }\n",
       "    }, 10, root)\n",
       "  }\n",
       "})(window);"
      ],
      "application/vnd.bokehjs_exec.v0+json": ""
     },
     "metadata": {
      "application/vnd.bokehjs_exec.v0+json": {
       "id": "2385"
      }
     },
     "output_type": "display_data"
    }
   ],
   "source": [
    "source = ColumnDataSource(data=dict(passenger_count=[], timepoint=[]))\n",
    "\n",
    "p = figure()\n",
    "p.line(x='timepoint', y='passenger_count', source=source)\n",
    "t = show(p, notebook_handle=True)"
   ]
  },
  {
   "cell_type": "markdown",
   "metadata": {
    "colab": {},
    "colab_type": "code",
    "id": "daKIkHcNlruA"
   },
   "source": [
    "### Explore"
   ]
  },
  {
   "cell_type": "code",
   "execution_count": 78,
   "metadata": {
    "colab": {},
    "colab_type": "code",
    "id": "4yHO5rMiQPr0"
   },
   "outputs": [],
   "source": [
    "def tee_to_output(element):\n",
    "    output.append(element)\n",
    "    return element"
   ]
  },
  {
   "cell_type": "code",
   "execution_count": 14,
   "metadata": {
    "colab": {},
    "colab_type": "code",
    "id": "MkZ77QpZYumA"
   },
   "outputs": [],
   "source": [
    "def load_json(element):\n",
    "    ju = json.loads(element)\n",
    "    js = {}\n",
    "    for k, v in ju.items():\n",
    "        if isinstance(k, unicode):\n",
    "            k = str(k)\n",
    "        if isinstance(v, unicode):\n",
    "            v = str(v)\n",
    "        js[k] = v\n",
    "    return js"
   ]
  },
  {
   "cell_type": "code",
   "execution_count": 15,
   "metadata": {},
   "outputs": [],
   "source": [
    "output_folder = op.join(NOTEBOOK_PATH, \"pipeline-output\") \n",
    "\n",
    "try:\n",
    "    os.makedirs(output_folder)\n",
    "except OSError:\n",
    "    pass"
   ]
  },
  {
   "cell_type": "code",
   "execution_count": 16,
   "metadata": {
    "colab": {},
    "colab_type": "code",
    "id": "sbyDRtlbMeqk"
   },
   "outputs": [],
   "source": [
    "output = []\n",
    "\n",
    "\n",
    "data = (\n",
    "    beam.Pipeline(runner=\"direct\", options=beam.pipeline.PipelineOptions(streaming=True))\n",
    "    | \"Read\" >> beam.io.ReadFromPubSub(\n",
    "        topic=\"projects/strokach-playground/topics/taxirides-realtime\",\n",
    "        timestamp_attribute=\"ts\"\n",
    "    )\n",
    "    | \"Load JSON\" >> beam.Map(load_json)\n",
    "    | \"TeeToOutput\" >> beam.Map(tee_to_output)\n",
    "    | \"Write\" >> beam.io.WriteToText(output_folder)\n",
    ")"
   ]
  },
  {
   "cell_type": "code",
   "execution_count": 17,
   "metadata": {
    "colab": {},
    "colab_type": "code",
    "id": "mbIzSL5vMe1T"
   },
   "outputs": [],
   "source": [
    "result = data.pipeline.run()"
   ]
  },
  {
   "cell_type": "code",
   "execution_count": 18,
   "metadata": {
    "colab": {},
    "colab_type": "code",
    "id": "tpzq2iMhPd4k"
   },
   "outputs": [
    {
     "data": {
      "text/plain": [
       "RUNNING"
      ]
     },
     "execution_count": 18,
     "metadata": {},
     "output_type": "execute_result"
    }
   ],
   "source": [
    "result.state"
   ]
  },
  {
   "cell_type": "code",
   "execution_count": 75,
   "metadata": {
    "colab": {},
    "colab_type": "code",
    "id": "T2iwoC9QYv7_"
   },
   "outputs": [],
   "source": [
    "result.cancel()"
   ]
  },
  {
   "cell_type": "code",
   "execution_count": 61,
   "metadata": {
    "colab": {},
    "colab_type": "code",
    "id": "-coxJVP6RGCd"
   },
   "outputs": [
    {
     "data": {
      "text/plain": [
       "31479"
      ]
     },
     "execution_count": 61,
     "metadata": {},
     "output_type": "execute_result"
    }
   ],
   "source": [
    "len(output)"
   ]
  },
  {
   "cell_type": "code",
   "execution_count": 71,
   "metadata": {
    "colab": {},
    "colab_type": "code",
    "id": "O5C54mt6RGOA"
   },
   "outputs": [
    {
     "data": {
      "text/plain": [
       "{latitude: 40.701100000000004,\n",
       " longitude: -73.9873,\n",
       " meter_increment: 0.03368421,\n",
       " meter_reading: 10.374737,\n",
       " passenger_count: 2,\n",
       " point_idx: 308,\n",
       " ride_id: ee70d68a-c86b-45cf-9a0a-ba8df7a85c06,\n",
       " ride_status: enroute,\n",
       " timestamp: 2019-05-21T16:27:28.0828-04:00}"
      ]
     },
     "execution_count": 71,
     "metadata": {},
     "output_type": "execute_result"
    }
   ],
   "source": [
    "output[0]"
   ]
  },
  {
   "cell_type": "code",
   "execution_count": 51,
   "metadata": {},
   "outputs": [],
   "source": [
    "from datetime import datetime"
   ]
  },
  {
   "cell_type": "code",
   "execution_count": null,
   "metadata": {},
   "outputs": [],
   "source": []
  },
  {
   "cell_type": "code",
   "execution_count": 55,
   "metadata": {},
   "outputs": [
    {
     "data": {
      "text/plain": [
       "2019-05-21T16:41:00.95953-04:00"
      ]
     },
     "execution_count": 55,
     "metadata": {},
     "output_type": "execute_result"
    }
   ],
   "source": [
    "ts = output[0][\"timestamp\"]\n",
    "ts"
   ]
  },
  {
   "cell_type": "code",
   "execution_count": 67,
   "metadata": {},
   "outputs": [],
   "source": [
    "date_time_obj = datetime.strptime(ts, '%Y-%m-%dT%H:%M:%S.%f-04:00')\n"
   ]
  },
  {
   "cell_type": "code",
   "execution_count": 111,
   "metadata": {},
   "outputs": [],
   "source": [
    "class AverageFn(beam.CombineFn):\n",
    "\n",
    "    def create_accumulator(self):\n",
    "        return (0.0, 0.0, 0)\n",
    "\n",
    "    def add_input(self, sum_count, input):\n",
    "        (passenger_count_sum, timepoint_sum, count) = sum_count\n",
    "\n",
    "        try:\n",
    "            timestamp = datetime.strptime(input[\"timestamp\"], '%Y-%m-%d %H:%M:%S.%f')\n",
    "        except ValueError:\n",
    "            timestamp = datetime.strptime(input[\"timestamp\"], '%Y-%m-%d %H:%M:%S')\n",
    "\n",
    "        passenger_count_sum += input[\"passenger_count\"]\n",
    "        timepoint_sum += float(timestamp.strftime(\"%s\"))\n",
    "        count += 1\n",
    "        return passenger_count_sum, timepoint_sum, count\n",
    "        \n",
    "    def merge_accumulators(self, accumulators):\n",
    "        passenger_count_sums, timepoint_sums, counts = zip(*accumulators)\n",
    "        return sum(passenger_count_sums), sum(timepoint_sums), sum(counts)\n",
    "\n",
    "    def extract_output(self, sum_count):\n",
    "        (passenger_count_sum, timepoint_sum, count) = sum_count\n",
    "        passenger_count_avg = passenger_count_sum / count if count else float(\"NaN\")\n",
    "        timepoint_avg = timepoint_sum / count if count else float(\"NaN\")\n",
    "        return passenger_count_avg, timepoint_avg"
   ]
  },
  {
   "cell_type": "code",
   "execution_count": 136,
   "metadata": {},
   "outputs": [],
   "source": [
    "def update_plot(element):\n",
    "    new_data = {\n",
    "        'passenger_count' : [element[0]],\n",
    "        'timepoint' : [element[1]],\n",
    "    }\n",
    "    source.stream(new_data)\n",
    "    push_notebook(handle=t)"
   ]
  },
  {
   "cell_type": "code",
   "execution_count": 137,
   "metadata": {},
   "outputs": [],
   "source": [
    "output = []\n",
    "\n",
    "\n",
    "data = (\n",
    "    beam.Pipeline(runner=\"direct\", options=beam.pipeline.PipelineOptions(streaming=True))\n",
    "    | \"Read\" >> beam.io.ReadFromPubSub(\n",
    "        topic=\"projects/strokach-playground/topics/taxirides-realtime\",\n",
    "        timestamp_attribute=\"ts\"\n",
    "    )\n",
    "    | \"Load JSON\" >> beam.Map(load_json)\n",
    "    | \"Window Into\" >> beam.WindowInto(beam.window.FixedWindows(10))\n",
    "    | \"Gather Statistics\" >> beam.CombineGlobally(AverageFn()).without_defaults()\n",
    "    | \"TeeToOutput\" >> beam.Map(tee_to_output)\n",
    "    | \"Update plot\" >> beam.Map(update_plot)\n",
    ")"
   ]
  },
  {
   "cell_type": "code",
   "execution_count": 138,
   "metadata": {},
   "outputs": [],
   "source": [
    "data_r = data.pipeline.run()"
   ]
  },
  {
   "cell_type": "code",
   "execution_count": 139,
   "metadata": {},
   "outputs": [
    {
     "data": {
      "text/plain": [
       "RUNNING"
      ]
     },
     "execution_count": 139,
     "metadata": {},
     "output_type": "execute_result"
    }
   ],
   "source": [
    "data_r.state"
   ]
  },
  {
   "cell_type": "code",
   "execution_count": 135,
   "metadata": {},
   "outputs": [],
   "source": [
    "data_r.cancel()"
   ]
  },
  {
   "cell_type": "code",
   "execution_count": 142,
   "metadata": {},
   "outputs": [
    {
     "data": {
      "text/plain": [
       "2"
      ]
     },
     "execution_count": 142,
     "metadata": {},
     "output_type": "execute_result"
    },
    {
     "name": "stderr",
     "output_type": "stream",
     "text": [
      "ERROR:root:Exception at bundle <apache_beam.runners.direct.bundle_factory._Bundle object at 0x7fc3b994af50>, due to an exception.\n",
      " Traceback (most recent call last):\n",
      "  File \"/usr/local/google/home/strokach/workspace/beam/sdks/python/apache_beam/runners/direct/executor.py\", line 343, in call\n",
      "    finish_state)\n",
      "  File \"/usr/local/google/home/strokach/workspace/beam/sdks/python/apache_beam/runners/direct/executor.py\", line 380, in attempt_call\n",
      "    evaluator.process_element(value)\n",
      "  File \"/usr/local/google/home/strokach/workspace/beam/sdks/python/apache_beam/runners/direct/transform_evaluator.py\", line 633, in process_element\n",
      "    self.runner.process(element)\n",
      "  File \"/usr/local/google/home/strokach/workspace/beam/sdks/python/apache_beam/runners/common.py\", line 765, in process\n",
      "    self._reraise_augmented(exn)\n",
      "  File \"/usr/local/google/home/strokach/workspace/beam/sdks/python/apache_beam/runners/common.py\", line 832, in _reraise_augmented\n",
      "    raise_with_traceback(new_exn)\n",
      "  File \"/usr/local/google/home/strokach/workspace/beam/sdks/python/apache_beam/runners/common.py\", line 763, in process\n",
      "    return self.do_fn_invoker.invoke_process(windowed_value)\n",
      "  File \"/usr/local/google/home/strokach/workspace/beam/sdks/python/apache_beam/runners/common.py\", line 576, in invoke_process\n",
      "    windowed_value, additional_args, additional_kwargs, output_processor)\n",
      "  File \"/usr/local/google/home/strokach/workspace/beam/sdks/python/apache_beam/runners/common.py\", line 647, in _invoke_process_per_window\n",
      "    windowed_value, self.process_method(*args_for_process))\n",
      "  File \"/usr/local/google/home/strokach/workspace/beam/sdks/python/apache_beam/runners/direct/helper_transforms.py\", line 68, in process\n",
      "    vi)\n",
      "  File \"<ipython-input-111-807ba63caf8a>\", line 10, in add_input\n",
      "    datetime.strptime(input[\"timestamp\"], '%Y-%m-%dT%H:%M:%S.%f-04:00')\n",
      "  File \"/usr/local/google/home/strokach/miniconda3/envs/apache-beam-dev/lib/python2.7/_strptime.py\", line 332, in _strptime\n",
      "    (data_string, format))\n",
      "ValueError: time data '2019-05-21T17:12:33-04:00' does not match format '%Y-%m-%dT%H:%M:%S.%f-04:00' [while running 'Gather Statistics/CombinePerKey/ParDo(PartialGroupByKeyCombiningValues)']\n",
      "\n",
      "ERROR:root:Exception at bundle <apache_beam.runners.direct.bundle_factory._Bundle object at 0x7fc3b994af50>, due to an exception.\n",
      " Traceback (most recent call last):\n",
      "  File \"/usr/local/google/home/strokach/workspace/beam/sdks/python/apache_beam/runners/direct/executor.py\", line 343, in call\n",
      "    finish_state)\n",
      "  File \"/usr/local/google/home/strokach/workspace/beam/sdks/python/apache_beam/runners/direct/executor.py\", line 380, in attempt_call\n",
      "    evaluator.process_element(value)\n",
      "  File \"/usr/local/google/home/strokach/workspace/beam/sdks/python/apache_beam/runners/direct/transform_evaluator.py\", line 633, in process_element\n",
      "    self.runner.process(element)\n",
      "  File \"/usr/local/google/home/strokach/workspace/beam/sdks/python/apache_beam/runners/common.py\", line 765, in process\n",
      "    self._reraise_augmented(exn)\n",
      "  File \"/usr/local/google/home/strokach/workspace/beam/sdks/python/apache_beam/runners/common.py\", line 832, in _reraise_augmented\n",
      "    raise_with_traceback(new_exn)\n",
      "  File \"/usr/local/google/home/strokach/workspace/beam/sdks/python/apache_beam/runners/common.py\", line 763, in process\n",
      "    return self.do_fn_invoker.invoke_process(windowed_value)\n",
      "  File \"/usr/local/google/home/strokach/workspace/beam/sdks/python/apache_beam/runners/common.py\", line 576, in invoke_process\n",
      "    windowed_value, additional_args, additional_kwargs, output_processor)\n",
      "  File \"/usr/local/google/home/strokach/workspace/beam/sdks/python/apache_beam/runners/common.py\", line 647, in _invoke_process_per_window\n",
      "    windowed_value, self.process_method(*args_for_process))\n",
      "  File \"/usr/local/google/home/strokach/workspace/beam/sdks/python/apache_beam/runners/direct/helper_transforms.py\", line 68, in process\n",
      "    vi)\n",
      "  File \"<ipython-input-111-807ba63caf8a>\", line 10, in add_input\n",
      "    datetime.strptime(input[\"timestamp\"], '%Y-%m-%dT%H:%M:%S.%f-04:00')\n",
      "  File \"/usr/local/google/home/strokach/miniconda3/envs/apache-beam-dev/lib/python2.7/_strptime.py\", line 332, in _strptime\n",
      "    (data_string, format))\n",
      "ValueError: time data '2019-05-21T17:12:33-04:00' does not match format '%Y-%m-%dT%H:%M:%S.%f-04:00' [while running 'Gather Statistics/CombinePerKey/ParDo(PartialGroupByKeyCombiningValues)']\n",
      "\n",
      "ERROR:root:Exception at bundle <apache_beam.runners.direct.bundle_factory._Bundle object at 0x7fc3b994af50>, due to an exception.\n",
      " Traceback (most recent call last):\n",
      "  File \"/usr/local/google/home/strokach/workspace/beam/sdks/python/apache_beam/runners/direct/executor.py\", line 343, in call\n",
      "    finish_state)\n",
      "  File \"/usr/local/google/home/strokach/workspace/beam/sdks/python/apache_beam/runners/direct/executor.py\", line 380, in attempt_call\n",
      "    evaluator.process_element(value)\n",
      "  File \"/usr/local/google/home/strokach/workspace/beam/sdks/python/apache_beam/runners/direct/transform_evaluator.py\", line 633, in process_element\n",
      "    self.runner.process(element)\n",
      "  File \"/usr/local/google/home/strokach/workspace/beam/sdks/python/apache_beam/runners/common.py\", line 765, in process\n",
      "    self._reraise_augmented(exn)\n",
      "  File \"/usr/local/google/home/strokach/workspace/beam/sdks/python/apache_beam/runners/common.py\", line 832, in _reraise_augmented\n",
      "    raise_with_traceback(new_exn)\n",
      "  File \"/usr/local/google/home/strokach/workspace/beam/sdks/python/apache_beam/runners/common.py\", line 763, in process\n",
      "    return self.do_fn_invoker.invoke_process(windowed_value)\n",
      "  File \"/usr/local/google/home/strokach/workspace/beam/sdks/python/apache_beam/runners/common.py\", line 576, in invoke_process\n",
      "    windowed_value, additional_args, additional_kwargs, output_processor)\n",
      "  File \"/usr/local/google/home/strokach/workspace/beam/sdks/python/apache_beam/runners/common.py\", line 647, in _invoke_process_per_window\n",
      "    windowed_value, self.process_method(*args_for_process))\n",
      "  File \"/usr/local/google/home/strokach/workspace/beam/sdks/python/apache_beam/runners/direct/helper_transforms.py\", line 68, in process\n",
      "    vi)\n",
      "  File \"<ipython-input-111-807ba63caf8a>\", line 10, in add_input\n",
      "    datetime.strptime(input[\"timestamp\"], '%Y-%m-%dT%H:%M:%S.%f-04:00')\n",
      "  File \"/usr/local/google/home/strokach/miniconda3/envs/apache-beam-dev/lib/python2.7/_strptime.py\", line 332, in _strptime\n",
      "    (data_string, format))\n",
      "ValueError: time data '2019-05-21T17:12:33-04:00' does not match format '%Y-%m-%dT%H:%M:%S.%f-04:00' [while running 'Gather Statistics/CombinePerKey/ParDo(PartialGroupByKeyCombiningValues)']\n",
      "\n",
      "ERROR:root:Exception at bundle <apache_beam.runners.direct.bundle_factory._Bundle object at 0x7fc3b994af50>, due to an exception.\n",
      " Traceback (most recent call last):\n",
      "  File \"/usr/local/google/home/strokach/workspace/beam/sdks/python/apache_beam/runners/direct/executor.py\", line 343, in call\n",
      "    finish_state)\n",
      "  File \"/usr/local/google/home/strokach/workspace/beam/sdks/python/apache_beam/runners/direct/executor.py\", line 380, in attempt_call\n",
      "    evaluator.process_element(value)\n",
      "  File \"/usr/local/google/home/strokach/workspace/beam/sdks/python/apache_beam/runners/direct/transform_evaluator.py\", line 633, in process_element\n",
      "    self.runner.process(element)\n",
      "  File \"/usr/local/google/home/strokach/workspace/beam/sdks/python/apache_beam/runners/common.py\", line 765, in process\n",
      "    self._reraise_augmented(exn)\n",
      "  File \"/usr/local/google/home/strokach/workspace/beam/sdks/python/apache_beam/runners/common.py\", line 832, in _reraise_augmented\n",
      "    raise_with_traceback(new_exn)\n",
      "  File \"/usr/local/google/home/strokach/workspace/beam/sdks/python/apache_beam/runners/common.py\", line 763, in process\n",
      "    return self.do_fn_invoker.invoke_process(windowed_value)\n",
      "  File \"/usr/local/google/home/strokach/workspace/beam/sdks/python/apache_beam/runners/common.py\", line 576, in invoke_process\n",
      "    windowed_value, additional_args, additional_kwargs, output_processor)\n",
      "  File \"/usr/local/google/home/strokach/workspace/beam/sdks/python/apache_beam/runners/common.py\", line 647, in _invoke_process_per_window\n",
      "    windowed_value, self.process_method(*args_for_process))\n",
      "  File \"/usr/local/google/home/strokach/workspace/beam/sdks/python/apache_beam/runners/direct/helper_transforms.py\", line 68, in process\n",
      "    vi)\n",
      "  File \"<ipython-input-111-807ba63caf8a>\", line 10, in add_input\n",
      "    datetime.strptime(input[\"timestamp\"], '%Y-%m-%dT%H:%M:%S.%f-04:00')\n",
      "  File \"/usr/local/google/home/strokach/miniconda3/envs/apache-beam-dev/lib/python2.7/_strptime.py\", line 332, in _strptime\n",
      "    (data_string, format))\n",
      "ValueError: time data '2019-05-21T17:12:33-04:00' does not match format '%Y-%m-%dT%H:%M:%S.%f-04:00' [while running 'Gather Statistics/CombinePerKey/ParDo(PartialGroupByKeyCombiningValues)']\n",
      "\n"
     ]
    },
    {
     "name": "stderr",
     "output_type": "stream",
     "text": [
      "ERROR:root:Giving up after 4 attempts.\n",
      "WARNING:root:A task failed with exception: time data '2019-05-21T17:12:33-04:00' does not match format '%Y-%m-%dT%H:%M:%S.%f-04:00' [while running 'Gather Statistics/CombinePerKey/ParDo(PartialGroupByKeyCombiningValues)']\n",
      "IOPub message rate exceeded.\n",
      "The notebook server will temporarily stop sending output\n",
      "to the client in order to avoid crashing it.\n",
      "To change this limit, set the config variable\n",
      "`--NotebookApp.iopub_msg_rate_limit`.\n",
      "\n",
      "Current values:\n",
      "NotebookApp.iopub_msg_rate_limit=1000.0 (msgs/sec)\n",
      "NotebookApp.rate_limit_window=3.0 (secs)\n",
      "\n"
     ]
    }
   ],
   "source": [
    "len(output)"
   ]
  },
  {
   "cell_type": "code",
   "execution_count": 124,
   "metadata": {},
   "outputs": [
    {
     "data": {
      "text/plain": [
       "[(1.2, 1558458525.8),\n",
       " (1.7, 1558458526.3),\n",
       " (1.3, 1558458525.5),\n",
       " (1.1, 1558458526.7),\n",
       " (1.3, 1558458525.9),\n",
       " (2.2, 1558458526.4),\n",
       " (1.5, 1558458526.4),\n",
       " (1.9, 1558458525.8),\n",
       " (1.4, 1558458524.1),\n",
       " (1.3, 1558458526.0),\n",
       " (1.9, 1558458526.5),\n",
       " (1.0, 1558458526.5),\n",
       " (1.6, 1558458526.6),\n",
       " (1.8, 1558458526.2),\n",
       " (1.4, 1558458526.6),\n",
       " (1.8, 1558458525.9),\n",
       " (2.3, 1558458526.6),\n",
       " (2.8, 1558458526.7),\n",
       " (1.4, 1558458526.5),\n",
       " (1.6, 1558458526.3),\n",
       " (1.5, 1558458526.5),\n",
       " (2.1, 1558458526.8),\n",
       " (2.4, 1558458526.2),\n",
       " (2.0, 1558458526.9),\n",
       " (1.4, 1558458525.6),\n",
       " (1.6, 1558458526.8),\n",
       " (2.6, 1558458526.5)]"
      ]
     },
     "execution_count": 124,
     "metadata": {},
     "output_type": "execute_result"
    }
   ],
   "source": [
    "output"
   ]
  }
 ],
 "metadata": {
  "colab": {
   "collapsed_sections": [],
   "name": "Bokeh Examples",
   "provenance": [],
   "version": "0.3.2"
  },
  "kernelspec": {
   "display_name": "Python [conda env:apache-beam-dev]",
   "language": "python",
   "name": "conda-env-apache-beam-dev-py"
  },
  "language_info": {
   "codemirror_mode": {
    "name": "ipython",
    "version": 2
   },
   "file_extension": ".py",
   "mimetype": "text/x-python",
   "name": "python",
   "nbconvert_exporter": "python",
   "pygments_lexer": "ipython2",
   "version": "2.7.15"
  }
 },
 "nbformat": 4,
 "nbformat_minor": 1
}
